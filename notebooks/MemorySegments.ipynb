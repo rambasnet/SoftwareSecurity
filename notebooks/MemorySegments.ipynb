{
 "cells": [
  {
   "cell_type": "markdown",
   "metadata": {},
   "source": [
    "# Memory segments\n",
    "\n",
    "## Table of Contents\n",
    "- Memory segments\n",
    "- Demo program"
   ]
  },
  {
   "cell_type": "markdown",
   "metadata": {},
   "source": [
    "## Memory segments in C/C++ programs\n",
    "- main memory (RAM) is typically divided into 2 main spaces:\n",
    "    1. kernel space - reserved for running the kernel (OS background processes, device drivers, etc.)\n",
    "        - loaded in lower addresses\n",
    "    2. user space - user-mode applications are loaded\n",
    "        - loaded in higher addresses\n",
    "    \n",
    "- in C/C++ programs, user space is divided into 5 different areas, called segments:\n",
    "\n",
    "<img src=\"media/MemorySegments.png\">\n",
    "\n",
    "### Text segment\n",
    "- also called a code segment\n",
    "- compiled program/code is loaded\n",
    "- code segment is typically read-only\n",
    "\n",
    "### Data segment\n",
    "- also called the initialized data segment\n",
    "- initialized global and static variables are stored\n",
    "\n",
    "### BSS (Block Started by Symbol) segment\n",
    "- also called the uninitialized data segment)\n",
    "- zero-initialized or uninitialized global and static variables are stored\n",
    "\n",
    "\n",
    "### Heap segment\n",
    "- memory for dynamically allocated variables (using pointers) are allocated in this segment\n",
    "- Heap size is normally much larger compared to stack size\n",
    "- size (actual) grows and shrinks based on program needs\n",
    "- programmers repsponsibility to deallocate dynamic memory\n",
    "    - memory leak could occur, otherwise!\n",
    "    \n",
    "\n",
    "### Stack segment\n",
    "- also called scratch pad\n",
    "- function parameters, local variables, and other function-related register variables are stored\n",
    "- size automatically grows and shrinks based on program needs\n",
    "    \n",
    "\n",
    "\n",
    "Programmers primarily focus on the heap and the stack, as that is where most of the interesting stuff takes place."
   ]
  },
  {
   "cell_type": "markdown",
   "metadata": {},
   "source": [
    "## Demo program\n",
    "- let's compile and see memory addresses of demos/memory_segments.cpp file"
   ]
  },
  {
   "cell_type": "code",
   "execution_count": 1,
   "metadata": {},
   "outputs": [
    {
     "name": "stdout",
     "output_type": "stream",
     "text": [
      "#include <cstdio>\n",
      "#include <cstdlib>\n",
      "#include <iostream>\n",
      "\n",
      "using namespace std;\n",
      "\n",
      "int global_var;\n",
      "int global_initialized_var = 5;\n",
      "char global_string[] = \"John Smith!\";\n",
      "\n",
      "void function() {\n",
      "   int stack_var = 100; \n",
      "   // notice this variable has the same name as the one in main()\n",
      "   static int static_initialized_var = 5;\n",
      "   static_initialized_var += 10;\n",
      "   printf(\"%s\\n\", \"Output inside function:\");\n",
      "   printf(\"static_initialized_var = %d\\n\", static_initialized_var);\n",
      "   printf(\"static_initialized_var is at address %p\\n\", &static_initialized_var);\n",
      "   printf(\"stack_var = %d\\n\", stack_var);\n",
      "   printf(\"stack_var is at address %p\\n\", &stack_var);\n",
      "}\n",
      "\n",
      "\n",
      "int main() {\n",
      "   int stack_var; // same name as the variable in function()\n",
      "   static int static_var;\n",
      "   int * heap_var_ptr;\n",
      "   static int static_initialized_var = 5;\n",
      "\n",
      "   heap_var_ptr = (int *) malloc(4);\n",
      "   printf(\"%s\\n\", \"output from main function\");\n",
      "   // these addressse are in the code/text segment\n",
      "   printf(\"main is at address: %p\\n\", main);\n",
      "   printf(\"main is at address: %p\\n\", &main);\n",
      "   printf(\"function is at address: %p\\n\", function);\n",
      "\n",
      "   // These variables are in the data segment\n",
      "   printf(\"global_initialized_var is at address %p\\n\", &global_initialized_var);\n",
      "   printf(\"static_initialized_var is at address %p\\n\\n\", &static_initialized_var);\n",
      "\n",
      "   // These variables are in the bss segment\n",
      "   printf(\"static_var is at address %p\\n\", &static_var);\n",
      "   printf(\"global_var is at address %p\\n\\n\", &global_var);\n",
      "\n",
      "   // This variable is in the heap segment\n",
      "   printf(\"heap_var is at address %p\\n\\n\", heap_var_ptr);\n",
      "\n",
      "   // These variables are in the stack segment\n",
      "   printf(\"stack_var is at address %p\\n\", &stack_var);\n",
      "\n",
      "   printf(\"\\ncalling function()...\\n\");   \n",
      "   function();\n",
      "\n",
      "   // call function again\n",
      "   printf(\"\\ncalling function() again...\\n\");\n",
      "   // what do you think is the values of static variable in function()?\n",
      "   function();\n",
      "   return 0;\n",
      "}  \n"
     ]
    }
   ],
   "source": [
    "# see the memory_segments.cpp source file\n",
    "! cat ../demos/memory_segments.cpp"
   ]
  },
  {
   "cell_type": "code",
   "execution_count": 3,
   "metadata": {},
   "outputs": [],
   "source": [
    "# let's compile and run the program\n",
    "! g++ -m32 -o memory_segments.exe ../demos/memory_segments.cpp"
   ]
  },
  {
   "cell_type": "code",
   "execution_count": 4,
   "metadata": {},
   "outputs": [
    {
     "name": "stdout",
     "output_type": "stream",
     "text": [
      "output from main function\n",
      "main is at address: 0x659e232b\n",
      "main is at address: 0x659e232b\n",
      "function is at address: 0x659e226d\n",
      "global_initialized_var is at address 0x659e5008\n",
      "static_initialized_var is at address 0x659e501c\n",
      "\n",
      "static_var is at address 0x659e502c\n",
      "global_var is at address 0x659e5024\n",
      "\n",
      "heap_var is at address 0x677dbbb0\n",
      "\n",
      "stack_var is at address 0xffd11884\n",
      "\n",
      "calling function()...\n",
      "Output inside function:\n",
      "static_initialized_var = 15\n",
      "static_initialized_var is at address 0x659e5018\n",
      "stack_var = 100\n",
      "stack_var is at address 0xffd11868\n",
      "\n",
      "calling function() again...\n",
      "Output inside function:\n",
      "static_initialized_var = 25\n",
      "static_initialized_var is at address 0x659e5018\n",
      "stack_var = 100\n",
      "stack_var is at address 0xffd11868\n"
     ]
    }
   ],
   "source": [
    "! ./memory_segments.exe"
   ]
  },
  {
   "cell_type": "code",
   "execution_count": null,
   "metadata": {},
   "outputs": [],
   "source": []
  }
 ],
 "metadata": {
  "kernelspec": {
   "display_name": "Python 3",
   "language": "python",
   "name": "python3"
  },
  "language_info": {
   "codemirror_mode": {
    "name": "ipython",
    "version": 3
   },
   "file_extension": ".py",
   "mimetype": "text/x-python",
   "name": "python",
   "nbconvert_exporter": "python",
   "pygments_lexer": "ipython3",
   "version": "3.12.1"
  }
 },
 "nbformat": 4,
 "nbformat_minor": 4
}
