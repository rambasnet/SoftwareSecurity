{
 "cells": [
  {
   "cell_type": "markdown",
   "metadata": {},
   "source": [
    "# GDB & Peda\n",
    "https://www.gnu.org/software/gdb/\n",
    "- allows you to see what is going on 'inside' another program while it executes\n",
    "    -- what another program was doing at the moment it crashed\n",
    "- GDB Quick Reference: https://www.cs.virginia.edu/~cr4bd/4630/S2017/gdb-cheat.html\n",
    "- check if gdb is installed; if you get command not found error, install it"
   ]
  },
  {
   "cell_type": "code",
   "execution_count": 1,
   "metadata": {},
   "outputs": [
    {
     "name": "stdout",
     "output_type": "stream",
     "text": [
      "\u001b[mGNU gdb (Debian 10.1-1.3) 10.1\n",
      "\u001b[mCopyright (C) 2020 Free Software Foundation, Inc.\n",
      "License GPLv3+: GNU GPL version 3 or later <http://gnu.org/licenses/gpl.html>\n",
      "This is free software: you are free to change and redistribute it.\n",
      "There is NO WARRANTY, to the extent permitted by law.\n"
     ]
    }
   ],
   "source": [
    "! gdb --version"
   ]
  },
  {
   "cell_type": "code",
   "execution_count": 2,
   "metadata": {},
   "outputs": [
    {
     "name": "stdout",
     "output_type": "stream",
     "text": [
      "Reading package lists... Done\n",
      "Building dependency tree       \n",
      "Reading state information... Done\n",
      "gdb is already the newest version (10.1-1.3).\n",
      "The following packages were automatically installed and are no longer required:\n",
      "  libexo-1-0 libgdal27 libgeos-3.8.1 libllvm10 libmicrohttpd12 libpython3.8\n",
      "  libpython3.8-dev libqt5opengl5 libwireshark13 libwiretap10 libwsutil11\n",
      "  libxcb-util0 python3-gevent python3-greenlet python3-h2 python3-hpack\n",
      "  python3-hyperframe python3-zope.event python3.8-dev\n",
      "Use 'sudo apt autoremove' to remove them.\n",
      "0 upgraded, 0 newly installed, 0 to remove and 26 not upgraded.\n"
     ]
    }
   ],
   "source": [
    "! echo kali | sudo -S apt install -y gdb"
   ]
  },
  {
   "cell_type": "markdown",
   "metadata": {},
   "source": [
    "## GDB settings\n",
    "\n",
    "### Temporary setting\n",
    "- set default assembly syntax to Intel from AT&T\n",
    "`$ set disassembly-flavor intel`\n",
    "\n",
    "### Permanaent setting\n",
    "- `$ cat ~/.gdbinit`\n",
    "- `$ echo “set disassembly-flavor intel” > ~/.gdbinit`\n",
    "\n",
    "### Intel Instruction Syntax:\n",
    "```\n",
    "operation <destination>, <source>\n",
    "```"
   ]
  },
  {
   "cell_type": "markdown",
   "metadata": {},
   "source": [
    "## GDB demo\n",
    "- use `demos/stack_demo.cpp` to see stack segment as discussed in x86Assembly and Stack chapter\n",
    "\n",
    "## compile with -g switch and load binary\n",
    "- `g++ -g -m32 -o outputProgram inputFile.cpp`\n",
    "- `gdb -q ./outputProgram` # quietly run gdb\n",
    "- use `demos/stack_demo.cpp` program to demo useful gdb commands"
   ]
  },
  {
   "cell_type": "markdown",
   "metadata": {},
   "source": [
    "## Useful commands\n",
    "\n",
    "### help\n",
    "- `help`\n",
    "- `help <instruction>`\n",
    "\n",
    "### starting/stopping\n",
    "- `run ARGS` : start the program with the arguments ARGS\n",
    "- `run ARGS < input.txt` : start the program with the arguments ARGS, providing std input from the input.txt file\n",
    "- `kill` : terminate the current program\n",
    "- `step or s` : step into the function\n",
    "- `stepi or si` : step forward by one instruction (step into function)\n",
    "- `next or n` : step forward one statement or function call (execte the entire function with one keypress) \n",
    "- `nexti or ni` : step forward by one instruction (skipping any called function)\n",
    "- `continue or c` : run until next breakpoint\n",
    "\n",
    "### break points, break or b\n",
    "- `break [line number, function name, memory address]`: stop execution at the breakpoint\n",
    "- `break function`: set a breakpoint at entry to a particular function\n",
    "\n",
    "### disassemble\n",
    "- `disassemble function` : disassemble a function by name\n",
    "- `set disassembly-flavor intel` : use Intel assembly syntax\n",
    "\n",
    "### print variables and memory address, and basic arithmetic\n",
    "- `print 2+2`\n",
    "- `print $ebp + 4`\n",
    "- `print varName`\n",
    "- `print $ebp` : similar to `i r ebp`\n",
    "\n",
    "### print format\n",
    "- print or p/format [value/address/variable]\n",
    "- e.g. p/x $ebp+8\n",
    "- p/x - print in hex (default)\n",
    "- p/d - print as signed decimal\n",
    "- p/u - print as unsigned decimal\n",
    "- p/o - print as octal\n",
    "- p/t - print as binary\n",
    "- p/c - print as character\n",
    "- p/s - print as string"
   ]
  },
  {
   "cell_type": "markdown",
   "metadata": {},
   "source": [
    "## memory examination and data format\n",
    "- **x/[count][size][format] [register/memory]**\n",
    "    - count: no. of size to display starting from the register/memory location\n",
    "    - format:\n",
    "        - **o** : display in octal\n",
    "        - **x** : display in hexadecimal\n",
    "        - **u** : display in unsigned (base-10 decimal)\n",
    "        - **d** : display in base-10 decimal\n",
    "        - **t** : display in binary\n",
    "        - **s** : string\n",
    "        - **c** : character\n",
    "    - size:\n",
    "        - **b** : a single byte\n",
    "        - **h** : a halfword (2 bytes)\n",
    "        - **w** : a word (4 bytes) - default\n",
    "        - **g** : giant (8 bytes)\n",
    "- **x/40wx $esp** : display 40 word bytes in hex format from top of the stack "
   ]
  },
  {
   "cell_type": "markdown",
   "metadata": {},
   "source": [
    "# PEDA - Python Exploit Development Assistance for GDB\n",
    "\n",
    "## Installation\n",
    "https://github.com/longld/peda\n",
    "See #3. Installation\n",
    "\n",
    "## Configure GDB to use PEDA\n",
    "\n",
    "### Add the following settings in ~/.gdbinit file\n",
    "```\n",
    "# Intel syntax is more readable\n",
    "set disassembly-flavor intel\n",
    " \n",
    "# When inspecting large portions of code the scrollbar works better than 'less'\n",
    "set pagination off\n",
    "\n",
    "# Keep a history of all the commands typed. Search is possible using ctrl-r\n",
    "set history save on\n",
    "set history filename ~/.gdb_history\n",
    "set history size 32768\n",
    "set history expansion on\n",
    "```\n",
    "\n",
    "## Useful commands\n",
    "### can still run all GDB commands inside PEDA!\n",
    "\n",
    "### help\n",
    "```\n",
    "gdb-peda$ peda help\n",
    "gdb-peda$ help <keyword>\n",
    "gdb-peda$ help <command>\n",
    "```\n",
    "\n",
    "### show selected context not everything while stepping through\n",
    "\n",
    "- **context all** : run by default whenever a breakpoint is hit\n",
    "- **context reg** : for the registers and flags\n",
    "- **context code** : for disassembling around the current instruction pointer\n",
    "- **context stack** : for examining the stack\n",
    "\n",
    "### quickly check the security settings of the program\n",
    "\n",
    "```bash\n",
    "gdb-peda$ checksec\n",
    "```\n",
    "\n",
    "### generate pattern\n",
    "- generate pattern and store in a file\n",
    "\n",
    "```bash\n",
    "gdb-peda$ pattern_create 120 file\n",
    "```\n",
    "\n",
    "- generate pattern and set as argument\n",
    "```bash\n",
    "gdb-peda$ pattern arg 100\n",
    "```\n",
    "\n",
    "### search pattern\n",
    "- crash the program with the pattern and run patts or pattern_search\n",
    "- look for EIP offset which is the offset from the target buffer to the return address\n",
    "```\n",
    "gdb-peda$ pattern_search\n",
    "```\n",
    "\n",
    "\n",
    "### generate shell code\n",
    "\n",
    "- `gdb-peda$ shellcode`\n",
    "- `gdb-peda$ shellcode generate`\n",
    "- `gdb-peda$ shellcode generate x86/linux exec`"
   ]
  },
  {
   "cell_type": "markdown",
   "metadata": {},
   "source": [
    "### Useful resources\n",
    "\n",
    "#### Exploit writing using Python\n",
    "- http://www.fuzzysecurity.com/tutorials/expDev/2.html\n",
    "\n",
    "#### ROP and ROP Gadgets\n",
    "- https://www.exploit-db.com/docs/english/28479-return-oriented-programming-(rop-ftw).pdf\n",
    "\n",
    "#### Buffer overflow resources\n",
    "- https://samsclass.info/123/proj14/lbuf1.htm\n",
    "- http://www.tenouk.com/Bufferoverflowc/Bufferoverflow6.html\n",
    "- https://tc.gtisc.gatech.edu/cs6265/2016/l/lab02-warmup2/README-tut.txt - peda"
   ]
  },
  {
   "cell_type": "code",
   "execution_count": null,
   "metadata": {},
   "outputs": [],
   "source": []
  }
 ],
 "metadata": {
  "kernelspec": {
   "display_name": "Python 3 (ipykernel)",
   "language": "python",
   "name": "python3"
  },
  "language_info": {
   "codemirror_mode": {
    "name": "ipython",
    "version": 3
   },
   "file_extension": ".py",
   "mimetype": "text/x-python",
   "name": "python",
   "nbconvert_exporter": "python",
   "pygments_lexer": "ipython3",
   "version": "3.12.2"
  }
 },
 "nbformat": 4,
 "nbformat_minor": 4
}
