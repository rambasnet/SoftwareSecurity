{
 "cells": [
  {
   "cell_type": "markdown",
   "metadata": {},
   "source": [
    "# GDB & Peda\n",
    "\n",
    "https://www.gnu.org/software/gdb/\n",
    "- allows you to see what is going on 'inside' another program while it executes\n",
    "    -- what another program was doing at the moment it crashed\n",
    "- GDB Quick Reference: https://www.cs.virginia.edu/~cr4bd/4630/S2017/gdb-cheat.html\n",
    "- check if gdb is installed; if you get command not found error, install it\n",
    "- make sure GDB version 13.1 or older is installed\n",
    "- the latest version of GDB doesn't seem to work with PEDA library that we need\n",
    "\n",
    "## Install right GDB version\n"
   ]
  },
  {
   "cell_type": "code",
   "execution_count": 13,
   "metadata": {},
   "outputs": [
    {
     "name": "stdout",
     "output_type": "stream",
     "text": [
      "\u001b[35;1mGNU gdb (Debian 13.1-1) 13.1\u001b[m\r\n",
      "Copyright (C) 2023 Free Software Foundation, Inc.\r\n",
      "License GPLv3+: GNU GPL version 3 or later <\u001b[32mhttp://gnu.org/licenses/gpl.html\u001b[m>\r\n",
      "This is free software: you are free to change and redistribute it.\r\n",
      "There is NO WARRANTY, to the extent permitted by law.\r\n"
     ]
    }
   ],
   "source": [
    "! gdb --version"
   ]
  },
  {
   "cell_type": "code",
   "execution_count": 3,
   "metadata": {},
   "outputs": [
    {
     "name": "stdout",
     "output_type": "stream",
     "text": [
      "Get:1 http://kali.download/kali kali-rolling InRelease [41.5 kB]\n",
      "Get:2 http://kali.download/kali kali-rolling/main amd64 Packages [20.6 MB]\n",
      "Get:3 http://kali.download/kali kali-rolling/main amd64 Contents (deb) [49.0 MB]\n",
      "Get:4 http://kali.download/kali kali-rolling/contrib amd64 Packages [115 kB][33m\u001b[33m\u001b[33m\u001b[33m\n",
      "Get:5 http://kali.download/kali kali-rolling/contrib amd64 Contents (deb) [267 kB]\n",
      "Get:6 http://kali.download/kali kali-rolling/non-free amd64 Packages [202 kB]\n",
      "Get:7 http://kali.download/kali kali-rolling/non-free amd64 Contents (deb) [882 kB]\n",
      "Get:8 http://kali.download/kali kali-rolling/non-free-firmware amd64 Packages [10.8 kB]\n",
      "Get:9 http://kali.download/kali kali-rolling/non-free-firmware amd64 Contents (deb) [24.2 kB]\n",
      "Fetched 71.2 MB in 10s (6,860 kB/s)                                            \u001b[0m\u001b[33m[33m\u001b[33m\u001b[33m\u001b[33m\u001b[33m\u001b[33m\u001b[33m\u001b[33m\u001b[33m\u001b[33m\u001b[33m\u001b[33m\u001b[33m\u001b[33m\n",
      "Reading package lists... Done\n",
      "Building dependency tree... Done\n",
      "Reading state information... Done\n",
      "2033 packages can be upgraded. Run 'apt list --upgradable' to see them.\n"
     ]
    }
   ],
   "source": [
    "! echo kali | sudo -S apt -y update"
   ]
  },
  {
   "cell_type": "code",
   "execution_count": 4,
   "metadata": {},
   "outputs": [
    {
     "name": "stdout",
     "output_type": "stream",
     "text": [
      "/home/kali\n"
     ]
    }
   ],
   "source": [
    "%cd ~"
   ]
  },
  {
   "cell_type": "code",
   "execution_count": 8,
   "metadata": {},
   "outputs": [
    {
     "name": "stdout",
     "output_type": "stream",
     "text": [
      "--2025-03-03 18:00:37--  https://snapshot.debian.org/archive/debian/20230221T024615Z/pool/main/g/gdb/gdb_13.1-1_amd64.deb\n",
      "Resolving snapshot.debian.org (snapshot.debian.org)... 151.101.66.132, 151.101.130.132, 151.101.194.132, ...\n",
      "Connecting to snapshot.debian.org (snapshot.debian.org)|151.101.66.132|:443... connected.\n",
      "HTTP request sent, awaiting response... 302 FOUND\n",
      "Location: /file/f7362cdb59ddad6bcc263808513e41828c9e2b1d/gdb_13.1-1_amd64.deb [following]\n",
      "--2025-03-03 18:00:37--  https://snapshot.debian.org/file/f7362cdb59ddad6bcc263808513e41828c9e2b1d/gdb_13.1-1_amd64.deb\n",
      "Reusing existing connection to snapshot.debian.org:443.\n",
      "HTTP request sent, awaiting response... 200 OK\n",
      "Length: 3818268 (3.6M)\n",
      "Saving to: ‘gdb_13.1-1_amd64.deb.2’\n",
      "\n",
      "gdb_13.1-1_amd64.de 100%[===================>]   3.64M  15.8MB/s    in 0.2s    \n",
      "\n",
      "2025-03-03 18:00:37 (15.8 MB/s) - ‘gdb_13.1-1_amd64.deb.2’ saved [3818268/3818268]\n",
      "\n"
     ]
    }
   ],
   "source": [
    "! wget https://snapshot.debian.org/archive/debian/20230221T024615Z/pool/main/g/gdb/gdb_13.1-1_amd64.deb"
   ]
  },
  {
   "cell_type": "code",
   "execution_count": 10,
   "metadata": {},
   "outputs": [
    {
     "name": "stdout",
     "output_type": "stream",
     "text": [
      "Desktop\t\t\tgdb_13.deb\t   Miniconda.sh      SoftwareSecurity\r\n",
      "Documents\t\tgdb-16.2\t   Music\t     Sp25\r\n",
      "Downloads\t\tgdb-16.2.tar.gz    peda\t\t     Spring25Demo.gpr\r\n",
      "gdb-10.2\t\tgdb-16.2.tar.gz.1  Pictures\t     Spring25Demo.rep\r\n",
      "gdb-10.2.tar.gz\t\tgdb.deb\t\t   projects\t     Templates\r\n",
      "gdb_13.1-1_amd64.deb\tghidra-ils\t   Public\t     Videos\r\n",
      "gdb_13.1-1_amd64.deb.1\tghidra-ils.tar.gz  Python-3.10.1\r\n",
      "gdb_13.1-1_amd64.deb.2\tminiconda3\t   Python3.10.1.tgz\r\n"
     ]
    }
   ],
   "source": [
    "! ls"
   ]
  },
  {
   "cell_type": "code",
   "execution_count": 11,
   "metadata": {},
   "outputs": [
    {
     "name": "stdout",
     "output_type": "stream",
     "text": [
      "(Reading database ... 425554 files and directories currently installed.)\n",
      "Preparing to unpack .../home/kali/gdb_13.1-1_amd64.deb ...\n",
      "Unpacking gdb (13.1-1) over (13.1-1) ...\n",
      "Setting up gdb (13.1-1) ...\n",
      "Processing triggers for kali-menu (2023.4.7) ...\n",
      "Processing triggers for man-db (2.12.0-3) ...\n"
     ]
    }
   ],
   "source": [
    "! echo kali | sudo -S dpkg -i ~/gdb_13.1-1_amd64.deb"
   ]
  },
  {
   "cell_type": "code",
   "execution_count": 12,
   "metadata": {},
   "outputs": [
    {
     "name": "stdout",
     "output_type": "stream",
     "text": [
      "\u001b[35;1mGNU gdb (Debian 13.1-1) 13.1\u001b[m\r\n",
      "Copyright (C) 2023 Free Software Foundation, Inc.\r\n",
      "License GPLv3+: GNU GPL version 3 or later <\u001b[32mhttp://gnu.org/licenses/gpl.html\u001b[m>\r\n",
      "This is free software: you are free to change and redistribute it.\r\n",
      "There is NO WARRANTY, to the extent permitted by law.\r\n"
     ]
    }
   ],
   "source": [
    "! gdb --version"
   ]
  },
  {
   "cell_type": "markdown",
   "metadata": {},
   "source": [
    "## Configure GDB\n",
    "\n",
    "### Add the following settings in ~/.gdbinit file\n",
    "\n",
    "```\n",
    "# Intel syntax is more readable\n",
    "set disassembly-flavor intel\n",
    " \n",
    "# When inspecting large portions of code the scrollbar works better than 'less'\n",
    "set pagination off\n",
    "\n",
    "# Keep a history of all the commands typed. Search is possible using ctrl-r\n",
    "set history save on\n",
    "set history filename ~/.gdb_history\n",
    "set history size 32768\n",
    "set history expansion on\n",
    "```"
   ]
  },
  {
   "cell_type": "markdown",
   "metadata": {},
   "source": [
    "## GDB demo\n",
    "\n",
    "- use `demos/stack_overflow/stack_demo.cpp` to see stack segment as discussed in x86Assembly and Stack chapter\n",
    "\n",
    "## compile with -g switch and load binary\n",
    "- `g++ -g -m32 -o outputProgram inputFile.cpp`\n",
    "- `gdb -q ./outputProgram` # quietly run gdb\n",
    "- use `demos/stack_overflow/stack_demo.cpp` program to demo useful gdb commands"
   ]
  },
  {
   "cell_type": "code",
   "execution_count": 7,
   "metadata": {},
   "outputs": [
    {
     "name": "stdout",
     "output_type": "stream",
     "text": [
      "#include <iostream>\r\n",
      "#include <cstdio>\r\n",
      "\r\n",
      "using namespace std;\r\n",
      "\r\n",
      "int function(int para1, int para2, int para3) {\r\n",
      "    int var1, var2, var3;\r\n",
      "    var1 = 1;\r\n",
      "    var2 = 2;\r\n",
      "    var3 = 3;\r\n",
      "    return (para1 + para2 + para2 + var1 + var2 + var3);\r\n",
      "}\r\n",
      "\r\n",
      "int main(int argc, char * argv[]) {\r\n",
      "    printf(\"before function call\\n\");\r\n",
      "    int n = function(10, 20, 30);\r\n",
      "    printf(\"result = %d\\n\", n);\r\n",
      "    return 0;\r\n",
      "}"
     ]
    }
   ],
   "source": [
    "! cat ../demos/stack_overflow/stack_demo.cpp"
   ]
  },
  {
   "cell_type": "markdown",
   "metadata": {},
   "source": [
    "## Useful commands\n",
    "\n",
    "### help\n",
    "- `help`\n",
    "- `help <instruction>`\n",
    "\n",
    "### starting/stopping\n",
    "- `run ARGS` : start the program with the arguments ARGS\n",
    "- `run ARGS < input.txt` : start the program with the arguments ARGS, providing std input from the input.txt file\n",
    "- `kill` : terminate the current program\n",
    "- `step or s` : step into the function\n",
    "- `stepi or si` : step forward by one instruction (step into function)\n",
    "- `next or n` : step forward one statement or function call (execte the entire function with one keypress) \n",
    "- `nexti or ni` : step forward by one instruction (skipping any called function)\n",
    "- `continue or c` : run until next breakpoint\n",
    "\n",
    "### break points, break or b\n",
    "- `break [line number, function name, memory address]`: stop execution at the breakpoint\n",
    "- `break function`: set a breakpoint at entry to a particular function\n",
    "\n",
    "### disassemble\n",
    "- `disassemble function` : disassemble a function by name\n",
    "- `set disassembly-flavor intel` : use Intel assembly syntax\n",
    "\n",
    "### print variables and memory address, and basic arithmetic\n",
    "- `print 2+2`\n",
    "- `print $ebp + 4`\n",
    "- `print varName`\n",
    "- `print $ebp` : similar to `i r ebp`\n",
    "\n",
    "### print format\n",
    "- print or p/format [value/address/variable]\n",
    "- e.g. p/x $ebp+8\n",
    "- p/x - print in hex (default)\n",
    "- p/d - print as signed decimal\n",
    "- p/u - print as unsigned decimal\n",
    "- p/o - print as octal\n",
    "- p/t - print as binary\n",
    "- p/c - print as character\n",
    "- p/s - print as string"
   ]
  },
  {
   "cell_type": "markdown",
   "metadata": {},
   "source": [
    "## memory examination and data format\n",
    "- **x/[count][size][format] [register/memory]**\n",
    "    - count: no. of size to display starting from the register/memory location\n",
    "    - format:\n",
    "        - **o** : display in octal\n",
    "        - **x** : display in hexadecimal\n",
    "        - **u** : display in unsigned (base-10 decimal)\n",
    "        - **d** : display in base-10 decimal\n",
    "        - **t** : display in binary\n",
    "        - **s** : string\n",
    "        - **c** : character\n",
    "    - size:\n",
    "        - **b** : a single byte\n",
    "        - **h** : a halfword (2 bytes)\n",
    "        - **w** : a word (4 bytes) - default\n",
    "        - **g** : giant (8 bytes)\n",
    "- **x/40wx $esp** : display 40 word bytes in hex format from top of the stack "
   ]
  },
  {
   "cell_type": "markdown",
   "metadata": {},
   "source": [
    "# PEDA - Python Exploit Development Assistance for GDB\n",
    "\n",
    "## Installation\n",
    "https://github.com/longld/peda\n",
    "See #3. Installation\n",
    "\n",
    "\n",
    "## Useful commands\n",
    "### can still run all GDB commands inside PEDA!\n",
    "\n",
    "### help\n",
    "```\n",
    "gdb-peda$ peda help\n",
    "gdb-peda$ help <keyword>\n",
    "gdb-peda$ help <command>\n",
    "```\n",
    "\n",
    "### show selected context not everything while stepping through\n",
    "\n",
    "- **context all** : run by default whenever a breakpoint is hit\n",
    "- **context reg** : for the registers and flags\n",
    "- **context code** : for disassembling around the current instruction pointer\n",
    "- **context stack** : for examining the stack\n",
    "\n",
    "### quickly check the security settings of the program\n",
    "\n",
    "```bash\n",
    "gdb-peda$ checksec\n",
    "```\n",
    "\n",
    "### generate pattern\n",
    "- generate pattern and store in a file\n",
    "\n",
    "```bash\n",
    "gdb-peda$ pattern_create 120 file\n",
    "```\n",
    "\n",
    "- generate pattern and set as argument\n",
    "```bash\n",
    "gdb-peda$ pattern arg 100\n",
    "```\n",
    "\n",
    "### search pattern\n",
    "- crash the program with the pattern and run patts or pattern_search\n",
    "- look for EIP offset which is the offset from the target buffer to the return address\n",
    "```\n",
    "gdb-peda$ pattern_search\n",
    "```\n",
    "\n",
    "\n",
    "### generate shell code\n",
    "\n",
    "- `gdb-peda$ shellcode`\n",
    "- `gdb-peda$ shellcode generate`\n",
    "- `gdb-peda$ shellcode generate x86/linux exec`"
   ]
  },
  {
   "cell_type": "markdown",
   "metadata": {},
   "source": [
    "### Useful resources\n",
    "\n",
    "#### Exploit writing using Python\n",
    "- http://www.fuzzysecurity.com/tutorials/expDev/2.html\n",
    "\n",
    "#### ROP and ROP Gadgets\n",
    "- https://www.exploit-db.com/docs/english/28479-return-oriented-programming-(rop-ftw).pdf\n",
    "\n",
    "#### Buffer overflow resources\n",
    "- https://samsclass.info/123/proj14/lbuf1.htm\n",
    "- http://www.tenouk.com/Bufferoverflowc/Bufferoverflow6.html\n",
    "- https://tc.gtisc.gatech.edu/cs6265/2016/l/lab02-warmup2/README-tut.txt - peda"
   ]
  },
  {
   "cell_type": "code",
   "execution_count": null,
   "metadata": {},
   "outputs": [],
   "source": []
  }
 ],
 "metadata": {
  "kernelspec": {
   "display_name": "Python 3 (ipykernel)",
   "language": "python",
   "name": "python3"
  },
  "language_info": {
   "codemirror_mode": {
    "name": "ipython",
    "version": 3
   },
   "file_extension": ".py",
   "mimetype": "text/x-python",
   "name": "python",
   "nbconvert_exporter": "python",
   "pygments_lexer": "ipython3",
   "version": "3.12.2"
  }
 },
 "nbformat": 4,
 "nbformat_minor": 4
}
