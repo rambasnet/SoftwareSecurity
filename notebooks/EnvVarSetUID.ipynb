{
 "cells": [
  {
   "cell_type": "markdown",
   "id": "ad2157ad-d5d7-4898-9dc7-5914736c5116",
   "metadata": {},
   "source": [
    "# Set-UID Programs and Environment Variables\n",
    "\n",
    "## Need for Privileged Programs\n",
    "\n",
    "- many system programs and configuration files are root/admin owned with restricted access to regular users\n",
    "- some of these programs need to be executed by regular users regular usage of the system\n",
    "\n",
    "## Password Dilemma\n",
    "\n",
    "- let's see the permission of `/etc/shadow` file\n",
    "- how do regular users change their password?"
   ]
  },
  {
   "cell_type": "code",
   "execution_count": null,
   "id": "2a4510a5-64ec-43f7-86ee-150ba3c8d2ef",
   "metadata": {},
   "outputs": [],
   "source": [
    "! ls -al /etc/shadow"
   ]
  },
  {
   "cell_type": "code",
   "execution_count": null,
   "id": "3b117fe0-a3cc-4f61-9b02-18dfb0fb077c",
   "metadata": {},
   "outputs": [],
   "source": [
    "! getfacl /etc/shadow"
   ]
  },
  {
   "cell_type": "markdown",
   "id": "c42cca2c-3090-4c0a-9296-5249cc384c5e",
   "metadata": {},
   "source": [
    "## Two-Tier Approach\n",
    "\n",
    "- implementing fine-grained access control in OS make the over complicated\n",
    "    - requires major redesign/rewrite of all major OS kernels\n",
    "- OS relies on extension to enforce fine grained access control\n",
    "- privileged programs are such extensions\n",
    "\n",
    "![image.png](./media/setuid-approach.png)\n",
    "\n",
    "- there are two types of privileged programs:\n",
    "\n",
    "### Daemons\n",
    "- computer program/process that runs in the background\n",
    "- typically needs to run as root or other privileged users\n",
    "\n",
    "\n",
    "### Set-UID programs\n",
    "- widely used in \\*NIX systems\n",
    "- programs are marked with a speical bit\n",
    "\n",
    "## Setuid Programs\n",
    "\n",
    "- setuid programs are a device to allow users to acquire new priviledges for a limited amunt of time\n",
    "- they provide a meas for overriding the protection schemes designed in \\*NIX systems\n",
    "- `setuid` programs are written in a way that it provides a granual access to individual line of a protected file/resource\n",
    "- powersuit analogy - suit that gives power to whoever uses it\n",
    "- which of the following group is the power suit?\n",
    "    - superman/spiderman suit?\n",
    "    - ironman/antman suit?\n",
    "    \n",
    "- allow users to run a program with the program owner's privilege\n",
    "- the privilege is temporary while the program is being executed\n",
    "\n",
    "### Case study - passwd program\n",
    "- **passwd** program is used to change user's password\n",
    "- let's see the access control list of **passwd** program\n",
    "- note `s` in ACL and the owner:group"
   ]
  },
  {
   "cell_type": "code",
   "execution_count": null,
   "id": "28f30806-e6fb-445a-abac-0cd902e941fb",
   "metadata": {},
   "outputs": [],
   "source": [
    "! ls -l /usr/bin/passwd"
   ]
  },
  {
   "cell_type": "code",
   "execution_count": null,
   "id": "2de2566c-78ae-484d-ba6f-4625a8b17318",
   "metadata": {},
   "outputs": [],
   "source": [
    "! getfacl /usr/bin/passwd"
   ]
  },
  {
   "cell_type": "markdown",
   "id": "5eb5536b-0cb5-4be4-90ee-38c1e9095f99",
   "metadata": {},
   "source": [
    "## Set-UID Concept\n",
    "\n",
    "- every process has two User IDs:\n",
    "\n",
    "#### Real UID (RUID)\n",
    "- identifies the real owner of the process\n",
    "\n",
    "#### Effective UID (EUID)\n",
    "- identifies privilege of a process\n",
    "- access control is based on **EUID**\n",
    "\n",
    "- when a normal program is executed, **RUID = EUID**\n",
    "    - both IDs equal to the ID of the user who runs the program\n",
    "- when a **set-uid** is executed, **RUID != EUID**\n",
    "    - RUID still equals to user's ID who runs the program\n",
    "    - EUID howover is equal to the program owner's ID\n",
    "    - if the program is owned by root, the program runs with the root privilege\n",
    "    \n",
    "### meowcat - copy cat\n",
    "- create a program that behaves like the `cat` program\n",
    "- the demo program is provided in `demos/setuid` folder\n",
    "- let's change the working diectory to `demos/setuid`\n",
    "- use jupyter notebook's magic symbol to do that: `%`"
   ]
  },
  {
   "cell_type": "code",
   "execution_count": null,
   "id": "7e8583a9-e3e8-4db4-adac-e0ac085de95b",
   "metadata": {},
   "outputs": [],
   "source": [
    "%pwd"
   ]
  },
  {
   "cell_type": "code",
   "execution_count": null,
   "id": "551dd7af-d955-4478-8d76-c33676ac260d",
   "metadata": {},
   "outputs": [],
   "source": [
    "%cd demos/setuid"
   ]
  },
  {
   "cell_type": "code",
   "execution_count": null,
   "id": "9da04deb-36c8-48e9-8948-dcc735a297df",
   "metadata": {},
   "outputs": [],
   "source": [
    "# if you get a warning when using magic symbol...\n",
    "# UserWarning: using dhist requires you to install the `pickleshare` library.\n",
    "! pip install pickleshare"
   ]
  },
  {
   "cell_type": "code",
   "execution_count": null,
   "id": "7f2219ed-c5e8-4925-8980-381cfedd7767",
   "metadata": {},
   "outputs": [],
   "source": [
    "! ls -al"
   ]
  },
  {
   "cell_type": "code",
   "execution_count": null,
   "id": "921cac9e-a34c-47c3-9b1a-3748e3e55a3f",
   "metadata": {},
   "outputs": [],
   "source": [
    "! cat meowcat.cpp"
   ]
  },
  {
   "cell_type": "code",
   "execution_count": null,
   "id": "f155c815-3736-4677-9fda-59a4b0a89330",
   "metadata": {},
   "outputs": [],
   "source": [
    "! cat Makefile"
   ]
  },
  {
   "cell_type": "code",
   "execution_count": null,
   "id": "c9818387-14f8-400b-bd57-dca7ec5f314f",
   "metadata": {},
   "outputs": [],
   "source": [
    "! make"
   ]
  },
  {
   "cell_type": "code",
   "execution_count": null,
   "id": "64e0a29f-b12a-4a26-b220-85f9cf45ea28",
   "metadata": {},
   "outputs": [],
   "source": [
    "! ./meowcat"
   ]
  },
  {
   "cell_type": "code",
   "execution_count": null,
   "id": "722f9908-0d47-4299-8577-d387a40fce90",
   "metadata": {},
   "outputs": [],
   "source": [
    "! ls -al"
   ]
  },
  {
   "cell_type": "code",
   "execution_count": null,
   "id": "1c9ede62-8f17-4e5e-8ea0-b3899dda2227",
   "metadata": {},
   "outputs": [],
   "source": [
    "! getfacl meowcat"
   ]
  },
  {
   "cell_type": "code",
   "execution_count": 42,
   "id": "50c4b4b3-c292-46fc-970e-831ec7bebaed",
   "metadata": {},
   "outputs": [],
   "source": [
    "! echo \"hello there...\" > data.txt"
   ]
  },
  {
   "cell_type": "code",
   "execution_count": null,
   "id": "70648265-effb-4f9d-9476-ca8b3222d062",
   "metadata": {},
   "outputs": [],
   "source": [
    "! cat data.txt"
   ]
  },
  {
   "cell_type": "code",
   "execution_count": null,
   "id": "b43c295f-3b55-48c0-b78b-a0c116953f33",
   "metadata": {},
   "outputs": [],
   "source": [
    "! ./meowcat data.txt"
   ]
  },
  {
   "cell_type": "code",
   "execution_count": null,
   "id": "b217ec78-c36e-4200-969c-fdfc122247e2",
   "metadata": {},
   "outputs": [],
   "source": [
    "! ./meowcat /etc/shadow"
   ]
  },
  {
   "cell_type": "code",
   "execution_count": null,
   "id": "4e635fb1-1d9e-40c3-a18c-346eecbb72a9",
   "metadata": {},
   "outputs": [],
   "source": [
    "! ls -al "
   ]
  },
  {
   "cell_type": "code",
   "execution_count": null,
   "id": "30236fc2-656e-4717-9e53-d99a32f0335a",
   "metadata": {},
   "outputs": [],
   "source": [
    "! getfacl $(which sudo)"
   ]
  },
  {
   "cell_type": "code",
   "execution_count": null,
   "id": "767c55d0-1f8d-4031-b912-b2268d78c030",
   "metadata": {},
   "outputs": [],
   "source": [
    "# let's set the ownership of the program to root to setuid\n",
    "! echo kali | sudo -S chown root meowcat"
   ]
  },
  {
   "cell_type": "code",
   "execution_count": null,
   "id": "e0abeb2f-259f-462b-8e73-9bd92294e037",
   "metadata": {},
   "outputs": [],
   "source": [
    "! ls -al meowcat"
   ]
  },
  {
   "cell_type": "code",
   "execution_count": null,
   "id": "ebbeeac8-9c01-4d5b-919a-183a298070bc",
   "metadata": {},
   "outputs": [],
   "source": [
    "! getfacl meowcat"
   ]
  },
  {
   "cell_type": "code",
   "execution_count": null,
   "id": "7ac23b57-537f-4982-91e4-fe917948fe86",
   "metadata": {},
   "outputs": [],
   "source": [
    "# let's setuid chmod 4755\n",
    "! echo kali | sudo -S chmod u+s meowcat"
   ]
  },
  {
   "cell_type": "code",
   "execution_count": null,
   "id": "fb61abfe-049e-4774-bf9d-de0c76c041f9",
   "metadata": {},
   "outputs": [],
   "source": [
    "! ls -al meowcat"
   ]
  },
  {
   "cell_type": "code",
   "execution_count": null,
   "id": "c0302d6f-40d4-4403-adac-ed317536f83f",
   "metadata": {},
   "outputs": [],
   "source": [
    "! cat data.txt"
   ]
  },
  {
   "cell_type": "code",
   "execution_count": null,
   "id": "7f04a49f-c4a7-4f50-8a5e-9c9dbf8b3016",
   "metadata": {},
   "outputs": [],
   "source": [
    "! ./meowcata data.txt"
   ]
  },
  {
   "cell_type": "code",
   "execution_count": null,
   "id": "1385eccd-86c2-4ba5-add0-5cf670083f76",
   "metadata": {},
   "outputs": [],
   "source": [
    "# if the owner isn't root or privileged user, the program is setuid but NOT privilege\n",
    "! echo kali | sudo -S chown user meowcat"
   ]
  },
  {
   "cell_type": "code",
   "execution_count": null,
   "id": "f3ac687a-4660-468c-97c9-95593b9bf732",
   "metadata": {},
   "outputs": [],
   "source": [
    "! ls -al meowcat"
   ]
  },
  {
   "cell_type": "code",
   "execution_count": null,
   "id": "f1080572-f09b-4e64-8826-218b7ce75577",
   "metadata": {},
   "outputs": [],
   "source": [
    "! echo kali | sudo -S chmod 4777 meowcat"
   ]
  },
  {
   "cell_type": "code",
   "execution_count": null,
   "id": "5de2b8c8-c797-45e7-aedf-c54700698b13",
   "metadata": {},
   "outputs": [],
   "source": [
    "! ls -al meowcat"
   ]
  },
  {
   "cell_type": "code",
   "execution_count": null,
   "id": "a721e313-ab88-4fdb-9dcf-c85ddac22d39",
   "metadata": {},
   "outputs": [],
   "source": [
    "! ./meowcat /etc/shadow"
   ]
  },
  {
   "cell_type": "markdown",
   "id": "7e35a56b-3bbf-4cf8-937b-f1198dfdbee7",
   "metadata": {},
   "source": [
    "## What programs need setuid?\n",
    "\n",
    "- programs that require to access sensitive, system-wide data, files, configs, etc.\n",
    "- is it safe to setuid every programs?\n",
    "    - /bin/cat, /bin/sh, nano, vi, etc.\n"
   ]
  },
  {
   "cell_type": "markdown",
   "id": "e5ab0abb-6011-48f9-a199-a2bfe31e44d5",
   "metadata": {},
   "source": [
    "## Environment Variables\n",
    "\n",
    "- environment variables are integral part of all OS\n",
    "- these are dynamic values that can have significant influence over the behavior of programs and processes\n",
    "- these variables are outside the program that store configuration or settings and their values can be changed without modifying the programs' actual code \n",
    "- one of the most important `env` variables is `PATH`\n",
    "    - PATH stores the locations to search for various binaries, libraries, and executable programs\n",
    "- programs and scripts can access environment variables to adapt their behavior based on the configuration and requirements of the system they're being executed\n",
    "- OSes provide various ways to set and access environment variables\n",
    "- system APIs are available to programming languages to access and set environment variables in the programs\n",
    "- in Linux, env variables play important roles when using Terminals to run programs\n",
    "- `env` or `printenv` commands list all the environment variables available to the current user\n",
    "- variable names are case sensitive\n",
    "- normally ALL_CAPS are used for env variable names"
   ]
  },
  {
   "cell_type": "code",
   "execution_count": null,
   "id": "5783724d-32d9-4dc0-9123-f59f24189f51",
   "metadata": {},
   "outputs": [],
   "source": [
    "#! /usr/bin/env python\n",
    "\n",
    "print('hello world')"
   ]
  },
  {
   "cell_type": "code",
   "execution_count": null,
   "id": "06370f2a-fe7d-4908-a94f-bba93b8b3dca",
   "metadata": {},
   "outputs": [],
   "source": [
    "! /usr/bin/env python"
   ]
  },
  {
   "cell_type": "markdown",
   "id": "e83b134a-9342-4ceb-8e4c-19ea1bcd0069",
   "metadata": {},
   "source": [
    "### Setting and Accessing Environment Variables\n",
    "\n",
    "- env variables can be set in many places depending on the needs\n",
    "\n",
    "1. System wide\n",
    "    - /etc/environment\n",
    "    - /etc/profile\n",
    "2. User specific\n",
    "    - ~/.profile\n",
    "    - ~/.bashrc\n",
    "    - ~/.zshrc"
   ]
  },
  {
   "cell_type": "code",
   "execution_count": null,
   "id": "c80d786a-9bb1-464e-a1e0-ca57054e87b1",
   "metadata": {},
   "outputs": [],
   "source": [
    "! cat /etc/environment"
   ]
  },
  {
   "cell_type": "code",
   "execution_count": null,
   "id": "e28e6c7f-94f3-4075-a063-840d483f1ea9",
   "metadata": {},
   "outputs": [],
   "source": [
    "! echo $HOME"
   ]
  },
  {
   "cell_type": "code",
   "execution_count": null,
   "id": "852024e9-36b0-424d-98b7-105afe152058",
   "metadata": {},
   "outputs": [],
   "source": [
    "! cat $HOME/.zshrc"
   ]
  },
  {
   "cell_type": "code",
   "execution_count": null,
   "id": "6e504b03-3b68-4afe-8c49-6f3720d910a0",
   "metadata": {},
   "outputs": [],
   "source": [
    "! echo $PATH"
   ]
  },
  {
   "cell_type": "markdown",
   "id": "4c0dd990-0e63-4db4-9e34-b8381e1daa4b",
   "metadata": {},
   "source": [
    "### Types of Env Variables\n",
    "\n",
    "#### shell variable\n",
    "- like local variables in programs; available to the current shell until it's terminated\n",
    "- can't have trailing and leading space around the '=' sign unlike in many programming languages\n",
    "- space is a special character -- word/command separater -- in bash scripting\n",
    "\n",
    "```bash\n",
    "VAR_NAME=\"VALUE...\"\n",
    "```\n",
    "\n",
    "#### environment or system variables\n",
    "- like global variables; they can be available system-wide across the Terminals\n",
    "- temporary env variable can be exported from the Terminal and availble only to that Terminal\n",
    "- permenant env variables are exported from init script such as `~/.zshrc` everytime a Terminal is launched\n",
    "\n",
    "```bash\n",
    "export VAR[=\"VALUE...\"]\n",
    "set VAR1=\"some other values\" # use in scripts\n",
    "```\n",
    "\n",
    "#### NOTE\n",
    "- can't create shell and environemnt variables from Jupyter Notebooks\n",
    "- use Terminal instead...\n",
    "- add `$` before the variable name when reading the value"
   ]
  },
  {
   "cell_type": "code",
   "execution_count": 70,
   "id": "ee111a57-78af-4567-9e3c-ece31628c2f2",
   "metadata": {},
   "outputs": [],
   "source": [
    "! VAR=test"
   ]
  },
  {
   "cell_type": "code",
   "execution_count": null,
   "id": "fa74474f-0540-4d30-8aa2-65c0ee2c59ef",
   "metadata": {},
   "outputs": [],
   "source": [
    "! echo $VAR"
   ]
  },
  {
   "cell_type": "markdown",
   "id": "515b1768-170c-4d14-a763-521556fb475f",
   "metadata": {},
   "source": [
    "```bash\n",
    "(base) ┌──(kali㉿kali)-[~/projects/SoftwareSecurity/demos/setuid]\n",
    "└─$ VAR=\"Some data\"\n",
    "                                                                                                     \n",
    "(base) ┌──(kali㉿kali)-[~/projects/SoftwareSecurity/demos/setuid]\n",
    "└─$ echo $VAR            \n",
    "Some data\n",
    "\n",
    "(base) ┌──(kali㉿kali)-[~/projects/SoftwareSecurity/demos/setuid]\n",
    "└─$ cd             \n",
    "                                                                                                     \n",
    "(base) ┌──(kali㉿kali)-[~]\n",
    "└─$ echo $VAR\n",
    "Some data\n",
    "\n",
    "(base) ┌──(kali㉿kali)-[~]\n",
    "└─$ export VAR\n",
    "                                                                                                     \n",
    "(base) ┌──(kali㉿kali)-[~]\n",
    "└─$ env | grep VAR\n",
    "VAR=Some data\n",
    "```"
   ]
  },
  {
   "cell_type": "markdown",
   "id": "2a5db768-c9e1-44fe-80f3-f0a98f5c2989",
   "metadata": {},
   "source": [
    "### Update existing env variable\n",
    "\n",
    "- sometime we may need to temporarily and dynamically add a new path to the PATH variable\n",
    "\n",
    "```bash\n",
    "(base) ┌──(kali㉿kali)-[~]\n",
    "└─$ PATH=$PATH:$HOME/bin\n",
    "                                                                                                     \n",
    "(base) ┌──(kali㉿kali)-[~]\n",
    "└─$ export PATH \n",
    "\n",
    "# one liner\n",
    "(base) ┌──(kali㉿kali)-[~]\n",
    "└─$ export PATH=$PATH:$HOME/bin\n",
    "\n",
    "(base) ┌──(kali㉿kali)-[~]\n",
    "└─$ env | grep ^PATH=\n",
    "PATH=/home/kali/miniconda3/bin:/home/kali/miniconda3/condabin:/usr/local/sbin:/usr/local/bin:/usr/sbin:/usr/bin:/sbin:/bin:/usr/local/games:/usr/games:/home/kali//home/kali/bin\n",
    "```\n",
    "\n",
    "### Delete environment variables\n",
    "\n",
    "- can use `unset` command or assign empty value to temporarily delete them\n",
    "- can update the corresponding setting files to permanently delete them\n",
    "\n",
    "```\n",
    "unset NAME\n",
    "NAME=\"\"\n",
    "```\n",
    "\n",
    "# How to access environment variables from C/C++ programs\n",
    "\n",
    "- you can pass `*char []` to the main as the third argument\n",
    "- you can use global varaiable `environ`\n",
    "- you can use system API such as `getenv(var_name)`, `putenv()`, `setenv(), unsetenv()`, etc.\n",
    "- let's see how they works\n",
    "- example codes provided in `demos/envvars` folder"
   ]
  },
  {
   "cell_type": "code",
   "execution_count": null,
   "id": "aaff19b4-11b2-4f8f-814a-913f2a5bc5e3",
   "metadata": {},
   "outputs": [],
   "source": [
    "%pwd"
   ]
  },
  {
   "cell_type": "code",
   "execution_count": null,
   "id": "56892645-51c8-47e7-b71c-1297662d4a51",
   "metadata": {},
   "outputs": [],
   "source": [
    "%cd ../demos/envvars"
   ]
  },
  {
   "cell_type": "code",
   "execution_count": null,
   "id": "3455ef74-3a3a-4d9f-aadd-f83434c2a99e",
   "metadata": {},
   "outputs": [],
   "source": [
    "! cat pass_env.cpp"
   ]
  },
  {
   "cell_type": "code",
   "execution_count": 4,
   "id": "bcd0d1bc-0e47-463a-b125-899106727a0d",
   "metadata": {},
   "outputs": [],
   "source": [
    "! g++ -o pass_env pass_env.cpp"
   ]
  },
  {
   "cell_type": "code",
   "execution_count": null,
   "id": "8ccdaf5e-4468-4d3c-9d84-263d61012605",
   "metadata": {},
   "outputs": [],
   "source": [
    "! ./pass_env hi there world!"
   ]
  },
  {
   "cell_type": "code",
   "execution_count": null,
   "id": "3b40eb6b-235d-4a87-aa1c-5a4f0c516979",
   "metadata": {},
   "outputs": [],
   "source": [
    "! cat global_env.cpp"
   ]
  },
  {
   "cell_type": "code",
   "execution_count": 8,
   "id": "74cde797-f16a-42b9-a456-3520e3a314fa",
   "metadata": {},
   "outputs": [],
   "source": [
    "! g++ -o global_env global_env.cpp"
   ]
  },
  {
   "cell_type": "code",
   "execution_count": null,
   "id": "39174164-3245-4e7b-b29a-e658310ec70f",
   "metadata": {},
   "outputs": [],
   "source": [
    "! ./global_env"
   ]
  },
  {
   "cell_type": "code",
   "execution_count": null,
   "id": "2c37c1b6-e84c-4ab8-b9d8-cbfdad27bd2d",
   "metadata": {},
   "outputs": [],
   "source": [
    "! cat get_set_env.cpp"
   ]
  },
  {
   "cell_type": "code",
   "execution_count": 11,
   "id": "54fc835b-970a-41da-8e37-d97a05b8fbdf",
   "metadata": {},
   "outputs": [],
   "source": [
    "! g++ -o get_set_env get_set_env.cpp"
   ]
  },
  {
   "cell_type": "code",
   "execution_count": null,
   "id": "e5b999fe-83bf-4c27-a14a-967a0e104697",
   "metadata": {},
   "outputs": [],
   "source": [
    "! ./get_set_env PATH"
   ]
  },
  {
   "cell_type": "code",
   "execution_count": null,
   "id": "90b9032c-eb99-4409-a548-023da34b6f66",
   "metadata": {},
   "outputs": [],
   "source": [
    "! ./get_set_env TEST \"HELLO THERE\""
   ]
  },
  {
   "cell_type": "code",
   "execution_count": null,
   "id": "703077fe-1b6a-41a9-83d2-a785935eaf9d",
   "metadata": {},
   "outputs": [],
   "source": [
    "# rerunning the program doesn't find the newly set environement variable\n",
    "# the program is rerun everytime...\n",
    "! ./get_set_env TEST"
   ]
  },
  {
   "cell_type": "markdown",
   "id": "40d94905-4da5-483a-8525-443457b4c893",
   "metadata": {},
   "source": [
    "## How a process gets its environment variables\n",
    "\n",
    "- one of the two ways\n",
    "- if a new process is created using `fork()`, the parent process copies and passes its environment variables to the child process\n",
    "- if a process runs a new process in itself (using `execve()`), the processe's environment variable is overwritten by the new env vars provided to the new process\n",
    "    - current environment variables are essentially lost/overwritten\n",
    "- `execve()` system API has 3 parameters\n",
    "    - `filename, argv, envp`\n",
    "- https://man7.org/linux/man-pages/man2/execve.2.html\n",
    "\n",
    "```cpp\n",
    "execve(const char* filename, char *const argv[], char *const envp[]);\n",
    "```\n",
    "- let's see how `execve` can pass the env variables to processes"
   ]
  },
  {
   "cell_type": "code",
   "execution_count": null,
   "id": "b09f1b03-96c9-4170-9486-b707980d3814",
   "metadata": {},
   "outputs": [],
   "source": [
    "! cat execve_passenv.cpp"
   ]
  },
  {
   "cell_type": "code",
   "execution_count": null,
   "id": "be331593-5a57-4a31-9933-8f0d05f3bdaf",
   "metadata": {},
   "outputs": [],
   "source": [
    "! g++ -o execve_passenv execve_passenv.cpp"
   ]
  },
  {
   "cell_type": "code",
   "execution_count": null,
   "id": "835eb11c-bd49-4df5-a42f-1c45c5d0d155",
   "metadata": {},
   "outputs": [],
   "source": [
    "# no envvariables are printed for default and option 1\n",
    "! ./execve_passenv"
   ]
  },
  {
   "cell_type": "code",
   "execution_count": 18,
   "id": "f9d25141-d0e9-43cb-93cf-0e300f114583",
   "metadata": {},
   "outputs": [],
   "source": [
    "! ./execve_passenv 1"
   ]
  },
  {
   "cell_type": "code",
   "execution_count": null,
   "id": "b516277f-cf6a-45b2-837a-f197c0ed5d1e",
   "metadata": {},
   "outputs": [],
   "source": [
    "! ./execve_passenv 2"
   ]
  },
  {
   "cell_type": "code",
   "execution_count": null,
   "id": "ab7a2fdc-2080-43e9-9f19-ed39de3c54ab",
   "metadata": {},
   "outputs": [],
   "source": [
    "! ./execve_passenv 3"
   ]
  },
  {
   "cell_type": "markdown",
   "id": "3a5fe23f-68b9-403b-9b94-b5b8f21f634b",
   "metadata": {},
   "source": [
    "## Memory Locations for program arguments and environment variables\n",
    "\n",
    "- let's see the stack frame of main function\n",
    "\n",
    "![Env Variables and Main](./media/env_stack.png)\n"
   ]
  },
  {
   "cell_type": "markdown",
   "id": "95244bdc-1283-4885-b5c9-46542f78b700",
   "metadata": {},
   "source": [
    "## Futher Readings and References\n",
    "- How to Write Setuid Programs - https://nob.cs.ucdavis.edu/~bishop/secprog/1987-sproglogin.pdf\n",
    "- Setuid BSDI Man page - https://seedsecuritylabs.org/Labs_20.04/Software/Environment_Variable_and_SetUID/files/setuid.pdf\n",
    "- Setuid Demystified - https://web.ecs.syr.edu/~wedu/minix/projects/setuid_paper.pdf"
   ]
  },
  {
   "cell_type": "code",
   "execution_count": null,
   "id": "5fa1df07-4bb8-4a44-a966-b3008f408cfa",
   "metadata": {},
   "outputs": [],
   "source": []
  }
 ],
 "metadata": {
  "kernelspec": {
   "display_name": "Python 3",
   "language": "python",
   "name": "python3"
  },
  "language_info": {
   "codemirror_mode": {
    "name": "ipython",
    "version": 3
   },
   "file_extension": ".py",
   "mimetype": "text/x-python",
   "name": "python",
   "nbconvert_exporter": "python",
   "pygments_lexer": "ipython3",
   "version": "3.12.1"
  }
 },
 "nbformat": 4,
 "nbformat_minor": 5
}
