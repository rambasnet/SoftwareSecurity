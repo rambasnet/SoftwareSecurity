{
 "cells": [
  {
   "cell_type": "markdown",
   "metadata": {},
   "source": [
    "# x86 Systems, Assembly and Stack\n",
    "http://www.cs.virginia.edu/~evans/cs216/guides/x86.html"
   ]
  },
  {
   "cell_type": "markdown",
   "metadata": {
    "slideshow": {
     "slide_type": "slide"
    }
   },
   "source": [
    "## x86 Processor\n",
    "- modern 80x86 (x=1, 2, 3, 4) have several registers\n",
    "- in gdb, `info registers` command shows all general purpose registers\n",
    "    \n",
    "## Endianness\n",
    "- is the order of sequence of bytes of a digital data stored in computer memory\n",
    "- two types: Big-Endian and Little-Endian\n",
    "- a big-endian stores the **most significant byte** of a word at the smallest memory address and the most significant byte of a word at the largest in 4-byte (32-bit) memory address\n",
    "- a little-endian stores the **least significant byte** of a word at the smallest memory address and the most significant byte of a word at the largest\n",
    "- x86 is Little-Endian architecture\n",
    "- endianness affect mostly the numbers\n",
    "- the following figure depicts how a hex representation of integer is stored in the two endianness\n",
    "\n",
    "![endianess](./media/endianness.png)\n",
    "\n",
    "## Registers\n",
    "- variables to the CPU\n",
    "- 8 32-bit general-purpose registers\n",
    "- **EAX, ECX, EDX and EBX** are general-purpose registers\n",
    "    - Accumulator, Counter, Data and Base respectively\n",
    "    - used for a variety of purposes\n",
    "    - act as variables while instructions are executing\n",
    "- **ESP and EBP** are pointers\n",
    "    - Stack Pointer, Base Pointer, Source Index and Destination Index, respectively\n",
    "    - ESP and EBP store 32-bit addresses (point to location in memory)\n",
    "    - ESP always points to the top of the stack\n",
    "    - EBP acts as the base address (point of reference) for accessing local variables and parameters\n",
    "- **ESI and EDI** are indices\n",
    "    - technically pointers used to point to the source and destination when data is being copied\n",
    "\n",
    "### EIP register\n",
    "- Instruction Pointer register\n",
    "- points to the current instruction the processor is reading\n",
    "- very important pointer and will be used a lot while debugging\n",
    "\n",
    "### EFLAGS\n",
    "- EFLAGS registers contain bit flags used for comparisons and memory segmentations (stack, heap, data, bss, etc.)\n",
    "- we'll ignore these as they're rarely accessed"
   ]
  },
  {
   "cell_type": "markdown",
   "metadata": {},
   "source": [
    "## Assembly Language\n",
    "\n",
    "### Intel Instruction Syntax:\n",
    "```\n",
    "operation <destination>, <source>\n",
    "```\n",
    "- destination and source values are either a register, a memory address, or a value\n",
    "- the operations are usually intuitive mnemonics\n",
    "\n",
    "- **mov**: operation will move a value from the source to the destination\n",
    "    - mov ebp, esp\n",
    "        - move the value from ESP to EBP\n",
    "- **push**: places its operand onto the top of the stack\n",
    "    - decrements ESP by 4 (stack grows towards lower address)\n",
    "    - place the contents at that location\n",
    "    - `push <reg>`\n",
    "    - `push <mem>`\n",
    "- **pop**: remove 4-byte data element from the top of the stack\n",
    "    - move the top of the stack to a specified register or memory location\n",
    "    - increments ESP by 4\n",
    "    - `pop <reg32>`\n",
    "    - `pop <mem>`\n",
    "\n",
    "- **cal, ret**: subroutine call and return\n",
    "\n",
    "- sub, add, cmp, jmp, and, or, xor, inc, etc."
   ]
  },
  {
   "cell_type": "markdown",
   "metadata": {},
   "source": [
    "## Calling Convention and Stack\n",
    "- local variables, parameters, return address and many other values are pushed on to the stack when function is called\n",
    "- let's say we've a C++ function\n",
    "```c\n",
    "void function(int arg1, int arg2, int arg3) {\n",
    "    int variable1, variable2, variable3;\n",
    "    // other code\n",
    "}\n",
    "```\n",
    "\n",
    "## caller rules\n",
    "```c\n",
    "function(10, 20, 30);\n",
    "```\n",
    "\n",
    "1. save contents of certain registers (EAX, ECX, EDX)\n",
    "    - values are pushed on to the stack if they're needed and restored upon return\n",
    "- pass parameters to the subroutine (function)\n",
    "    - push them on to the stack before the call\n",
    "    - parameters are pushed in inverted order (i.e. last parameter first)\n",
    "    - the first parameter is stored at the lowest address\n",
    "        - technique allows to pass variable number of parameters\n",
    "- push the return address to the top of the parameters\n",
    "- use the `call` instruction to call the function at the location\n",
    "\n",
    "\n",
    "## callee rules\n",
    "1. push the EBP (value of the caller) on to the stack\n",
    "\n",
    "```\n",
    "push ebp\n",
    "mov ebp, esp\n",
    "```\n",
    "2. push the local variables\n",
    "- allocate local variables by pushing them on to the stack top to bottom \n",
    "- the first local variable pushed on the stack will be at -4 offset\n",
    "\n",
    "## Note: return address of the caller is at EBP + 4\n",
    "![stack calling convention](./media/stack-convention.png)"
   ]
  }
 ],
 "metadata": {
  "kernelspec": {
   "display_name": "Python 3 (ipykernel)",
   "language": "python",
   "name": "python3"
  },
  "language_info": {
   "codemirror_mode": {
    "name": "ipython",
    "version": 3
   },
   "file_extension": ".py",
   "mimetype": "text/x-python",
   "name": "python",
   "nbconvert_exporter": "python",
   "pygments_lexer": "ipython3",
   "version": "3.12.2"
  }
 },
 "nbformat": 4,
 "nbformat_minor": 4
}
