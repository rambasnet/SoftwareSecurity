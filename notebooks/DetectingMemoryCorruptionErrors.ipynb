{
 "cells": [
  {
   "cell_type": "markdown",
   "id": "58095e17",
   "metadata": {},
   "source": [
    "# Detecting and Mitigating Memory Corruption Errors\n",
    "\n",
    "## Memory corruption\n",
    "- https://cwe.mitre.org/data/definitions/787.html\n",
    "- according to MITRE, \"memory corruption\" is often used to describe the consequences of writing to memory outside the bounds of a buffer that is invalid, when the root cause is something other than a sequential copy of excessive data from a fixed starting location. This may include issues such as incorrect pointer arithmetic, accessing invalid pointers due to incomplete initialization or memory release, etc.\n",
    "\n",
    "- from programmers point-of-view, there are two main ways to detect memory corruption errors in C/C++ programs\n",
    "- White box and black box testing\n",
    "\n",
    "## White box testing\n",
    "- also called static analysis\n",
    "- have access to source code\n",
    "- manually read and review source code for memory related errors such as memory leak, buffer overflow, underflow, etc.\n",
    "    - pros and cons?\n",
    "- can use automated tools to scan for code and API that leads to memory related errors\n",
    "    - pros and cons?\n",
    "\n",
    "## Black box testing\n",
    "- also called dynamic analysis\n",
    "- manually test the binary/executable\n",
    "- employ `fuzz testing` - use automated tools called fuzzer to provide invalid, unexpected or random data as inputs to the program\n",
    "\n",
    "### Use 3rd party scanners such as Valgrind's Memcheck\n",
    "- https://valgrind.org/docs/manual/quick-start.html\n",
    "- compile your program using -g (dubuggin info) and -o1 (line numbers in error message)\n",
    "    - `-o0` is also a good idea, if you can tolerate the slowdown   \n",
    "- must install valgrind and libc6-dbg:i386 packages\n",
    "\n",
    "### Use gcc/g++ compiler flags\n",
    "\n",
    "### NOTE: Automated tools are not perfect!"
   ]
  },
  {
   "cell_type": "code",
   "execution_count": null,
   "id": "2703cb07",
   "metadata": {},
   "outputs": [],
   "source": [
    "! echo kali | sudo -S apt install valgrind -y"
   ]
  },
  {
   "cell_type": "code",
   "execution_count": 2,
   "id": "e300ccfe",
   "metadata": {},
   "outputs": [
    {
     "name": "stdout",
     "output_type": "stream",
     "text": [
      "valgrind-3.15.0\n"
     ]
    }
   ],
   "source": [
    "# check valgrind version\n",
    "! valgrind --version"
   ]
  },
  {
   "cell_type": "code",
   "execution_count": null,
   "id": "567ea153",
   "metadata": {},
   "outputs": [],
   "source": [
    "%%bash\n",
    "# install libc6-dbg:i386 for debugging x86 program in x64\n",
    "echo kali | sudo -S sudo apt install libc6-dbg -y\n",
    "echo kali | sudo -S sudo apt install libc6-dbg:i386 -y"
   ]
  },
  {
   "cell_type": "code",
   "execution_count": 1,
   "id": "d0369c95",
   "metadata": {},
   "outputs": [
    {
     "name": "stdout",
     "output_type": "stream",
     "text": [
      "/workspaces/SoftwareSecurity/notebooks\n"
     ]
    }
   ],
   "source": [
    "! pwd"
   ]
  },
  {
   "cell_type": "code",
   "execution_count": 2,
   "id": "18f0d183",
   "metadata": {},
   "outputs": [
    {
     "name": "stdout",
     "output_type": "stream",
     "text": [
      "/workspaces/SoftwareSecurity/demos/mem_leak\n"
     ]
    }
   ],
   "source": [
    "%cd ../demos/mem_leak"
   ]
  },
  {
   "cell_type": "code",
   "execution_count": 3,
   "id": "3697f31b",
   "metadata": {},
   "outputs": [
    {
     "name": "stdout",
     "output_type": "stream",
     "text": [
      "  #include <stdlib.h>\n",
      "  #include <cstring>\n",
      "  #include <cstdio>\n",
      "\n",
      "  void f(char * arg)\n",
      "  {\n",
      "\t // C dynamic memory\n",
      "\t int* x = (int *)malloc(10 * sizeof(int));\n",
      "\t // C++ dynamic memory\n",
      "\t char* name = new char[20];\n",
      "\t \n",
      "\t x[10] = 0;        // problem 1: heap block overrun\n",
      "\t\t                // problem 2: memory leak -- x not freed\n",
      "\t strcpy(name, arg);\n",
      "\t // problem 3: heap block overrun\n",
      "\t // problem 4: memory leak -- x not freed\n",
      "\t printf(\"Hello %s\\n\", arg);\n",
      "  }\n",
      "\n",
      "  int main(int argc, char* argv[1])\n",
      "  {\n",
      "\t // what if f() is called over and again in an infinite loop, e.g. \n",
      "\t f(argv[1]);\n",
      "\t return 0;\n",
      "  }\n"
     ]
    }
   ],
   "source": [
    "# let's use demos/memory_leak.cpp program for demo\n",
    "! cat memory_leak.cpp"
   ]
  },
  {
   "cell_type": "code",
   "execution_count": null,
   "id": "44ca4d1a",
   "metadata": {},
   "outputs": [],
   "source": [
    "# compile with -g -o0 options to use with valgrind\n",
    "# compile as 64-bit binary as valgrind will not work on 32-bit due to lack of \n",
    "# libc6-dbg:i386 library\n",
    "! g++ -g -o0 memory_leak.cpp -o memory_leak.exe"
   ]
  },
  {
   "cell_type": "code",
   "execution_count": null,
   "id": "804b3307",
   "metadata": {},
   "outputs": [],
   "source": [
    "# Run the program with an argument\n",
    "! ./memory_leak.exe John"
   ]
  },
  {
   "cell_type": "code",
   "execution_count": null,
   "id": "631d900c",
   "metadata": {},
   "outputs": [],
   "source": [
    "# program crashes or behaves unexpectedly\n",
    "! ./memory_leak.exe \"some very very very very long string\""
   ]
  },
  {
   "cell_type": "code",
   "execution_count": null,
   "id": "eb661ce5",
   "metadata": {},
   "outputs": [],
   "source": [
    "# by default gives summary of memory leak\n",
    "# doesn't give the detail/full memory leaks info\n",
    "! valgrind ./memory_leak.exe \"John Smith\""
   ]
  },
  {
   "cell_type": "code",
   "execution_count": null,
   "id": "e56778b8",
   "metadata": {},
   "outputs": [],
   "source": [
    "! valgrind --leak-check=full -s ./memory_leak.exe \"John Smith\""
   ]
  },
  {
   "cell_type": "markdown",
   "id": "7ce65407",
   "metadata": {},
   "source": [
    "## gcc/g++ Warning flags and AddressSanitizer\n",
    "- https://en.wikipedia.org/wiki/AddressSanitizer\n",
    "- https://gcc.gnu.org/onlinedocs/gcc-3.4.6/gcc/Warning-Options.html#Warning-Options\n",
    "\n",
    "- `-Wall` - display all the warning\n",
    "- `-Wpedantic` - display nonstandard warnings\n",
    "- `-Wextra` - print extra newer warning messages\n",
    "- `-Wconversion` - warning any implicit type conversions\n",
    "- Warnings are like static analysis\n",
    "\n",
    "- `-fsanitize=address` - use address sanitizer (ONLY works on Linux)\n",
    "- must compile and run the program to see the results of any buffer-over-flow errors (dynamic analysis)\n",
    "- For more: https://www.osc.edu/resources/getting_started/howto/howto_use_address_sanitizer"
   ]
  },
  {
   "cell_type": "code",
   "execution_count": null,
   "id": "5c329140",
   "metadata": {},
   "outputs": [],
   "source": [
    "! g++ -std=c++17 -g -o0 -Wall -Wpedantic -Wextra -Wconversion -fsanitize=address demos/memory_leak.cpp -o memory_leak.exe"
   ]
  },
  {
   "cell_type": "code",
   "execution_count": null,
   "id": "77eda864",
   "metadata": {},
   "outputs": [],
   "source": [
    "# run the program to see the Address Sanitizer's result\n",
    "# detects overflow during run-time\n",
    "! ./memory_leak.exe"
   ]
  },
  {
   "cell_type": "code",
   "execution_count": null,
   "id": "ea68432f",
   "metadata": {},
   "outputs": [],
   "source": [
    "# let's compile demos/stack_overflow/so_stdio.cpp with address sanitize flag and warning\n",
    "! g++ -std=c++17 -m32 -g -o0 -Wall -Wpedantic -Wextra -Wconversion -fsanitize=address demos/stack_overflow/so_stdio.cpp -o so_stdio.exe"
   ]
  },
  {
   "cell_type": "code",
   "execution_count": null,
   "id": "e594dd05",
   "metadata": {},
   "outputs": [],
   "source": [
    "# let's manually test it... perhaps string not long enough\n",
    "! echo \"here you go some long long long string...\" | ./so_stdio.exe"
   ]
  },
  {
   "cell_type": "code",
   "execution_count": null,
   "id": "e0c5bf98",
   "metadata": {},
   "outputs": [],
   "source": [
    "# just overflow BUFFSIZE of 128\n",
    "! python -c 'print(\"A\"*200)' | ./so_stdio.exe"
   ]
  },
  {
   "cell_type": "markdown",
   "id": "3f1da3d2",
   "metadata": {},
   "source": [
    "## Fixing memory leak and over-run vulnerabilities\n",
    "- find the vulnerable line of code/functions, etc. and fix it\n",
    "- see `demos/memory_leak_fixed.cpp` for demo"
   ]
  },
  {
   "cell_type": "code",
   "execution_count": null,
   "id": "1c1a3899",
   "metadata": {},
   "outputs": [],
   "source": [
    "! cat demos/memory_leak_fixed.cpp"
   ]
  },
  {
   "cell_type": "code",
   "execution_count": null,
   "id": "1fc3bb47",
   "metadata": {},
   "outputs": [],
   "source": [
    "# compile with -g -o0 options to use with valgrind\n",
    "! g++ -g -o0 -Wpedantic -Wextra -Wconversion -fsanitize=address demos/memory_leak_fixed.cpp -o memory_leak_fixed.exe"
   ]
  },
  {
   "cell_type": "code",
   "execution_count": null,
   "id": "d5c81ee4",
   "metadata": {},
   "outputs": [],
   "source": [
    "# manually check the fix\n",
    "! ./memory_leak_fixed.exe \"some very very very very long strin adfa asf afaf adfa dag\""
   ]
  },
  {
   "cell_type": "code",
   "execution_count": null,
   "id": "93b80ea3",
   "metadata": {},
   "outputs": [],
   "source": [
    "# check with valgrind\n",
    "! valgrind --leak-check=yes ./memory_leak_fixed.exe \"some very very very very long string\""
   ]
  },
  {
   "cell_type": "code",
   "execution_count": null,
   "id": "a26eef70",
   "metadata": {},
   "outputs": [],
   "source": []
  }
 ],
 "metadata": {
  "kernelspec": {
   "display_name": "Python 3",
   "language": "python",
   "name": "python3"
  },
  "language_info": {
   "codemirror_mode": {
    "name": "ipython",
    "version": 3
   },
   "file_extension": ".py",
   "mimetype": "text/x-python",
   "name": "python",
   "nbconvert_exporter": "python",
   "pygments_lexer": "ipython3",
   "version": "3.12.1"
  }
 },
 "nbformat": 4,
 "nbformat_minor": 5
}
