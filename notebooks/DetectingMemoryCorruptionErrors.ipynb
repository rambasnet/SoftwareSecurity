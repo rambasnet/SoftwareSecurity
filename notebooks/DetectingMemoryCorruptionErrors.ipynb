{
 "cells": [
  {
   "cell_type": "markdown",
   "id": "58095e17",
   "metadata": {},
   "source": [
    "# Detecting and Mitigating Memory Corruption Errors\n",
    "\n",
    "## Memory corruption\n",
    "- https://cwe.mitre.org/data/definitions/787.html\n",
    "- according to MITRE, \"memory corruption\" is often used to describe the consequences of writing to memory outside the bounds of a buffer that is invalid, when the root cause is something other than a sequential copy of excessive data from a fixed starting location. This may include issues such as incorrect pointer arithmetic, accessing invalid pointers due to incomplete initialization or memory release, etc.\n",
    "\n",
    "- from programmers point-of-view, there are two main ways to detect memory corruption errors in C/C++ programs\n",
    "- White box and black box testing\n",
    "\n",
    "## White box testing\n",
    "- also called static analysis\n",
    "- have access to source code\n",
    "- manually read and review source code for memory related errors such as memory leak, buffer overflow, underflow, etc.\n",
    "    - pros and cons?\n",
    "- can use automated tools to scan for code and API that leads to memory related errors\n",
    "    - pros and cons?\n",
    "\n",
    "## Black box testing\n",
    "- also called dynamic analysis\n",
    "- manually test the binary/executable\n",
    "- employ `fuzz testing` - use automated tools called fuzzer to provide invalid, unexpected or random data as inputs to the program\n",
    "\n",
    "### Use 3rd party scanners such as Valgrind's Memcheck\n",
    "- https://valgrind.org/docs/manual/quick-start.html\n",
    "- compile your program using -g (dubuggin info) and -o1 (line numbers in error message)\n",
    "    - `-o0` is also a good idea, if you can tolerate the slowdown   \n",
    "- must install valgrind and libc6-dbg:i386 packages\n",
    "\n",
    "### Use gcc/g++ compiler flags\n",
    "\n",
    "### NOTE: Automated tools are not perfect!"
   ]
  },
  {
   "cell_type": "code",
   "execution_count": null,
   "id": "2703cb07",
   "metadata": {},
   "outputs": [],
   "source": [
    "! echo kali | sudo -S apt install valgrind -y"
   ]
  },
  {
   "cell_type": "code",
   "execution_count": 2,
   "id": "e300ccfe",
   "metadata": {},
   "outputs": [
    {
     "name": "stdout",
     "output_type": "stream",
     "text": [
      "valgrind-3.15.0\n"
     ]
    }
   ],
   "source": [
    "# check valgrind version\n",
    "! valgrind --version"
   ]
  },
  {
   "cell_type": "code",
   "execution_count": null,
   "id": "567ea153",
   "metadata": {},
   "outputs": [],
   "source": [
    "%%bash\n",
    "# install libc6-dbg:i386 for debugging x86 program in x64\n",
    "echo kali | sudo -S sudo apt install libc6-dbg -y\n",
    "echo kali | sudo -S sudo apt install libc6-dbg:i386 -y"
   ]
  },
  {
   "cell_type": "code",
   "execution_count": 2,
   "id": "d0369c95",
   "metadata": {},
   "outputs": [
    {
     "name": "stdout",
     "output_type": "stream",
     "text": [
      "/workspaces/SoftwareSecurity/notebooks\n"
     ]
    }
   ],
   "source": [
    "! pwd"
   ]
  },
  {
   "cell_type": "code",
   "execution_count": 3,
   "id": "18f0d183",
   "metadata": {},
   "outputs": [
    {
     "name": "stdout",
     "output_type": "stream",
     "text": [
      "/workspaces/SoftwareSecurity/demos/mem_leak\n"
     ]
    }
   ],
   "source": [
    "%cd ../demos/mem_leak"
   ]
  },
  {
   "cell_type": "code",
   "execution_count": 5,
   "id": "3697f31b",
   "metadata": {},
   "outputs": [
    {
     "name": "stdout",
     "output_type": "stream",
     "text": [
      "  #include <stdlib.h>\n",
      "  #include <cstring>\n",
      "  #include <cstdio>\n",
      "\n",
      "  void f(char * arg)\n",
      "  {\n",
      "\t // C dynamic memory\n",
      "\t int* x = (int *)malloc(10 * sizeof(int));\n",
      "\t // C++ dynamic memory\n",
      "\t char* name = new char[20];\n",
      "\t \n",
      "\t x[10] = 0;        // problem 1: heap block overrun\n",
      "\t\t                // problem 2: memory leak -- x not freed\n",
      "\t strcpy(name, arg);\n",
      "\t // problem 3: heap block overrun\n",
      "\t // problem 4: memory leak -- x not freed\n",
      "\t printf(\"Hello %s\\n\", arg);\n",
      "  }\n",
      "\n",
      "  int main(int argc, char* argv[1])\n",
      "  {\n",
      "\t // what if f() is called over and again in an infinite loop, e.g. \n",
      "\t f(argv[1]);\n",
      "\t return 0;\n",
      "  }\n"
     ]
    }
   ],
   "source": [
    "# let's use demos/memory_leak.cpp program for demo\n",
    "! cat memory_leak.cpp"
   ]
  },
  {
   "cell_type": "code",
   "execution_count": 6,
   "id": "44ca4d1a",
   "metadata": {},
   "outputs": [],
   "source": [
    "# compile with -g -o0 options to use with valgrind\n",
    "# compile as 64-bit binary as valgrind will not work on 32-bit due to lack of \n",
    "# libc6-dbg:i386 library\n",
    "! g++ -g -o0 memory_leak.cpp -o memory_leak.exe"
   ]
  },
  {
   "cell_type": "code",
   "execution_count": 7,
   "id": "804b3307",
   "metadata": {},
   "outputs": [
    {
     "name": "stdout",
     "output_type": "stream",
     "text": [
      "Hello John\n"
     ]
    }
   ],
   "source": [
    "# Run the program with an argument\n",
    "! ./memory_leak.exe John"
   ]
  },
  {
   "cell_type": "code",
   "execution_count": 9,
   "id": "631d900c",
   "metadata": {},
   "outputs": [
    {
     "name": "stdout",
     "output_type": "stream",
     "text": [
      "malloc(): corrupted top size\n"
     ]
    }
   ],
   "source": [
    "# program crashes or behaves unexpectedly\n",
    "! ./memory_leak.exe \"some very very very very long string\""
   ]
  },
  {
   "cell_type": "code",
   "execution_count": 10,
   "id": "eb661ce5",
   "metadata": {},
   "outputs": [
    {
     "name": "stdout",
     "output_type": "stream",
     "text": [
      "==6012== Memcheck, a memory error detector\n",
      "==6012== Copyright (C) 2002-2017, and GNU GPL'd, by Julian Seward et al.\n",
      "==6012== Using Valgrind-3.15.0 and LibVEX; rerun with -h for copyright info\n",
      "==6012== Command: ./memory_leak.exe John\\ Smith\n",
      "==6012== \n",
      "==6012== Invalid write of size 4\n",
      "==6012==    at 0x1091DD: f(char*) (memory_leak.cpp:12)\n",
      "==6012==    by 0x109236: main (memory_leak.cpp:23)\n",
      "==6012==  Address 0x4daaca8 is 0 bytes after a block of size 40 alloc'd\n",
      "==6012==    at 0x483B7F3: malloc (in /usr/lib/x86_64-linux-gnu/valgrind/vgpreload_memcheck-amd64-linux.so)\n",
      "==6012==    by 0x1091C2: f(char*) (memory_leak.cpp:8)\n",
      "==6012==    by 0x109236: main (memory_leak.cpp:23)\n",
      "==6012== \n",
      "Hello John Smith\n",
      "==6012== \n",
      "==6012== HEAP SUMMARY:\n",
      "==6012==     in use at exit: 60 bytes in 2 blocks\n",
      "==6012==   total heap usage: 4 allocs, 2 frees, 73,788 bytes allocated\n",
      "==6012== \n",
      "==6012== LEAK SUMMARY:\n",
      "==6012==    definitely lost: 60 bytes in 2 blocks\n",
      "==6012==    indirectly lost: 0 bytes in 0 blocks\n",
      "==6012==      possibly lost: 0 bytes in 0 blocks\n",
      "==6012==    still reachable: 0 bytes in 0 blocks\n",
      "==6012==         suppressed: 0 bytes in 0 blocks\n",
      "==6012== Rerun with --leak-check=full to see details of leaked memory\n",
      "==6012== \n",
      "==6012== For lists of detected and suppressed errors, rerun with: -s\n",
      "==6012== ERROR SUMMARY: 1 errors from 1 contexts (suppressed: 0 from 0)\n"
     ]
    }
   ],
   "source": [
    "# by default gives summary of memory leak\n",
    "# doesn't give the detail/full memory leaks info\n",
    "! valgrind ./memory_leak.exe \"John Smith\""
   ]
  },
  {
   "cell_type": "code",
   "execution_count": 11,
   "id": "e56778b8",
   "metadata": {},
   "outputs": [
    {
     "name": "stdout",
     "output_type": "stream",
     "text": [
      "==6043== Memcheck, a memory error detector\n",
      "==6043== Copyright (C) 2002-2017, and GNU GPL'd, by Julian Seward et al.\n",
      "==6043== Using Valgrind-3.15.0 and LibVEX; rerun with -h for copyright info\n",
      "==6043== Command: ./memory_leak.exe John\\ Smith\n",
      "==6043== \n",
      "==6043== Invalid write of size 4\n",
      "==6043==    at 0x1091DD: f(char*) (memory_leak.cpp:12)\n",
      "==6043==    by 0x109236: main (memory_leak.cpp:23)\n",
      "==6043==  Address 0x4daaca8 is 0 bytes after a block of size 40 alloc'd\n",
      "==6043==    at 0x483B7F3: malloc (in /usr/lib/x86_64-linux-gnu/valgrind/vgpreload_memcheck-amd64-linux.so)\n",
      "==6043==    by 0x1091C2: f(char*) (memory_leak.cpp:8)\n",
      "==6043==    by 0x109236: main (memory_leak.cpp:23)\n",
      "==6043== \n",
      "Hello John Smith\n",
      "==6043== \n",
      "==6043== HEAP SUMMARY:\n",
      "==6043==     in use at exit: 60 bytes in 2 blocks\n",
      "==6043==   total heap usage: 4 allocs, 2 frees, 73,788 bytes allocated\n",
      "==6043== \n",
      "==6043== 20 bytes in 1 blocks are definitely lost in loss record 1 of 2\n",
      "==6043==    at 0x483C583: operator new[](unsigned long) (in /usr/lib/x86_64-linux-gnu/valgrind/vgpreload_memcheck-amd64-linux.so)\n",
      "==6043==    by 0x1091D0: f(char*) (memory_leak.cpp:10)\n",
      "==6043==    by 0x109236: main (memory_leak.cpp:23)\n",
      "==6043== \n",
      "==6043== 40 bytes in 1 blocks are definitely lost in loss record 2 of 2\n",
      "==6043==    at 0x483B7F3: malloc (in /usr/lib/x86_64-linux-gnu/valgrind/vgpreload_memcheck-amd64-linux.so)\n",
      "==6043==    by 0x1091C2: f(char*) (memory_leak.cpp:8)\n",
      "==6043==    by 0x109236: main (memory_leak.cpp:23)\n",
      "==6043== \n",
      "==6043== LEAK SUMMARY:\n",
      "==6043==    definitely lost: 60 bytes in 2 blocks\n",
      "==6043==    indirectly lost: 0 bytes in 0 blocks\n",
      "==6043==      possibly lost: 0 bytes in 0 blocks\n",
      "==6043==    still reachable: 0 bytes in 0 blocks\n",
      "==6043==         suppressed: 0 bytes in 0 blocks\n",
      "==6043== \n",
      "==6043== ERROR SUMMARY: 3 errors from 3 contexts (suppressed: 0 from 0)\n",
      "==6043== \n",
      "==6043== 1 errors in context 1 of 3:\n",
      "==6043== Invalid write of size 4\n",
      "==6043==    at 0x1091DD: f(char*) (memory_leak.cpp:12)\n",
      "==6043==    by 0x109236: main (memory_leak.cpp:23)\n",
      "==6043==  Address 0x4daaca8 is 0 bytes after a block of size 40 alloc'd\n",
      "==6043==    at 0x483B7F3: malloc (in /usr/lib/x86_64-linux-gnu/valgrind/vgpreload_memcheck-amd64-linux.so)\n",
      "==6043==    by 0x1091C2: f(char*) (memory_leak.cpp:8)\n",
      "==6043==    by 0x109236: main (memory_leak.cpp:23)\n",
      "==6043== \n",
      "==6043== ERROR SUMMARY: 3 errors from 3 contexts (suppressed: 0 from 0)\n"
     ]
    }
   ],
   "source": [
    "! valgrind --leak-check=full -s ./memory_leak.exe \"John Smith\""
   ]
  },
  {
   "cell_type": "markdown",
   "id": "7ce65407",
   "metadata": {},
   "source": [
    "## gcc/g++ Warning flags and AddressSanitizer\n",
    "\n",
    "- Google's ASan, introduced in 2012, uses a shadow memory scheme to detect memory bugs\n",
    "- It is available in many modern comppilers\n",
    "- https://en.wikipedia.org/wiki/AddressSanitizer\n",
    "- https://gcc.gnu.org/onlinedocs/gcc-3.4.6/gcc/Warning-Options.html#Warning-Options\n",
    "\n",
    "- `-Wall` - display all the warning\n",
    "- `-Wpedantic` - display nonstandard warnings\n",
    "- `-Wextra` - print extra newer warning messages\n",
    "- `-Wconversion` - warning any implicit type conversions\n",
    "- Warnings are like static analysis\n",
    "\n",
    "- `-fsanitize=address` - use address sanitizer (ONLY works on Linux)\n",
    "- must compile and run the program to see the results of any buffer-over-flow errors (dynamic analysis)\n",
    "- For more: https://www.osc.edu/resources/getting_started/howto/howto_use_address_sanitizer"
   ]
  },
  {
   "cell_type": "code",
   "execution_count": null,
   "id": "5c329140",
   "metadata": {},
   "outputs": [],
   "source": [
    "! g++ -std=c++17 -g -o0 -Wall -Wpedantic -Wextra -Wconversion -fsanitize=address memory_leak.cpp -o memory_leak.exe"
   ]
  },
  {
   "cell_type": "code",
   "execution_count": null,
   "id": "77eda864",
   "metadata": {},
   "outputs": [],
   "source": [
    "# run the program to see the Address Sanitizer's result\n",
    "# detects overflow during run-time\n",
    "! ./memory_leak.exe"
   ]
  },
  {
   "cell_type": "code",
   "execution_count": 5,
   "id": "ea68432f",
   "metadata": {},
   "outputs": [
    {
     "name": "stdout",
     "output_type": "stream",
     "text": [
      "\u001b[01m\u001b[K../stack_overflow/so_stdio.cpp:\u001b[m\u001b[K In function ‘\u001b[01m\u001b[Kchar* mgets(char*)\u001b[m\u001b[K’:\n",
      "\u001b[01m\u001b[K../stack_overflow/so_stdio.cpp:29:16:\u001b[m\u001b[K \u001b[01;35m\u001b[Kwarning: \u001b[m\u001b[Kconversion from ‘\u001b[01m\u001b[Kint\u001b[m\u001b[K’ to ‘\u001b[01m\u001b[Kchar\u001b[m\u001b[K’ may change value [\u001b[01;35m\u001b[K-Wconversion\u001b[m\u001b[K]\n",
      "   29 |         *ptr = \u001b[01;35m\u001b[Kch\u001b[m\u001b[K;\n",
      "      |                \u001b[01;35m\u001b[K^~\u001b[m\u001b[K\n",
      "\u001b[01m\u001b[K../stack_overflow/so_stdio.cpp:35:20:\u001b[m\u001b[K \u001b[01;35m\u001b[Kwarning: \u001b[m\u001b[Kconversion from ‘\u001b[01m\u001b[Kint\u001b[m\u001b[K’ to ‘\u001b[01m\u001b[Kchar\u001b[m\u001b[K’ may change value [\u001b[01;35m\u001b[K-Wconversion\u001b[m\u001b[K]\n",
      "   35 |         *(++ptr) = \u001b[01;35m\u001b[Kch\u001b[m\u001b[K;\n",
      "      |                    \u001b[01;35m\u001b[K^~\u001b[m\u001b[K\n",
      "\u001b[01m\u001b[K../stack_overflow/so_stdio.cpp:\u001b[m\u001b[K In function ‘\u001b[01m\u001b[Kint main(int, char**)\u001b[m\u001b[K’:\n",
      "\u001b[01m\u001b[K../stack_overflow/so_stdio.cpp:51:14:\u001b[m\u001b[K \u001b[01;35m\u001b[Kwarning: \u001b[m\u001b[Kunused parameter ‘\u001b[01m\u001b[Kargc\u001b[m\u001b[K’ [\u001b[01;35m\u001b[K-Wunused-parameter\u001b[m\u001b[K]\n",
      "   51 | int main(\u001b[01;35m\u001b[Kint argc\u001b[m\u001b[K, char *argv[]) {\n",
      "      |          \u001b[01;35m\u001b[K~~~~^~~~\u001b[m\u001b[K\n",
      "\u001b[01m\u001b[K../stack_overflow/so_stdio.cpp:51:26:\u001b[m\u001b[K \u001b[01;35m\u001b[Kwarning: \u001b[m\u001b[Kunused parameter ‘\u001b[01m\u001b[Kargv\u001b[m\u001b[K’ [\u001b[01;35m\u001b[K-Wunused-parameter\u001b[m\u001b[K]\n",
      "   51 | int main(int argc, \u001b[01;35m\u001b[Kchar *argv[]\u001b[m\u001b[K) {\n",
      "      |                    \u001b[01;35m\u001b[K~~~~~~^~~~~~\u001b[m\u001b[K\n"
     ]
    }
   ],
   "source": [
    "# let's compile demos/stack_overflow/so_stdio.cpp with address sanitize flag and warning\n",
    "! g++ -std=c++17 -m32 -g -o0 -Wall -Wpedantic -Wextra -Wconversion -fsanitize=address ../stack_overflow/so_stdio.cpp -o so_stdio.exe"
   ]
  },
  {
   "cell_type": "code",
   "execution_count": 6,
   "id": "e594dd05",
   "metadata": {},
   "outputs": [
    {
     "name": "stdout",
     "output_type": "stream",
     "text": [
      "buffer is at 0xff8ae300\n",
      "Give me some text: Acknowledged: here you go some long long long string... with length 41\n",
      "Good bye!\n"
     ]
    }
   ],
   "source": [
    "# let's manually test it... perhaps string not long enough\n",
    "! echo \"here you go some long long long string...\" | ./so_stdio.exe"
   ]
  },
  {
   "cell_type": "code",
   "execution_count": 7,
   "id": "e0c5bf98",
   "metadata": {},
   "outputs": [
    {
     "name": "stdout",
     "output_type": "stream",
     "text": [
      "buffer is at 0xff952fd0\n",
      "Give me some text: =================================================================\n",
      "\u001b[1m\u001b[31m==10736==ERROR: AddressSanitizer: stack-buffer-overflow on address 0xff953050 at pc 0x66120585 bp 0xff952f48 sp 0xff952f38\n",
      "\u001b[1m\u001b[0m\u001b[1m\u001b[34mWRITE of size 1 at 0xff953050 thread T0\u001b[1m\u001b[0m\n",
      "    #0 0x66120584 in mgets(char*) ../stack_overflow/so_stdio.cpp:35\n",
      "    #1 0x66120711 in bad() ../stack_overflow/so_stdio.cpp:46\n",
      "    #2 0x6612083e in main ../stack_overflow/so_stdio.cpp:52\n",
      "    #3 0xf1911ed4 in __libc_start_main (/lib32/libc.so.6+0x1aed4)\n",
      "    #4 0x66120324 in _start (/workspaces/SoftwareSecurity/demos/mem_leak/so_stdio.exe+0x1324)\n",
      "\n",
      "\u001b[1m\u001b[32mAddress 0xff953050 is located in stack of thread T0 at offset 160 in frame\u001b[1m\u001b[0m\n",
      "\u001b[1m\u001b[0m    #0 0x661205e6 in bad() ../stack_overflow/so_stdio.cpp:41\n",
      "\n",
      "  This frame has 1 object(s):\n",
      "    [32, 160) 'buffer' (line 42)\u001b[1m\u001b[32m <== Memory access at offset 160 overflows this variable\u001b[1m\u001b[0m\n",
      "HINT: this may be a false positive if your program uses some custom stack unwind mechanism, swapcontext or vfork\n",
      "      (longjmp and C++ exceptions *are* supported)\n",
      "SUMMARY: AddressSanitizer: stack-buffer-overflow ../stack_overflow/so_stdio.cpp:35 in mgets(char*)\n",
      "Shadow bytes around the buggy address:\n",
      "  0x3ff2a5b0: \u001b[1m\u001b[0m00\u001b[1m\u001b[0m \u001b[1m\u001b[0m00\u001b[1m\u001b[0m \u001b[1m\u001b[0m00\u001b[1m\u001b[0m \u001b[1m\u001b[0m00\u001b[1m\u001b[0m \u001b[1m\u001b[0m00\u001b[1m\u001b[0m \u001b[1m\u001b[0m00\u001b[1m\u001b[0m \u001b[1m\u001b[0m00\u001b[1m\u001b[0m \u001b[1m\u001b[0m00\u001b[1m\u001b[0m \u001b[1m\u001b[0m00\u001b[1m\u001b[0m \u001b[1m\u001b[0m00\u001b[1m\u001b[0m \u001b[1m\u001b[0m00\u001b[1m\u001b[0m \u001b[1m\u001b[0m00\u001b[1m\u001b[0m \u001b[1m\u001b[0m00\u001b[1m\u001b[0m \u001b[1m\u001b[0m00\u001b[1m\u001b[0m \u001b[1m\u001b[0m00\u001b[1m\u001b[0m \u001b[1m\u001b[0m00\u001b[1m\u001b[0m\n",
      "  0x3ff2a5c0: \u001b[1m\u001b[0m00\u001b[1m\u001b[0m \u001b[1m\u001b[0m00\u001b[1m\u001b[0m \u001b[1m\u001b[0m00\u001b[1m\u001b[0m \u001b[1m\u001b[0m00\u001b[1m\u001b[0m \u001b[1m\u001b[0m00\u001b[1m\u001b[0m \u001b[1m\u001b[0m00\u001b[1m\u001b[0m \u001b[1m\u001b[0m00\u001b[1m\u001b[0m \u001b[1m\u001b[0m00\u001b[1m\u001b[0m \u001b[1m\u001b[0m00\u001b[1m\u001b[0m \u001b[1m\u001b[0m00\u001b[1m\u001b[0m \u001b[1m\u001b[0m00\u001b[1m\u001b[0m \u001b[1m\u001b[0m00\u001b[1m\u001b[0m \u001b[1m\u001b[0m00\u001b[1m\u001b[0m \u001b[1m\u001b[0m00\u001b[1m\u001b[0m \u001b[1m\u001b[0m00\u001b[1m\u001b[0m \u001b[1m\u001b[0m00\u001b[1m\u001b[0m\n",
      "  0x3ff2a5d0: \u001b[1m\u001b[0m00\u001b[1m\u001b[0m \u001b[1m\u001b[0m00\u001b[1m\u001b[0m \u001b[1m\u001b[0m00\u001b[1m\u001b[0m \u001b[1m\u001b[0m00\u001b[1m\u001b[0m \u001b[1m\u001b[0m00\u001b[1m\u001b[0m \u001b[1m\u001b[0m00\u001b[1m\u001b[0m \u001b[1m\u001b[0m00\u001b[1m\u001b[0m \u001b[1m\u001b[0m00\u001b[1m\u001b[0m \u001b[1m\u001b[0m00\u001b[1m\u001b[0m \u001b[1m\u001b[0m00\u001b[1m\u001b[0m \u001b[1m\u001b[0m00\u001b[1m\u001b[0m \u001b[1m\u001b[0m00\u001b[1m\u001b[0m \u001b[1m\u001b[0m00\u001b[1m\u001b[0m \u001b[1m\u001b[0m00\u001b[1m\u001b[0m \u001b[1m\u001b[0m00\u001b[1m\u001b[0m \u001b[1m\u001b[0m00\u001b[1m\u001b[0m\n",
      "  0x3ff2a5e0: \u001b[1m\u001b[0m00\u001b[1m\u001b[0m \u001b[1m\u001b[0m00\u001b[1m\u001b[0m \u001b[1m\u001b[0m00\u001b[1m\u001b[0m \u001b[1m\u001b[0m00\u001b[1m\u001b[0m \u001b[1m\u001b[0m00\u001b[1m\u001b[0m \u001b[1m\u001b[0m00\u001b[1m\u001b[0m \u001b[1m\u001b[0m00\u001b[1m\u001b[0m \u001b[1m\u001b[0m00\u001b[1m\u001b[0m \u001b[1m\u001b[0m00\u001b[1m\u001b[0m \u001b[1m\u001b[0m00\u001b[1m\u001b[0m \u001b[1m\u001b[0m00\u001b[1m\u001b[0m \u001b[1m\u001b[0m00\u001b[1m\u001b[0m \u001b[1m\u001b[0m00\u001b[1m\u001b[0m \u001b[1m\u001b[0m00\u001b[1m\u001b[0m \u001b[1m\u001b[0m00\u001b[1m\u001b[0m \u001b[1m\u001b[0m00\u001b[1m\u001b[0m\n",
      "  0x3ff2a5f0: \u001b[1m\u001b[0m00\u001b[1m\u001b[0m \u001b[1m\u001b[0m00\u001b[1m\u001b[0m \u001b[1m\u001b[0m00\u001b[1m\u001b[0m \u001b[1m\u001b[0m00\u001b[1m\u001b[0m \u001b[1m\u001b[0m00\u001b[1m\u001b[0m \u001b[1m\u001b[0m00\u001b[1m\u001b[0m \u001b[1m\u001b[31mf1\u001b[1m\u001b[0m \u001b[1m\u001b[31mf1\u001b[1m\u001b[0m \u001b[1m\u001b[31mf1\u001b[1m\u001b[0m \u001b[1m\u001b[31mf1\u001b[1m\u001b[0m \u001b[1m\u001b[0m00\u001b[1m\u001b[0m \u001b[1m\u001b[0m00\u001b[1m\u001b[0m \u001b[1m\u001b[0m00\u001b[1m\u001b[0m \u001b[1m\u001b[0m00\u001b[1m\u001b[0m \u001b[1m\u001b[0m00\u001b[1m\u001b[0m \u001b[1m\u001b[0m00\u001b[1m\u001b[0m\n",
      "=>0x3ff2a600: \u001b[1m\u001b[0m00\u001b[1m\u001b[0m \u001b[1m\u001b[0m00\u001b[1m\u001b[0m \u001b[1m\u001b[0m00\u001b[1m\u001b[0m \u001b[1m\u001b[0m00\u001b[1m\u001b[0m \u001b[1m\u001b[0m00\u001b[1m\u001b[0m \u001b[1m\u001b[0m00\u001b[1m\u001b[0m \u001b[1m\u001b[0m00\u001b[1m\u001b[0m \u001b[1m\u001b[0m00\u001b[1m\u001b[0m \u001b[1m\u001b[0m00\u001b[1m\u001b[0m \u001b[1m\u001b[0m00\u001b[1m\u001b[0m[\u001b[1m\u001b[31mf3\u001b[1m\u001b[0m]\u001b[1m\u001b[31mf3\u001b[1m\u001b[0m \u001b[1m\u001b[31mf3\u001b[1m\u001b[0m \u001b[1m\u001b[31mf3\u001b[1m\u001b[0m \u001b[1m\u001b[0m00\u001b[1m\u001b[0m \u001b[1m\u001b[0m00\u001b[1m\u001b[0m\n",
      "  0x3ff2a610: \u001b[1m\u001b[0m00\u001b[1m\u001b[0m \u001b[1m\u001b[0m00\u001b[1m\u001b[0m \u001b[1m\u001b[0m00\u001b[1m\u001b[0m \u001b[1m\u001b[0m00\u001b[1m\u001b[0m \u001b[1m\u001b[0m00\u001b[1m\u001b[0m \u001b[1m\u001b[0m00\u001b[1m\u001b[0m \u001b[1m\u001b[0m00\u001b[1m\u001b[0m \u001b[1m\u001b[0m00\u001b[1m\u001b[0m \u001b[1m\u001b[0m00\u001b[1m\u001b[0m \u001b[1m\u001b[0m00\u001b[1m\u001b[0m \u001b[1m\u001b[0m00\u001b[1m\u001b[0m \u001b[1m\u001b[0m00\u001b[1m\u001b[0m \u001b[1m\u001b[0m00\u001b[1m\u001b[0m \u001b[1m\u001b[0m00\u001b[1m\u001b[0m \u001b[1m\u001b[0m00\u001b[1m\u001b[0m \u001b[1m\u001b[0m00\u001b[1m\u001b[0m\n",
      "  0x3ff2a620: \u001b[1m\u001b[0m00\u001b[1m\u001b[0m \u001b[1m\u001b[0m00\u001b[1m\u001b[0m \u001b[1m\u001b[0m00\u001b[1m\u001b[0m \u001b[1m\u001b[0m00\u001b[1m\u001b[0m \u001b[1m\u001b[0m00\u001b[1m\u001b[0m \u001b[1m\u001b[0m00\u001b[1m\u001b[0m \u001b[1m\u001b[0m00\u001b[1m\u001b[0m \u001b[1m\u001b[0m00\u001b[1m\u001b[0m \u001b[1m\u001b[0m00\u001b[1m\u001b[0m \u001b[1m\u001b[0m00\u001b[1m\u001b[0m \u001b[1m\u001b[0m00\u001b[1m\u001b[0m \u001b[1m\u001b[0m00\u001b[1m\u001b[0m \u001b[1m\u001b[0m00\u001b[1m\u001b[0m \u001b[1m\u001b[0m00\u001b[1m\u001b[0m \u001b[1m\u001b[0m00\u001b[1m\u001b[0m \u001b[1m\u001b[0m00\u001b[1m\u001b[0m\n",
      "  0x3ff2a630: \u001b[1m\u001b[0m00\u001b[1m\u001b[0m \u001b[1m\u001b[0m00\u001b[1m\u001b[0m \u001b[1m\u001b[0m00\u001b[1m\u001b[0m \u001b[1m\u001b[0m00\u001b[1m\u001b[0m \u001b[1m\u001b[0m00\u001b[1m\u001b[0m \u001b[1m\u001b[0m00\u001b[1m\u001b[0m \u001b[1m\u001b[0m00\u001b[1m\u001b[0m \u001b[1m\u001b[0m00\u001b[1m\u001b[0m \u001b[1m\u001b[0m00\u001b[1m\u001b[0m \u001b[1m\u001b[0m00\u001b[1m\u001b[0m \u001b[1m\u001b[0m00\u001b[1m\u001b[0m \u001b[1m\u001b[0m00\u001b[1m\u001b[0m \u001b[1m\u001b[0m00\u001b[1m\u001b[0m \u001b[1m\u001b[0m00\u001b[1m\u001b[0m \u001b[1m\u001b[0m00\u001b[1m\u001b[0m \u001b[1m\u001b[0m00\u001b[1m\u001b[0m\n",
      "  0x3ff2a640: \u001b[1m\u001b[0m00\u001b[1m\u001b[0m \u001b[1m\u001b[0m00\u001b[1m\u001b[0m \u001b[1m\u001b[0m00\u001b[1m\u001b[0m \u001b[1m\u001b[0m00\u001b[1m\u001b[0m \u001b[1m\u001b[0m00\u001b[1m\u001b[0m \u001b[1m\u001b[0m00\u001b[1m\u001b[0m \u001b[1m\u001b[0m00\u001b[1m\u001b[0m \u001b[1m\u001b[0m00\u001b[1m\u001b[0m \u001b[1m\u001b[0m00\u001b[1m\u001b[0m \u001b[1m\u001b[0m00\u001b[1m\u001b[0m \u001b[1m\u001b[0m00\u001b[1m\u001b[0m \u001b[1m\u001b[0m00\u001b[1m\u001b[0m \u001b[1m\u001b[0m00\u001b[1m\u001b[0m \u001b[1m\u001b[0m00\u001b[1m\u001b[0m \u001b[1m\u001b[0m00\u001b[1m\u001b[0m \u001b[1m\u001b[0m00\u001b[1m\u001b[0m\n",
      "  0x3ff2a650: \u001b[1m\u001b[0m00\u001b[1m\u001b[0m \u001b[1m\u001b[0m00\u001b[1m\u001b[0m \u001b[1m\u001b[0m00\u001b[1m\u001b[0m \u001b[1m\u001b[0m00\u001b[1m\u001b[0m \u001b[1m\u001b[0m00\u001b[1m\u001b[0m \u001b[1m\u001b[0m00\u001b[1m\u001b[0m \u001b[1m\u001b[0m00\u001b[1m\u001b[0m \u001b[1m\u001b[0m00\u001b[1m\u001b[0m \u001b[1m\u001b[0m00\u001b[1m\u001b[0m \u001b[1m\u001b[0m00\u001b[1m\u001b[0m \u001b[1m\u001b[0m00\u001b[1m\u001b[0m \u001b[1m\u001b[0m00\u001b[1m\u001b[0m \u001b[1m\u001b[0m00\u001b[1m\u001b[0m \u001b[1m\u001b[0m00\u001b[1m\u001b[0m \u001b[1m\u001b[0m00\u001b[1m\u001b[0m \u001b[1m\u001b[0m00\u001b[1m\u001b[0m\n",
      "Shadow byte legend (one shadow byte represents 8 application bytes):\n",
      "  Addressable:           \u001b[1m\u001b[0m00\u001b[1m\u001b[0m\n",
      "  Partially addressable: \u001b[1m\u001b[0m01\u001b[1m\u001b[0m \u001b[1m\u001b[0m02\u001b[1m\u001b[0m \u001b[1m\u001b[0m03\u001b[1m\u001b[0m \u001b[1m\u001b[0m04\u001b[1m\u001b[0m \u001b[1m\u001b[0m05\u001b[1m\u001b[0m \u001b[1m\u001b[0m06\u001b[1m\u001b[0m \u001b[1m\u001b[0m07\u001b[1m\u001b[0m \n",
      "  Heap left redzone:       \u001b[1m\u001b[31mfa\u001b[1m\u001b[0m\n",
      "  Freed heap region:       \u001b[1m\u001b[35mfd\u001b[1m\u001b[0m\n",
      "  Stack left redzone:      \u001b[1m\u001b[31mf1\u001b[1m\u001b[0m\n",
      "  Stack mid redzone:       \u001b[1m\u001b[31mf2\u001b[1m\u001b[0m\n",
      "  Stack right redzone:     \u001b[1m\u001b[31mf3\u001b[1m\u001b[0m\n",
      "  Stack after return:      \u001b[1m\u001b[35mf5\u001b[1m\u001b[0m\n",
      "  Stack use after scope:   \u001b[1m\u001b[35mf8\u001b[1m\u001b[0m\n",
      "  Global redzone:          \u001b[1m\u001b[31mf9\u001b[1m\u001b[0m\n",
      "  Global init order:       \u001b[1m\u001b[36mf6\u001b[1m\u001b[0m\n",
      "  Poisoned by user:        \u001b[1m\u001b[34mf7\u001b[1m\u001b[0m\n",
      "  Container overflow:      \u001b[1m\u001b[34mfc\u001b[1m\u001b[0m\n",
      "  Array cookie:            \u001b[1m\u001b[31mac\u001b[1m\u001b[0m\n",
      "  Intra object redzone:    \u001b[1m\u001b[33mbb\u001b[1m\u001b[0m\n",
      "  ASan internal:           \u001b[1m\u001b[33mfe\u001b[1m\u001b[0m\n",
      "  Left alloca redzone:     \u001b[1m\u001b[34mca\u001b[1m\u001b[0m\n",
      "  Right alloca redzone:    \u001b[1m\u001b[34mcb\u001b[1m\u001b[0m\n",
      "  Shadow gap:              \u001b[1m\u001b[0mcc\u001b[1m\u001b[0m\n",
      "==10736==ABORTING\n"
     ]
    }
   ],
   "source": [
    "# just overflow BUFFSIZE of 128\n",
    "! python -c 'print(\"A\"*200)' | ./so_stdio.exe"
   ]
  },
  {
   "cell_type": "markdown",
   "id": "3f1da3d2",
   "metadata": {},
   "source": [
    "## Fixing memory leak and over-run vulnerabilities\n",
    "- find the vulnerable line of code/functions, etc. and fix it\n",
    "- see `demos/mem_leak/memory_leak_fixed.cpp` for demo"
   ]
  },
  {
   "cell_type": "code",
   "execution_count": 8,
   "id": "1c1a3899",
   "metadata": {},
   "outputs": [
    {
     "name": "stdout",
     "output_type": "stream",
     "text": [
      "#include <stdlib.h>\n",
      "#include <cstring>\n",
      "#include <cstdio>\n",
      "\n",
      "void f(char * arg)\n",
      "{\n",
      "\t// C dynamic memory\n",
      "\tint* x = (int *)malloc(10 * sizeof(int));\n",
      "\t// C++ dynamic memory\n",
      "\tchar* name = new char[20];\n",
      "\n",
      "\tx[9] = 0; // problem 1: heap block overrun\n",
      "\t\t\t// problem 2: memory leak -- x not freed\n",
      "\tstrncpy(name, arg, sizeof(char)*20-1);\n",
      "\tname[19] = '\\0';\n",
      "\t// problem 3: heap block overrun\n",
      "\t// problem 4: memory leak -- name not freed\n",
      "\tprintf(\"Hello %s\\n\", name);\n",
      "\tfree(x); // C\n",
      "\tdelete[] name; // C++\n",
      "}\n",
      "\n",
      "int main(int argc, char* argv[1])\n",
      "{\n",
      "\t// what if f() is called over and again in an infinite loop, e.g. \n",
      "\tf(argv[1]);\n",
      "\treturn 0;\n",
      "}\n"
     ]
    }
   ],
   "source": [
    "! cat memory_leak_fixed.cpp"
   ]
  },
  {
   "cell_type": "code",
   "execution_count": 9,
   "id": "1fc3bb47",
   "metadata": {},
   "outputs": [],
   "source": [
    "# compile with -g -o0 options to use with valgrind\n",
    "! g++ -g -o0 -Wpedantic -Wextra -Wconversion -fsanitize=address memory_leak_fixed.cpp -o memory_leak_fixed.exe"
   ]
  },
  {
   "cell_type": "code",
   "execution_count": null,
   "id": "d5c81ee4",
   "metadata": {},
   "outputs": [],
   "source": [
    "# manually check the fix\n",
    "! ./memory_leak_fixed.exe \"some very very very very long strin adfa asf afaf adfa dag\""
   ]
  },
  {
   "cell_type": "code",
   "execution_count": null,
   "id": "93b80ea3",
   "metadata": {},
   "outputs": [],
   "source": [
    "# check with valgrind\n",
    "! valgrind --leak-check=yes ./memory_leak_fixed.exe \"some very very very very long string\""
   ]
  },
  {
   "cell_type": "code",
   "execution_count": null,
   "id": "a26eef70",
   "metadata": {},
   "outputs": [],
   "source": []
  }
 ],
 "metadata": {
  "kernelspec": {
   "display_name": "Python 3",
   "language": "python",
   "name": "python3"
  },
  "language_info": {
   "codemirror_mode": {
    "name": "ipython",
    "version": 3
   },
   "file_extension": ".py",
   "mimetype": "text/x-python",
   "name": "python",
   "nbconvert_exporter": "python",
   "pygments_lexer": "ipython3",
   "version": "3.12.1"
  }
 },
 "nbformat": 4,
 "nbformat_minor": 5
}
